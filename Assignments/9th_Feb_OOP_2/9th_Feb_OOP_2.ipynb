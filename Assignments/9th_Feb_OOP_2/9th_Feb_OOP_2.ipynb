{
 "cells": [
  {
   "cell_type": "markdown",
   "id": "53cbc059",
   "metadata": {},
   "source": [
    "# Q1."
   ]
  },
  {
   "cell_type": "markdown",
   "id": "89413d24",
   "metadata": {},
   "source": [
    "## Create a vehicle class with an init method having instance variables as name_of_vehicle, max_speed and average_of_vehicle."
   ]
  },
  {
   "cell_type": "code",
   "execution_count": 1,
   "id": "c7f05315",
   "metadata": {},
   "outputs": [],
   "source": [
    "class Vehicle:\n",
    "  \n",
    "  def __init__(self, name, max_speed, average):\n",
    "    self.__name_of_vehicle = name\n",
    "    self.__max_speed = max_speed\n",
    "    self.__average_of_vehicle = average\n",
    "\n",
    "  def get_name_of_vehicle(self):\n",
    "    return self.__name_of_vehicle"
   ]
  },
  {
   "cell_type": "markdown",
   "id": "78709287",
   "metadata": {},
   "source": [
    "# Q2. "
   ]
  },
  {
   "cell_type": "markdown",
   "id": "6a55b93a",
   "metadata": {},
   "source": [
    "## Create a child class car from the vehicle class created in Que 1, which will inherit the vehicle class. Create a method named seating_capacity which takes capacity as an argument and returns the name of the vehicle and its seating capacity."
   ]
  },
  {
   "cell_type": "code",
   "execution_count": 2,
   "id": "15a98938",
   "metadata": {},
   "outputs": [
    {
     "name": "stdout",
     "output_type": "stream",
     "text": [
      "Sedan has a seating capacity of 4.\n",
      "SUV has a seating capacity of 7.\n"
     ]
    }
   ],
   "source": [
    "class Car(Vehicle):\n",
    "  def __init__(self, name_of_vehicle, max_speed, average_of_vehicle, seating_capacity):\n",
    "      super().__init__(name_of_vehicle, max_speed, average_of_vehicle)\n",
    "      self.__seating_capacity = seating_capacity\n",
    "\n",
    "  def seating_capacity(self, capacity):\n",
    "      return f\"{self.get_name_of_vehicle()} has a seating capacity of {capacity}.\"\n",
    "\n",
    "\n",
    "sedan = Car(\"Sedan\", 160, 25, 4)\n",
    "print(sedan.seating_capacity(4))\n",
    "\n",
    "suv = Car(\"SUV\", 140, 20, 7)\n",
    "\n",
    "print(suv.seating_capacity(7))"
   ]
  },
  {
   "cell_type": "markdown",
   "id": "16c74b8a",
   "metadata": {},
   "source": [
    "# Q3. "
   ]
  },
  {
   "cell_type": "markdown",
   "id": "74adde07",
   "metadata": {},
   "source": [
    "## What is multiple inheritance? Write a python code to demonstrate multiple inheritance."
   ]
  },
  {
   "cell_type": "markdown",
   "id": "916180c7",
   "metadata": {},
   "source": [
    "## Answer:\n",
    "Multiple inheritance is a feature in object-oriented programming where a single class can inherit properties and behaviors from multiple parent classes. This allows a child class to inherit properties from multiple parent classes and can be useful when you want to create a new class that combines the features of multiple existing classes.\n",
    "\n",
    "Here's an example of multiple inheritance in Python:"
   ]
  },
  {
   "cell_type": "code",
   "execution_count": 5,
   "id": "0131c6d5",
   "metadata": {},
   "outputs": [
    {
     "name": "stdout",
     "output_type": "stream",
     "text": [
      "Parent1\n",
      "20\n",
      "Hello from Parent1. Hello from Parent2.\n"
     ]
    }
   ],
   "source": [
    "class Parent1:\n",
    "    def __init__(self):\n",
    "        self.name = \"Parent1\"\n",
    "        \n",
    "    def greet(self):\n",
    "        return \"Hello from Parent1.\"\n",
    "\n",
    "class Parent2:\n",
    "    def __init__(self):\n",
    "        self.age = 20\n",
    "        \n",
    "    def greet(self):\n",
    "        return \"Hello from Parent2.\"\n",
    "\n",
    "class Child(Parent1, Parent2):\n",
    "    def __init__(self):\n",
    "        Parent1.__init__(self)\n",
    "        Parent2.__init__(self)\n",
    "        \n",
    "    def greet(self):\n",
    "        return f\"{Parent1.greet(self)} {Parent2.greet(self)}\"\n",
    "\n",
    "child = Child()\n",
    "print(child.name) \n",
    "print(child.age)  \n",
    "print(child.greet())  "
   ]
  },
  {
   "cell_type": "markdown",
   "id": "edd4058d",
   "metadata": {},
   "source": [
    "In this example, the `Child` class inherits from both the `Parent1` and `Parent2` classes. When the `Child` class is created, it calls the `__init__` methods of both parent classes to initialize its properties. When the `greet` method of the `Child` class is called, it returns a string that combines the outputs of the `greet` methods of both parent classes."
   ]
  },
  {
   "cell_type": "markdown",
   "id": "2d035148",
   "metadata": {},
   "source": [
    "# Q4. "
   ]
  },
  {
   "cell_type": "markdown",
   "id": "4c8e8043",
   "metadata": {},
   "source": [
    "## What are getter and setter in python? Create a class and create a getter and a setter method in this class."
   ]
  },
  {
   "cell_type": "markdown",
   "id": "39b29984",
   "metadata": {},
   "source": [
    "## Answer:\n",
    "In Python, getters and setters are used to define properties of a class that allow you to access and set the value of an instance variable. They are implemented using methods, with the `@property` decorator for the getter and the `@property_name.setter` decorator for the setter.\n",
    "\n",
    "Here's an example of a class with a getter and a setter:"
   ]
  },
  {
   "cell_type": "code",
   "execution_count": 3,
   "id": "10eea5f9",
   "metadata": {},
   "outputs": [],
   "source": [
    "class Person:\n",
    "    def __init__(self, name):\n",
    "        self.__name = name\n",
    "\n",
    "    @property\n",
    "    def name(self):\n",
    "        return self.__name\n",
    "\n",
    "    @name.setter\n",
    "    def name(self, value):\n",
    "        self.__name = value"
   ]
  },
  {
   "cell_type": "markdown",
   "id": "e9b44dbf",
   "metadata": {},
   "source": [
    "You can use the class like this:"
   ]
  },
  {
   "cell_type": "code",
   "execution_count": 4,
   "id": "17cf3ee3",
   "metadata": {},
   "outputs": [
    {
     "name": "stdout",
     "output_type": "stream",
     "text": [
      "John Doe\n",
      "Amit Kumar\n"
     ]
    }
   ],
   "source": [
    "person = Person(\"John Doe\")\n",
    "print(person.name)\n",
    "person.name = \"Amit Kumar\"\n",
    "print(person.name)"
   ]
  },
  {
   "cell_type": "markdown",
   "id": "d0e6ad66",
   "metadata": {},
   "source": [
    "The `@property` decorator allows you to access the `name` attribute as if it were a regular instance variable, without calling the method. The `@name.setter` decorator allows you to set the value of the `name` attribute by calling the method with the new value."
   ]
  },
  {
   "cell_type": "markdown",
   "id": "654f0d04",
   "metadata": {},
   "source": [
    "# Q5."
   ]
  },
  {
   "cell_type": "markdown",
   "id": "760fabc1",
   "metadata": {},
   "source": [
    "## What is method overriding in python? Write a python code to demonstrate method overriding."
   ]
  },
  {
   "cell_type": "markdown",
   "id": "8341d577",
   "metadata": {},
   "source": [
    "In Python, method overriding occurs when a subclass provides a new implementation for a method that is already defined in its superclass. The new implementation in the subclass \"overrides\" the implementation in the superclass.\n",
    "\n",
    "Here's an example to demonstrate method overriding in Python:"
   ]
  },
  {
   "cell_type": "code",
   "execution_count": 9,
   "id": "161851dd",
   "metadata": {},
   "outputs": [],
   "source": [
    "class Shape:\n",
    "    def area(self):\n",
    "        pass\n",
    "\n",
    "class Rectangle(Shape):\n",
    "    def __init__(self, width, height):\n",
    "        self.width = width\n",
    "        self.height = height\n",
    "\n",
    "    def area(self):\n",
    "        return self.width * self.height\n",
    "\n",
    "class Circle(Shape):\n",
    "    def __init__(self, radius):\n",
    "        self.radius = radius\n",
    "\n",
    "    def area(self):\n",
    "        return 3.14 * self.radius * self.radius"
   ]
  },
  {
   "cell_type": "markdown",
   "id": "5aa425b7",
   "metadata": {},
   "source": [
    "In this example, the `Shape` class defines a method `area` that takes no arguments and returns `None`. The `Rectangle` class and the `Circle` class both inherit from the `Shape` class and provide their own implementation of the `area` method. The `Rectangle` class calculates the area as the product of the width and the height, while the `Circle` class calculates the area as the product of `3.14` and the square of the radius.\n",
    "\n",
    "When you create an instance of `Rectangle` or `Circle` and call the `area` method, the appropriate implementation for that instance is called:"
   ]
  },
  {
   "cell_type": "code",
   "execution_count": 10,
   "id": "641f7b49",
   "metadata": {},
   "outputs": [
    {
     "name": "stdout",
     "output_type": "stream",
     "text": [
      "200\n",
      "78.5\n"
     ]
    }
   ],
   "source": [
    "rect = Rectangle(10, 20)\n",
    "print(rect.area())\n",
    "\n",
    "circ = Circle(5)\n",
    "print(circ.area()) "
   ]
  },
  {
   "cell_type": "code",
   "execution_count": null,
   "id": "98222d1e",
   "metadata": {},
   "outputs": [],
   "source": []
  }
 ],
 "metadata": {
  "kernelspec": {
   "display_name": "Python 3 (ipykernel)",
   "language": "python",
   "name": "python3"
  },
  "language_info": {
   "codemirror_mode": {
    "name": "ipython",
    "version": 3
   },
   "file_extension": ".py",
   "mimetype": "text/x-python",
   "name": "python",
   "nbconvert_exporter": "python",
   "pygments_lexer": "ipython3",
   "version": "3.9.13"
  }
 },
 "nbformat": 4,
 "nbformat_minor": 5
}
