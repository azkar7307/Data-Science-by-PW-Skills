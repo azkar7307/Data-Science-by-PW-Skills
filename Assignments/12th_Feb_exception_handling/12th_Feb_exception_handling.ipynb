{
 "cells": [
  {
   "cell_type": "markdown",
   "id": "4b744798-e539-4e9e-929e-0121ec1a479e",
   "metadata": {},
   "source": [
    "# Q1. "
   ]
  },
  {
   "cell_type": "markdown",
   "id": "6c9e8683-dbd3-4f35-bf3d-6cba0a72ed76",
   "metadata": {},
   "source": [
    "## What is an Exception in python? Write the difference between Exceptions and syntax errors."
   ]
  },
  {
   "cell_type": "markdown",
   "id": "06faf256-6bd5-4442-b090-6277431a4c7d",
   "metadata": {},
   "source": [
    "### Answer"
   ]
  },
  {
   "cell_type": "markdown",
   "id": "5ca93a9f-5e92-4973-b1e5-162ac48ab6e6",
   "metadata": {},
   "source": [
    "In Python, an exception is an error that occurs during the execution of a program that disrupts the normal flow of the program. When an exception occurs, Python generates an exception object that contains information about the error, including the type of the exception and the location in the program where it occurred.\n",
    "\n",
    "On the other hand, a syntax error is a type of error that occurs when the Python interpreter encounters an invalid statement or expression that violates the language's rules of syntax. Unlike exceptions, syntax errors are detected by the Python interpreter before the program is executed, and they prevent the program from running at all.\n",
    "\n",
    "The main difference between an exception and a syntax error is that a syntax error occurs before the program is executed, while an exception occurs during the execution of the program. Exceptions can be raised intentionally by the programmer or can be caused by unforeseen circumstances, such as an input that the program cannot handle or a file that cannot be opened. In contrast, syntax errors are always caused by invalid code that violates the rules of the Python language."
   ]
  },
  {
   "cell_type": "markdown",
   "id": "dada5adb-0189-4d4d-a6c6-05db9c493b58",
   "metadata": {},
   "source": [
    "# Q2."
   ]
  },
  {
   "cell_type": "markdown",
   "id": "e6ea16f8-88dd-4552-8310-67a5041ad5e3",
   "metadata": {},
   "source": [
    "## What happens when an exception is not handled? Explain with an example."
   ]
  },
  {
   "cell_type": "markdown",
   "id": "c4eab594-98f6-4077-a496-97425db7d1c2",
   "metadata": {},
   "source": [
    "### Answer"
   ]
  },
  {
   "cell_type": "markdown",
   "id": "69cc515a-ef4e-4785-a1b1-c3aef863bf0b",
   "metadata": {},
   "source": [
    "When an exception is not handled in a program, it will cause the program to terminate with an error message, and the remaining code in the program will not be executed. This is known as an \"unhandled exception.\"\n",
    "\n",
    "Here's an example to illustrate this:"
   ]
  },
  {
   "cell_type": "code",
   "execution_count": 1,
   "id": "7b1de4e7-08f0-491a-905a-6395280fbd86",
   "metadata": {},
   "outputs": [
    {
     "ename": "ZeroDivisionError",
     "evalue": "division by zero",
     "output_type": "error",
     "traceback": [
      "\u001b[1;31m---------------------------------------------------------------------------\u001b[0m",
      "\u001b[1;31mZeroDivisionError\u001b[0m                         Traceback (most recent call last)",
      "\u001b[1;32m~\\AppData\\Local\\Temp\\ipykernel_13360\\2117376198.py\u001b[0m in \u001b[0;36m<module>\u001b[1;34m\u001b[0m\n\u001b[0;32m      2\u001b[0m \u001b[0ma\u001b[0m \u001b[1;33m=\u001b[0m \u001b[1;36m10\u001b[0m\u001b[1;33m\u001b[0m\u001b[1;33m\u001b[0m\u001b[0m\n\u001b[0;32m      3\u001b[0m \u001b[0mb\u001b[0m \u001b[1;33m=\u001b[0m \u001b[1;36m0\u001b[0m\u001b[1;33m\u001b[0m\u001b[1;33m\u001b[0m\u001b[0m\n\u001b[1;32m----> 4\u001b[1;33m \u001b[0mc\u001b[0m \u001b[1;33m=\u001b[0m \u001b[0ma\u001b[0m \u001b[1;33m/\u001b[0m \u001b[0mb\u001b[0m\u001b[1;33m\u001b[0m\u001b[1;33m\u001b[0m\u001b[0m\n\u001b[0m\u001b[0;32m      5\u001b[0m \u001b[0mprint\u001b[0m\u001b[1;33m(\u001b[0m\u001b[1;34m\"Result: \"\u001b[0m\u001b[1;33m,\u001b[0m \u001b[0mc\u001b[0m\u001b[1;33m)\u001b[0m\u001b[1;33m\u001b[0m\u001b[1;33m\u001b[0m\u001b[0m\n",
      "\u001b[1;31mZeroDivisionError\u001b[0m: division by zero"
     ]
    }
   ],
   "source": [
    "# Example of an unhandled exception\n",
    "a = 10\n",
    "b = 0\n",
    "c = a / b\n",
    "print(\"Result: \", c)"
   ]
  },
  {
   "cell_type": "markdown",
   "id": "2d03b80f-ec2b-488b-82fc-a4e033235a77",
   "metadata": {},
   "source": [
    "In this example, we are trying to divide the variable `a` by 0, which is not allowed in mathematics. When this code is executed, it will raise a `ZeroDivisionErro` exception because we cannot divide by zero. Since there is no exception handling code to catch this exception, the program will terminate with an error message.\n",
    "\n",
    "As you can see, the Python interpreter prints a traceback message that shows where the exception occurred and what type of exception it is. This error message can be helpful for debugging the program, but it also indicates that the program did not execute as intended and terminated prematurely due to the unhandled exception."
   ]
  },
  {
   "cell_type": "markdown",
   "id": "f30318dd-600f-4817-a022-fc959402c346",
   "metadata": {},
   "source": [
    "# Q3."
   ]
  },
  {
   "cell_type": "markdown",
   "id": "41ede7e1-6d73-4bb0-8cc8-ae26a84f661d",
   "metadata": {},
   "source": [
    "## Which Python statements are used to catch and handle exceptions? Explain with an example."
   ]
  },
  {
   "cell_type": "markdown",
   "id": "3fd39526-1c87-4250-98e7-38af35578437",
   "metadata": {},
   "source": [
    "### Answer"
   ]
  },
  {
   "cell_type": "markdown",
   "id": "e80a70c5-e37e-4e32-add0-d1b8fc4f4925",
   "metadata": {},
   "source": [
    "In Python, the `try` and `except` statements are used to catch and handle exceptions. The `try` statement is used to wrap the code that may raise an exception, and the `except` statement is used to specify what to do if the exception is raised.\n",
    "\n",
    "Here's an example to illustrate how to catch and handle exceptions:"
   ]
  },
  {
   "cell_type": "code",
   "execution_count": 2,
   "id": "87949b62-e625-4480-9f07-2f2220a32f1f",
   "metadata": {},
   "outputs": [
    {
     "name": "stdout",
     "output_type": "stream",
     "text": [
      "Error: division by zero\n"
     ]
    }
   ],
   "source": [
    "# Example of catching and handling exceptions\n",
    "try:\n",
    "    a = 10\n",
    "    b = 0\n",
    "    c = a / b\n",
    "except ZeroDivisionError:\n",
    "    print(\"Error: division by zero\")"
   ]
  },
  {
   "cell_type": "markdown",
   "id": "e5db5a25-fe6b-4fdc-aab5-b12d5082762d",
   "metadata": {},
   "source": [
    "In this example, we are trying to divide the variable `a` by 0, which is not allowed in mathematics. However, we have wrapped this code in a `try` statement and specified an `except` block to handle the `ZeroDivisionError` exception that may be raised.\n",
    "\n",
    "When this code is executed, the `try` block will be executed first. Since we are trying to divide by zero, a `ZeroDivisionError` exception will be raised. However, since we have specified an `except` block to handle this exception, the program will not terminate with an error message. Instead, the code in the `except` block will be executed, and the coresponding message will be printed to the console.\n",
    "\n",
    "\n",
    "As you can see, we have caught and handled the `ZeroDivisionError` exception by specifying an `except` block to handle it. This allows us to handle the exception and continue executing the rest of the program instead of terminating with an error message.\n",
    "\n",
    "\n"
   ]
  },
  {
   "cell_type": "markdown",
   "id": "afa5be3c-e898-4e2f-b5bb-34cea045b260",
   "metadata": {},
   "source": [
    "# Q4."
   ]
  },
  {
   "cell_type": "markdown",
   "id": "bbb9079b-7277-4488-a677-1303c916f0d1",
   "metadata": {},
   "source": [
    "## Explain with an example:\n",
    "\n",
    "* ## try and else\n",
    "* ## finally\n",
    "* ## raise"
   ]
  },
  {
   "cell_type": "markdown",
   "id": "c5705faf-a6df-43a0-8c84-fbaa53e05c4e",
   "metadata": {},
   "source": [
    "### Answer"
   ]
  },
  {
   "cell_type": "markdown",
   "id": "c10ebb86-6956-4b11-b91d-ec0f80e3966b",
   "metadata": {},
   "source": [
    "**try and else**\n",
    "\n",
    "In Python, the `try` and `else` statements can be used together to handle exceptions and execute code if no exceptions occur. The else block is executed when no exceptions are raised in the try block, and it is optional.\n",
    "\n",
    "Here's an example to illustrate how to use try and else together:"
   ]
  },
  {
   "cell_type": "code",
   "execution_count": 2,
   "id": "d7d0cc40-f975-4e49-b182-d419ff06fb5e",
   "metadata": {},
   "outputs": [
    {
     "name": "stdin",
     "output_type": "stream",
     "text": [
      "Enter a number:  10\n",
      "Enter another number:  3\n"
     ]
    },
    {
     "name": "stdout",
     "output_type": "stream",
     "text": [
      "The result of the division is: 3.3333333333333335\n"
     ]
    }
   ],
   "source": [
    "# Example of try and else statement\n",
    "try:\n",
    "    a = int(input(\"Enter a number: \"))\n",
    "    b = int(input(\"Enter another number: \"))\n",
    "    c = a / b\n",
    "except ValueError:\n",
    "    print(\"Error: Please enter a valid number\")\n",
    "except ZeroDivisionError:\n",
    "    print(\"Error: Division by zero is not allowed\")\n",
    "except Exception as e:\n",
    "    print(e.__class__)\n",
    "else:\n",
    "    print(\"The result of the division is:\", c)\n"
   ]
  },
  {
   "cell_type": "markdown",
   "id": "2fdfed47-13da-4c6c-a750-3f917985bfe2",
   "metadata": {},
   "source": [
    "**finally**\n",
    "\n",
    "In Python, the `finally` statement is used to specify a block of code that should be executed whether an exception is raised or not. This block of code is executed regardless of whether an exception was raised or handled successfully.\n",
    "\n",
    "Here's an example to illustrate how to use `try`, `except`, and `finally` together:"
   ]
  },
  {
   "cell_type": "code",
   "execution_count": 3,
   "id": "45b848f0-02c2-41b9-956c-6d63236e452c",
   "metadata": {},
   "outputs": [
    {
     "name": "stdout",
     "output_type": "stream",
     "text": [
      "Error: file not found\n"
     ]
    },
    {
     "ename": "NameError",
     "evalue": "name 'f' is not defined",
     "output_type": "error",
     "traceback": [
      "\u001b[1;31m---------------------------------------------------------------------------\u001b[0m",
      "\u001b[1;31mNameError\u001b[0m                                 Traceback (most recent call last)",
      "\u001b[1;32m~\\AppData\\Local\\Temp\\ipykernel_23120\\592549618.py\u001b[0m in \u001b[0;36m<module>\u001b[1;34m\u001b[0m\n\u001b[0;32m      6\u001b[0m     \u001b[0mprint\u001b[0m\u001b[1;33m(\u001b[0m\u001b[1;34m\"Error: file not found\"\u001b[0m\u001b[1;33m)\u001b[0m\u001b[1;33m\u001b[0m\u001b[1;33m\u001b[0m\u001b[0m\n\u001b[0;32m      7\u001b[0m \u001b[1;32mfinally\u001b[0m\u001b[1;33m:\u001b[0m\u001b[1;33m\u001b[0m\u001b[1;33m\u001b[0m\u001b[0m\n\u001b[1;32m----> 8\u001b[1;33m     \u001b[0mf\u001b[0m\u001b[1;33m.\u001b[0m\u001b[0mclose\u001b[0m\u001b[1;33m(\u001b[0m\u001b[1;33m)\u001b[0m\u001b[1;33m\u001b[0m\u001b[1;33m\u001b[0m\u001b[0m\n\u001b[0m",
      "\u001b[1;31mNameError\u001b[0m: name 'f' is not defined"
     ]
    }
   ],
   "source": [
    "# Example of try, except, and finally statements\n",
    "try:\n",
    "    f = open(\"test.txt\", \"r\")\n",
    "    print(f.read())\n",
    "except FileNotFoundError:\n",
    "    print(\"Error: file not found\")\n",
    "finally:\n",
    "    f.close()"
   ]
  },
  {
   "cell_type": "markdown",
   "id": "21c2f17f-d604-4c14-bf7e-86fc69dcbb65",
   "metadata": {},
   "source": [
    "**raise**\n",
    "\n",
    "In Python, the `raise` statement is used to `raise` an exception explicitly. This can be useful if you need to `raise` an exception in response to a specific condition or situation in your code.\n",
    "\n",
    "Here's an example to illustrate how to use raise to raise a custom exception:"
   ]
  },
  {
   "cell_type": "code",
   "execution_count": 6,
   "id": "d50363ff-6ede-44eb-8bfe-3c600c6b759f",
   "metadata": {},
   "outputs": [
    {
     "name": "stdout",
     "output_type": "stream",
     "text": [
      "Error: division by zero\n"
     ]
    }
   ],
   "source": [
    "# Example of raising a custom exception\n",
    "def divide(a, b):\n",
    "    if b == 0:\n",
    "        raise ZeroDivisionError(\"Error: division by zero\")\n",
    "    return a / b\n",
    "\n",
    "try:\n",
    "    result = divide(10, 0)\n",
    "except ZeroDivisionError as error:\n",
    "    print(error)\n",
    "else:\n",
    "    print(\"The result is:\", result)"
   ]
  },
  {
   "cell_type": "markdown",
   "id": "dec08ebf-17de-477e-bbe2-4355d2e229c3",
   "metadata": {},
   "source": [
    "# Q5."
   ]
  },
  {
   "cell_type": "markdown",
   "id": "307e4bbc-a6f7-457a-aec7-af82c9985b16",
   "metadata": {},
   "source": [
    "## What are Custom Exceptions in python? Why do we need Custom Exceptions? Explain with an example."
   ]
  },
  {
   "cell_type": "markdown",
   "id": "b9c69ef6-0093-49ec-864a-50a84a7ba8a0",
   "metadata": {},
   "source": [
    "### Answer\n",
    "\n",
    "In Python, custom exceptions are exceptions that are defined by the programmer to represent specific error conditions that can occur in their code. Custom exceptions are created by inheriting from the `Exception` class or one of its subclasses, and can be raised and handled in the same way as built-in exceptions.\n",
    "\n",
    "Custom exceptions are useful for several reasons:\n",
    "\n",
    "**Clarity**: Custom exceptions can provide more clarity about the specific error condition that occurred, and can make it easier to understand and debug the code.\n",
    "\n",
    "**Modularity**: Custom exceptions can make the code more modular by separating the error handling logic from the rest of the code.\n",
    "\n",
    "**Extensibility**: Custom exceptions can be extended and customized to add new error conditions as the code evolves and new use cases arise.\n",
    "\n",
    "Here's an example to illustrate how to define and use a custom exception:"
   ]
  },
  {
   "cell_type": "code",
   "execution_count": 7,
   "id": "b90fcae1-d260-4544-ae9d-eaf9860750a0",
   "metadata": {},
   "outputs": [
    {
     "name": "stdout",
     "output_type": "stream",
     "text": [
      "Error: square root of a negative number\n"
     ]
    }
   ],
   "source": [
    "# Example of defining and using a custom exception\n",
    "class NegativeValueError(Exception):\n",
    "    def __init__(self, err):\n",
    "        self.err = err\n",
    "\n",
    "def square_root(x):\n",
    "    if x < 0:\n",
    "        raise NegativeValueError(\"Error: square root of a negative number\")\n",
    "    return x ** 0.5\n",
    "\n",
    "try:\n",
    "    result = square_root(-10)\n",
    "except NegativeValueError as error:\n",
    "    print(error)\n",
    "else:\n",
    "    print(\"The square root is:\", result)\n"
   ]
  },
  {
   "cell_type": "markdown",
   "id": "41d05005-1579-4613-a3a5-32a1aabb6b2e",
   "metadata": {},
   "source": []
  },
  {
   "cell_type": "markdown",
   "id": "581b8a1a-1048-4eba-b5e5-97fa543f4562",
   "metadata": {},
   "source": [
    "In this example, we have defined a custom exception called `NegativeValueError` by inheriting from the built-in `Exception` class. We have not added any additional functionality to the custom exception, but we could do so if needed.\n",
    "\n",
    "We then define a function called `square_root` that takes a number as an argument and returns its square root. However, if the number is negative, we raise a `NegativeValueError` exception with a specific error message.\n",
    "\n",
    "We then call the square_root function with the argument `-10` inside a `try` block, and specify an `except` block to handle the `NegativeValueError` exception that may be raised. If the exception is raised, we print the error message, and if no exception is raised, we print the square root.\n",
    "\n",
    "As you can see, the custom exception has been raised and handled in the same way as a built-in exception, but with a more specific error message that indicates the specific error condition that occurred. This makes it easier to understand and debug the code, especially in larger or more complex programs."
   ]
  },
  {
   "cell_type": "markdown",
   "id": "9a78da7c-583a-4b14-8762-278feb9210c3",
   "metadata": {},
   "source": [
    "# Q6."
   ]
  },
  {
   "cell_type": "markdown",
   "id": "5708ad7e-542a-4c26-8d78-868777135544",
   "metadata": {},
   "source": [
    "## Create a custom exception class. Use this class to handle an exception."
   ]
  },
  {
   "cell_type": "code",
   "execution_count": 12,
   "id": "80d31188-a8de-4ea2-bd2a-33988502005b",
   "metadata": {},
   "outputs": [
    {
     "name": "stdin",
     "output_type": "stream",
     "text": [
      "Enter a positive number:  -3\n"
     ]
    },
    {
     "name": "stdout",
     "output_type": "stream",
     "text": [
      "Error: Number must be positive.\n"
     ]
    }
   ],
   "source": [
    "# Define a custom exception class\n",
    "class CustomException(Exception):\n",
    "    def __init__(self, message):\n",
    "        self.message = message\n",
    "\n",
    "# Use the custom exception class to handle an exception\n",
    "try:\n",
    "    x = int(input(\"Enter a positive number: \"))\n",
    "    if x < 0:\n",
    "        raise CustomException(\"Number must be positive.\")\n",
    "except CustomException as e:\n",
    "    print(\"Error:\", e.message)\n",
    "else:\n",
    "    print(f\"The number you entered is {x}\")\n",
    "finally:\n",
    "    del x"
   ]
  },
  {
   "cell_type": "markdown",
   "id": "a06fdac4-a2a5-45f7-8564-d524b580a8ad",
   "metadata": {},
   "source": [
    "*******************************************************************************************************************************************************************"
   ]
  }
 ],
 "metadata": {
  "kernelspec": {
   "display_name": "Python 3 (ipykernel)",
   "language": "python",
   "name": "python3"
  },
  "language_info": {
   "codemirror_mode": {
    "name": "ipython",
    "version": 3
   },
   "file_extension": ".py",
   "mimetype": "text/x-python",
   "name": "python",
   "nbconvert_exporter": "python",
   "pygments_lexer": "ipython3",
   "version": "3.9.13"
  }
 },
 "nbformat": 4,
 "nbformat_minor": 5
}
