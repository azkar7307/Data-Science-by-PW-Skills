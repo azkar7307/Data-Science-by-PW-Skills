{
 "cells": [
  {
   "cell_type": "markdown",
   "metadata": {},
   "source": [
    "# Q1."
   ]
  },
  {
   "cell_type": "markdown",
   "metadata": {},
   "source": [
    "## What is multithreading in python? Why is it used? Name the module used to handle threads in python."
   ]
  },
  {
   "cell_type": "markdown",
   "metadata": {},
   "source": [
    "### Answer"
   ]
  },
  {
   "cell_type": "markdown",
   "metadata": {},
   "source": [
    "Multithreading is a programming concept where multiple threads (lightweight sub-processes) execute concurrently within a single process. In Python, multithreading is used to perform multiple tasks at the same time to improve the performance of the application.\n",
    "\n",
    "Threads can be created in Python using the \"threading\" module, which provides a way to create, start, pause, resume, and stop threads. This module also provides synchronization primitives like locks, semaphores, events, and condition variables to control the access of threads to shared resources.\n",
    "\n",
    "In Python, multithreading is useful in situations where an application needs to handle multiple I/O operations (such as reading from a file, sending data over a network, or receiving user input) simultaneously, without blocking the execution of other parts of the program. Multithreading can also be used to perform CPU-bound tasks (such as mathematical computations) concurrently, although in Python this may not result in a performance gain due to the Global Interpreter Lock (GIL).\n",
    "\n",
    "To create a new thread in Python, you can define a function and then create a new thread object using the threading.Thread() class, passing the function as an argument to the constructor. Once the thread object is created, you can start the thread by calling its start() method.\n",
    "\n",
    "Here's an example of creating and starting a new thread in Python:"
   ]
  },
  {
   "cell_type": "code",
   "execution_count": 2,
   "metadata": {},
   "outputs": [
    {
     "name": "stdout",
     "output_type": "stream",
     "text": [
      "Hello from a thread!\n",
      "Thread finished!\n"
     ]
    }
   ],
   "source": [
    "import threading\n",
    "\n",
    "def my_thread_function():\n",
    "    print(\"Hello from a thread!\")\n",
    "\n",
    "# Create a new thread object\n",
    "my_thread = threading.Thread(target=my_thread_function)\n",
    "\n",
    "# Start the thread\n",
    "my_thread.start()\n",
    "\n",
    "# Wait for the thread to finish\n",
    "my_thread.join()\n",
    "\n",
    "print(\"Thread finished!\")"
   ]
  },
  {
   "cell_type": "markdown",
   "metadata": {},
   "source": [
    "In this example, a new thread is created by passing the `my_thread_function` as the target to the `Thread` constructor. The `start` method is then called to begin the execution of the thread. Finally, the `join` method is called to wait for the thread to finish before continuing with the main program.\n",
    "\n",
    "Overall, multithreading can be a powerful tool in Python for improving the performance and responsiveness of your applications, particularly when dealing with I/O-bound tasks."
   ]
  },
  {
   "cell_type": "markdown",
   "metadata": {},
   "source": [
    "# Q2."
   ]
  },
  {
   "cell_type": "markdown",
   "metadata": {},
   "source": [
    "## Why threading module used? Write the use of the following functions\n",
    "* ## activeCount()\n",
    "* ## currentThread()\n",
    "* ## enumerate()"
   ]
  },
  {
   "cell_type": "markdown",
   "metadata": {},
   "source": [
    "### Answer"
   ]
  },
  {
   "cell_type": "markdown",
   "metadata": {},
   "source": [
    "The threading module is used in Python to create and manage threads in a program. Here are the uses of the following functions in the threading module:\n",
    "\n",
    "**`activeCount()`**: This function is used to get the number of thread objects that are currently active in the program. It returns an integer value that represents the number of active threads.\n",
    "\n",
    "**`currentThread()`**: This function is used to get the current thread object that is executing in the program. It returns the thread object that represents the current thread.\n",
    "\n",
    "**`enumerate()`**: This function is used to get a list of all thread objects that are currently active in the program. It returns a list of thread objects, which can be used to iterate over all active threads and perform some action on them. By default, the list returned by enumerate() includes the main thread, which is the thread that runs the main program.\n",
    "\n",
    "Examples:"
   ]
  },
  {
   "cell_type": "code",
   "execution_count": 16,
   "metadata": {},
   "outputs": [],
   "source": [
    "import threading\n",
    "import time\n",
    "\n",
    "def worker():\n",
    "    print(f\"{threading.currentThread().getName()} started\")\n",
    "    time.sleep(2)\n",
    "    print(f\"{threading.currentThread().getName()} ended\")"
   ]
  },
  {
   "cell_type": "code",
   "execution_count": 17,
   "metadata": {},
   "outputs": [],
   "source": [
    "# create three worker threads\n",
    "t1 = threading.Thread(target=worker)\n",
    "t2 = threading.Thread(target=worker)\n",
    "t3 = threading.Thread(target=worker)"
   ]
  },
  {
   "cell_type": "code",
   "execution_count": 18,
   "metadata": {},
   "outputs": [
    {
     "name": "stdout",
     "output_type": "stream",
     "text": [
      "Thread-15 started\n",
      "Thread-16 started\n",
      "Thread-17 started\n",
      "Thread-16 endedThread-15 ended\n",
      "Thread-17 ended\n",
      "\n"
     ]
    }
   ],
   "source": [
    "# start the threads\n",
    "t1.start()\n",
    "t2.start()\n",
    "t3.start()\n",
    "\n",
    "# wait for all threads to complete\n",
    "t1.join()\n",
    "t2.join()\n",
    "t3.join()"
   ]
  },
  {
   "cell_type": "code",
   "execution_count": 19,
   "metadata": {},
   "outputs": [
    {
     "name": "stdout",
     "output_type": "stream",
     "text": [
      "Number of active threads: 7\n"
     ]
    }
   ],
   "source": [
    "# get the number of active threads\n",
    "active_threads = threading.activeCount()\n",
    "print(f\"Number of active threads: {active_threads}\")"
   ]
  },
  {
   "cell_type": "code",
   "execution_count": 20,
   "metadata": {},
   "outputs": [
    {
     "name": "stdout",
     "output_type": "stream",
     "text": [
      "Current thread: MainThread\n"
     ]
    }
   ],
   "source": [
    "# get the current thread object\n",
    "current_thread = threading.currentThread()\n",
    "print(f\"Current thread: {current_thread.getName()}\")"
   ]
  },
  {
   "cell_type": "code",
   "execution_count": 21,
   "metadata": {},
   "outputs": [
    {
     "name": "stdout",
     "output_type": "stream",
     "text": [
      "All threads:\n",
      "MainThread\n",
      "IOPub\n",
      "Heartbeat\n",
      "Thread-2\n",
      "Thread-3\n",
      "Control\n",
      "IPythonHistorySavingThread\n"
     ]
    }
   ],
   "source": [
    "# enumerate all active threads\n",
    "all_threads = threading.enumerate()\n",
    "print(\"All threads:\")\n",
    "for thread in all_threads:\n",
    "    print(thread.getName())"
   ]
  },
  {
   "cell_type": "code",
   "execution_count": 15,
   "metadata": {},
   "outputs": [
    {
     "data": {
      "text/plain": [
       "[<_MainThread(MainThread, started 140505268197184)>,\n",
       " <Thread(IOPub, started daemon 140505178396416)>,\n",
       " <Heartbeat(Heartbeat, started daemon 140505170003712)>,\n",
       " <Thread(Thread-2, started daemon 140504939353856)>,\n",
       " <Thread(Thread-3, started daemon 140504930961152)>,\n",
       " <ControlThread(Control, started daemon 140504922568448)>,\n",
       " <HistorySavingThread(IPythonHistorySavingThread, started 140504914175744)>]"
      ]
     },
     "execution_count": 15,
     "metadata": {},
     "output_type": "execute_result"
    }
   ],
   "source": [
    "all_threads"
   ]
  },
  {
   "cell_type": "markdown",
   "metadata": {},
   "source": [
    "In this example, we create three worker threads that simulate some work by sleeping for two seconds. We then wait for all threads to complete using the `join()` method. After that, we use the `activeCount()` function to get the number of active threads, which should be 1 (the main thread) at this point. Next, we use the `currentThread()` function to get the current thread object, which should be the main thread. Finally, we use the `enumerate()` function to get a list of all active threads and print their names."
   ]
  },
  {
   "cell_type": "markdown",
   "metadata": {},
   "source": [
    "# Q3. "
   ]
  },
  {
   "cell_type": "markdown",
   "metadata": {},
   "source": [
    "## Explain the following functions\n",
    "* ## run()\n",
    "* ## start()\n",
    "* ## join()\n",
    "* ## isAlive()"
   ]
  },
  {
   "cell_type": "markdown",
   "metadata": {},
   "source": [
    "### Answer"
   ]
  },
  {
   "cell_type": "markdown",
   "metadata": {},
   "source": [
    "Here are the explanations for the following functions in Python's threading module:\n",
    "\n",
    "**`run()`**: This method is used to define the entry point for a thread's execution. When a thread's `start()` method is called, the `run()` method is executed in a separate thread. The `run()` method contains the code that the thread should execute.\n",
    "\n",
    "**`start()`**: This method is used to start the execution of a thread. When `start()` is called, a new thread is created and the `run()` method of the thread is executed in that new thread. This method does not wait for the thread to complete; it just starts the thread and returns immediately.\n",
    "\n",
    "**`join()`**: This method is used to wait for a thread to complete its execution. When `join()` is called on a thread, the calling thread (usually the main thread) blocks until the thread being joined completes its execution. This method can be used to synchronize the execution of multiple threads.\n",
    "\n",
    "**`isAlive()`**: This method is used to check if a thread is still alive (i.e., has not completed its execution). When `isAlive()` is called on a thread, it returns `True` if the thread is still running and `False` if the thread has completed its execution.\n",
    "\n",
    "Here's an example that demonstrates the use of these methods:"
   ]
  },
  {
   "cell_type": "code",
   "execution_count": 27,
   "metadata": {},
   "outputs": [
    {
     "name": "stdout",
     "output_type": "stream",
     "text": [
      "Thread-25 started\n",
      "Thread-25 ended\n",
      "Thread-25 has completed its execution\n"
     ]
    }
   ],
   "source": [
    "import threading\n",
    "import time\n",
    "\n",
    "def worker():\n",
    "    print(f\"{threading.currentThread().getName()} started\")\n",
    "    time.sleep(2)\n",
    "    print(f\"{threading.currentThread().getName()} ended\")\n",
    "\n",
    "# create a worker thread\n",
    "t1 = threading.Thread(target=worker)\n",
    "\n",
    "# start the thread\n",
    "t1.start()\n",
    "\n",
    "# wait for the thread to complete\n",
    "t1.join()\n",
    "\n",
    "# check if the thread is still alive\n",
    "if t1.is_alive(): # /tmp/ipykernel_323/3788864578.py:19: DeprecationWarning: isAlive() is deprecated, use is_alive() instead\n",
    "  if t1.isAlive():\n",
    "    print(f\"{t1.getName()} is still running\")\n",
    "else:\n",
    "    print(f\"{t1.getName()} has completed its execution\")"
   ]
  },
  {
   "cell_type": "markdown",
   "metadata": {},
   "source": [
    "In this example, we create a worker thread that sleeps for 2 seconds and then completes its execution. We start the thread using the `start()` method and then wait for it to complete using the `join()` method. After that, we use the `isAlive()` method to check if the thread is still running.\n",
    "\n",
    "As you can see, the `run()` method is not called directly in this example because it is called automatically when we call `start()`. The `join()` method is used to wait for the thread to complete, and the `isAlive()` method is used to check if the thread has completed its execution."
   ]
  },
  {
   "cell_type": "markdown",
   "metadata": {},
   "source": [
    "# Q4."
   ]
  },
  {
   "cell_type": "markdown",
   "metadata": {},
   "source": [
    "## Write a python program to create two threads. Thread one must print the list of squares and thread two must print the list of cubes."
   ]
  },
  {
   "cell_type": "markdown",
   "metadata": {},
   "source": [
    "### Answer"
   ]
  },
  {
   "cell_type": "markdown",
   "metadata": {},
   "source": [
    "Here's an example Python program that creates two threads. The first thread calculates and prints a list of squares, and the second thread calculates and prints a list of cubes:"
   ]
  },
  {
   "cell_type": "code",
   "execution_count": 28,
   "metadata": {},
   "outputs": [],
   "source": [
    "import threading\n",
    "\n",
    "def print_squares(n):\n",
    "    squares = [i**2 for i in range(1, n+1)]\n",
    "    print(\"List of squares:\")\n",
    "    for square in squares:\n",
    "        print(square)"
   ]
  },
  {
   "cell_type": "code",
   "execution_count": 29,
   "metadata": {},
   "outputs": [],
   "source": [
    "def print_cubes(n):\n",
    "    cubes = [i**3 for i in range(1, n+1)]\n",
    "    print(\"List of cubes:\")\n",
    "    for cube in cubes:\n",
    "        print(cube)"
   ]
  },
  {
   "cell_type": "code",
   "execution_count": 38,
   "metadata": {},
   "outputs": [],
   "source": [
    "# create the threads\n",
    "t1 = threading.Thread(target=print_squares, args=(10,))\n",
    "t2 = threading.Thread(target=print_cubes, args=(10,))"
   ]
  },
  {
   "cell_type": "code",
   "execution_count": 31,
   "metadata": {},
   "outputs": [
    {
     "name": "stdout",
     "output_type": "stream",
     "text": [
      "List of squares:\n",
      "1\n",
      "4\n",
      "9\n",
      "16\n",
      "25\n",
      "36\n",
      "49\n",
      "64\n",
      "81\n",
      "100\n",
      "List of cubes:\n",
      "1\n",
      "8\n",
      "27\n",
      "64\n",
      "125\n",
      "216\n",
      "343\n",
      "512\n",
      "729\n",
      "1000\n",
      "Main thread exiting\n"
     ]
    }
   ],
   "source": [
    "# start the threads\n",
    "t1.start()\n",
    "t2.start()\n",
    "\n",
    "# wait for the threads to complete\n",
    "t1.join()\n",
    "t2.join()\n",
    "\n",
    "print(\"Main thread exiting\")"
   ]
  },
  {
   "cell_type": "markdown",
   "metadata": {},
   "source": [
    "In this program, the `print_squares()` function calculates a list of squares for numbers from 1 to n and prints them. The `print_cubes()` function calculates a list of cubes for numbers from 1 to n and prints them. We create two threads using the `Thread()` constructor and specify the target function and arguments for each thread. We start the threads using the `start()` method and wait for them to complete using the `join()` method. Finally, we print a message to indicate that the main thread is exiting.\n",
    "\n",
    "As you can see, the two threads execute simultaneously and print the lists of squares and cubes in parallel."
   ]
  },
  {
   "cell_type": "markdown",
   "metadata": {},
   "source": [
    "# Q5."
   ]
  },
  {
   "cell_type": "markdown",
   "metadata": {},
   "source": [
    "## State advantages and disadvantages of multithreading."
   ]
  },
  {
   "cell_type": "markdown",
   "metadata": {},
   "source": [
    "### Answer"
   ]
  },
  {
   "cell_type": "markdown",
   "metadata": {},
   "source": [
    "Multithreading has several advantages and disadvantages. Here are some of the main advantages and disadvantages of multithreading:\n",
    "\n",
    "**Advantages**:\n",
    "\n",
    "`Increased performance`: Multithreading can improve the performance of a program by allowing multiple tasks to be performed concurrently.\n",
    "\n",
    "`Responsiveness`: Multithreading can improve the responsiveness of a program by allowing it to respond to user input or other events while other tasks are running in the background.\n",
    "\n",
    "`Resource sharing`: Multithreading can allow multiple threads to share resources, such as memory, CPU time, and I/O devices, more efficiently than using separate processes.\n",
    "\n",
    "`Simplified programming`: Multithreading can simplify programming by allowing complex tasks to be broken down into smaller, more manageable threads that can be developed and tested separately.\n",
    "\n",
    "**Disadvantages**:\n",
    "\n",
    "`Complexity`: Multithreading can make a program more complex and harder to debug, especially when multiple threads are accessing shared resources.\n",
    "\n",
    "`Synchronization`: Multithreading requires careful synchronization of shared resources to avoid data races, deadlocks, and other synchronization problems.\n",
    "\n",
    "`Overhead`: Multithreading can introduce overhead in terms of memory and CPU usage, which can reduce the overall performance of a program.\n",
    "\n",
    "`Portability`: Multithreading can be more difficult to implement and maintain in a portable manner, especially when dealing with platform-specific features or libraries.\n",
    "\n",
    "Overall, multithreading can be a powerful tool for improving the performance and responsiveness of a program, but it requires careful consideration of the trade-offs involved and careful attention to the design and implementation of the program."
   ]
  },
  {
   "cell_type": "markdown",
   "metadata": {},
   "source": [
    "# Q6."
   ]
  },
  {
   "cell_type": "markdown",
   "metadata": {},
   "source": [
    "## Explain deadlocks and race conditions."
   ]
  },
  {
   "cell_type": "markdown",
   "metadata": {},
   "source": [
    "### Answer"
   ]
  },
  {
   "cell_type": "markdown",
   "metadata": {},
   "source": [
    "Deadlocks and race conditions are two common synchronization problems that can occur in multithreaded programs.\n",
    "\n",
    "A deadlock occurs when two or more threads are blocked, waiting for each other to release resources that they hold. For example, suppose thread A holds resource X and is waiting for resource Y, while thread B holds resource Y and is waiting for resource X. If neither thread releases its resource, both threads will be blocked indefinitely, and the program will be stuck in a deadlock.\n",
    "\n",
    "Deadlocks can be difficult to detect and resolve, especially in complex programs with multiple threads and shared resources. To avoid deadlocks, programs should use a consistent ordering of locks and avoid holding multiple locks at the same time whenever possible.\n",
    "\n",
    "A race condition occurs when the behavior of a program depends on the timing or order of operations in multiple threads. For example, suppose two threads A and B are trying to increment a shared variable C. If thread A reads the value of C, then thread B reads the same value of C, then both threads increment and write back the same value of C, the final value of C may be lower than expected, because one of the increments was overwritten.\n",
    "\n",
    "Race conditions can lead to unpredictable behavior and bugs in a program, and can be difficult to reproduce and debug. To avoid race conditions, programs should use synchronization mechanisms, such as locks or semaphores, to ensure that only one thread can access a shared resource at a time. Additionally, programs should avoid sharing mutable data structures between threads whenever possible, and use thread-safe data structures or synchronization primitives to ensure correct access."
   ]
  },
  {
   "cell_type": "markdown",
   "metadata": {},
   "source": [
    "***************************************************************************************************************************************************************************************************************************************************************************************************************************************************************************"
   ]
  }
 ],
 "metadata": {
  "kernelspec": {
   "display_name": "Python 3.8.10 64-bit",
   "language": "python",
   "name": "python3"
  },
  "language_info": {
   "codemirror_mode": {
    "name": "ipython",
    "version": 3
   },
   "file_extension": ".py",
   "mimetype": "text/x-python",
   "name": "python",
   "nbconvert_exporter": "python",
   "pygments_lexer": "ipython3",
   "version": "3.8.10"
  },
  "orig_nbformat": 4,
  "vscode": {
   "interpreter": {
    "hash": "e7370f93d1d0cde622a1f8e1c04877d8463912d04d973331ad4851f04de6915a"
   }
  }
 },
 "nbformat": 4,
 "nbformat_minor": 2
}
