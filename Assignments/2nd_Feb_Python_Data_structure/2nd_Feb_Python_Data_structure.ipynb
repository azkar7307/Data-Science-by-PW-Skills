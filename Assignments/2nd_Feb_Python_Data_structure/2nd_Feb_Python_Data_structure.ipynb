{
  "nbformat": 4,
  "nbformat_minor": 0,
  "metadata": {
    "colab": {
      "provenance": []
    },
    "kernelspec": {
      "name": "python3",
      "display_name": "Python 3"
    },
    "language_info": {
      "name": "python"
    }
  },
  "cells": [
    {
      "cell_type": "markdown",
      "source": [
        "# 2nd Feb"
      ],
      "metadata": {
        "id": "NbndFZ3LnpIc"
      }
    },
    {
      "cell_type": "markdown",
      "source": [
        "#Q1. \n"
      ],
      "metadata": {
        "id": "tZQJlo5Lnn_7"
      }
    },
    {
      "cell_type": "markdown",
      "source": [
        "## What are the characteristics of the tuples? Is tuple immutable?\n"
      ],
      "metadata": {
        "id": "4eEQXS_loKRm"
      }
    },
    {
      "cell_type": "markdown",
      "source": [
        "## Answer:\n",
        "Tuples are an ordered, immutable, and heterogeneous collection of elements in many programming languages including Python. Here are the main characteristics of tuples:\n",
        "\n",
        "**Order**: Tuples maintain the order of the elements as they were added, so the first element is at index 0, the second element is at index 1, and so on.\n",
        "\n",
        "**Immutability**: Once a tuple is created, its elements cannot be changed. This makes tuples useful for representing fixed, unchanging data.\n",
        "\n",
        "**Heterogeneous elements**: Tuples can contain elements of different data types, such as integers, strings, and other data structures like lists or tuples.\n",
        "\n",
        "**Indexing**: Each element in a tuple can be accessed using its index, just like with lists.\n",
        "\n",
        "**Iterability**: Tuples are iterable, which means that you can loop over the elements of a tuple and access each one in turn.\n",
        "\n",
        "**Fixed size**: Once a tuple is created, its size cannot be changed. This means you cannot add or remove elements from a tuple after it has been created.\n",
        "\n",
        "These characteristics make tuples a versatile and efficient data structure for many programming tasks."
      ],
      "metadata": {
        "id": "pkGR1YKYWJBE"
      }
    },
    {
      "cell_type": "markdown",
      "source": [
        "# Q2. \n"
      ],
      "metadata": {
        "id": "yz3T231loMYA"
      }
    },
    {
      "cell_type": "markdown",
      "source": [
        "## What are the two tuple methods in python? Give an example of each method. Give a reason why tuples have only two in-built methods as compared to Lists.\n"
      ],
      "metadata": {
        "id": "YpO6YjokoSvX"
      }
    },
    {
      "cell_type": "markdown",
      "source": [
        "## Answer:\n",
        "In Python, tuples have two built-in methods:\n",
        "\n",
        "**count()**: This method returns the number of times a specified element appears in the tuple. For example:"
      ],
      "metadata": {
        "id": "rrWWYS7rY0M0"
      }
    },
    {
      "cell_type": "code",
      "source": [
        "numbers = (1, 2, 3, 2, 4, 1)\n",
        "numbers.count(2)"
      ],
      "metadata": {
        "colab": {
          "base_uri": "https://localhost:8080/"
        },
        "id": "rMRysw8GZBTy",
        "outputId": "690f71a8-33b3-40f5-814d-f9547f0d9b86"
      },
      "execution_count": 1,
      "outputs": [
        {
          "output_type": "execute_result",
          "data": {
            "text/plain": [
              "2"
            ]
          },
          "metadata": {},
          "execution_count": 1
        }
      ]
    },
    {
      "cell_type": "markdown",
      "source": [
        "**index()**: This method returns the index of the first occurrence of a specified element in the tuple. For example:"
      ],
      "metadata": {
        "id": "2KmQTmCjZLP6"
      }
    },
    {
      "cell_type": "code",
      "source": [
        "numbers = (1, 2, 3, 2, 4, 1)\n",
        "numbers.index(2)"
      ],
      "metadata": {
        "colab": {
          "base_uri": "https://localhost:8080/"
        },
        "id": "aZeH3u1mZV51",
        "outputId": "00ba6198-750c-42d6-e049-e8d3af0a089b"
      },
      "execution_count": 2,
      "outputs": [
        {
          "output_type": "execute_result",
          "data": {
            "text/plain": [
              "1"
            ]
          },
          "metadata": {},
          "execution_count": 2
        }
      ]
    },
    {
      "cell_type": "markdown",
      "source": [
        "Tuples have only two built-in methods because they are intended to be simple and lightweight data structures, used for representing fixed, ordered collections of values. Lists, on the other hand, are more flexible and powerful data structures that allow for more operations, such as adding and removing elements. As a result, lists have more built-in methods, such as append(), insert(), remove(), and others, to support these operations.\n",
        "\n",
        "\n",
        "\n"
      ],
      "metadata": {
        "id": "rqB1J1R_Zfru"
      }
    },
    {
      "cell_type": "markdown",
      "source": [
        "# Q3. \n"
      ],
      "metadata": {
        "id": "Pj8dRO83oUkT"
      }
    },
    {
      "cell_type": "markdown",
      "source": [
        "## Which collection datatypes in python do not allow duplicate items? Write a code using a set to remove duplicates from the given list.\n",
        "\n",
        "```\n",
        "List = [1, 1, 1, 2, 1, 3, 1, 4, 2, 1, 2, 2, 2, 3, 2, 4, 3, 1, 3, 2, 3, 3, 3, 4, 4, 1, 4, 2, 4, 3, 4, 4]\n",
        "```"
      ],
      "metadata": {
        "id": "tyrwQhxTojEK"
      }
    },
    {
      "cell_type": "markdown",
      "source": [
        "## Answer:\n",
        "In Python, the set data type can contain only unique itmes. The example code below removes all duplicate items from list using set - "
      ],
      "metadata": {
        "id": "pjSi1JamdN2s"
      }
    },
    {
      "cell_type": "code",
      "source": [
        "List = [1, 1, 1, 2, 1, 3, 1, 4, 2, 1, 2, 2, 2, 3, 2, 4, 3, 1, 3, 2, 3, 3, 3, 4, 4, 1, 4, 2, 4, 3, 4, 4]\n",
        "\n",
        "# No duplicate items\n",
        "unique_items = set(List)\n",
        "\n",
        "# Converting back to list\n",
        "unique_items = list(unique_items)\n",
        "unique_items"
      ],
      "metadata": {
        "colab": {
          "base_uri": "https://localhost:8080/"
        },
        "id": "BK_x8C4ybfL3",
        "outputId": "cc5eaeb5-2b75-4981-cc3d-244c6294b4d6"
      },
      "execution_count": 3,
      "outputs": [
        {
          "output_type": "execute_result",
          "data": {
            "text/plain": [
              "[1, 2, 3, 4]"
            ]
          },
          "metadata": {},
          "execution_count": 3
        }
      ]
    },
    {
      "cell_type": "markdown",
      "source": [
        "# Q4. \n"
      ],
      "metadata": {
        "id": "oU-5gS3doZwa"
      }
    },
    {
      "cell_type": "markdown",
      "source": [
        "## Explain the difference between the union() and update() methods for a set. Give an example of each method."
      ],
      "metadata": {
        "id": "tGoIfOlsot3Z"
      }
    },
    {
      "cell_type": "markdown",
      "source": [
        "## Answer:\n",
        "In Python, the union() and update() methods are used to combine two or more sets. However, there are some key differences between these methods:\n",
        "\n",
        "**union()**: This method returns a new set that is the union of two or more sets. The original sets are not modified. For example:"
      ],
      "metadata": {
        "id": "ROj4XCWXgLn9"
      }
    },
    {
      "cell_type": "code",
      "source": [
        "set1 = {1, 2, 3}\n",
        "set2 = {2, 3, 4}\n",
        "set3 = set1.union(set2)\n",
        "print(set3)"
      ],
      "metadata": {
        "colab": {
          "base_uri": "https://localhost:8080/"
        },
        "id": "rUrTiBvNgKCr",
        "outputId": "a917f6c9-a798-4f35-b308-79be6084347a"
      },
      "execution_count": 4,
      "outputs": [
        {
          "output_type": "stream",
          "name": "stdout",
          "text": [
            "{1, 2, 3, 4}\n"
          ]
        }
      ]
    },
    {
      "cell_type": "markdown",
      "source": [
        "**update()**: This method adds the elements of one set to another set. The original set is modified. For example:"
      ],
      "metadata": {
        "id": "ZX88XrFRgfd0"
      }
    },
    {
      "cell_type": "code",
      "source": [
        "set1 = {1, 2, 3}\n",
        "set2 = {2, 3, 4}\n",
        "set1.update(set2)\n",
        "print(set1)"
      ],
      "metadata": {
        "colab": {
          "base_uri": "https://localhost:8080/"
        },
        "id": "jgd6uesHgxFT",
        "outputId": "b93f7e29-b4e0-4653-ef4b-1c2bd89ebe33"
      },
      "execution_count": 5,
      "outputs": [
        {
          "output_type": "stream",
          "name": "stdout",
          "text": [
            "{1, 2, 3, 4}\n"
          ]
        }
      ]
    },
    {
      "cell_type": "markdown",
      "source": [
        "So, the main difference between **union()** and **update()** is that **union()** returns a new set that is the union of two sets, while **update()** modifies the original set to include the elements of another set."
      ],
      "metadata": {
        "id": "fcq6LWnFg8RT"
      }
    },
    {
      "cell_type": "markdown",
      "source": [
        "# Q5. \n"
      ],
      "metadata": {
        "id": "6GJMiyGxor7W"
      }
    },
    {
      "cell_type": "markdown",
      "source": [
        "## What is a dictionary? Give an example. Also, state whether a dictionary is ordered or unordered."
      ],
      "metadata": {
        "id": "Uhdr2Vkwo40V"
      }
    },
    {
      "cell_type": "markdown",
      "source": [
        "## Answer:\n",
        "A dictionary in Python is an unordered collection of key-value pairs, where each key is unique. It is also known as a mapping and is a built-in data type in Python. Dictionaries are defined using curly braces {}, with the key-value pairs separated by a colon :.\n",
        "\n",
        "Here's an example of a dictionary in Python:"
      ],
      "metadata": {
        "id": "QxXvoJ7JiOlP"
      }
    },
    {
      "cell_type": "code",
      "source": [
        "# Creating a dictionary\n",
        "person = {'name': 'Amit Kumar', 'age': 22, 'gender': 'male'}\n",
        "\n",
        "# Accessing the values\n",
        "print(person['name']) # Output: Amit Kumar\n",
        "print(person['age']) # Output: 22\n",
        "\n",
        "# Updating the values\n",
        "person['age'] = 25\n",
        "print(person['age']) # Output: 25\n",
        "\n",
        "# Adding a new key-value pair\n",
        "person['email'] = 'amitkumar@example.com'\n",
        "print(person)"
      ],
      "metadata": {
        "colab": {
          "base_uri": "https://localhost:8080/"
        },
        "id": "aSZfw4LNiNM4",
        "outputId": "8bddf40a-5ba1-49fa-e74d-feb4b1138543"
      },
      "execution_count": 6,
      "outputs": [
        {
          "output_type": "stream",
          "name": "stdout",
          "text": [
            "Amit Kumar\n",
            "22\n",
            "25\n",
            "{'name': 'Amit Kumar', 'age': 25, 'gender': 'male', 'email': 'amitkumar@example.com'}\n"
          ]
        }
      ]
    },
    {
      "cell_type": "markdown",
      "source": [
        "As mentioned before, dictionaries are unordered, which means that the key-value pairs are not stored in any particular order. This means that when you access or iterate over the values in a dictionary, the order may not be the same as the order in which they were inserted. If you need an ordered collection of key-value pairs, you can use the `collections.OrderedDict` class."
      ],
      "metadata": {
        "id": "AlBwYMQ0jYYD"
      }
    },
    {
      "cell_type": "markdown",
      "source": [
        "# Q6. \n"
      ],
      "metadata": {
        "id": "ndTW452mo0Ec"
      }
    },
    {
      "cell_type": "markdown",
      "source": [
        "## Can we create a nested dictionary? If so, please give an example by creating a simple one-level nested dictionary.\n"
      ],
      "metadata": {
        "id": "GpWEpI9rpCbH"
      }
    },
    {
      "cell_type": "markdown",
      "source": [
        "## Answer:\n",
        "Yes, you can create a nested dictionary in Python, where the values of a dictionary can be dictionaries themselves. Here's an example of a simple one-level nested dictionary:"
      ],
      "metadata": {
        "id": "jpdd1tegqSXz"
      }
    },
    {
      "cell_type": "code",
      "source": [
        "# Creating a nested dictionary\n",
        "person = {'name': 'John Doe', 'age': 30, 'address': {'street': '123 Main St', 'city': 'San Francisco', 'state': 'CA'}}\n",
        "\n",
        "# Accessing the values\n",
        "print(person['name']) # Output: John Doe\n",
        "print(person['age']) # Output: 30\n",
        "print(person['address']) # Output: {'street': '123 Main St', 'city': 'San Francisco', 'state': 'CA'}\n",
        "print(person['address']['city']) # Output: San Francisco\n",
        "\n",
        "# Updating the values\n",
        "person['age'] = 31\n",
        "print(person['age']) # Output: 31\n",
        "\n",
        "# Adding a new key-value pair\n",
        "person['address']['zipcode'] = '94102'\n",
        "print(person) # Output: {'name': 'John Doe', 'age': 31, 'address': {'street': '123 Main St', 'city': 'San Francisco', 'state': 'CA', 'zipcode': '94102'}}\n"
      ],
      "metadata": {
        "colab": {
          "base_uri": "https://localhost:8080/"
        },
        "id": "K28xmS95qnIj",
        "outputId": "c8fefd38-bc0b-4f45-a87b-4293003597d7"
      },
      "execution_count": 7,
      "outputs": [
        {
          "output_type": "stream",
          "name": "stdout",
          "text": [
            "John Doe\n",
            "30\n",
            "{'street': '123 Main St', 'city': 'San Francisco', 'state': 'CA'}\n",
            "San Francisco\n",
            "31\n",
            "{'name': 'John Doe', 'age': 31, 'address': {'street': '123 Main St', 'city': 'San Francisco', 'state': 'CA', 'zipcode': '94102'}}\n"
          ]
        }
      ]
    },
    {
      "cell_type": "markdown",
      "source": [
        "As you can see, the value of the `address` key is itself a dictionary, which allows you to store multiple key-value pairs within a single key. This way, you can create nested dictionaries of any level of complexity."
      ],
      "metadata": {
        "id": "9kT_cJvjql39"
      }
    },
    {
      "cell_type": "markdown",
      "source": [
        "# Q7. \n"
      ],
      "metadata": {
        "id": "ExXJikPypDu-"
      }
    },
    {
      "cell_type": "markdown",
      "source": [
        "## Using setdefault() method, create key named topics in the given dictionary and also add the value of the key as this list - \n",
        "\n",
        "```\n",
        "['Python', 'Machine Learning’, 'Deep Learning']\n",
        "    \n",
        "dict1 = {'language' : 'Python', 'course': 'Data Science Masters'}\n",
        "```"
      ],
      "metadata": {
        "id": "RTse1HQRpMRy"
      }
    },
    {
      "cell_type": "markdown",
      "source": [
        "## Answer:\n",
        "The `setdefault()` method allows you to add a new key-value pair to a dictionary, or update the value of an existing key, if the key is already present in the dictionary. Here's how you can use the `setdefault()` method to add the `topics` key to the `dict1` dictionary, with the value being a list of topics:"
      ],
      "metadata": {
        "id": "Te_ZPEPrrijx"
      }
    },
    {
      "cell_type": "code",
      "source": [
        "dict1 = {'language' : 'Python', 'course': 'Data Science Masters'}\n",
        "\n",
        "# Using setdefault() method to add key-value pair\n",
        "dict1.setdefault('topics', ['Python', 'Machine Learning', 'Deep Learning'])\n",
        "\n",
        "# Checking the dictionary after adding the key-value pair\n",
        "print(dict1)"
      ],
      "metadata": {
        "colab": {
          "base_uri": "https://localhost:8080/"
        },
        "id": "qGfY2qBYsBTA",
        "outputId": "0882d20c-c70e-45db-ce26-cfea2cb48bb7"
      },
      "execution_count": 8,
      "outputs": [
        {
          "output_type": "stream",
          "name": "stdout",
          "text": [
            "{'language': 'Python', 'course': 'Data Science Masters', 'topics': ['Python', 'Machine Learning', 'Deep Learning']}\n"
          ]
        }
      ]
    },
    {
      "cell_type": "markdown",
      "source": [
        "As you can see, the `setdefault()` method allows you to add a new key-value pair to the dictionary if the key does not already exist in the dictionary. If the key exists, it updates the value of the key with the new value."
      ],
      "metadata": {
        "id": "FG-0I3LtsLkK"
      }
    },
    {
      "cell_type": "markdown",
      "source": [
        "# Q8. \n"
      ],
      "metadata": {
        "id": "QrwRQekPpdDx"
      }
    },
    {
      "cell_type": "markdown",
      "source": [
        "## What are the three view objects in dictionaries? Use the three in-built methods in python to display these three view objects for the given dictionary.\n",
        "\n",
        "    dict1 = {'Sport': 'Cricket' , 'Teams': ['India', 'Australia', 'England', 'South Africa', 'Sri Lanka', 'New Zealand']}"
      ],
      "metadata": {
        "id": "7NiD9wjApxYi"
      }
    },
    {
      "cell_type": "markdown",
      "source": [
        "## Answer:\n",
        "There are three view objects in dictionaries in Python: **keys()**, **values()**, and **items()**.\n",
        "\n",
        "**keys()**: returns a view object that displays a list of all the keys in the dictionary.\n",
        "**values()**: returns a view object that displays a list of all the values in the dictionary.\n",
        "**items()**: returns a view object that displays a list of all the key-value pairs in the dictionary as tuples.\n",
        "\n",
        "Here's how you can display these three view objects for the dict1 dictionary:"
      ],
      "metadata": {
        "id": "06j9VkdFtCTA"
      }
    },
    {
      "cell_type": "code",
      "source": [
        "dict1 = {'Sport': 'Cricket' , 'Teams': ['India', 'Australia', 'England', 'South Africa', 'Sri Lanka', 'New Zealand']}\n",
        "\n",
        "# Displaying keys in the dictionary\n",
        "print(\"Dictionary keys:\", dict1.keys())\n",
        "\n",
        "# Displaying values in the dictionary\n",
        "print(\"Dictionary values:\", dict1.values())\n",
        "\n",
        "# Displaying key-value pairs in the dictionary\n",
        "print(\"Dictionary items:\", dict1.items())"
      ],
      "metadata": {
        "colab": {
          "base_uri": "https://localhost:8080/"
        },
        "id": "4lzcUyxBtYs8",
        "outputId": "d0d0fd91-9ba1-443f-d510-d74a1c4b2dc0"
      },
      "execution_count": 9,
      "outputs": [
        {
          "output_type": "stream",
          "name": "stdout",
          "text": [
            "Dictionary keys: dict_keys(['Sport', 'Teams'])\n",
            "Dictionary values: dict_values(['Cricket', ['India', 'Australia', 'England', 'South Africa', 'Sri Lanka', 'New Zealand']])\n",
            "Dictionary items: dict_items([('Sport', 'Cricket'), ('Teams', ['India', 'Australia', 'England', 'South Africa', 'Sri Lanka', 'New Zealand'])])\n"
          ]
        }
      ]
    },
    {
      "cell_type": "markdown",
      "source": [
        "************************************************************************************************************************************************************************************************************************************************************************************************************************************************************************"
      ],
      "metadata": {
        "id": "yfSen3Xore-3"
      }
    },
    {
      "cell_type": "code",
      "source": [],
      "metadata": {
        "id": "2WJq2iatx2rH"
      },
      "execution_count": null,
      "outputs": []
    }
  ]
}