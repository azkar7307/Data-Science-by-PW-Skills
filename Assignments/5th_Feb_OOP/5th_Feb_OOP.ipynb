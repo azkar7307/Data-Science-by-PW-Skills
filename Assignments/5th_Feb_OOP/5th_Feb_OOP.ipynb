{
 "cells": [
  {
   "cell_type": "markdown",
   "metadata": {
    "id": "phS2EhHyGwYq"
   },
   "source": [
    "# **5th Feb**"
   ]
  },
  {
   "cell_type": "markdown",
   "metadata": {
    "id": "vhBW0WvAk0d5"
   },
   "source": [
    "# Q1. \n"
   ]
  },
  {
   "cell_type": "markdown",
   "metadata": {
    "id": "CdbevEIZlH56"
   },
   "source": [
    "## Explain Class and Object with respect to Object-Oriented Programming. Give a suitable example.\n"
   ]
  },
  {
   "cell_type": "markdown",
   "metadata": {
    "id": "53lT2mSnrsNV"
   },
   "source": [
    "## Answer:\n",
    "Class is a blueprint or a template that defines the properties and behavior of objects of a specific type. In object-oriented programming (OOP), classes define how objects are created.\n",
    "\n",
    "An object, on the other hand, is an instance of a class that has its own properties and behavior. An object is an instance of a class, and objects of the same class have similar attributes and methods.\n",
    "\n",
    "Example:\n",
    "Consider a class called \"Car\". A Car class has properties such as make, model, year, and color, and behaviors such as start, stop, and accelerate. Each car object created from the Car class will have its own unique set of properties, but they will all share the same behavior defined in the class.\n",
    "\n",
    "For example, you could create two car objects: a Honda Civic and a Toyota Camry, both of which are instances of the Car class. The Honda Civic object might have make=\"Honda\", model=\"Civic\", year=2020, and color=\"red\". The Toyota Camry object might have make=\"Toyota\", model=\"Camry\", year=2021, and color=\"blue\"."
   ]
  },
  {
   "cell_type": "markdown",
   "metadata": {
    "id": "LFsiXAirlLA5"
   },
   "source": [
    "# Q2. \n"
   ]
  },
  {
   "cell_type": "markdown",
   "metadata": {
    "id": "035479oElN47"
   },
   "source": [
    "## Name the four pillars of OOPs.\n"
   ]
  },
  {
   "cell_type": "markdown",
   "metadata": {
    "id": "r85N3iFYrtmD"
   },
   "source": [
    "## Answer:\n",
    "The four pillars of Object-Oriented Programming (OOP) are:\n",
    "\n",
    "**Encapsulation**: Encapsulation is the process of hiding the implementation details of a class from other objects. This allows for a clean separation of concerns, where objects only interact with each other through a well-defined interface, making it easier to maintain the code and reduce the risk of unintended side effects.\n",
    "\n",
    "**Abstraction**: Abstraction is the process of exposing only the necessary information about an object to other objects, while hiding the implementation details. This allows developers to work with objects in a more intuitive and user-friendly way, making the code easier to understand and maintain.\n",
    "\n",
    "**Inheritance**: Inheritance is a mechanism that allows a new class to be created from an existing class. The new class (known as the subclass or derived class) inherits the properties and behavior of the existing class (known as the superclass or base class), making it easier to reuse existing code and reduce the amount of duplicated code in a system.\n",
    "\n",
    "**Polymorphism**: Polymorphism is the ability of an object to take on many forms. This allows objects to be treated as objects of the same type, even if they are instances of different classes. This allows for greater flexibility in code, making it easier to write generic code that can work with objects of different types."
   ]
  },
  {
   "cell_type": "markdown",
   "metadata": {
    "id": "4qu13vj3lQGN"
   },
   "source": [
    "# Q3. \n"
   ]
  },
  {
   "cell_type": "markdown",
   "metadata": {
    "id": "QXuGz-GhlTi3"
   },
   "source": [
    "## Explain why the __init__() function is used. Give a suitable example.\n"
   ]
  },
  {
   "cell_type": "markdown",
   "metadata": {
    "id": "0wCQK2x6ruo8"
   },
   "source": [
    "## Answer:\n",
    "The __init__ method in Python is a special method that is automatically called when an object is created from a class. It is commonly referred to as the constructor and its purpose is to initialize the object's attributes. The __init__ method is defined within the class and is called when an object of the class is created.\n",
    "\n",
    "Example:\n",
    "Consider a class called \"Person\". A Person class could have attributes such as name, age, and address."
   ]
  },
  {
   "cell_type": "code",
   "execution_count": null,
   "metadata": {
    "id": "cpLDd66gW66r"
   },
   "outputs": [],
   "source": [
    "class Person:\n",
    "    def __init__(self, name, age, address):\n",
    "        self.name = name\n",
    "        self.age = age\n",
    "        self.address = address\n",
    "        \n",
    "    def display_person_details(self):\n",
    "        print(f\"Name: {self.name}\")\n",
    "        print(f\"Age: {self.age}\")\n",
    "        print(f\"Address: {self.address}\")"
   ]
  },
  {
   "cell_type": "markdown",
   "metadata": {
    "id": "9dMGXLpQVx-G"
   },
   "source": [
    "Here, the __init__ method takes three arguments (name, age, and address) and sets them as the object's attributes. The display_person_details method can be used to display the person's details.\n",
    "\n",
    "To create an object of the Person class, you would call the class as a function and pass in the required arguments:"
   ]
  },
  {
   "cell_type": "code",
   "execution_count": null,
   "metadata": {
    "colab": {
     "base_uri": "https://localhost:8080/"
    },
    "id": "3V9UCmQ3XTYw",
    "outputId": "2ddc2af1-a906-4d30-95b0-9105cc5f4bfb"
   },
   "outputs": [
    {
     "name": "stdout",
     "output_type": "stream",
     "text": [
      "Name: John Doe\n",
      "Age: 30\n",
      "Address: 123 Main St.\n"
     ]
    }
   ],
   "source": [
    "person1 = Person(\"John Doe\", 30, \"123 Main St.\")\n",
    "person1.display_person_details()"
   ]
  },
  {
   "cell_type": "code",
   "execution_count": null,
   "metadata": {
    "colab": {
     "base_uri": "https://localhost:8080/"
    },
    "id": "njBgHS1uYFVt",
    "outputId": "5b819e30-dfb1-4dff-d474-51c20c4938fe"
   },
   "outputs": [
    {
     "name": "stdout",
     "output_type": "stream",
     "text": [
      "Name: John Doe\n",
      "Age: 15\n",
      "Address: 123 Main St.\n"
     ]
    }
   ],
   "source": [
    "class Person:\n",
    "    # Here defining a constructor with default i.e. default value of age is 15\n",
    "    def __init__(self, name, address, age=15):\n",
    "        self.name = name\n",
    "        self.age = age\n",
    "        self.address = address\n",
    "        \n",
    "    def display_person_details(self):\n",
    "        print(f\"Name: {self.name}\")\n",
    "        print(f\"Age: {self.age}\")\n",
    "        print(f\"Address: {self.address}\")\n",
    "\n",
    "person1 = Person(\"John Doe\", \"123 Main St.\")\n",
    "person1.display_person_details()"
   ]
  },
  {
   "cell_type": "markdown",
   "metadata": {
    "id": "DHBEyCjJlV4r"
   },
   "source": [
    "# Q4. \n"
   ]
  },
  {
   "cell_type": "markdown",
   "metadata": {
    "id": "bGMlCmPulXr6"
   },
   "source": [
    "## Why self is used in OOPs?\n"
   ]
  },
  {
   "cell_type": "markdown",
   "metadata": {
    "id": "PGOucqmSrvv0"
   },
   "source": [
    "## Answer:\n",
    "In Object-Oriented Programming (OOP), self is a reference to the instance of the object on which a method is called. It is used to access the object's attributes and methods from within the object.\n",
    "\n",
    "In Python, self is a conventional name used to refer to the instance of the object, but you could use any other name if you like. However, it is a good practice to stick with the conventional name self for clarity and consistency.\n",
    "\n",
    "For example, consider the following class definition:\n"
   ]
  },
  {
   "cell_type": "code",
   "execution_count": null,
   "metadata": {
    "colab": {
     "base_uri": "https://localhost:8080/"
    },
    "id": "HL16Q8PrZnY6",
    "outputId": "a895ab73-46bc-48a1-a260-aa08f7d37dc7"
   },
   "outputs": [
    {
     "name": "stdout",
     "output_type": "stream",
     "text": [
      "Name: Shekhar\n",
      "Age: 24\n"
     ]
    }
   ],
   "source": [
    "class Person:\n",
    "    def __init__(self, name, age):\n",
    "        self.name = name\n",
    "        self.age = age\n",
    "        \n",
    "    def display_person_details(self):\n",
    "        print(f\"Name: {self.name}\")\n",
    "        print(f\"Age: {self.age}\")\n",
    "\n",
    "person1 = Person('Shekhar', 24)\n",
    "person1.display_person_details() "
   ]
  },
  {
   "cell_type": "markdown",
   "metadata": {
    "id": "JFrAIdZqZcXm"
   },
   "source": [
    "Here, self is used within the __init__ and display_person_details methods to refer to the instance of the Person object and access its name and age attributes. When an object of the Person class is created and the display_person_details method is called, self refers to the specific instance of the Person object and its attributes are used to display the person's details.\n",
    "\n",
    "\n",
    "\n"
   ]
  },
  {
   "cell_type": "markdown",
   "metadata": {
    "id": "jIqQ9QCIlZME"
   },
   "source": [
    "# Q5. \n"
   ]
  },
  {
   "cell_type": "markdown",
   "metadata": {
    "id": "jvDFisbWla1r"
   },
   "source": [
    "## What is inheritance? Give an example for each type of inheritance."
   ]
  },
  {
   "cell_type": "markdown",
   "metadata": {
    "id": "jWel9d7prw_c"
   },
   "source": [
    "## Answer:\n",
    "Inheritance is a key concept in Object-Oriented Programming (OOP) that allows a new class to inherit properties and behaviors from an existing class, called the base class or parent class. This allows for code reuse and promotes the DRY (Don't Repeat Yourself) principle in programming.\n",
    "\n",
    "There are several types of inheritance, including:\n",
    "\n",
    "**I. Single inheritance**: A new class inherits from only one base class."
   ]
  },
  {
   "cell_type": "code",
   "execution_count": null,
   "metadata": {
    "id": "FE95WiE81xB0"
   },
   "outputs": [],
   "source": [
    "class Animal:\n",
    "    def __init__(self, name, species):\n",
    "        self.name = name\n",
    "        self.species = species\n",
    "        \n",
    "    def __str__(self):\n",
    "        return f\"{self.name} is a {self.species}\"\n",
    "        \n",
    "class Dog(Animal):\n",
    "    def __init__(self, name, breed):\n",
    "        Animal.__init__(self, name, species=\"Dog\")\n",
    "        self.breed = breed\n",
    "        \n",
    "    def __str__(self):\n",
    "        return f\"{self.name} is a {self.breed} {self.species}\"\n"
   ]
  },
  {
   "cell_type": "markdown",
   "metadata": {
    "id": "i84qx_hQ2AKP"
   },
   "source": [
    "**II. Multiple inheritance**: A new class inherits from multiple base classes."
   ]
  },
  {
   "cell_type": "code",
   "execution_count": null,
   "metadata": {
    "colab": {
     "base_uri": "https://localhost:8080/"
    },
    "id": "OTOxA82T2JsH",
    "outputId": "e5cd7f29-9e8a-4b5e-c164-639f2d3f0458"
   },
   "outputs": [
    {
     "name": "stdout",
     "output_type": "stream",
     "text": [
      "Running\n",
      "Flying\n"
     ]
    }
   ],
   "source": [
    "class Runnable:\n",
    "    def run(self):\n",
    "        return \"Running\"\n",
    "\n",
    "class Flyable:\n",
    "    def fly(self):\n",
    "        return \"Flying\"\n",
    "\n",
    "class Bird(Runnable, Flyable):\n",
    "    def __init__(self, name):\n",
    "        self.name = name\n",
    "\n",
    "    def __str__(self):\n",
    "        return f\"{self.name} the bird\"\n",
    "\n",
    "bird = Bird(\"Parrot\")\n",
    "print(bird.run()) # Output: Running\n",
    "print(bird.fly()) # Output: Flying\n"
   ]
  },
  {
   "cell_type": "markdown",
   "metadata": {
    "id": "EnBwKZNCmiIm"
   },
   "source": [
    "In this example, the **Bird** class inherits from both the **Runnable** and **Flyable** classes, giving it both the **run** and **fly** methods. This demonstrates the use of multiple inheritance in Python, where a single class can inherit from multiple base classes."
   ]
  },
  {
   "cell_type": "markdown",
   "metadata": {
    "id": "mJmvzSYEmh2N"
   },
   "source": [
    "**III. Multi-level inheritance**: A class can inherit from a derived class, which is a class that inherits from another class."
   ]
  },
  {
   "cell_type": "code",
   "execution_count": null,
   "metadata": {
    "id": "_rvxD8nM3mhd"
   },
   "outputs": [],
   "source": [
    "class Animal:\n",
    "    def __init__(self, name, species):\n",
    "        self.name = name\n",
    "        self.species = species\n",
    "        \n",
    "    def __str__(self):\n",
    "        return f\"{self.name} is a {self.species}\"\n",
    "        \n",
    "class Dog(Animal):\n",
    "    def __init__(self, name, breed):\n",
    "        Animal.__init__(self, name, species=\"Dog\")\n",
    "        self.breed = breed\n",
    "        \n",
    "    def __str__(self):\n",
    "        return f\"{self.name} is a {self.breed} {self.species}\"\n",
    "        \n",
    "class GoldenRetriever(Dog):\n",
    "    def __init__(self, name):\n",
    "        Dog.__init__(self, name, breed=\"Golden Retriever\")\n"
   ]
  },
  {
   "cell_type": "markdown",
   "metadata": {
    "id": "-lsoybTW3lSc"
   },
   "source": [
    "**IV. Hierarchical inheritance**: Multiple classes inherit from a single base class."
   ]
  },
  {
   "cell_type": "code",
   "execution_count": null,
   "metadata": {
    "id": "8Y8u5gYa35RX"
   },
   "outputs": [],
   "source": [
    "class Animal:\n",
    "    def __init__(self, name, species):\n",
    "        self.name = name\n",
    "        self.species = species\n",
    "        \n",
    "    def __str__(self):\n",
    "        return f\"{self.name} is a {self.species}\"\n",
    "        \n",
    "class Dog(Animal):\n",
    "    def __init__(self, name, breed):\n",
    "        Animal.__init__(self, name, species=\"Dog\")\n",
    "        self.breed = breed\n",
    "        \n",
    "    def __str__(self):\n",
    "        return f\"{self.name} is a {self.breed} {self.species}\"\n",
    "        \n",
    "class Cat(Animal):\n",
    "    def __init__(self, name, breed):\n",
    "        Animal.__init__(self, name, species=\"Cat\")\n",
    "        self.breed = breed\n",
    "        \n",
    "    def __str__(self):\n",
    "        return f\"{self.name} is a {self.breed} {self.species}\"\n"
   ]
  },
  {
   "cell_type": "markdown",
   "metadata": {
    "id": "jGgdkKGs3lHL"
   },
   "source": [
    "************************************************************************************************************************************************************************************************************************"
   ]
  }
 ],
 "metadata": {
  "colab": {
   "provenance": []
  },
  "kernelspec": {
   "display_name": "Python 3 (ipykernel)",
   "language": "python",
   "name": "python3"
  },
  "language_info": {
   "codemirror_mode": {
    "name": "ipython",
    "version": 3
   },
   "file_extension": ".py",
   "mimetype": "text/x-python",
   "name": "python",
   "nbconvert_exporter": "python",
   "pygments_lexer": "ipython3",
   "version": "3.9.13"
  }
 },
 "nbformat": 4,
 "nbformat_minor": 1
}
