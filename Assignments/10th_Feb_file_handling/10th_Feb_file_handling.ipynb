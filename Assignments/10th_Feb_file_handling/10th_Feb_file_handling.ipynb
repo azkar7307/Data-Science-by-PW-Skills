{
 "cells": [
  {
   "cell_type": "markdown",
   "id": "b0d92d3b-388c-4876-8793-53d5d386e809",
   "metadata": {},
   "source": [
    "# Q1. "
   ]
  },
  {
   "cell_type": "markdown",
   "id": "9c1c657d-56f6-400a-8c0c-2e0398001caa",
   "metadata": {},
   "source": [
    "## Which function is used to open a file? What are the different modes of opening a file? Explain each mode of file opening."
   ]
  },
  {
   "cell_type": "markdown",
   "id": "ae64d222-be03-4bca-bf21-b4269a6fa671",
   "metadata": {},
   "source": [
    "### Answer"
   ]
  },
  {
   "cell_type": "markdown",
   "id": "98910dfc-34d2-44c4-93a7-62b3752284d8",
   "metadata": {},
   "source": [
    "In Python, you can open a file using the built-in `open()` function, which returns a file object. The basic syntax for opening a file is as follows:\n",
    "```\n",
    "file_object = open(file_path, mode)\n",
    "```"
   ]
  },
  {
   "cell_type": "markdown",
   "id": "bcdf8c6d-e43b-4b2f-a7a1-ba34141f50e9",
   "metadata": {},
   "source": [
    "where `file_path` is the path to the file you want to open and `mode` specifies the purpose of opening the file.\n",
    "\n",
    "The different modes for opening a file in Python are:\n",
    "\n",
    "1. **`Read mode (‘r’)`**: This is the default mode. In this mode, you can only read the contents of the file, but cannot write or modify it.\n",
    "\n",
    "Syntax: \n",
    "```\n",
    "file_object = open(file_path, 'r')\n",
    "```\n",
    "\n",
    "2. **`Write mode (‘w’)`**: In this mode, you can write or modify the contents of the file. If the file does not exist, it will be created. If the file already exists, the old contents will be overwritten.\n",
    "\n",
    "Syntax: \n",
    "```\n",
    "file_object = open(file_path, 'w')\n",
    "```\n",
    "\n",
    "3. **`Append mode (‘a’)`**: In this mode, you can append new content to the end of the file. If the file does not exist, it will be created.\n",
    "\n",
    "Syntax: \n",
    "```\n",
    "file_object = open(file_path, 'a')\n",
    "```\n",
    "\n",
    "4. **`Read and Write mode (‘r+’)`**: In this mode, you can both read and write to the file. However, the pointer is placed at the beginning of the file, so any data written will overwrite the existing contents from the beginning.\n",
    "\n",
    "Syntax: \n",
    "```\n",
    "file_object = open(file_path, 'r+')\n",
    "```\n",
    "\n",
    "5. **`Write and Read mode (‘w+’)`**: In this mode, you can both read and write to the file. However, the file is overwritten from the beginning, so the previous data is deleted.\n",
    "\n",
    "Syntax: \n",
    "```\n",
    "file_object = open(file_path, 'w+')\n",
    "```\n",
    "\n",
    "6. **`Append and Read mode (‘a+’)`**: In this mode, you can both read and write to the file, and the new data is added to the end of the file.\n",
    "\n",
    "Syntax: \n",
    "```\n",
    "file_object = open(file_path, 'a+')\n",
    "```"
   ]
  },
  {
   "cell_type": "markdown",
   "id": "e6be79fc-8c43-4cf2-8ea9-8fe8285836fc",
   "metadata": {},
   "source": [
    "# Q2."
   ]
  },
  {
   "cell_type": "markdown",
   "id": "e544b4b8-d119-480c-808f-387dbaa8f874",
   "metadata": {},
   "source": [
    "## Why close() function is used? Why is it important to close a file?"
   ]
  },
  {
   "cell_type": "markdown",
   "id": "45f950ca-3cad-4fb7-aea7-6fb0d008e8d2",
   "metadata": {},
   "source": [
    "### Answer"
   ]
  },
  {
   "cell_type": "markdown",
   "id": "075a7572-422a-4e5c-a69b-1652659d1677",
   "metadata": {},
   "source": [
    "In Python, the `close()` function is used to close an open file object. It is important to close a file after you have finished working with it, because:\n",
    "\n",
    "**Freeing system resources**: When you open a file, the operating system allocates certain system resources to that file. If you don't close the file when you're done, these resources will not be freed up until the program terminates, which can lead to performance issues.\n",
    "\n",
    "**Writing changes to disk**: When you write to a file, the data is initially stored in a buffer in memory. The operating system periodically writes the buffer to disk to ensure the data is persistent. If you don't close the file, the buffer may not be flushed to disk, which means that some data may be lost if the program terminates unexpectedly.\n",
    "\n",
    "**Allowing other processes to access the file**: If you don't close a file, it may still be locked by your program. This means that other processes may not be able to access the file until your program terminates.\n",
    "\n",
    "In Python, you can close a file object by calling its `close()` method. For example, if you have opened a file object `f` using the `open()` function, you can close it like this:\n",
    "\n"
   ]
  },
  {
   "cell_type": "markdown",
   "id": "48b3079b-09b1-481c-8d73-662ee8e6e582",
   "metadata": {},
   "source": [
    "```\n",
    "f.close()\n",
    "```"
   ]
  },
  {
   "cell_type": "markdown",
   "id": "82c139dd-bd6d-4e81-9d01-d920beaabbf2",
   "metadata": {},
   "source": [
    "# Q3."
   ]
  },
  {
   "cell_type": "markdown",
   "id": "68034517-2e3b-48ff-997d-adfa85f584e5",
   "metadata": {
    "tags": []
   },
   "source": [
    "## Write a python program to create a text file. Write ‘I want to become a Data Scientist’ in that file. Then close the file. Open this file and read the content of the file."
   ]
  },
  {
   "cell_type": "code",
   "execution_count": 3,
   "id": "e4e15dd6-a0e3-4a52-8173-0731e72ffaaf",
   "metadata": {},
   "outputs": [],
   "source": [
    "file = open(\"my_file.txt\", \"w\") # Opening the file with write mode\n",
    "file.write(\"I want to become a Data Scientist\")\n",
    "file.close() # Closing the file"
   ]
  },
  {
   "cell_type": "code",
   "execution_count": 5,
   "id": "f1d5e25d-5748-499a-8f73-045d8e786e42",
   "metadata": {},
   "outputs": [
    {
     "name": "stdout",
     "output_type": "stream",
     "text": [
      "I want to become a Data Scientist\n"
     ]
    }
   ],
   "source": [
    "file = open(\"my_file.txt\", \"r\") # Opening the file with read mode\n",
    "contents = file.read() # Reading the contents from the file\n",
    "print(contents)\n",
    "file.close() # Closing the file"
   ]
  },
  {
   "cell_type": "markdown",
   "id": "c9344cca-822d-4321-951d-0de42f4e4f56",
   "metadata": {},
   "source": [
    "# Q4. "
   ]
  },
  {
   "cell_type": "markdown",
   "id": "5001d896-3d43-45f5-9b1d-79297f147223",
   "metadata": {},
   "source": [
    "## Explain the following with python code: read(), readline() and readlines()."
   ]
  },
  {
   "cell_type": "markdown",
   "id": "9fdd94f9-64c6-43ec-a437-484562d5b2be",
   "metadata": {},
   "source": [
    "### Answer"
   ]
  },
  {
   "cell_type": "markdown",
   "id": "7475b1b8-6eed-484b-931b-90bc92cb7ac4",
   "metadata": {},
   "source": [
    "In Python, you can read the contents of a file using the `read()`, `readline()`, and `readlines()` methods. \n",
    "\n",
    "So, to explain these functions, I will create a text file called `my_file2` and write some contents to the file using `a` mode. Also, describe them along with some Python code examples:"
   ]
  },
  {
   "cell_type": "code",
   "execution_count": 26,
   "id": "f407b22d-617e-4ec3-9d1a-9d68dcb37f8b",
   "metadata": {},
   "outputs": [],
   "source": [
    "# Opening the file with append mode. If the file doesn't exist, it will be created.\n",
    "# And new contents is appended at the end of the file using this mode\n",
    "file2 = open(\"my_file2.txt\", \"a\") \n",
    "file2.write(\"I want to become a Data Scientist\")\n",
    "file2.write(\" and I would like to learn data science skills from PW Skills\")\n",
    "file2.write(\" because PW Skills provides Data Science Masters course which is highly curated and uniquely designed according to the latest industry standards. \\nThis program instills students the skills essential to knowledge discovery efforts to identify standard, novel, and truly differentiated solutions and decision-making, including skills in managing, querying, analyzing, visualizing, and extracting meaning from extremely large data sets.\\n This trending program provides students with the statistical, mathematical and computational skills needed to meet the large-scale data science challenges of today's professional world.\\n You will learn all the stack required to work in data science industry including cloud infrastructure and real-time industry projects.\")\n",
    "file2.close() # Closing the file"
   ]
  },
  {
   "cell_type": "markdown",
   "id": "cae5f3a6-dcf0-434e-b057-c2056390bee9",
   "metadata": {},
   "source": [
    "**`read()` method**: The `read()` method is used to read the entire contents of a file into a string. This method reads the entire file at once and returns a string containing the contents of the file. Here's an example:"
   ]
  },
  {
   "cell_type": "code",
   "execution_count": 28,
   "id": "0e6fd52b-4cae-4a59-a95a-164a5ef2d742",
   "metadata": {},
   "outputs": [
    {
     "name": "stdout",
     "output_type": "stream",
     "text": [
      "I want to become a Data Scientist And I would like to learn data science skills from PW Skills because PW Skills provides Data Science Masters course which is highly curated and uniquely designed according to the latest industry standards. \n",
      "This program instills students the skills essential to knowledge discovery efforts to identify standard, novel, and truly differentiated solutions and decision-making, including skills in managing, querying, analyzing, visualizing, and extracting meaning from extremely large data sets.\n",
      " This trending program provides students with the statistical, mathematical and computational skills needed to meet the large-scale data science challenges of today's professional world.\n",
      " You will learn all the stack required to work in data science industry including cloud infrastructure and real-time industry projects.\n"
     ]
    }
   ],
   "source": [
    "# Open the file in read mode\n",
    "file = open(\"my_file2.txt\", \"r\")\n",
    "\n",
    "# Read the entire contents of the file into a string\n",
    "content = file.read()\n",
    "\n",
    "# Close the file\n",
    "file.close()\n",
    "\n",
    "# Print the contents of the file\n",
    "print(content)\n"
   ]
  },
  {
   "cell_type": "markdown",
   "id": "14f3a651-3f43-4510-875e-ae83e2b4ad5a",
   "metadata": {},
   "source": [
    "**`readline()` method**: The `readline()` method is used to read one line at a time from a file. Each time you call `readline()`, it reads the next line of the file and returns it as a string. Here's an example:"
   ]
  },
  {
   "cell_type": "code",
   "execution_count": 30,
   "id": "c6f3ce7e-e33f-4645-be6c-2a367f21b48b",
   "metadata": {},
   "outputs": [
    {
     "name": "stdout",
     "output_type": "stream",
     "text": [
      "I want to become a Data Scientist And I would like to learn data science skills from PW Skills because PW Skills provides Data Science Masters course which is highly curated and uniquely designed according to the latest industry standards. \n",
      "\n",
      "This program instills students the skills essential to knowledge discovery efforts to identify standard, novel, and truly differentiated solutions and decision-making, including skills in managing, querying, analyzing, visualizing, and extracting meaning from extremely large data sets.\n",
      "\n"
     ]
    }
   ],
   "source": [
    "# Open the file in read mode\n",
    "file = open(\"my_file2.txt\", \"r\")\n",
    "\n",
    "# Read the first line of the file\n",
    "line1 = file.readline()\n",
    "\n",
    "# Read the second line of the file\n",
    "line2 = file.readline()\n",
    "\n",
    "# Close the file\n",
    "file.close()\n",
    "\n",
    "# Print the contents of the file\n",
    "print(line1)\n",
    "print(line2)"
   ]
  },
  {
   "cell_type": "markdown",
   "id": "025047ca-f9ca-4efb-ab44-533fd8ea77ac",
   "metadata": {},
   "source": [
    "**`readlines()` method**: The `readlines()` method is used to read all the lines of a file into a list of strings. Each line of the file becomes an element of the list. Here's an example:"
   ]
  },
  {
   "cell_type": "code",
   "execution_count": 31,
   "id": "3e9aa830-1dbb-4d55-95ff-3ca6f4200e9e",
   "metadata": {},
   "outputs": [
    {
     "name": "stdout",
     "output_type": "stream",
     "text": [
      "I want to become a Data Scientist And I would like to learn data science skills from PW Skills because PW Skills provides Data Science Masters course which is highly curated and uniquely designed according to the latest industry standards. \n",
      "\n",
      "This program instills students the skills essential to knowledge discovery efforts to identify standard, novel, and truly differentiated solutions and decision-making, including skills in managing, querying, analyzing, visualizing, and extracting meaning from extremely large data sets.\n",
      "\n",
      " This trending program provides students with the statistical, mathematical and computational skills needed to meet the large-scale data science challenges of today's professional world.\n",
      "\n",
      " You will learn all the stack required to work in data science industry including cloud infrastructure and real-time industry projects.\n"
     ]
    }
   ],
   "source": [
    "# Open the file in read mode\n",
    "file = open(\"my_file2.txt\", \"r\")\n",
    "\n",
    "# Read all the lines of the file into a list of strings\n",
    "lines = file.readlines()\n",
    "\n",
    "# Close the file\n",
    "file.close()\n",
    "\n",
    "# Print the contents of the file\n",
    "for line in lines:\n",
    "    print(line)\n"
   ]
  },
  {
   "cell_type": "code",
   "execution_count": 37,
   "id": "a7a5d70f-9abc-41b7-aa16-939686215013",
   "metadata": {},
   "outputs": [
    {
     "name": "stdout",
     "output_type": "stream",
     "text": [
      "['I want to become a Data Scientist And I would like to learn data science skills from PW Skills because PW Skills provides Data Science Masters course which is highly curated and uniquely designed according to the latest industry standards. \\n', 'This program instills students the skills essential to knowledge discovery efforts to identify standard, novel, and truly differentiated solutions and decision-making, including skills in managing, querying, analyzing, visualizing, and extracting meaning from extremely large data sets.\\n', \" This trending program provides students with the statistical, mathematical and computational skills needed to meet the large-scale data science challenges of today's professional world.\\n\", ' You will learn all the stack required to work in data science industry including cloud infrastructure and real-time industry projects.']\n",
      "------------------------------\n",
      "There are 4 lines in the file\n"
     ]
    }
   ],
   "source": [
    "print(lines)\n",
    "print('-'*30)\n",
    "print(f'There are {len(lines)} lines in the file')"
   ]
  },
  {
   "cell_type": "markdown",
   "id": "728e4b03-9f68-47fa-bb63-577549ce9765",
   "metadata": {},
   "source": [
    "In summary, `read()` reads the entire file into a string, `readline()` reads one line at a time, and `readlines()` reads all the lines of the file into a list of strings. The choice of which method to use depends on the specific requirements of your program."
   ]
  },
  {
   "cell_type": "markdown",
   "id": "e654aa13-67f4-4d2e-a527-e2ca8a22ed0b",
   "metadata": {},
   "source": [
    "# Q5. "
   ]
  },
  {
   "cell_type": "markdown",
   "id": "a91a9f04-8a25-4bec-95cd-7306b91177eb",
   "metadata": {},
   "source": [
    "## Explain why with statement is used with open(). What is the advantage of using with statement and open() together?"
   ]
  },
  {
   "cell_type": "markdown",
   "id": "8af15be4-63ed-497b-929e-0b06d49c5687",
   "metadata": {},
   "source": [
    "In Python, the `with` statement is used with `open()` to open a file and perform some operations on it. The `with` statement ensures that the file is *closed* automatically when the block inside the `with` statement is exited, even if an error occurs.\n",
    "\n",
    "Here's an example of how to use `with` statement with `open()`:"
   ]
  },
  {
   "cell_type": "code",
   "execution_count": 38,
   "id": "8210b1f5-3893-4d30-af4c-029390894b68",
   "metadata": {},
   "outputs": [
    {
     "name": "stdout",
     "output_type": "stream",
     "text": [
      "I want to become a Data Scientist And I would like to learn data science skills from PW Skills because PW Skills provides Data Science Masters course which is highly curated and uniquely designed according to the latest industry standards. \n",
      "This program instills students the skills essential to knowledge discovery efforts to identify standard, novel, and truly differentiated solutions and decision-making, including skills in managing, querying, analyzing, visualizing, and extracting meaning from extremely large data sets.\n",
      " This trending program provides students with the statistical, mathematical and computational skills needed to meet the large-scale data science challenges of today's professional world.\n",
      " You will learn all the stack required to work in data science industry including cloud infrastructure and real-time industry projects.\n"
     ]
    }
   ],
   "source": [
    "with open(\"my_file2.txt\", \"r\") as file:\n",
    "    data = file.read()\n",
    "    print(data)"
   ]
  },
  {
   "cell_type": "markdown",
   "id": "91d24607-6d44-486d-993e-601ae3fb5867",
   "metadata": {},
   "source": []
  },
  {
   "cell_type": "markdown",
   "id": "3b5c189d-d4ee-4faa-b8e4-6e0af3f6fdbe",
   "metadata": {},
   "source": [
    "In the example above, we open the file `\"my_file2.txt\"` in read mode using `open()`, and assign it to the `file` variable. Then we read the content of the file and print it. When the `with` block is exited, the file is automatically closed, which is taken care of by Python itself.\n",
    "\n",
    "The advantage of using `with` statement and `open()` together is that it eliminates the need to manually close the file, which can be a common source of bugs in Python programs. If you forget to close a file, it can cause data loss, and in some cases, the file may not be accessible until the program is terminated. By using the `with` statement, you ensure that the file is properly closed, even if an error occurs, which makes your code more robust and reliable."
   ]
  },
  {
   "cell_type": "markdown",
   "id": "f1e77e33-121a-4ecf-a73d-c5dca26058d4",
   "metadata": {},
   "source": [
    "# Q6. "
   ]
  },
  {
   "cell_type": "markdown",
   "id": "de74dcef-d405-43af-b0c1-bc9afed0e2da",
   "metadata": {},
   "source": [
    "## Explain the write() and writelines() functions. Give a suitable example."
   ]
  },
  {
   "cell_type": "markdown",
   "id": "bc262aab-7009-4ec7-b95f-98a58f59e369",
   "metadata": {},
   "source": [
    "In Python, the `write()` and `writelines()` functions are used to write data to a file.\n",
    "\n",
    "The `write()` function writes a single string to the file, while the `writelines()` function writes a list of strings to the file. Both functions can be used in different modes of the `open()` function such as `'w'` or `'a'`, depending on whether you want to overwrite the existing file or append to it.\n",
    "\n",
    "Here is an example to illustrate how to use these functions:"
   ]
  },
  {
   "cell_type": "code",
   "execution_count": 40,
   "id": "276ecb62-0d13-408e-81a6-39b80c2f2cf9",
   "metadata": {},
   "outputs": [],
   "source": [
    "# Example using write() function\n",
    "with open('my_file3.txt', 'w') as file:\n",
    "    file.write('Hello, World!\\n')\n",
    "    file.write('This is a test\\n')\n",
    "\n",
    "# Example using writelines() function\n",
    "lines = ['First line\\n', 'Second line\\n', 'Third line\\n']\n",
    "with open('my_file3.txt', 'a') as file:\n",
    "    file.writelines(lines)"
   ]
  },
  {
   "cell_type": "code",
   "execution_count": 41,
   "id": "6fffaed0-c0da-47c4-86f5-ed949c472264",
   "metadata": {},
   "outputs": [
    {
     "name": "stdout",
     "output_type": "stream",
     "text": [
      "Hello, World!\n",
      "This is a test\n",
      "First line\n",
      "Second line\n",
      "Third line\n",
      "\n"
     ]
    }
   ],
   "source": [
    "# Reading the contents from my_file3\n",
    "with open('my_file3.txt', 'r') as file:\n",
    "    contents = file.read()\n",
    "    print(contents)"
   ]
  },
  {
   "cell_type": "markdown",
   "id": "0c3dcece-a8e9-4484-853b-588f64843111",
   "metadata": {},
   "source": [
    "In the first example, we open the file `\"my_file3.txt\"` in write mode using `open()` and use the `write()` function to write two lines of text to the file. The `'\\n'` character is used to add a new line after each line of text.\n",
    "\n",
    "In the second example, we create a list of strings and use the `writelines()` function to write them to the file `\"my_file3.txt\"` in append mode using `open()`. The `writelines()` function expects a list of strings, where each string represents a line of text. The `writelines()` function does not add any new line characters, so we need to include them in the strings ourselves."
   ]
  },
  {
   "cell_type": "markdown",
   "id": "f00e193f-1b6a-4399-b958-9cf7474f4856",
   "metadata": {},
   "source": [
    "**Note** that both `write()` and `writelines()` functions do not add a new line at the end of the last string written, so it is recommended to add a new line character at the end of the last line if required."
   ]
  },
  {
   "cell_type": "markdown",
   "id": "ac96653f-372a-42c4-bcbb-29bb870aacdd",
   "metadata": {},
   "source": [
    "**************************************************************************************************************************************************************************************"
   ]
  }
 ],
 "metadata": {
  "kernelspec": {
   "display_name": "Python 3 (ipykernel)",
   "language": "python",
   "name": "python3"
  },
  "language_info": {
   "codemirror_mode": {
    "name": "ipython",
    "version": 3
   },
   "file_extension": ".py",
   "mimetype": "text/x-python",
   "name": "python",
   "nbconvert_exporter": "python",
   "pygments_lexer": "ipython3",
   "version": "3.9.13"
  }
 },
 "nbformat": 4,
 "nbformat_minor": 5
}
