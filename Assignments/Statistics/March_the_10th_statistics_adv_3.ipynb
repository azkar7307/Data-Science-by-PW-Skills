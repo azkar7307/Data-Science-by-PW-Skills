{
 "cells": [
  {
   "cell_type": "markdown",
   "metadata": {},
   "source": [
    "# *Installing required libraries*"
   ]
  },
  {
   "cell_type": "code",
   "execution_count": 11,
   "metadata": {},
   "outputs": [
    {
     "name": "stdout",
     "output_type": "stream",
     "text": [
      "Requirement already satisfied: numpy in /config/.local/lib/python3.8/site-packages (from -r requirements.txt (line 1)) (1.24.2)\n",
      "Requirement already satisfied: pandas in /config/.local/lib/python3.8/site-packages (from -r requirements.txt (line 2)) (2.0.0)\n",
      "Requirement already satisfied: matplotlib in /config/.local/lib/python3.8/site-packages (from -r requirements.txt (line 3)) (3.7.1)\n",
      "Requirement already satisfied: scipy in /config/.local/lib/python3.8/site-packages (from -r requirements.txt (line 4)) (1.10.1)\n",
      "Requirement already satisfied: statsmodels in /config/.local/lib/python3.8/site-packages (from -r requirements.txt (line 5)) (0.13.5)\n",
      "Requirement already satisfied: tzdata>=2022.1 in /config/.local/lib/python3.8/site-packages (from pandas->-r requirements.txt (line 2)) (2023.3)\n",
      "Requirement already satisfied: pytz>=2020.1 in /config/.local/lib/python3.8/site-packages (from pandas->-r requirements.txt (line 2)) (2023.3)\n",
      "Requirement already satisfied: python-dateutil>=2.8.2 in /config/.local/lib/python3.8/site-packages (from pandas->-r requirements.txt (line 2)) (2.8.2)\n",
      "Requirement already satisfied: packaging>=20.0 in /config/.local/lib/python3.8/site-packages (from matplotlib->-r requirements.txt (line 3)) (23.0)\n",
      "Requirement already satisfied: importlib-resources>=3.2.0; python_version < \"3.10\" in /config/.local/lib/python3.8/site-packages (from matplotlib->-r requirements.txt (line 3)) (5.12.0)\n",
      "Requirement already satisfied: pyparsing>=2.3.1 in /config/.local/lib/python3.8/site-packages (from matplotlib->-r requirements.txt (line 3)) (3.0.9)\n",
      "Requirement already satisfied: cycler>=0.10 in /config/.local/lib/python3.8/site-packages (from matplotlib->-r requirements.txt (line 3)) (0.11.0)\n",
      "Requirement already satisfied: contourpy>=1.0.1 in /config/.local/lib/python3.8/site-packages (from matplotlib->-r requirements.txt (line 3)) (1.0.7)\n",
      "Requirement already satisfied: pillow>=6.2.0 in /config/.local/lib/python3.8/site-packages (from matplotlib->-r requirements.txt (line 3)) (9.5.0)\n",
      "Requirement already satisfied: fonttools>=4.22.0 in /config/.local/lib/python3.8/site-packages (from matplotlib->-r requirements.txt (line 3)) (4.39.3)\n",
      "Requirement already satisfied: kiwisolver>=1.0.1 in /config/.local/lib/python3.8/site-packages (from matplotlib->-r requirements.txt (line 3)) (1.4.4)\n",
      "Requirement already satisfied: patsy>=0.5.2 in /config/.local/lib/python3.8/site-packages (from statsmodels->-r requirements.txt (line 5)) (0.5.3)\n",
      "Requirement already satisfied: six>=1.5 in /config/.local/lib/python3.8/site-packages (from python-dateutil>=2.8.2->pandas->-r requirements.txt (line 2)) (1.16.0)\n",
      "Requirement already satisfied: zipp>=3.1.0; python_version < \"3.10\" in /config/.local/lib/python3.8/site-packages (from importlib-resources>=3.2.0; python_version < \"3.10\"->matplotlib->-r requirements.txt (line 3)) (3.15.0)\n",
      "Note: you may need to restart the kernel to use updated packages.\n"
     ]
    }
   ],
   "source": [
    "pip install -r requirements.txt"
   ]
  },
  {
   "cell_type": "markdown",
   "metadata": {},
   "source": [
    "# *importing required libraries*"
   ]
  },
  {
   "cell_type": "code",
   "execution_count": 12,
   "metadata": {},
   "outputs": [],
   "source": [
    "# For performing basic mathematical operations\n",
    "import numpy as np\n",
    "import pandas as pd\n",
    "\n",
    "# For visualisation\n",
    "from matplotlib import pyplot as plt\n",
    "\n",
    "# For statistical analysis\n",
    "from scipy.stats import ttest_ind\n",
    "from scipy.stats import t"
   ]
  },
  {
   "cell_type": "markdown",
   "metadata": {},
   "source": [
    "# Q1.\n",
    "\n",
    "What is Estimation Statistics? Explain point estimate and interval estimate.\n"
   ]
  },
  {
   "cell_type": "markdown",
   "metadata": {},
   "source": [
    "## Answer"
   ]
  },
  {
   "cell_type": "markdown",
   "metadata": {},
   "source": [
    "Estimation statistics is a type of inferential statistics that involves estimating the value of a population parameter based on a sample of data. In estimation statistics, we use the information from a sample to make inferences about the population parameters, such as mean, standard deviation, or proportion.\n",
    "\n",
    "* `Point Estimate`: A point estimate is a single value that is used to estimate an unknown population parameter. It is typically based on a sample statistic, such as the sample mean or sample proportion, and is used to estimate the corresponding population parameter. For example, if we want to estimate the population mean age of a group of people, we could take a sample of people and calculate the sample mean age. This sample mean would be the point estimate of the population mean age. However, it's important to note that a point estimate is just an estimate, and it may not be exactly equal to the true population parameter.\n",
    "\n",
    "* `Interval Estimate`: An interval estimate is a range of values that is used to estimate an unknown population parameter. It is also based on a sample statistic and provides a range of values within which we expect the true population parameter to fall with a certain level of confidence. The interval estimate is also known as the confidence interval. Confidence interval estimation involves calculating the sample statistic and then using a probability distribution, usually the t-distribution or z-distribution, to determine the range of values that we expect the population parameter to fall within. The width of the interval depends on the level of confidence desired, which is typically 90%, 95%, or 99%. For example, a 95% confidence interval for the population mean age would provide a range of values that we are 95% confident contains the true population mean age.\n",
    "\n",
    "In summary, point estimates provide a single value to estimate an unknown population parameter, while interval estimates provide a range of values within which we expect the true population parameter to fall with a certain level of confidence.\n",
    "\n",
    "\n",
    "\n"
   ]
  },
  {
   "cell_type": "markdown",
   "metadata": {},
   "source": [
    "# Q2. \n",
    "\n",
    "Write a Python function to estimate the population mean using a sample mean and standard deviation.\n"
   ]
  },
  {
   "cell_type": "markdown",
   "metadata": {},
   "source": [
    "## Answer"
   ]
  },
  {
   "cell_type": "markdown",
   "metadata": {},
   "source": [
    "Here is an example Python function to estimate the population mean using a sample mean and standard deviation:"
   ]
  },
  {
   "cell_type": "code",
   "execution_count": 21,
   "metadata": {},
   "outputs": [],
   "source": [
    "def estimate_population_mean(sample_mean, sample_std_dev, sample_size):\n",
    "    \"\"\"\n",
    "    This function takes in the sample mean, sample standard deviation, and sample size and returns an estimate of the population mean.\n",
    "    \"\"\"\n",
    "    import math\n",
    "    \n",
    "    # Calculate the standard error of the mean\n",
    "    standard_error = sample_std_dev / math.sqrt(sample_size)\n",
    "    \n",
    "    # Calculate the margin of error using a 95% confidence level\n",
    "    margin_of_error = 1.96 * standard_error\n",
    "    \n",
    "    # Calculate the lower and upper bounds of the confidence interval\n",
    "    lower_bound = sample_mean - margin_of_error\n",
    "    upper_bound = sample_mean + margin_of_error\n",
    "    \n",
    "    # Return the estimate of the population mean\n",
    "    return (lower_bound + upper_bound) / 2\n"
   ]
  },
  {
   "cell_type": "markdown",
   "metadata": {},
   "source": [
    "To use this function, you would need to provide the sample mean, sample standard deviation, and sample size as arguments. The function then calculates the standard error of the mean, the margin of error using a 95% confidence level, and the lower and upper bounds of the confidence interval. Finally, the function returns the estimate of the population mean, which is the midpoint of the confidence interval."
   ]
  },
  {
   "cell_type": "markdown",
   "metadata": {},
   "source": [
    "# Q3. \n",
    "\n",
    "What is Hypothesis testing? Why is it used? State the importance of Hypothesis testing.\n"
   ]
  },
  {
   "cell_type": "markdown",
   "metadata": {},
   "source": [
    "## Answer"
   ]
  },
  {
   "cell_type": "markdown",
   "metadata": {},
   "source": [
    "Hypothesis testing is a inferential statistics which is used to make decisions about a population based on a sample data. It involves testing a null hypothesis against an alternative hypothesis to determine whether there is sufficient evidence to reject the null hypothesis in favor of the alternative hypothesis.\n",
    "\n",
    "The null hypothesis is the default assumption that there is no significant difference between the sample and the population. The alternative hypothesis, on the other hand, is the hypothesis that we want to test, and it usually states that there is a significant difference between the sample and the population.\n",
    "\n",
    "Hypothesis testing is used to determine whether the results obtained from a sample data are statistically significant or just due to chance. It is important because it provides a way to make decisions based on data and to draw conclusions about a population based on a sample.\n",
    "\n",
    "The importance of hypothesis testing can be summarized as follows:\n",
    "\n",
    "1. *Objectivity*: Hypothesis testing provides an objective and systematic way to test the validity of a claim or hypothesis.\n",
    "\n",
    "2. *Control of Type I error*: Hypothesis testing controls the risk of making a Type I error, which is rejecting the null hypothesis when it is actually true. The level of significance or alpha level is set beforehand to control this error rate.\n",
    "\n",
    "3. *Statistical inference*: Hypothesis testing allows us to make inferences about a population based on a sample data, providing insights into the underlying processes or mechanisms that generate the data.\n",
    "\n",
    "4. *Decision-making*: Hypothesis testing provides a basis for making decisions based on data, which can be used to support or reject a hypothesis or claim.\n",
    "\n",
    "In summary, hypothesis testing is a powerful tool for making decisions based on data and for drawing conclusions about populations based on samples. It provides an objective and systematic way to test the validity of claims or hypotheses and is essential for making sound statistical inferences and informed decisions.\n",
    "\n",
    "\n",
    "\n",
    "\n"
   ]
  },
  {
   "cell_type": "markdown",
   "metadata": {},
   "source": [
    "# Q4. \n",
    "\n",
    "Create a hypothesis that states whether the average weight of male college students is greater than the average weight of female college students."
   ]
  },
  {
   "cell_type": "markdown",
   "metadata": {},
   "source": [
    "## Answer"
   ]
  },
  {
   "cell_type": "markdown",
   "metadata": {},
   "source": [
    "The null hypothesis for this scenario would be: \"There is no significant difference between the average weight of male and female college students.\"\n",
    "\n",
    "The alternative hypothesis would be: \"The average weight of male college students is greater than the average weight of female college students.\"\n",
    "\n",
    "This can be expressed mathematically as:\n",
    "\n",
    "$ \\LARGE H_0: μ_{male} = μ_{female} $\n",
    "\n",
    "$ \\LARGE H_a: μ_{male} \\gt μ_{female} $\n",
    "\n",
    "where $ μ_{male} $ is the population mean weight of male college students, and $ μ_{female} $ is the population mean weight of female college students.\n",
    "\n",
    "Note that the alternative hypothesis assumes that the mean weight of male college students is greater than the mean weight of female college students. This hypothesis can be tested using statistical methods such as a t-test or a z-test to determine whether there is sufficient evidence to reject the null hypothesis in favor of the alternative hypothesis.\n",
    "\n",
    "\n"
   ]
  },
  {
   "cell_type": "markdown",
   "metadata": {},
   "source": [
    "# Q5. \n",
    "\n",
    "Write a Python script to conduct a hypothesis test on the difference between two population means, given a sample from each population.\n"
   ]
  },
  {
   "cell_type": "markdown",
   "metadata": {},
   "source": [
    "## Answer"
   ]
  },
  {
   "cell_type": "markdown",
   "metadata": {},
   "source": [
    "Here is an example Python script that uses a two-sample t-test to test the hypothesis that the mean of one population is greater than the mean of another population, given a sample from each population:"
   ]
  },
  {
   "cell_type": "code",
   "execution_count": 22,
   "metadata": {},
   "outputs": [
    {
     "name": "stdout",
     "output_type": "stream",
     "text": [
      "3.0\n",
      "1.5811388300841898\n",
      "\n",
      "8.0\n",
      "1.5811388300841898\n"
     ]
    }
   ],
   "source": [
    "# Define the two samples\n",
    "sample1 = np.array([1, 2, 3, 4, 5])\n",
    "sample2 = np.array([6, 7, 8, 9, 10])\n",
    "\n",
    "# Calculate the means and standard deviations of the two samples\n",
    "mean1 = np.mean(sample1)\n",
    "std_dev1 = np.std(sample1, ddof=1)\n",
    "mean2 = np.mean(sample2)\n",
    "std_dev2 = np.std(sample2, ddof=1)\n",
    "print(mean1)\n",
    "print(std_dev1)\n",
    "print()\n",
    "print(mean2)\n",
    "print(std_dev2)"
   ]
  },
  {
   "cell_type": "code",
   "execution_count": 23,
   "metadata": {},
   "outputs": [
    {
     "name": "stdout",
     "output_type": "stream",
     "text": [
      "Sample 1 mean: 3.00, Sample 1 standard deviation: 1.58\n",
      "Sample 2 mean: 8.00, Sample 2 standard deviation: 1.58\n",
      "t-statistic: -5.00, p-value: 0.00\n"
     ]
    }
   ],
   "source": [
    "# Calculate the t-statistic and p-value using a two-sample t-test\n",
    "t_stat, p_value = ttest_ind(sample1, sample2, equal_var=False)\n",
    "\n",
    "# Print the results\n",
    "print(\"Sample 1 mean: {:.2f}, Sample 1 standard deviation: {:.2f}\".format(mean1, std_dev1))\n",
    "print(\"Sample 2 mean: {:.2f}, Sample 2 standard deviation: {:.2f}\".format(mean2, std_dev2))\n",
    "print(\"t-statistic: {:.2f}, p-value: {:.2f}\".format(t_stat, p_value))\n"
   ]
  },
  {
   "cell_type": "markdown",
   "metadata": {},
   "source": [
    "In this script, we first define the two samples, `sample1` and `sample2`. We then calculate the means and standard deviations of the two samples using the `np.mean()` and `np.std()` functions from the NumPy library.\n",
    "\n",
    "Next, we use the `ttest_ind()` function from the SciPy library to calculate the t-statistic and p-value of the two-sample t-test. The `equal_var` parameter is set to `False` because we are assuming that the variances of the two populations are not equal.\n",
    "\n",
    "Finally, we print the results, including the means and standard deviations of the two samples, as well as the t-statistic and p-value of the two-sample t-test. The t-statistic measures the difference between the means of the two samples in terms of the standard error, while the p-value represents the probability of obtaining the observed t-statistic if the null hypothesis (that there is no significant difference between the two population means) is true. If the p-value is less than the chosen significance level (e.g. 0.05), we reject the null hypothesis in favor of the alternative hypothesis (that there is a significant difference between the two population means).\n",
    "\n",
    "Interpretation: We reject the null hypothesis since the p-value is less than 0.05 and states a significant difference between the means of the two populations."
   ]
  },
  {
   "cell_type": "markdown",
   "metadata": {},
   "source": [
    "# Q6. \n",
    "\n",
    "What is a null and alternative hypothesis? Give some examples.\n"
   ]
  },
  {
   "cell_type": "markdown",
   "metadata": {},
   "source": [
    "## Answer"
   ]
  },
  {
   "cell_type": "markdown",
   "metadata": {},
   "source": [
    "In hypothesis testing, a null hypothesis (H0) is a statement that assumes there is no significant difference between two populations or samples. The alternative hypothesis (Ha), on the other hand, is a statement that assumes there is a significant difference between two populations or samples. The purpose of hypothesis testing is to test whether the null hypothesis should be rejected or not.\n",
    "\n",
    "Here are some examples of null and alternative hypotheses:\n",
    "\n",
    "**Example 1**: A company wants to test whether a new advertising campaign is more effective than the old one in terms of sales generated. The null hypothesis would be that there is no significant difference in sales between the old and new advertising campaigns. The alternative hypothesis would be that the new advertising campaign is more effective in generating sales than the old one.\n",
    "\n",
    "$ H_0 $: There is no significant difference in sales between the old and new advertising campaigns.\n",
    "\n",
    "$ H_a $: The new advertising campaign is more effective in generating sales than the old one.\n",
    "\n",
    "**Example 2**: A researcher wants to test whether a new drug is effective in reducing blood pressure. The null hypothesis would be that the new drug is no more effective in reducing blood pressure than a placebo. The alternative hypothesis would be that the new drug is more effective in reducing blood pressure than a placebo.\n",
    "\n",
    "$ H_0 $: The new drug is no more effective in reducing blood pressure than a placebo.\n",
    "\n",
    "$ H_a $: The new drug is more effective in reducing blood pressure than a placebo.\n",
    "\n",
    "**Example 3**: A school wants to test whether the average score of its students in a math test has increased after a new teaching method was implemented. The null hypothesis would be that there is no significant difference in the average score before and after the new teaching method was implemented. The alternative hypothesis would be that the average score has increased after the new teaching method was implemented.\n",
    "\n",
    "$ H_0 $: There is no significant difference in the average score before and after the new teaching method was implemented.\n",
    "\n",
    "$ H_a $: The average score has increased after the new teaching method was implemented.\n",
    "\n",
    "These are just a few examples of null and alternative hypotheses. In general, the null hypothesis assumes that there is no significant difference between two populations or samples, while the alternative hypothesis assumes that there is a significant difference between them.\n",
    "\n",
    "\n",
    "\n"
   ]
  },
  {
   "cell_type": "markdown",
   "metadata": {},
   "source": [
    "# Q7. \n",
    "\n",
    "Write down the steps involved in hypothesis testing.\n"
   ]
  },
  {
   "cell_type": "markdown",
   "metadata": {},
   "source": [
    "## Answer"
   ]
  },
  {
   "cell_type": "markdown",
   "metadata": {},
   "source": [
    "The steps involved in hypothesis testing are as follows:\n",
    "\n",
    "1. `State the null and alternative hypotheses`: The first step in hypothesis testing is to state the null and alternative hypotheses. The null hypothesis assumes that there is no significant difference between two populations or samples, while the alternative hypothesis assumes that there is a significant difference between them.\n",
    "\n",
    "2. `Determine the level of significance`: The level of significance is the probability of rejecting the null hypothesis when it is true. It is usually set at 0.05 or 0.01.\n",
    "\n",
    "3. `Choose the appropriate test statistic`: The test statistic is a value calculated from the sample data that is used to test the null hypothesis. The choice of test statistic depends on the type of hypothesis test being conducted and the nature of the data.\n",
    "\n",
    "4. `Determine the critical value or p-value`: The critical value is the value of the test statistic that corresponds to the level of significance. The p-value is the probability of observing a test statistic as extreme as, or more extreme than, the one observed, assuming that the null hypothesis is true.\n",
    "\n",
    "5. `Collect data and calculate the test statistic`: The next step is to collect data and calculate the test statistic using the appropriate formula.\n",
    "\n",
    "6. `Make a decision`: Once the test statistic is calculated, the next step is to make a decision based on the critical value or p-value. If the test statistic is greater than the critical value or the p-value is less than the level of significance, then the null hypothesis is rejected. Otherwise, the null hypothesis is not rejected.\n",
    "\n",
    "7. `Interpret the results`: The final step is to interpret the results of the hypothesis test. If the null hypothesis is rejected, it means that there is sufficient evidence to support the alternative hypothesis. If the null hypothesis is not rejected, it means that there is not enough evidence to support the alternative hypothesis.\n",
    "\n",
    "However in some cases, rejecting the null hypothesis does not necessarily mean that the alternative hypothesis is true, but rather that there is sufficient evidence to support it. Likewise, failing to reject the null hypothesis does not necessarily mean that the null hypothesis is true, but rather that there is not enough evidence to support the alternative hypothesis. It is important to interpret the results in the context of the study and consider other factors such as the sample size, the chosen level of significance, and the potential for Type I and Type II errors.\n",
    "\n",
    "\n"
   ]
  },
  {
   "cell_type": "markdown",
   "metadata": {},
   "source": [
    "# Q8. \n",
    "\n",
    "Define p-value and explain its significance in hypothesis testing.\n"
   ]
  },
  {
   "cell_type": "markdown",
   "metadata": {},
   "source": [
    "## Answer"
   ]
  },
  {
   "cell_type": "markdown",
   "metadata": {},
   "source": [
    "In hypothesis testing, the p-value is the probability of observing a test statistic as extreme as, or more extreme than, the one observed, assuming that the null hypothesis is true. It is a measure of the evidence against the null hypothesis and provides a way to quantify the strength of the evidence.\n",
    "\n",
    "The significance of the p-value in hypothesis testing is that it helps us decide whether to reject or fail to reject the null hypothesis. If the p-value is less than the level of significance, typically set at 0.05 or 0.01, we reject the null hypothesis because it is unlikely to have occurred by chance alone. Conversely, if the p-value is greater than the level of significance, we fail to reject the null hypothesis because there is insufficient evidence to reject it.\n",
    "\n",
    "For example, suppose we are testing the null hypothesis that the mean weight of apples from two different farms is equal. We collect a sample from each farm, calculate the test statistic, and obtain a p-value of 0.02. If we set the level of significance at 0.05, we would reject the null hypothesis because the p-value is less than 0.05, indicating that the difference in mean weights is unlikely to have occurred by chance alone.\n",
    "\n",
    "In summary, the p-value is an essential tool in hypothesis testing that helps us make informed decisions about the null hypothesis based on the strength of the evidence.\n",
    "\n",
    "\n"
   ]
  },
  {
   "cell_type": "markdown",
   "metadata": {},
   "source": [
    "# Q9. \n",
    "\n",
    "Generate a Student's t-distribution plot using Python's matplotlib library, with the degrees of freedom parameter set to 10.\n"
   ]
  },
  {
   "cell_type": "markdown",
   "metadata": {},
   "source": [
    "## Answer"
   ]
  },
  {
   "cell_type": "markdown",
   "metadata": {},
   "source": [
    "Here is an example code snippet that generates a Student's t-distribution plot using Python's matplotlib library with the degrees of freedom parameter set to 10:"
   ]
  },
  {
   "cell_type": "code",
   "execution_count": 16,
   "metadata": {},
   "outputs": [
    {
     "name": "stdout",
     "output_type": "stream",
     "text": [
      "[-4.14370049 -4.05998937 -3.97627825 -3.89256713 -3.80885601 -3.72514489\n",
      " -3.64143377 -3.55772265 -3.47401153 -3.3903004  -3.30658928 -3.22287816\n",
      " -3.13916704 -3.05545592 -2.9717448  -2.88803368 -2.80432256 -2.72061144\n",
      " -2.63690031 -2.55318919 -2.46947807 -2.38576695 -2.30205583 -2.21834471\n",
      " -2.13463359 -2.05092247 -1.96721135 -1.88350022 -1.7997891  -1.71607798\n",
      " -1.63236686 -1.54865574 -1.46494462 -1.3812335  -1.29752238 -1.21381126\n",
      " -1.13010013 -1.04638901 -0.96267789 -0.87896677 -0.79525565 -0.71154453\n",
      " -0.62783341 -0.54412229 -0.46041117 -0.37670004 -0.29298892 -0.2092778\n",
      " -0.12556668 -0.04185556  0.04185556  0.12556668  0.2092778   0.29298892\n",
      "  0.37670004  0.46041117  0.54412229  0.62783341  0.71154453  0.79525565\n",
      "  0.87896677  0.96267789  1.04638901  1.13010013  1.21381126  1.29752238\n",
      "  1.3812335   1.46494462  1.54865574  1.63236686  1.71607798  1.7997891\n",
      "  1.88350022  1.96721135  2.05092247  2.13463359  2.21834471  2.30205583\n",
      "  2.38576695  2.46947807  2.55318919  2.63690031  2.72061144  2.80432256\n",
      "  2.88803368  2.9717448   3.05545592  3.13916704  3.22287816  3.30658928\n",
      "  3.3903004   3.47401153  3.55772265  3.64143377  3.72514489  3.80885601\n",
      "  3.89256713  3.97627825  4.05998937  4.14370049]\n",
      "[0.00159425 0.00183529 0.00211429 0.00243733 0.0028115  0.00324498\n",
      " 0.00374725 0.00432929 0.00500371 0.0057851  0.00669016 0.00773809\n",
      " 0.0089508  0.01035327 0.01197383 0.01384453 0.01600139 0.01848471\n",
      " 0.0213393  0.02461458 0.02836464 0.03264808 0.03752769 0.04306986\n",
      " 0.04934361 0.05641935 0.06436707 0.07325417 0.08314261 0.09408565\n",
      " 0.10612395 0.11928124 0.13355964 0.14893472 0.16535074 0.18271609\n",
      " 0.20089963 0.21972804 0.23898483 0.25841131 0.27770987 0.29654984\n",
      " 0.31457594 0.33141917 0.34670986 0.36009212 0.37123899 0.37986733\n",
      " 0.38575132 0.38873368 0.38873368 0.38575132 0.37986733 0.37123899\n",
      " 0.36009212 0.34670986 0.33141917 0.31457594 0.29654984 0.27770987\n",
      " 0.25841131 0.23898483 0.21972804 0.20089963 0.18271609 0.16535074\n",
      " 0.14893472 0.13355964 0.11928124 0.10612395 0.09408565 0.08314261\n",
      " 0.07325417 0.06436707 0.05641935 0.04934361 0.04306986 0.03752769\n",
      " 0.03264808 0.02836464 0.02461458 0.0213393  0.01848471 0.01600139\n",
      " 0.01384453 0.01197383 0.01035327 0.0089508  0.00773809 0.00669016\n",
      " 0.0057851  0.00500371 0.00432929 0.00374725 0.00324498 0.0028115\n",
      " 0.00243733 0.00211429 0.00183529 0.00159425]\n"
     ]
    }
   ],
   "source": [
    "# Define the degrees of freedom parameter\n",
    "df = 10\n",
    "\n",
    "# Generate a range of values for the x-axis\n",
    "x = np.linspace(t.ppf(0.001, df), t.ppf(0.999, df), 100) # np.linspace(-4.143700494046624, 4.143700494046623), 100)\n",
    "\n",
    "# Generate the y-values for the Student's t-distribution\n",
    "y = t.pdf(x, df)\n",
    "print(x)\n",
    "print(y)"
   ]
  },
  {
   "cell_type": "code",
   "execution_count": 17,
   "metadata": {},
   "outputs": [
    {
     "data": {
      "image/png": "[encoded data removed]",
      "text/plain": [
       "<Figure size 640x480 with 1 Axes>"
      ]
     },
     "metadata": {},
     "output_type": "display_data"
    }
   ],
   "source": [
    "# Create the plot\n",
    "fig, ax = plt.subplots()\n",
    "ax.plot(x, y, 'r-', lw=2, label='t pdf')\n",
    "\n",
    "# Set the plot title and axis labels\n",
    "ax.set_title('Student\\'s t-Distribution (df = 10)')\n",
    "ax.set_xlabel('x')\n",
    "ax.set_ylabel('PDF')\n",
    "\n",
    "# Add a legend to the plot\n",
    "ax.legend(loc='best', frameon=False)\n",
    "\n",
    "# Show the plot\n",
    "plt.show()\n"
   ]
  },
  {
   "cell_type": "markdown",
   "metadata": {},
   "source": [
    "This code generates a plot of the probability density function (PDF) for a Student's t-distribution with 10 degrees of freedom. The `t` function from the `scipy.stats` module is used to generate the y-values for the PDF, and the `ppf` function is used to generate a range of x-values that span the 99.8% range of the distribution. Finally, the `plot` function from `matplotlib` is used to generate the plot and the `set_title`, `set_xlabel`, and `set_ylabel` functions are used to set the plot title and axis labels."
   ]
  },
  {
   "cell_type": "markdown",
   "metadata": {},
   "source": [
    "# Q10. \n",
    "\n",
    "Write a Python program to calculate the two-sample t-test for independent samples, given two random samples of equal size and a null hypothesis that the population means are equal.\n"
   ]
  },
  {
   "cell_type": "markdown",
   "metadata": {},
   "source": [
    "## Answer"
   ]
  },
  {
   "cell_type": "markdown",
   "metadata": {},
   "source": [
    "Here is an example Python program that calculates the two-sample t-test for independent samples given two random samples of equal size and a null hypothesis that the population means are equal:"
   ]
  },
  {
   "cell_type": "code",
   "execution_count": 28,
   "metadata": {},
   "outputs": [
    {
     "name": "stdout",
     "output_type": "stream",
     "text": [
      "Null hypothesis: The population means are equal\n",
      "Sample 1 mean: 10.00829945695172\n",
      "Sample 2 mean: 11.23098440104365\n",
      "t-test statistic: -3.059666338219949\n",
      "p-value: 0.002858198823048667\n"
     ]
    }
   ],
   "source": [
    "# Generate two random samples of equal size\n",
    "np.random.seed(99)\n",
    "sample1 = np.random.normal(loc=10, scale=2, size=50)\n",
    "sample2 = np.random.normal(loc=11, scale=2, size=50)\n",
    "\n",
    "# Define the null hypothesis that the population means are equal\n",
    "null_hypothesis = 'The population means are equal'\n",
    "\n",
    "# Calculate the t-test statistic and p-value\n",
    "t_statistic, p_value = ttest_ind(sample1, sample2)\n",
    "\n",
    "# Print the results\n",
    "print('Null hypothesis:', null_hypothesis)\n",
    "print('Sample 1 mean:', np.mean(sample1))\n",
    "print('Sample 2 mean:', np.mean(sample2))\n",
    "print('t-test statistic:', t_statistic)\n",
    "print('p-value:', p_value)"
   ]
  },
  {
   "cell_type": "markdown",
   "metadata": {},
   "source": [
    "In this example, we first generate two random samples of equal size using the `numpy.random.normal()` function. We then define the null hypothesis that the population means are equal. Finally, we use the `scipy.stats.ttest_ind()` function to calculate the t-test statistic and p-value for the two samples, assuming that the population means are equal.\n",
    "\n",
    "The program prints out the null hypothesis, the mean of each sample, the t-test statistic, and the p-value. The t-test statistic measures the difference between the means of the two samples relative to the variance within the samples, while the p-value measures the probability of observing the t-test statistic or a more extreme value assuming that the null hypothesis is true. If the p-value is less than the level of significance (usually 0.05), we can reject the null hypothesis and conclude that there is a significant difference between the population means.\n",
    "\n",
    "Interpretation: We reject the null hypothesis since the p-value is less than 0.05 and conclude that there is a significant difference between the population means\n"
   ]
  },
  {
   "cell_type": "markdown",
   "metadata": {},
   "source": [
    "# Q11. \n",
    "\n",
    "What is Student’s t distribution? When to use the t-Distribution.\n"
   ]
  },
  {
   "cell_type": "markdown",
   "metadata": {},
   "source": [
    "## Answer"
   ]
  },
  {
   "cell_type": "markdown",
   "metadata": {},
   "source": [
    "The Student's t-distribution is a probability distribution that is used in statistical hypothesis testing when the sample size is small and/or the population standard deviation is unknown. It is named after William Sealy Gosset, who used the pseudonym \"Student\" when publishing his work on the distribution in 1908.\n",
    "\n",
    "The t-distribution looks similar to the standard normal distribution, but has heavier tails. The shape of the t-distribution depends on the degrees of freedom (df), which is the number of observations in the sample minus one. As the degrees of freedom increase, the t-distribution approaches the standard normal distribution.\n",
    "\n",
    "The t-distribution is used in hypothesis testing when the population standard deviation is unknown and must be estimated from the sample data. In these situations, the sample mean follows a t-distribution with (n-1) degrees of freedom. The t-distribution is also used to calculate confidence intervals for the population mean.\n",
    "\n",
    "In general, the t-distribution should be used when the sample size is small (less than 30) or the population standard deviation is unknown. When the sample size is large (greater than 30) and the population standard deviation is known or can be assumed to be known, the standard normal distribution can be used instead.\n",
    "\n",
    "\n"
   ]
  },
  {
   "cell_type": "markdown",
   "metadata": {},
   "source": [
    "# Q12. \n",
    "\n",
    "What is t-statistic? State the formula for t-statistic.\n"
   ]
  },
  {
   "cell_type": "markdown",
   "metadata": {},
   "source": [
    "## Answer"
   ]
  },
  {
   "cell_type": "markdown",
   "metadata": {},
   "source": [
    "The t-statistic is a measure of how many standard errors a sample mean is away from the population mean. It is used in hypothesis testing to determine whether the difference between two sample means is significant or not.\n",
    "\n",
    "The formula for t-statistic is:\n",
    "\n",
    "$ \\LARGE t = \\frac {(\\bar {x}_1 - \\bar {x}_2)} {\\sqrt {\\frac {s^{2}_{pooled}} {n_1} + \\frac {s^{2}_{pooled}} {n_2}}} $\n",
    "\n",
    "where:\n",
    "\n",
    "* $ \\large \\bar {x}_1 $ and $ \\large \\bar {x}_2 $ are the sample means of the two groups being compared\n",
    "* $ \\large s^{2}_{pooled} $ is the pooled variance of the two samples, calculated as $ \\large \\frac {(s_1^{2} + s_2^{2})} {2} $\n",
    "* $ \\large n_1 $ and $ \\large n_2 $ are the sample sizes of the two groups being compared\n",
    "\n",
    "The t-statistic follows a t-distribution with degrees of freedom equal to $ \\large (n_1 + n_2 - 2) $. The t-distribution can be used to calculate the p-value for the t-test, which is the probability of obtaining a t-statistic as extreme or more extreme than the one observed, assuming the null hypothesis is true. If the p-value is less than the significance level (usually 0.05), we reject the null hypothesis and conclude that there is a significant difference between the two sample means.\n",
    "\n",
    "\n"
   ]
  },
  {
   "cell_type": "markdown",
   "metadata": {},
   "source": [
    "# Q13. \n",
    "\n",
    "A coffee shop owner wants to estimate the average daily revenue for their shop. They take a random\n",
    "sample of 50 days and find the sample mean revenue to be $500 with a standard deviation of $50.\n",
    "Estimate the population mean revenue with a 95% confidence interval.\n"
   ]
  },
  {
   "cell_type": "markdown",
   "metadata": {},
   "source": [
    "## Answer"
   ]
  },
  {
   "cell_type": "markdown",
   "metadata": {},
   "source": [
    "Confidence interval = sample mean ± margin of error (margin of error = t * standard error)\n",
    "\n",
    "Confidence interval = $ \\LARGE  \\bar x \\pm t * \\frac {s} {\\sqrt n }$\n",
    "\n",
    "$ = \\LARGE  500 \\pm 2.009 * \\frac {50} {\\sqrt 50 } = 500 \\pm 14.21$\n",
    "\n",
    "$ \\LARGE = (485.79, 514.21) $\n",
    "\n",
    "Therefore, with 95% confidence, the true population mean revenue lies within the interval of $485.79 and $514.21."
   ]
  },
  {
   "cell_type": "markdown",
   "metadata": {},
   "source": [
    "# Q14. \n",
    "\n",
    "A researcher hypothesizes that a new drug will decrease blood pressure by 10 mmHg. They conduct a clinical trial with 100 patients and find that the sample mean decrease in blood pressure is 8 mmHg with a standard deviation of 3 mmHg. Test the hypothesis with a significance level of 0.05.\n",
    "\n"
   ]
  },
  {
   "cell_type": "markdown",
   "metadata": {},
   "source": [
    "## Answer"
   ]
  },
  {
   "cell_type": "markdown",
   "metadata": {},
   "source": [
    "To test the hypothesis that the new drug will decrease blood pressure by 10 mmHg with a significance level of 0.05, we can use a one-sample t-test with the following null and alternative hypotheses:\n",
    "\n",
    "$ H_o: \\mu = 10 \\space mmHg $ (i.e. the true mean decrease in blood pressure is equal to 10 mmHg).\n",
    "\n",
    "$ H_a: \\mu \\lt 10 \\space mmHg $ (i.e. the true mean decrease in blood pressure is less than 10 mmHg).\n",
    "\n",
    "\n",
    "We can calculate the test statistic as follows:\n",
    "\n",
    "t = (sample mean - hypothesized mean) / (standard error of the mean)\n",
    "\n",
    "where the standard error of the mean (SE) is calculated as:\n",
    "\n",
    "SE = sample standard deviation / sqrt(sample size)\n",
    "\n",
    "Substituting the given values, we get:\n",
    "\n",
    "SE = 3 / sqrt(100) = 0.3\n",
    "\n",
    "t = (8 - 10) / 0.3 = -6.67\n",
    "\n",
    "Using a t-distribution table or a t-distribution function in Python with 99 degrees of freedom (sample size - 1), we can find the critical t-value for a one-tailed test with a significance level of 0.05. For a one-tailed test with a significance level of 0.05, the critical t-value is approximately -1.66.\n",
    "\n",
    "Since the calculated t-value (-6.67) is less than the critical t-value (-1.66), we can reject the null hypothesis and conclude that the new drug decreases blood pressure by more than 10 mmHg with a significance level of 0.05.\n",
    "\n"
   ]
  },
  {
   "cell_type": "markdown",
   "metadata": {},
   "source": [
    "# Q15. \n",
    "\n",
    "An electronics company produces a certain type of product with a mean weight of 5 pounds and a standard deviation of 0.5 pounds. A random sample of 25 products is taken, and the sample mean weight is found to be 4.8 pounds. Test the hypothesis that the true mean weight of the products is less than 5 pounds with a significance level of 0.01.\n"
   ]
  },
  {
   "cell_type": "markdown",
   "metadata": {},
   "source": [
    "## Answer"
   ]
  },
  {
   "cell_type": "markdown",
   "metadata": {},
   "source": [
    "To test the hypothesis that the true mean weight of the products is less than 5 pounds with a significance level of 0.01, we can use a one-sample t-test with the following null and alternative hypotheses:\n",
    "\n",
    "Null hypothesis: The true mean weight of the products is equal to 5 pounds.\n",
    "\n",
    "Alternative hypothesis: The true mean weight of the products is less than 5 pounds.\n",
    "\n",
    "We can calculate the test statistic as follows:\n",
    "\n",
    "t = (sample mean - hypothesized mean) / (standard error of the mean)\n",
    "\n",
    "where the standard error of the mean (SE) is calculated as:\n",
    "\n",
    "SE = sample standard deviation / sqrt(sample size)\n",
    "\n",
    "Substituting the given values, we get:\n",
    "\n",
    "SE = 0.5 / sqrt(25) = 0.1\n",
    "\n",
    "t = (4.8 - 5) / 0.1 = -2\n",
    "\n",
    "Using a t-distribution table or a t-distribution function in Python with 24 degrees of freedom (sample size - 1), we can find the critical t-value for a one-tailed test with a significance level of 0.01. For a one-tailed test with a significance level of 0.01, the critical t-value is approximately -2.492.\n",
    "\n",
    "Since the calculated t-value (-2) is greater than the critical t-value (-2.492), we fail to reject the null hypothesis and conclude that there is not enough evidence to support the claim that the true mean weight of the products is less than 5 pounds with a significance level of 0.01.\n",
    "\n",
    "\n",
    "\n"
   ]
  },
  {
   "cell_type": "markdown",
   "metadata": {},
   "source": [
    "# Q16. \n",
    "\n",
    "Two groups of students are given different study materials to prepare for a test. The first group (n1 = 30) has a mean score of 80 with a standard deviation of 10, and the second group (n2 = 40) has a mean score of 75 with a standard deviation of 8. Test the hypothesis that the population means for the two groups are equal with a significance level of 0.01.\n"
   ]
  },
  {
   "cell_type": "markdown",
   "metadata": {},
   "source": [
    "## Answer"
   ]
  },
  {
   "cell_type": "markdown",
   "metadata": {},
   "source": [
    "To test the hypothesis that the population means for the two groups are equal, we can use a two-sample t-test for independent samples.\n",
    "\n",
    "\n",
    "Null hypothesis: The population means are equal\n",
    "\n",
    "Alternative hypothesis: The population means are not equal.\n",
    "\n",
    "Let's set the significance level at 0.01. Since the sample sizes are greater than 30, we can assume that the population variances are equal and use a pooled variance estimate.\n",
    "\n",
    "The test statistic is calculated as follows:\n",
    "\n",
    "$ \\LARGE t = \\frac{x_1 - x_2}{s_p \\sqrt{\\frac{1}{n_1} + \\frac{1}{n_2}}}$\n",
    "\n",
    "\n",
    "\n",
    "\n",
    "\n",
    "\n",
    "\n",
    "\n",
    "where x1 and x2 are the sample means, sp is the pooled standard deviation, and n1 and n2 are the sample sizes.\n",
    "\n",
    "The pooled standard deviation is calculated as follows:\n",
    "\n",
    "$ \\LARGE s_p = \\sqrt{\\frac{(n_1-1)s_1^2 + (n_2-1)s_2^2}{n_1+n_2-2}}$\n",
    "\n",
    "where s1 and s2 are the sample standard deviations.\n",
    "\n",
    "Using the given data, we have:\n",
    "\n",
    "x1 = 80, s1 = 10, n1 = 30\n",
    "\n",
    "x2 = 75, s2 = 8, n2 = 40\n",
    "\n",
    "First, let's calculate the pooled standard deviation:\n",
    "\n",
    "$ \\LARGE s_p = \\sqrt{\\frac{(30-1)10^2 + (40-1)8^2}{30+40-2}} = 8.91 $\n",
    "\n",
    "Now, we can calculate the test statistic:\n",
    "\n",
    "$ \\LARGE t = \\frac{80 - 75}{8.91 \\sqrt{\\frac{1}{30} + \\frac{1}{40}}} = 2.323$\n",
    "\n",
    "The degrees of freedom for the test are (n1 + n2 - 2) = 68. Using a t-table with 68 degrees of freedom and a significance level of 0.01, we find the critical value to be ±2.660.\n",
    "\n",
    "Since the calculated t-value (2.32) is less than the critical value (2.660), we fail to reject the null hypothesis. Therefore, we do not have sufficient evidence to conclude that the population means for the two groups are different at the 0.01 level of significance.\n",
    "\n",
    "\n",
    "\n"
   ]
  },
  {
   "cell_type": "markdown",
   "metadata": {},
   "source": [
    "# Q17. \n",
    "\n",
    "A marketing company wants to estimate the average number of ads watched by viewers during a TV program. They take a random sample of 50 viewers and find that the sample mean is 4 with a standard deviation of 1.5. Estimate the population mean with a 99% confidence interval."
   ]
  },
  {
   "cell_type": "markdown",
   "metadata": {},
   "source": [
    "## Answer"
   ]
  },
  {
   "cell_type": "markdown",
   "metadata": {},
   "source": [
    "We can use the t-distribution to calculate the confidence interval since the population standard deviation is not known.\n",
    "\n",
    "The formula for the confidence interval for a population mean with unknown standard deviation is:\n",
    "\n",
    "$ \\LARGE CI = \\bar {x} \\pm t * \\frac {s} {\\sqrt n} $\n",
    "\n",
    "where $ \\large \\bar x $ is the sample mean, $ \\large s $ is the sample standard deviation, $ \\large n $ is the sample size, and t is the t-value with (n-1) degrees of freedom and the desired level of confidence.\n",
    "\n",
    "For a 99% confidence interval with (50-1) degrees of freedom, the t-value can be found using a t-distribution table or using Python's scipy.stats module:"
   ]
  },
  {
   "cell_type": "code",
   "execution_count": 19,
   "metadata": {},
   "outputs": [
    {
     "name": "stdout",
     "output_type": "stream",
     "text": [
      "2.67995197363155\n"
     ]
    }
   ],
   "source": [
    "t_value = t.ppf(0.995, 49)\n",
    "print(t_value)"
   ]
  },
  {
   "cell_type": "markdown",
   "metadata": {},
   "source": [
    "Here, we use 0.995 because we want a two-tailed 99% confidence interval, and we subtract 1 from the sample size to get the degrees of freedom.\n",
    "\n",
    "Substituting the values into the formula, we get:\n",
    "\n",
    "$ \\LARGE CI = 4 \\pm t \\cdot \\frac {1.5} {\\sqrt 50} $\n",
    "\n",
    "$ \\LARGE CI = 4 \\pm 0.214 \\cdot t $\n",
    "\n",
    "Now, we can calculate the lower and upper bounds of the confidence interval:\n",
    "\n",
    "Lower bound = 4 - 0.214*t\n",
    "\n",
    "Upper bound = 4 + 0.214*t"
   ]
  },
  {
   "cell_type": "code",
   "execution_count": 20,
   "metadata": {},
   "outputs": [
    {
     "name": "stdout",
     "output_type": "stream",
     "text": [
      "99% Confidence interval: 3.43 to 4.57\n"
     ]
    }
   ],
   "source": [
    "# Python code to calculate the confidence interval\n",
    "\n",
    "x_bar = 4\n",
    "s = 1.5\n",
    "n = 50\n",
    "\n",
    "t_value = t.ppf(0.995, 49) # 99% confidence interval, two-tailed\n",
    "ci_lower = x_bar - t_value*(s / (n**0.5))\n",
    "ci_upper = x_bar + t_value*(s / (n**0.5))\n",
    "\n",
    "print(\"99% Confidence interval:\", round(ci_lower, 2), \"to\", round(ci_upper, 2))\n"
   ]
  },
  {
   "cell_type": "markdown",
   "metadata": {},
   "source": [
    "Therefore, with 99% confidence that the true population mean number of ads watched during a TV program is between 3.43 and 4.57."
   ]
  },
  {
   "cell_type": "markdown",
   "metadata": {},
   "source": [
    "********************************************************************************************************************************************"
   ]
  }
 ],
 "metadata": {
  "kernelspec": {
   "display_name": "Python 3.8.10 64-bit",
   "language": "python",
   "name": "python3"
  },
  "language_info": {
   "codemirror_mode": {
    "name": "ipython",
    "version": 3
   },
   "file_extension": ".py",
   "mimetype": "text/x-python",
   "name": "python",
   "nbconvert_exporter": "python",
   "pygments_lexer": "ipython3",
   "version": "3.8.10"
  },
  "orig_nbformat": 4,
  "vscode": {
   "interpreter": {
    "hash": "e7370f93d1d0cde622a1f8e1c04877d8463912d04d973331ad4851f04de6915a"
   }
  }
 },
 "nbformat": 4,
 "nbformat_minor": 2
}
