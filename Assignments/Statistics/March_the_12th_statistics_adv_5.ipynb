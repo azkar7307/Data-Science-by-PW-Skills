{
 "cells": [
  {
   "cell_type": "markdown",
   "metadata": {},
   "source": [
    "# *Installing required libraries*"
   ]
  },
  {
   "cell_type": "code",
   "execution_count": 2,
   "metadata": {},
   "outputs": [
    {
     "name": "stdout",
     "output_type": "stream",
     "text": [
      "Collecting numpy\n",
      "  Downloading numpy-1.24.2-cp38-cp38-manylinux_2_17_x86_64.manylinux2014_x86_64.whl (17.3 MB)\n",
      "\u001b[K     |████████████████████████████████| 17.3 MB 25.8 MB/s eta 0:00:01\n",
      "\u001b[?25hCollecting pandas\n",
      "  Downloading pandas-2.0.0-cp38-cp38-manylinux_2_17_x86_64.manylinux2014_x86_64.whl (12.3 MB)\n",
      "\u001b[K     |████████████████████████████████| 12.3 MB 57.5 MB/s eta 0:00:01\n",
      "\u001b[?25hCollecting matplotlib\n",
      "  Downloading matplotlib-3.7.1-cp38-cp38-manylinux_2_12_x86_64.manylinux2010_x86_64.whl (9.2 MB)\n",
      "\u001b[K     |████████████████████████████████| 9.2 MB 58.2 MB/s eta 0:00:01\n",
      "\u001b[?25hCollecting scipy\n",
      "  Downloading scipy-1.10.1-cp38-cp38-manylinux_2_17_x86_64.manylinux2014_x86_64.whl (34.5 MB)\n",
      "\u001b[K     |████████████████████████████████| 34.5 MB 60.6 MB/s eta 0:00:01\n",
      "\u001b[?25hCollecting statsmodels\n",
      "  Downloading statsmodels-0.13.5-cp38-cp38-manylinux_2_17_x86_64.manylinux2014_x86_64.whl (9.9 MB)\n",
      "\u001b[K     |████████████████████████████████| 9.9 MB 68.9 MB/s eta 0:00:01\n",
      "\u001b[?25hCollecting pytz>=2020.1\n",
      "  Downloading pytz-2023.3-py2.py3-none-any.whl (502 kB)\n",
      "\u001b[K     |████████████████████████████████| 502 kB 65.3 MB/s eta 0:00:01\n",
      "\u001b[?25hCollecting tzdata>=2022.1\n",
      "  Downloading tzdata-2023.3-py2.py3-none-any.whl (341 kB)\n",
      "\u001b[K     |████████████████████████████████| 341 kB 65.2 MB/s eta 0:00:01\n",
      "\u001b[?25hRequirement already satisfied: python-dateutil>=2.8.2 in /config/.local/lib/python3.8/site-packages (from pandas->-r requirements.txt (line 2)) (2.8.2)\n",
      "Collecting cycler>=0.10\n",
      "  Downloading cycler-0.11.0-py3-none-any.whl (6.4 kB)\n",
      "Collecting contourpy>=1.0.1\n",
      "  Downloading contourpy-1.0.7-cp38-cp38-manylinux_2_17_x86_64.manylinux2014_x86_64.whl (300 kB)\n",
      "\u001b[K     |████████████████████████████████| 300 kB 72.3 MB/s eta 0:00:01\n",
      "\u001b[?25hCollecting fonttools>=4.22.0\n",
      "  Downloading fonttools-4.39.3-py3-none-any.whl (1.0 MB)\n",
      "\u001b[K     |████████████████████████████████| 1.0 MB 66.8 MB/s eta 0:00:01\n",
      "\u001b[?25hCollecting importlib-resources>=3.2.0; python_version < \"3.10\"\n",
      "  Downloading importlib_resources-5.12.0-py3-none-any.whl (36 kB)\n",
      "Collecting kiwisolver>=1.0.1\n",
      "  Downloading kiwisolver-1.4.4-cp38-cp38-manylinux_2_5_x86_64.manylinux1_x86_64.whl (1.2 MB)\n",
      "\u001b[K     |████████████████████████████████| 1.2 MB 70.7 MB/s eta 0:00:01\n",
      "\u001b[?25hCollecting pyparsing>=2.3.1\n",
      "  Downloading pyparsing-3.0.9-py3-none-any.whl (98 kB)\n",
      "\u001b[K     |████████████████████████████████| 98 kB 13.9 MB/s eta 0:00:01\n",
      "\u001b[?25hCollecting pillow>=6.2.0\n",
      "  Downloading Pillow-9.5.0-cp38-cp38-manylinux_2_17_x86_64.manylinux2014_x86_64.whl (3.3 MB)\n",
      "\u001b[K     |████████████████████████████████| 3.3 MB 62.1 MB/s eta 0:00:01\n",
      "\u001b[?25hRequirement already satisfied: packaging>=20.0 in /config/.local/lib/python3.8/site-packages (from matplotlib->-r requirements.txt (line 3)) (23.0)\n",
      "Collecting patsy>=0.5.2\n",
      "  Downloading patsy-0.5.3-py2.py3-none-any.whl (233 kB)\n",
      "\u001b[K     |████████████████████████████████| 233 kB 70.4 MB/s eta 0:00:01\n",
      "\u001b[?25hRequirement already satisfied: six>=1.5 in /config/.local/lib/python3.8/site-packages (from python-dateutil>=2.8.2->pandas->-r requirements.txt (line 2)) (1.16.0)\n",
      "Requirement already satisfied: zipp>=3.1.0; python_version < \"3.10\" in /config/.local/lib/python3.8/site-packages (from importlib-resources>=3.2.0; python_version < \"3.10\"->matplotlib->-r requirements.txt (line 3)) (3.15.0)\n",
      "Installing collected packages: numpy, pytz, tzdata, pandas, cycler, contourpy, fonttools, importlib-resources, kiwisolver, pyparsing, pillow, matplotlib, scipy, patsy, statsmodels\n",
      "\u001b[33m  WARNING: The scripts f2py, f2py3 and f2py3.8 are installed in '/config/.local/bin' which is not on PATH.\n",
      "  Consider adding this directory to PATH or, if you prefer to suppress this warning, use --no-warn-script-location.\u001b[0m\n",
      "\u001b[33m  WARNING: The scripts fonttools, pyftmerge, pyftsubset and ttx are installed in '/config/.local/bin' which is not on PATH.\n",
      "  Consider adding this directory to PATH or, if you prefer to suppress this warning, use --no-warn-script-location.\u001b[0m\n",
      "Successfully installed contourpy-1.0.7 cycler-0.11.0 fonttools-4.39.3 importlib-resources-5.12.0 kiwisolver-1.4.4 matplotlib-3.7.1 numpy-1.24.2 pandas-2.0.0 patsy-0.5.3 pillow-9.5.0 pyparsing-3.0.9 pytz-2023.3 scipy-1.10.1 statsmodels-0.13.5 tzdata-2023.3\n",
      "Note: you may need to restart the kernel to use updated packages.\n"
     ]
    }
   ],
   "source": [
    "pip install -r requirements.txt"
   ]
  },
  {
   "cell_type": "markdown",
   "metadata": {},
   "source": [
    "# *importing required libraries*"
   ]
  },
  {
   "cell_type": "code",
   "execution_count": 1,
   "metadata": {},
   "outputs": [],
   "source": [
    "# For performing basic mathematical operations\n",
    "import numpy as np\n",
    "import pandas as pd\n",
    "\n",
    "# For visualisation\n",
    "from matplotlib import pyplot as plt\n",
    "\n",
    "# For statistical analysis\n",
    "from scipy.stats import t\n",
    "from scipy.stats import chisquare\n",
    "from scipy.stats import chi2_contingency\n",
    "from scipy.stats import norm\n",
    "from scipy.stats import chi2\n",
    "from statsmodels.stats.proportion import proportion_confint"
   ]
  },
  {
   "cell_type": "markdown",
   "metadata": {},
   "source": [
    "# Q1. \n",
    "\n",
    "Calculate the 95% confidence interval for a sample of data with a mean of 50 and a standard deviation\n",
    "of 5 using Python. Interpret the results.\n"
   ]
  },
  {
   "cell_type": "markdown",
   "metadata": {},
   "source": [
    "## Answer"
   ]
  },
  {
   "cell_type": "markdown",
   "metadata": {},
   "source": [
    "Here is the Python code to calculate the 95% confidence interval for a sample of data with a mean of 50 and a standard deviation of 5:"
   ]
  },
  {
   "cell_type": "code",
   "execution_count": 50,
   "metadata": {},
   "outputs": [
    {
     "name": "stdout",
     "output_type": "stream",
     "text": [
      "95% Confidence Interval: [49.01, 50.99]\n"
     ]
    }
   ],
   "source": [
    "sample_mean = 50\n",
    "sample_std = 5\n",
    "n = 100 # sample size\n",
    "confidence_level = 0.95\n",
    "\n",
    "standard_error = sample_std / (n**0.5)\n",
    "margin_of_error = t.ppf((1 + confidence_level) / 2, n-1) * standard_error\n",
    "lower_bound = sample_mean - margin_of_error\n",
    "upper_bound = sample_mean + margin_of_error\n",
    "\n",
    "print(f\"95% Confidence Interval: [{lower_bound:.2f}, {upper_bound:.2f}]\")\n"
   ]
  },
  {
   "cell_type": "markdown",
   "metadata": {},
   "source": [
    "Interpretation: We are 95% confident that the true population mean falls between 49.01 and 50.99 based on the given sample data."
   ]
  },
  {
   "cell_type": "markdown",
   "metadata": {},
   "source": [
    "# Q2. \n",
    "\n",
    "Conduct a chi-square goodness of fit test to determine if the distribution of colors of M&Ms in a bag\n",
    "matches the expected distribution of 20% blue, 20% orange, 20% green, 10% yellow, 10% red, and 20%\n",
    "brown. Use Python to perform the test with a significance level of 0.05.\n"
   ]
  },
  {
   "cell_type": "markdown",
   "metadata": {},
   "source": [
    "## Answer"
   ]
  },
  {
   "cell_type": "markdown",
   "metadata": {},
   "source": [
    "To perform a chi-square goodness of fit test in Python, we can use the chisquare function from the `scipy.stats` module.\n",
    "\n",
    "First, we need to create an array of observed frequencies for each color in the sample of M&Ms. Let's say we have a sample of 200 M&Ms and the observed frequencies are:\n",
    "\n",
    "Blue: 35\n",
    "\n",
    "Orange: 45\n",
    "\n",
    "Green: 30\n",
    "\n",
    "Yellow: 20\n",
    "\n",
    "Red: 20\n",
    "\n",
    "Brown: 50\n",
    "\n",
    "Next, we need to calculate the expected frequencies for each color based on the given distribution. For example, the expected frequency for blue M&Ms is 0.2*200 = 40. Similarly, we can calculate the expected frequencies for all colors:\n",
    "\n",
    "Blue: 40\n",
    "\n",
    "Orange: 40\n",
    "\n",
    "Green: 40\n",
    "\n",
    "Yellow: 20\n",
    "\n",
    "Red: 20\n",
    "\n",
    "Brown: 40\n",
    "\n",
    "Now we can use the chisquare function to perform the test:\n",
    "\n"
   ]
  },
  {
   "cell_type": "code",
   "execution_count": 9,
   "metadata": {},
   "outputs": [
    {
     "name": "stdout",
     "output_type": "stream",
     "text": [
      "Chi-square test statistic: 6.250\n",
      "P-value: 0.283\n"
     ]
    }
   ],
   "source": [
    "observed = [35, 45, 30, 20, 20, 50]\n",
    "expected = [40, 40, 40, 20, 20, 40]\n",
    "\n",
    "stat, p_value = chisquare(observed, expected)\n",
    "\n",
    "print(f\"Chi-square test statistic: {stat:.3f}\")\n",
    "print(f\"P-value: {p_value:.3f}\")\n"
   ]
  },
  {
   "cell_type": "markdown",
   "metadata": {},
   "source": [
    "The test statistic is 6.250 and the p-value is 0.283. Since the p-value is greater than the significance level of 0.05, we fail to reject the null hypothesis.\n",
    "\n",
    "Interpretation: At a 5% level of significance,  we fail to reject the null hypothesis i.e. the observed distribution of colors of M&Ms in the bag does not significantly differ from the expected distribution"
   ]
  },
  {
   "cell_type": "markdown",
   "metadata": {},
   "source": [
    "# Q3. \n",
    "\n",
    "Use Python to calculate the chi-square statistic and p-value for a contingency table with the following data:\n",
    "\n",
    "|           | Group A | Group B |\n",
    "| -         | -       | -       |\n",
    "| Outcome 1 | 20      | 15      |\n",
    "| Outcome 2 | 10      | 25      |\n",
    "| Outcome 3 | 15      | 20      |\n",
    "\n",
    "Interpret the results of the test."
   ]
  },
  {
   "cell_type": "markdown",
   "metadata": {},
   "source": [
    "## Answer"
   ]
  },
  {
   "cell_type": "markdown",
   "metadata": {},
   "source": [
    "We can use Python's `scipy.stats` module to perform a `chi-square` test on this contingency table. Here's the code:"
   ]
  },
  {
   "cell_type": "code",
   "execution_count": 11,
   "metadata": {},
   "outputs": [
    {
     "name": "stdout",
     "output_type": "stream",
     "text": [
      "Chi-square statistic: 5.833333333333334\n",
      "p-value: 0.05411376622282158\n"
     ]
    }
   ],
   "source": [
    "observed = [[20, 15], [10, 25], [15, 20]]\n",
    "\n",
    "chi2_statistic, p, dof, expected = chi2_contingency(observed)\n",
    "\n",
    "print(\"Chi-square statistic:\", chi2_statistic)\n",
    "print(\"p-value:\", p)"
   ]
  },
  {
   "cell_type": "markdown",
   "metadata": {},
   "source": [
    "The chi-square statistic is 5.83 and the p-value is 0.054. Since the p-value is greater than the significance level of 0.05, we fail to reject the null hypothesis that there is no association between the outcomes and the groups. Therefore, we conclude that there is not enough evidence to suggest that the outcomes are dependent on the groups."
   ]
  },
  {
   "cell_type": "markdown",
   "metadata": {},
   "source": [
    "# Q4. \n",
    "\n",
    "A study of the prevalence of smoking in a population of 500 individuals found that 60 individuals smoked. Use Python to calculate the 95% confidence interval for the true proportion of individuals in the population who smoke.\n"
   ]
  },
  {
   "cell_type": "markdown",
   "metadata": {},
   "source": [
    "## Answer"
   ]
  },
  {
   "cell_type": "markdown",
   "metadata": {},
   "source": [
    "To calculate the 95% confidence interval for the true proportion of individuals in the population who smoke, we can use the `proportion_confint` function from the `statsmodels.stats.proportion` module in Python.\n",
    "\n",
    "Using statsmodel:"
   ]
  },
  {
   "cell_type": "code",
   "execution_count": 2,
   "metadata": {},
   "outputs": [
    {
     "name": "stdout",
     "output_type": "stream",
     "text": [
      "95% Confidence Interval: (0.0944, 0.1514)\n"
     ]
    }
   ],
   "source": [
    "n = 500\n",
    "p = 60/500\n",
    "alpha = 0.05\n",
    "\n",
    "ci = proportion_confint(count=p*n, nobs=n, alpha=alpha, method='wilson')\n",
    "\n",
    "print(\"95% Confidence Interval: ({:.4f}, {:.4f})\".format(ci[0], ci[1]))\n"
   ]
  },
  {
   "cell_type": "markdown",
   "metadata": {},
   "source": [
    "Interpretation: We can be 95% confident that the true proportion of individuals in the population who smoke is between 0.0944 and 0.1514.\n",
    "\n",
    "Using scipy:"
   ]
  },
  {
   "cell_type": "code",
   "execution_count": 54,
   "metadata": {},
   "outputs": [
    {
     "name": "stdout",
     "output_type": "stream",
     "text": [
      "The 95% confidence interval is: (0.09151638887130707, 0.1484836111286929)\n"
     ]
    }
   ],
   "source": [
    "n = 500\n",
    "x = 60\n",
    "alpha = 0.05\n",
    "\n",
    "p_hat = x / n\n",
    "se = np.sqrt((p_hat * (1 - p_hat)) / n)\n",
    "z_critical = norm.ppf(1 - alpha / 2)\n",
    "margin_of_error = z_critical * se\n",
    "\n",
    "confidence_interval = (p_hat - margin_of_error, p_hat + margin_of_error)\n",
    "print(\"The 95% confidence interval is:\", confidence_interval)\n"
   ]
  },
  {
   "cell_type": "markdown",
   "metadata": {},
   "source": [
    "So we can conclude that with 95% confidence, the true proportion of individuals in the population who smoke is between 9.15% and 14.85%."
   ]
  },
  {
   "cell_type": "markdown",
   "metadata": {},
   "source": [
    "# Q5. \n",
    "\n",
    "Calculate the 90% confidence interval for a sample of data with a mean of 75 and a standard deviation of 12 using Python. Interpret the results.\n"
   ]
  },
  {
   "cell_type": "markdown",
   "metadata": {},
   "source": [
    "## Answer"
   ]
  },
  {
   "cell_type": "code",
   "execution_count": 55,
   "metadata": {},
   "outputs": [
    {
     "name": "stdout",
     "output_type": "stream",
     "text": [
      "The 90% confidence interval is: (72.20859083117598, 77.79140916882402)\n"
     ]
    }
   ],
   "source": [
    "sample_mean = 75\n",
    "sample_std = 12\n",
    "n = 50 # assumed\n",
    "confidence_level = 0.9\n",
    "\n",
    "stderr = sample_std / (n**0.5)\n",
    "margin_of_error = norm.ppf((1 + confidence_level) / 2) * stderr\n",
    "confidence_interval = (sample_mean - margin_of_error, sample_mean + margin_of_error)\n",
    "\n",
    "print(\"The 90% confidence interval is:\", confidence_interval)\n"
   ]
  },
  {
   "cell_type": "markdown",
   "metadata": {},
   "source": [
    "Interpretation: We are 90% confident that the true population mean lies between 72.21 and 77.80 based on the given sample data."
   ]
  },
  {
   "cell_type": "markdown",
   "metadata": {},
   "source": [
    "# Q6. \n",
    "\n",
    "Use Python to plot the chi-square distribution with 10 degrees of freedom. Label the axes and shade the area corresponding to a chi-square statistic of 15.\n"
   ]
  },
  {
   "cell_type": "markdown",
   "metadata": {},
   "source": [
    "## Answer"
   ]
  },
  {
   "cell_type": "markdown",
   "metadata": {},
   "source": [
    "the Python code to plot the chi-square distribution with 10 degrees of freedom and shade the area corresponding to a chi-square statistic of 15:"
   ]
  },
  {
   "cell_type": "code",
   "execution_count": 56,
   "metadata": {},
   "outputs": [
    {
     "name": "stdout",
     "output_type": "stream",
     "text": [
      "[0.00000000e+00 6.23699977e-07 9.25464887e-06 4.34499436e-05\n",
      " 1.27352771e-04 2.88345173e-04 5.54500453e-04 9.52693711e-04\n",
      " 1.50725010e-03 2.23902863e-03 3.16485519e-03 4.29723218e-03\n",
      " 5.64426373e-03 7.20974589e-03 8.99337963e-03 1.09910721e-02\n",
      " 1.31952974e-02 1.55954954e-02 1.81784874e-02 2.09288981e-02\n",
      " 2.38295684e-02 2.68619544e-02 3.00065031e-02 3.32430026e-02\n",
      " 3.65509022e-02 3.99096026e-02 4.32987138e-02 4.66982812e-02\n",
      " 5.00889813e-02 5.34522881e-02 5.67706103e-02 6.00274030e-02\n",
      " 6.32072546e-02 6.62959516e-02 6.92805222e-02 7.21492626e-02\n",
      " 7.48917463e-02 7.74988192e-02 7.99625823e-02 8.22763634e-02\n",
      " 8.44346796e-02 8.64331929e-02 8.82686585e-02 8.99388690e-02\n",
      " 9.14425947e-02 9.27795207e-02 9.39501832e-02 9.49559037e-02\n",
      " 9.57987240e-02 9.64813407e-02 9.70070420e-02 9.73796444e-02\n",
      " 9.76034321e-02 9.76830988e-02 9.76236911e-02 9.74305553e-02\n",
      " 9.71092865e-02 9.66656805e-02 9.61056896e-02 9.54353799e-02\n",
      " 9.46608929e-02 9.37884093e-02 9.28241163e-02 9.17741769e-02\n",
      " 9.06447032e-02 8.94417312e-02 8.81711992e-02 8.68389275e-02\n",
      " 8.54506019e-02 8.40117581e-02 8.25277691e-02 8.10038341e-02\n",
      " 7.94449692e-02 7.78560007e-02 7.62415583e-02 7.46060719e-02\n",
      " 7.29537675e-02 7.12886666e-02 6.96145847e-02 6.79351324e-02\n",
      " 6.62537163e-02 6.45735416e-02 6.28976146e-02 6.12287468e-02\n",
      " 5.95695583e-02 5.79224834e-02 5.62897748e-02 5.46735094e-02\n",
      " 5.30755942e-02 5.14977717e-02 4.99416267e-02 4.84085919e-02\n",
      " 4.68999550e-02 4.54168642e-02 4.39603357e-02 4.25312594e-02\n",
      " 4.11304052e-02 3.97584302e-02 3.84158838e-02 3.71032147e-02\n",
      " 3.58207765e-02 3.45688336e-02 3.33475670e-02 3.21570796e-02\n",
      " 3.09974019e-02 2.98684969e-02 2.87702654e-02 2.77025503e-02\n",
      " 2.66651419e-02 2.56577816e-02 2.46801666e-02 2.37319540e-02\n",
      " 2.28127640e-02 2.19221844e-02 2.10597733e-02 2.02250630e-02\n",
      " 1.94175626e-02 1.86367611e-02 1.78821303e-02 1.71531272e-02\n",
      " 1.64491962e-02 1.57697720e-02 1.51142809e-02 1.44821435e-02\n",
      " 1.38727761e-02 1.32855924e-02 1.27200052e-02 1.21754277e-02\n",
      " 1.16512751e-02 1.11469654e-02 1.06619209e-02 1.01955689e-02\n",
      " 9.74734286e-03 9.31668295e-03 8.90303706e-03 8.50586130e-03\n",
      " 8.12462063e-03 7.75878935e-03 7.40785159e-03 7.07130165e-03\n",
      " 6.74864433e-03 6.43939526e-03 6.14308105e-03 5.85923953e-03\n",
      " 5.58741985e-03 5.32718258e-03 5.07809979e-03 4.83975505e-03\n",
      " 4.61174345e-03 4.39367154e-03 4.18515729e-03 3.98583001e-03\n",
      " 3.79533023e-03 3.61330961e-03 3.43943076e-03 3.27336712e-03\n",
      " 3.11480277e-03 2.96343225e-03 2.81896041e-03 2.68110215e-03\n",
      " 2.54958226e-03 2.42413520e-03 2.30450485e-03 2.19044434e-03\n",
      " 2.08171576e-03 1.97809001e-03 1.87934651e-03 1.78527296e-03\n",
      " 1.69566519e-03 1.61032684e-03 1.52906918e-03 1.45171086e-03\n",
      " 1.37807770e-03 1.30800248e-03 1.24132466e-03 1.17789023e-03\n",
      " 1.11755146e-03 1.06016670e-03 1.00560017e-03 9.53721752e-04\n",
      " 9.04406801e-04 8.57535946e-04 8.12994900e-04 7.70674276e-04\n",
      " 7.30469406e-04 6.92280164e-04 6.56010795e-04 6.21569750e-04\n",
      " 5.88869521e-04 5.57826486e-04 5.28360756e-04 5.00396028e-04\n",
      " 4.73859437e-04 4.48681425e-04 4.24795600e-04 4.02138608e-04\n",
      " 3.80650010e-04 3.60272157e-04 3.40950075e-04 3.22631354e-04]\n"
     ]
    }
   ],
   "source": [
    "dof = 10  # degrees of freedom\n",
    "x = np.linspace(0, 30, 200)  # x-axis values\n",
    "y = chi2.pdf(x, dof)\n",
    "print(y)"
   ]
  },
  {
   "cell_type": "code",
   "execution_count": 57,
   "metadata": {},
   "outputs": [
    {
     "data": {
      "image/png": "[encoded data removed]",
      "text/plain": [
       "<Figure size 640x480 with 1 Axes>"
      ]
     },
     "metadata": {},
     "output_type": "display_data"
    }
   ],
   "source": [
    "plt.plot(x, y, 'b-', label='dof=10')  # plot chi-square pdf\n",
    "plt.fill_between(x[x>=15], chi2.pdf(x[x>=15], dof), color='grey', alpha=0.5)  # shade area for chi-square of 15\n",
    "\n",
    "plt.xlabel('Chi-square statistic')\n",
    "plt.ylabel('Probability density')\n",
    "plt.title('Chi-square distribution with 10 degrees of freedom')\n",
    "plt.legend()\n",
    "plt.grid()\n",
    "plt.show()\n"
   ]
  },
  {
   "cell_type": "markdown",
   "metadata": {},
   "source": [
    "The resulting plot will show the chi-square distribution with 10 degrees of freedom, with the area corresponding to a chi-square statistic of 15 shaded in grey. The x-axis represents the chi-square statistic and the y-axis represents the probability density."
   ]
  },
  {
   "cell_type": "markdown",
   "metadata": {},
   "source": [
    "# Q7. \n",
    "\n",
    "A random sample of 1000 people was asked if they preferred Coke or Pepsi. Of the sample, 520 preferred Coke. Calculate a 99% confidence interval for the true proportion of people in the population who prefer Coke.\n"
   ]
  },
  {
   "cell_type": "markdown",
   "metadata": {},
   "source": [
    "## Answer"
   ]
  },
  {
   "cell_type": "markdown",
   "metadata": {},
   "source": [
    "To calculate the confidence interval, we can use the formula:\n",
    "\n",
    "CI = (p̂ - zsqrt(p̂(1-p̂)/n), p̂ + zsqrt(p̂(1-p̂)/n))\n",
    "\n",
    "where:\n",
    "p̂ = sample proportion\n",
    "z = z-score for the confidence level\n",
    "n = sample size\n",
    "\n",
    "First, we calculate the sample proportion:\n",
    "\n",
    "p̂ = 520/1000 = 0.52\n",
    "\n",
    "Next, we find the z-score for a 99% confidence level:\n",
    "\n",
    "z = 2.576\n",
    "\n",
    "Finally, we plug in the values and calculate the confidence interval:\n",
    "\n",
    "CI = (0.52 - 2.576sqrt(0.52*0.48/1000), 0.52 + 2.576sqrt(0.52*0.48/1000))\n",
    "\n",
    "CI ≈ (0.487, 0.553)\n",
    "\n",
    "Interpretation: We can be 99% confident that the true proportion of people in the population who prefer Coke is between 0.487 and 0.553.\n",
    "\n",
    "\n"
   ]
  },
  {
   "cell_type": "markdown",
   "metadata": {},
   "source": [
    "# Q8. \n",
    "\n",
    "A researcher hypothesizes that a coin is biased towards tails. They flip the coin 100 times and observe 45 tails. Conduct a chi-square goodness of fit test to determine if the observed frequencies match the expected frequencies of a fair coin. Use a significance level of 0.05.\n"
   ]
  },
  {
   "cell_type": "markdown",
   "metadata": {},
   "source": [
    "## Answer"
   ]
  },
  {
   "cell_type": "markdown",
   "metadata": {},
   "source": [
    "To conduct a chi-square goodness of fit test to determine if the observed frequencies match the expected frequencies, we can follow these steps:\n",
    "\n",
    "1. State the null and alternative hypotheses:\n",
    "\n",
    "    * Null hypothesis: The coin is fair, and the observed frequencies match the expected frequencies.\n",
    "    * Alternative hypothesis: The coin is biased towards tails, and the observed frequencies do not match the expected frequencies.\n",
    "\n",
    "2. Determine the expected frequencies under the null hypothesis. For a fair coin, the expected frequency of tails is 0.5, and the expected frequency of heads is also 0.5. Therefore, for 100 flips, we expect 50 tails and 50 heads.\n",
    "\n",
    "3. Calculate the chi-square test statistic:\n",
    "\n",
    "χ² = Σ((Oᵢ - Eᵢ)² / Eᵢ)\n",
    "\n",
    "Where:\n",
    "\n",
    "χ²: the chi-square test statistic\n",
    "\n",
    "Oᵢ: the observed frequency for outcome i\n",
    "\n",
    "Eᵢ: the expected frequency for outcome i\n",
    "\n",
    "Σ: the sum of the calculations for all outcomes\n",
    "\n",
    "In this case, we have two outcomes (heads and tails). Therefore, the formula simplifies to:\n",
    "\n",
    "χ² = ((45 - 50)² / 50) + ((55 - 50)² / 50) = 1\n",
    "\n",
    "4. Determine the degrees of freedom. The degrees of freedom for a goodness of fit test with two outcomes is df = number of outcomes - 1 = 2 - 1 = 1.\n",
    "\n",
    "5. Calculate the p-value using the chi-square distribution table or a calculator. At a significance level of 0.05 and 1 degree of freedom, the p-value is approximately 0.3173.\n",
    "\n",
    "6. Compare the p-value to the significance level. The p-value is greater than the significance level, so we fail to reject the null hypothesis.\n",
    "\n",
    "Therefore, we can conclude that the observed frequencies match the expected frequencies for a fair coin, and there is not enough evidence to support the claim that the coin is biased towards tails.\n",
    "\n",
    "Note: The chi-square goodness of fit test assumes that the expected frequency for each outcome is at least 5. In this case, the expected frequency for each outcome is 50, which satisfies this assumption.\n",
    "\n",
    "\n",
    "\n"
   ]
  },
  {
   "cell_type": "code",
   "execution_count": 8,
   "metadata": {},
   "outputs": [
    {
     "name": "stdout",
     "output_type": "stream",
     "text": [
      "Chi-square test statistic: 1.00000\n",
      "P-value: 0.31731\n"
     ]
    }
   ],
   "source": [
    "observed = [45, 55]\n",
    "expected = [50, 50]\n",
    "\n",
    "stat, p_value = chisquare(observed, expected)\n",
    "\n",
    "print(f\"Chi-square test statistic: {stat:.5f}\")\n",
    "print(f\"P-value: {p_value:.5f}\")\n"
   ]
  },
  {
   "cell_type": "markdown",
   "metadata": {},
   "source": [
    "# Q9. \n",
    "\n",
    "A study was conducted to determine if there is an association between smoking status (smoker or\n",
    "non-smoker) and lung cancer diagnosis (yes or no). The results are shown in the contingency table below.\n",
    "Conduct a chi-square test for independence to determine if there is a significant association between\n",
    "smoking status and lung cancer diagnosis.\n",
    "\n",
    "|            | Lung Cancer: Yes | Lung Cancer: No |\n",
    "| -          | -                | -               |\n",
    "| Smoker     | 60               | 140             |\n",
    "| Non-smoker | 30               | 170             |\n",
    "\n",
    "Use a significance level of 0.05."
   ]
  },
  {
   "cell_type": "markdown",
   "metadata": {},
   "source": [
    "## Answer"
   ]
  },
  {
   "cell_type": "markdown",
   "metadata": {},
   "source": [
    "To conduct a chi-square test for independence, we need to follow these steps:\n",
    "\n",
    "1. State the null and alternative hypotheses\n",
    "2. Set the level of significance\n",
    "3. Calculate the expected frequencies for each cell under the null hypothesis\n",
    "\n",
    "4. Calculate the chi-square statistic\n",
    "\n",
    "5. Find the degrees of freedom\n",
    "\n",
    "6. Calculate the p-value\n",
    "\n",
    "7. Make a decision and interpret the results\n",
    "\n",
    "8. The null hypothesis is that smoking status and lung cancer diagnosis are independent of each other. The alternative hypothesis is that they are not independent.\n",
    "\n",
    "9. The level of significance is given as 0.05.\n",
    "\n",
    "10. To calculate the expected frequencies, we need to first find the row and column totals and the grand total:\n",
    "\n",
    "|              | Lung Cancer: Yes | Lung Cancer: No | Row Total |\n",
    "| -            | -                | -               | -         |\n",
    "| Smoker       | 60               | 140             | 200       |\n",
    "| Non-smoker   | 30               | 170             | 200       |\n",
    "| Column Total | 90               | 310             | 400       |\n",
    "\n",
    "\n",
    "The expected frequency for the cell (smoker, lung cancer: yes) is (200/400)*(90/400)400 = 45, \n",
    "\n",
    "the expected frequency for the cell (smoker, lung cancer: no) is (200/400)(310/400)400 = 155, \n",
    "\n",
    "the expected frequency for the cell (non-smoker, lung cancer: yes) is (200/400)(90/400)400 = 45, \n",
    "\n",
    "and the expected frequency for the cell (non-smoker, lung cancer: no) is (200/400)(310/400)*400 = 155.\n",
    "\n",
    "\n",
    "|                      | Lung Cancer: Yes | Lung Cancer: No | Row Total |\n",
    "| -                    | -                | -               | -         |\n",
    "| Smoker               | 60               | 140             | 200       |\n",
    "| Non-smoker           | 30               | 170             | 200       |\n",
    "| Column Total         | 90               | 310             | 400       |\n",
    "| Expected Frequencies | 45               | 155             | 200        |\n",
    "\n",
    "* To calculate the chi-square statistic, we use the formula:\n",
    "\n",
    "χ² = Σ [(Oᵢ - Eᵢ)² / Eᵢ]\n",
    "\n",
    "where Oᵢ is the observed frequency, Eᵢ is the expected frequency.\n",
    "\n",
    "Using the values from the contingency table and the expected frequencies calculated above, we get:\n",
    "\n",
    "χ² = [(60-45)²/45] + [(140-155)²/155] + [(30-45)²/45] + [(170-155)²/155]\n",
    "\n",
    "χ² = 12.90\n",
    "\n",
    "\n",
    "* The degrees of freedom is (number of rows - 1) * (number of columns - 1) = (2-1)*(2-1) = 1.\n",
    "\n",
    "* Using the chi-square distribution table with 1 degree of freedom and a significance level of 0.05, the critical value is 3.84. The p-value corresponding to the calculated chi-square statistic is less than 0.05.\n",
    "\n",
    "* Since the calculated chi-square statistic is greater than the critical value and the p-value is less than the level of significance, we reject the null hypothesis and conclude that there is a significant association between smoking status and lung cancer diagnosis."
   ]
  },
  {
   "cell_type": "code",
   "execution_count": 6,
   "metadata": {},
   "outputs": [
    {
     "name": "stdout",
     "output_type": "stream",
     "text": [
      "Chi-square statistic: 12.057347670250895\n",
      "p-value: 0.0005158863863703744\n",
      "Degree of freedom: 1\n",
      "Expected frequency table:\n",
      "[[ 45. 155.]\n",
      " [ 45. 155.]]\n"
     ]
    }
   ],
   "source": [
    "obs = np.array([[60, 140], [30, 170]])\n",
    "\n",
    "chi2_statistic, p, dof, expected = chi2_contingency(obs)\n",
    "\n",
    "print(\"Chi-square statistic:\", chi2_statistic)\n",
    "print(\"p-value:\", p)\n",
    "print(\"Degrees of freedom:\", dof)\n",
    "print(\"Expected frequency table:\")\n",
    "print(expected)"
   ]
  },
  {
   "cell_type": "markdown",
   "metadata": {},
   "source": [
    "# Q10. \n",
    "\n",
    "A study was conducted to determine if the proportion of people who prefer milk chocolate, dark chocolate, or white chocolate is different in the U.S. versus the U.K. A random sample of 500 people from the U.S. and a random sample of 500 people from the U.K. were surveyed. The results are shown in the contingency table below. Conduct a chi-square test for independence to determine if there is a significant association between chocolate preference and country of origin.\n",
    "\n",
    "|              | Milk Chocolate | Dark Chocolate | White Chocolate |\n",
    "| -            | -              | -              | -               |\n",
    "| U.S. (n=500) | 200            | 150            | 150             |\n",
    "| U.K. (n=500) | 225            | 175            | 100             |\n",
    "\n",
    "Use a significance level of 0.01.\n"
   ]
  },
  {
   "cell_type": "markdown",
   "metadata": {},
   "source": [
    "## Answer"
   ]
  },
  {
   "cell_type": "markdown",
   "metadata": {},
   "source": [
    "To conduct a chi-square test for independence to determine if there is a significant association between chocolate preference and country of origin, we can follow these steps:\n",
    "\n",
    "Step 1: Define the null and alternative hypotheses:\n",
    "* Null hypothesis: There is no significant association between chocolate preference and country of origin.\n",
    "* Alternative hypothesis: There is a significant association between chocolate preference and country of origin.\n",
    "\n",
    "Step 2: Set the significance level:\n",
    "\n",
    "* Given a significance level of 0.01.\n",
    "\n",
    "Step 3: Calculate the expected frequencies under the assumption of independence between chocolate preference and country of origin:\n",
    "\n",
    "* We can use the formula E = (row total * column total) / sample size to calculate the expected frequency for each cell.\n",
    "\n",
    "|              | Milk Chocolate | Dark Chocolate | White Chocolate | Row Total |\n",
    "| -            | -              | -              | -               | -         | \n",
    "| U.S. (n=500) | 200            | 150            | 150             | 500       |\n",
    "| U.K. (n=500) | 225            | 175            | 100             | 500       |\n",
    "| Column Total | 425            | 325            | 250             | 1000      |\n",
    "\n",
    "* For example, the expected frequency for the cell of U.S. and Milk Chocolate can be calculated as follows: E(U.S., Milk Chocolate) = (500 * 425) / 1000 = 212.5.\n",
    "\n",
    "Step 4: Calculate the chi-square test statistic:\n",
    "\n",
    "* We can use the formula chi-square = Σ [(O - E)^2 / E], where Σ is the sum of all cells, O is the observed frequency, and E is the expected frequency.\n",
    "\n",
    "|              | Milk Chocolate | Dark Chocolate | White Chocolate |\n",
    "| -            | -              | -              | -               |\n",
    "| U.S. (n=500) | 200            | 150            | 150             |\n",
    "| U.K. (n=500) | 225            | 175            | 100             |\n",
    "\n",
    "* Using Python, we can calculate the chi-square test statistic as follows:\n",
    "\n"
   ]
  },
  {
   "cell_type": "code",
   "execution_count": 7,
   "metadata": {},
   "outputs": [
    {
     "name": "stdout",
     "output_type": "stream",
     "text": [
      "Chi-square statistic: 13.393665158371041\n",
      "p-value: 0.0012348168997745918\n",
      "Degree of freedom: 2\n",
      "Expected frequency table:\n",
      "[[212.5 162.5 125. ]\n",
      " [212.5 162.5 125. ]]\n"
     ]
    }
   ],
   "source": [
    "obs = np.array([[200, 150, 150], [225, 175, 100]])\n",
    "\n",
    "chi2_statistic, p, dof, expected = chi2_contingency(obs)\n",
    "\n",
    "print(\"Chi-square statistic:\", chi2_statistic)\n",
    "print(\"p-value:\", p)\n",
    "print(\"Degrees of freedom:\", dof)\n",
    "print(\"Expected frequency table:\")\n",
    "print(expected)"
   ]
  },
  {
   "cell_type": "markdown",
   "metadata": {},
   "source": [
    "* The chi-square test statistic is 13.39.\n",
    "\n",
    "Step 5: Calculate the degrees of freedom:\n",
    "\n",
    "* We can use the formula df = (number of rows - 1) * (number of columns - 1).\n",
    "\n",
    "* In this case, df = (2 - 1) * (3 - 1) = 2.\n"
   ]
  },
  {
   "cell_type": "code",
   "execution_count": 59,
   "metadata": {},
   "outputs": [
    {
     "name": "stdout",
     "output_type": "stream",
     "text": [
      "df = 2\n"
     ]
    }
   ],
   "source": [
    "print(\"df =\",  dof)"
   ]
  },
  {
   "cell_type": "markdown",
   "metadata": {},
   "source": [
    "\n",
    "Step 6: Calculate the p-value:\n",
    "\n",
    "Using Python, we calculated the p-value using `chi2_contigency()` function from scipy:\n",
    "\n"
   ]
  },
  {
   "cell_type": "code",
   "execution_count": 60,
   "metadata": {},
   "outputs": [
    {
     "name": "stdout",
     "output_type": "stream",
     "text": [
      "p-value: 0.0012348168997745918\n"
     ]
    }
   ],
   "source": [
    "print(\"p-value:\", p)"
   ]
  },
  {
   "cell_type": "markdown",
   "metadata": {},
   "source": [
    "* The p-value is less than 0.01, which indicates that there is strong evidence to reject the null hypothesis.\n",
    "\n",
    "Step 7: Interpret the results:\n",
    "\n",
    "* Since the p-value is less than 0.01, we can reject the null hypothesis and conclude that there is a significant association between chocolate preference and country of origin."
   ]
  },
  {
   "cell_type": "markdown",
   "metadata": {},
   "source": [
    "# Q11. \n",
    "\n",
    "A random sample of 30 people was selected from a population with an unknown mean and standard deviation. The sample mean was found to be 72 and the sample standard deviation was found to be 10. Conduct a hypothesis test to determine if the population mean is significantly different from 70. Use a significance level of 0.05. \n",
    "\n"
   ]
  },
  {
   "cell_type": "markdown",
   "metadata": {},
   "source": [
    "## Answer"
   ]
  },
  {
   "cell_type": "markdown",
   "metadata": {},
   "source": [
    "We can conduct a t-test for this hypothesis test since the population standard deviation is unknown and we have a sample size smaller than 30. The null hypothesis and alternative hypothesis can be stated as:\n",
    "\n",
    "* H0: μ = 70 (The population mean is equal to 70)\n",
    "* Ha: μ ≠ 70 (The population mean is not equal to 70)\n",
    "\n",
    "We can calculate the t-statistic as:\n",
    "\n",
    "t = (sample_mean - population_mean) / (sample_std / sqrt(sample_size))\n",
    "\n",
    "t = (72 - 70) / (10 / sqrt(30))\n",
    "\n",
    "t = 1.5491933384829662\n",
    "\n",
    "Using a t-distribution table with 29 degrees of freedom and a significance level of 0.05, we can find the critical values to be -2.045 and 2.045.\n",
    "\n",
    "The calculated t-statistic of 1.549 is not greater than the critical value of 2.045 (in absolute value). Therefore, we fail to reject the null hypothesis.\n",
    "\n",
    "In other words, there is not enough evidence to conclude that the population mean is significantly different from 70 at a significance level of 0.05.\n",
    "\n",
    "We can also perform this test in Python as follows:"
   ]
  },
  {
   "cell_type": "code",
   "execution_count": 8,
   "metadata": {},
   "outputs": [
    {
     "name": "stdout",
     "output_type": "stream",
     "text": [
      "t-statistic:  1.0954451150103321\n",
      "p-value:  0.28233623728606977\n",
      "t-critical value:  2.045229642132703\n",
      "Confidence interval:  (68.265938632419, 75.734061367581)\n"
     ]
    }
   ],
   "source": [
    "# Sample statistics\n",
    "n = 30\n",
    "x_bar = 72\n",
    "s = 10\n",
    "\n",
    "# Null hypothesis\n",
    "mu0 = 70\n",
    "\n",
    "# Degrees of freedom\n",
    "df = n - 1\n",
    "\n",
    "\n",
    "# Calculate t-statistic\n",
    "se = s / np.sqrt(n)\n",
    "t_stat = (x_bar - mu0) / se\n",
    "\n",
    "# Calculate p-value\n",
    "p_value = 2 * t.sf(np.abs(t_stat), df)\n",
    "\n",
    "# Calculate the critical value for two-tailed test\n",
    "alpha = 0.05\n",
    "t_crit = t.ppf(1 - alpha/2, df)\n",
    "\n",
    "# Calculate the confidence interval\n",
    "margin_error = t_crit * se\n",
    "conf_int = (x_bar - margin_error, x_bar + margin_error)\n",
    "\n",
    "# Print the results\n",
    "print(\"t-statistic: \", t_stat)\n",
    "print(\"p-value: \", p_value)\n",
    "print(\"t-critical value: \", t_crit)\n",
    "print(\"Confidence interval: \", conf_int)\n"
   ]
  },
  {
   "cell_type": "markdown",
   "metadata": {},
   "source": [
    "*************************************************************************************************************************"
   ]
  }
 ],
 "metadata": {
  "kernelspec": {
   "display_name": "Python 3.8.10 64-bit",
   "language": "python",
   "name": "python3"
  },
  "language_info": {
   "codemirror_mode": {
    "name": "ipython",
    "version": 3
   },
   "file_extension": ".py",
   "mimetype": "text/x-python",
   "name": "python",
   "nbconvert_exporter": "python",
   "pygments_lexer": "ipython3",
   "version": "3.8.10"
  },
  "orig_nbformat": 4,
  "vscode": {
   "interpreter": {
    "hash": "e7370f93d1d0cde622a1f8e1c04877d8463912d04d973331ad4851f04de6915a"
   }
  }
 },
 "nbformat": 4,
 "nbformat_minor": 2
}
