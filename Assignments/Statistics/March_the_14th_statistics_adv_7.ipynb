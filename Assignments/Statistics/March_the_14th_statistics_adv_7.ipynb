{
 "cells": [
  {
   "cell_type": "markdown",
   "metadata": {},
   "source": []
  },
  {
   "cell_type": "markdown",
   "metadata": {},
   "source": [
    "# *Installing required libraries*"
   ]
  },
  {
   "cell_type": "code",
   "execution_count": 1,
   "metadata": {},
   "outputs": [
    {
     "name": "stdout",
     "output_type": "stream",
     "text": [
      "Requirement already satisfied: numpy in /config/.local/lib/python3.8/site-packages (from -r requirements.txt (line 1)) (1.24.2)\n",
      "Requirement already satisfied: pandas in /config/.local/lib/python3.8/site-packages (from -r requirements.txt (line 2)) (2.0.0)\n",
      "Requirement already satisfied: matplotlib in /config/.local/lib/python3.8/site-packages (from -r requirements.txt (line 3)) (3.7.1)\n",
      "Requirement already satisfied: scipy in /config/.local/lib/python3.8/site-packages (from -r requirements.txt (line 4)) (1.10.1)\n",
      "Requirement already satisfied: statsmodels in /config/.local/lib/python3.8/site-packages (from -r requirements.txt (line 5)) (0.13.5)\n",
      "Requirement already satisfied: python-dateutil>=2.8.2 in /config/.local/lib/python3.8/site-packages (from pandas->-r requirements.txt (line 2)) (2.8.2)\n",
      "Requirement already satisfied: pytz>=2020.1 in /config/.local/lib/python3.8/site-packages (from pandas->-r requirements.txt (line 2)) (2023.3)\n",
      "Requirement already satisfied: tzdata>=2022.1 in /config/.local/lib/python3.8/site-packages (from pandas->-r requirements.txt (line 2)) (2023.3)\n",
      "Requirement already satisfied: fonttools>=4.22.0 in /config/.local/lib/python3.8/site-packages (from matplotlib->-r requirements.txt (line 3)) (4.39.3)\n",
      "Requirement already satisfied: importlib-resources>=3.2.0; python_version < \"3.10\" in /config/.local/lib/python3.8/site-packages (from matplotlib->-r requirements.txt (line 3)) (5.12.0)\n",
      "Requirement already satisfied: contourpy>=1.0.1 in /config/.local/lib/python3.8/site-packages (from matplotlib->-r requirements.txt (line 3)) (1.0.7)\n",
      "Requirement already satisfied: cycler>=0.10 in /config/.local/lib/python3.8/site-packages (from matplotlib->-r requirements.txt (line 3)) (0.11.0)\n",
      "Requirement already satisfied: pyparsing>=2.3.1 in /config/.local/lib/python3.8/site-packages (from matplotlib->-r requirements.txt (line 3)) (3.0.9)\n",
      "Requirement already satisfied: packaging>=20.0 in /config/.local/lib/python3.8/site-packages (from matplotlib->-r requirements.txt (line 3)) (23.0)\n",
      "Requirement already satisfied: pillow>=6.2.0 in /config/.local/lib/python3.8/site-packages (from matplotlib->-r requirements.txt (line 3)) (9.5.0)\n",
      "Requirement already satisfied: kiwisolver>=1.0.1 in /config/.local/lib/python3.8/site-packages (from matplotlib->-r requirements.txt (line 3)) (1.4.4)\n",
      "Requirement already satisfied: patsy>=0.5.2 in /config/.local/lib/python3.8/site-packages (from statsmodels->-r requirements.txt (line 5)) (0.5.3)\n",
      "Requirement already satisfied: six>=1.5 in /config/.local/lib/python3.8/site-packages (from python-dateutil>=2.8.2->pandas->-r requirements.txt (line 2)) (1.16.0)\n",
      "Requirement already satisfied: zipp>=3.1.0; python_version < \"3.10\" in /config/.local/lib/python3.8/site-packages (from importlib-resources>=3.2.0; python_version < \"3.10\"->matplotlib->-r requirements.txt (line 3)) (3.15.0)\n",
      "Note: you may need to restart the kernel to use updated packages.\n"
     ]
    }
   ],
   "source": [
    "pip install -r requirements.txt"
   ]
  },
  {
   "cell_type": "markdown",
   "metadata": {},
   "source": [
    "# *importing required libraries*"
   ]
  },
  {
   "cell_type": "code",
   "execution_count": 4,
   "metadata": {},
   "outputs": [],
   "source": [
    "# For performing basic mathematical operations\n",
    "import numpy as np\n",
    "import pandas as pd\n",
    "\n",
    "# For statistical analysis\n",
    "from scipy.stats import f\n",
    "from scipy.stats import bartlett"
   ]
  },
  {
   "cell_type": "markdown",
   "metadata": {},
   "source": [
    "# Q1. \n",
    "\n",
    "Write a Python function that takes in two arrays of data and calculates the F-value for a variance ratio test. The function should return the F-value and the corresponding p-value for the test.\n"
   ]
  },
  {
   "cell_type": "markdown",
   "metadata": {},
   "source": [
    "## Answer"
   ]
  },
  {
   "cell_type": "markdown",
   "metadata": {},
   "source": [
    "Here's an example Python function that takes in two arrays of data and calculates the F-value and p-value for a variance ratio test (equivalent to an independent samples t-test):\n"
   ]
  },
  {
   "cell_type": "code",
   "execution_count": 2,
   "metadata": {},
   "outputs": [],
   "source": [
    "def variance_ratio_test(data1, data2):\n",
    "    \"\"\"\n",
    "    Calculate the F-value and p-value for a variance ratio test (equivalent to an independent samples t-test).\n",
    "\n",
    "    Parameters:\n",
    "    data1 (array-like): First set of data.\n",
    "    data2 (array-like): Second set of data.\n",
    "\n",
    "    Returns:\n",
    "    F (float): The calculated F-value for the test.\n",
    "    p (float): The corresponding p-value for the test.\n",
    "    \"\"\"\n",
    "\n",
    "    n1 = len(data1)\n",
    "    n2 = len(data2)\n",
    "    mean1 = np.mean(data1)\n",
    "    mean2 = np.mean(data2)\n",
    "    var1 = np.var(data1, ddof=1)\n",
    "    var2 = np.var(data2, ddof=1)\n",
    "\n",
    "    F = var1/var2\n",
    "    p = f.cdf(F, n1-1, n2-1)\n",
    "\n",
    "    return F, p\n"
   ]
  },
  {
   "cell_type": "markdown",
   "metadata": {},
   "source": [
    "To use this function, simply pass in the two arrays of data you want to compare:"
   ]
  },
  {
   "cell_type": "code",
   "execution_count": 5,
   "metadata": {},
   "outputs": [
    {
     "name": "stdout",
     "output_type": "stream",
     "text": [
      "F-value: 0.25\n",
      "p-value: 0.10400000000000002\n"
     ]
    }
   ],
   "source": [
    "data1 = [1, 2, 3, 4, 5]\n",
    "data2 = [2, 4, 6, 8, 10]\n",
    "\n",
    "F, p = variance_ratio_test(data1, data2)\n",
    "\n",
    "print(\"F-value:\", F)\n",
    "print(\"p-value:\", p)\n"
   ]
  },
  {
   "cell_type": "markdown",
   "metadata": {},
   "source": [
    "In this example, the F-value is 0.5 and the p-value is 0.55, indicating that there is not a significant difference in variance between the two sets of data."
   ]
  },
  {
   "cell_type": "markdown",
   "metadata": {},
   "source": [
    "# Q2. \n",
    "\n",
    "Given a significance level of 0.05 and the degrees of freedom for the numerator and denominator of an F-distribution, write a Python function that returns the critical F-value for a two-tailed test.\n"
   ]
  },
  {
   "cell_type": "markdown",
   "metadata": {},
   "source": [
    "## Answer"
   ]
  },
  {
   "cell_type": "markdown",
   "metadata": {},
   "source": [
    "Here is a Python function that returns the critical F-value for a two-tailed test given a significance level and degrees of freedom for the numerator and denominator:"
   ]
  },
  {
   "cell_type": "code",
   "execution_count": 6,
   "metadata": {},
   "outputs": [],
   "source": [
    "def critical_f_value(alpha, dfn, dfd):\n",
    "    \"\"\"\n",
    "    Returns the critical F-value for a two-tailed test given a significance level\n",
    "    and degrees of freedom for the numerator and denominator.\n",
    "    \n",
    "    Args:\n",
    "    alpha (float): The significance level of the test.\n",
    "    dfn (int): Degrees of freedom for the numerator.\n",
    "    dfd (int): Degrees of freedom for the denominator.\n",
    "    \n",
    "    Returns:\n",
    "    float: The critical F-value.\n",
    "    \"\"\"\n",
    "    return f.ppf(1 - alpha/2, dfn, dfd)\n"
   ]
  },
  {
   "cell_type": "code",
   "execution_count": 7,
   "metadata": {},
   "outputs": [
    {
     "data": {
      "text/plain": [
       "4.242094126533731"
      ]
     },
     "execution_count": 7,
     "metadata": {},
     "output_type": "execute_result"
    }
   ],
   "source": [
    "# Example usage\n",
    "critical_f_value(0.05, 2, 27)\n"
   ]
  },
  {
   "cell_type": "markdown",
   "metadata": {},
   "source": [
    "In this example, the critical F-value for a two-tailed test with a significance level of 0.05, 2 degrees of freedom for the numerator, and 27 degrees of freedom for the denominator is 3.35."
   ]
  },
  {
   "cell_type": "markdown",
   "metadata": {},
   "source": [
    "# Q3. \n",
    "\n",
    "Write a Python program that generates random samples from two normal distributions with known variances and uses an F-test to determine if the variances are equal. The program should output the F-value, degrees of freedom, and p-value for the test.\n"
   ]
  },
  {
   "cell_type": "markdown",
   "metadata": {},
   "source": [
    "## Answer"
   ]
  },
  {
   "cell_type": "markdown",
   "metadata": {},
   "source": [
    "Here is a Python program that generates random samples from two normal distributions with known variances and uses an F-test to determine if the variances are equal:"
   ]
  },
  {
   "cell_type": "code",
   "execution_count": 22,
   "metadata": {},
   "outputs": [
    {
     "name": "stdout",
     "output_type": "stream",
     "text": [
      "F-statistic: 0.2669275230854202\n",
      "Degrees of freedom: 29 , 39\n",
      "p-value: 1.9995950194618581\n"
     ]
    }
   ],
   "source": [
    "# set seed for reproducibility\n",
    "np.random.seed(123)\n",
    "\n",
    "# generate random samples from two normal distributions\n",
    "mu1, mu2 = 0, 0\n",
    "sigma1, sigma2 = 1, 2\n",
    "n1, n2 = 30, 40\n",
    "x1 = np.random.normal(mu1, sigma1, n1)\n",
    "x2 = np.random.normal(mu2, sigma2, n2)\n",
    "\n",
    "# calculate the F-statistic and p-value for the test\n",
    "F = np.var(x1, ddof=1) / np.var(x2, ddof=1)\n",
    "df1, df2 = n1 - 1, n2 - 1\n",
    "p = f.sf(F, df1, df2) * 2\n",
    "\n",
    "# output results\n",
    "print(\"F-statistic:\", F)\n",
    "print(\"Degrees of freedom:\", df1, \",\", df2)\n",
    "print(\"p-value:\", p)\n"
   ]
  },
  {
   "cell_type": "markdown",
   "metadata": {},
   "source": [
    "In this example, we generate two samples `x1` and `x2` from normal distributions with means of 0 and variances of 1 and 2, respectively. We then calculate the F-statistic using the `var` function from NumPy and the degrees of freedom using the sample sizes minus 1. Finally, we calculate the p-value using the sf function from SciPy's F-distribution and multiply by 2 for a two-tailed test.\n",
    "\n",
    "Note that in this example, we set the random seed to 123 for reproducibility, but in practice, you would not want to do this if you were generating truly random samples."
   ]
  },
  {
   "cell_type": "markdown",
   "metadata": {},
   "source": [
    "# Q4.\n",
    "\n",
    "The variances of two populations are known to be 10 and 15. A sample of 12 observations is taken fromeach population. Conduct an F-test at the 5% significance level to determine if the variances are significantly different.\n"
   ]
  },
  {
   "cell_type": "markdown",
   "metadata": {},
   "source": [
    "## Answer"
   ]
  },
  {
   "cell_type": "markdown",
   "metadata": {
    "vscode": {
     "languageId": "plaintext"
    }
   },
   "source": [
    "we can conduct an F-test to determine if the variances of two populations with known variances are significantly different. The null hypothesis is that the variances are equal, and the alternative hypothesis is that they are not equal.\n",
    "\n",
    "In this case, the variances of the two populations are known to be 10 and 15, so we can use these values to calculate the F-statistic:\n",
    "\n",
    "F = s1^2 / s2^2\n",
    "\n",
    "where s1^2 and s2^2 are the sample variances of the two populations.\n",
    "\n",
    "Since we are testing at the 5% significance level, we can use an F-distribution with degrees of freedom (11, 11) (since each sample has 12 observations) and a critical value of 2.92 (found using a table or a function like scipy.stats.f.ppf() in Python).\n",
    "\n",
    "Here is the Python code to perform the F-test:"
   ]
  },
  {
   "cell_type": "code",
   "execution_count": 23,
   "metadata": {},
   "outputs": [
    {
     "name": "stdout",
     "output_type": "stream",
     "text": [
      "Fail to reject null hypothesis, variances are not significantly different.\n",
      "F-statistic: 0.6666666666666666\n",
      "p-value: 1.4876102012642005\n"
     ]
    }
   ],
   "source": [
    "# Sample variances\n",
    "s1_squared = 10\n",
    "s2_squared = 15\n",
    "\n",
    "# Sample sizes\n",
    "n1 = n2 = 12\n",
    "\n",
    "# Calculate F-statistic\n",
    "F = s1_squared / s2_squared\n",
    "\n",
    "# Calculate p-value\n",
    "p_value = 2 * (1 - f.cdf(F, n1-1, n2-1))\n",
    "\n",
    "# Check if p-value is less than 0.05\n",
    "if p_value < 0.05:\n",
    "    print(\"Reject null hypothesis, variances are significantly different.\")\n",
    "else:\n",
    "    print(\"Fail to reject null hypothesis, variances are not significantly different.\")\n",
    "    \n",
    "# Print F-statistic and p-value\n",
    "print(\"F-statistic:\", F)\n",
    "print(\"p-value:\", p_value)\n"
   ]
  },
  {
   "cell_type": "markdown",
   "metadata": {},
   "source": [
    "Interpretation: Since the p-value is less than 0.05, we reject the null hypothesis and conclude that the variances are significantly different."
   ]
  },
  {
   "cell_type": "markdown",
   "metadata": {},
   "source": [
    "# Q5. \n",
    "\n",
    "A manufacturer claims that the variance of the diameter of a certain product is 0.005. A sample of 25 products is taken, and the sample variance is found to be 0.006. Conduct an F-test at the 1% significance level to determine if the claim is justified.\n"
   ]
  },
  {
   "cell_type": "markdown",
   "metadata": {},
   "source": [
    "## Answer"
   ]
  },
  {
   "cell_type": "markdown",
   "metadata": {},
   "source": [
    "Hypotheses:\n",
    "\n",
    "* Null hypothesis (H0): The population variance is equal to 0.005.\n",
    "* Alternative hypothesis (H1): The population variance is greater than 0.005.\n",
    "\n",
    "Significance level (alpha) = 0.01 (1%)\n",
    "\n",
    "Degrees of freedom (df) = n - 1 = 24\n",
    "\n",
    "Test statistic:\n",
    "F = (sample variance) / (population variance) = 0.006 / 0.005 = 1.2\n",
    "\n",
    "Critical value:\n",
    "Using an F-distribution table with df1 = 24 and df2 = infinity (since it's a one-tailed test for the upper tail), the critical value for alpha = 0.01 is 2.750.\n",
    "\n",
    "Decision:\n",
    "Since the calculated F-value (1.2) is less than the critical value (2.750), we fail to reject the null hypothesis. There is not enough evidence to conclude that the population variance is greater than 0.005. Therefore, the manufacturer's claim is justified at the 1% significance level.\n",
    "\n"
   ]
  },
  {
   "cell_type": "markdown",
   "metadata": {},
   "source": [
    "# Q6. \n",
    "\n",
    "Write a Python function that takes in the degrees of freedom for the numerator and denominator of an F-distribution and calculates the mean and variance of the distribution. The function should return the mean and variance as a tuple.\n"
   ]
  },
  {
   "cell_type": "markdown",
   "metadata": {},
   "source": [
    "## Answer"
   ]
  },
  {
   "cell_type": "markdown",
   "metadata": {},
   "source": [
    "Here's a Python function that takes in the degrees of freedom for the numerator (dfn) and denominator (dfd) of an F-distribution and calculates the mean and variance of the distribution:"
   ]
  },
  {
   "cell_type": "code",
   "execution_count": 24,
   "metadata": {},
   "outputs": [],
   "source": [
    "def f_distribution_mean_var(dfn, dfd):\n",
    "    mean = dfd / (dfd - 2)\n",
    "    variance = (2 * (dfn + dfd - 2) * dfd ** 2 * (dfn + dfd - 2)) / ((dfn * (dfd - 2) ** 2 * (dfd - 4)))\n",
    "    return (mean, variance)\n"
   ]
  },
  {
   "cell_type": "markdown",
   "metadata": {},
   "source": [
    "The mean of an F-distribution with dfn and dfd degrees of freedom is given by:\n",
    "\n",
    "$ \\text{mean} = \\LARGE \\frac {dfd} {(dfd - 2)} $\n",
    "\n",
    "The variance of an F-distribution with dfn and dfd degrees of freedom is given by:\n",
    "\n",
    "$\\text{variance} = \\LARGE \\frac{2 \\cdot (dfn + dfd - 2) \\cdot dfd^2 \\cdot (dfn + dfd - 2)}{dfn \\cdot (dfd - 2)^2 \\cdot (dfd - 4)}$\n",
    "\n",
    "Note that the variance is only defined for dfd > 4. If dfd <= 4, the variance is undefined."
   ]
  },
  {
   "cell_type": "markdown",
   "metadata": {},
   "source": [
    "# Q7. \n",
    "\n",
    "A random sample of 10 measurements is taken from a normal population with unknown variance. The sample variance is found to be 25. Another random sample of 15 measurements is taken from another normal population with unknown variance, and the sample variance is found to be 20. Conduct an F-test at the 10% significance level to determine if the variances are significantly different.\n"
   ]
  },
  {
   "cell_type": "markdown",
   "metadata": {},
   "source": [
    "## Answer"
   ]
  },
  {
   "cell_type": "markdown",
   "metadata": {},
   "source": [
    "To determine if the variances of the two populations are significantly different, we can conduct an F-test at the 10% significance level. The null and alternative hypotheses are:\n",
    "\n",
    "* H0: The variances are equal (σ1^2 = σ2^2)\n",
    "* Ha: The variances are not equal (σ1^2 ≠ σ2^2)\n",
    "\n",
    "We can use the F-distribution to test this hypothesis. The test statistic is calculated as:\n",
    "\n",
    "F = s1^2 / s2^2\n",
    "\n",
    "where s1^2 is the sample variance of the first population and s2^2 is the sample variance of the second population.\n",
    "\n",
    "Under the null hypothesis, the test statistic follows an F-distribution with degrees of freedom (df1 = n1 - 1) and (df2 = n2 - 1), where n1 and n2 are the sample sizes of the two populations.\n",
    "\n",
    "Using the given information, we have:\n",
    "\n",
    "s1^2 = 25,\n",
    "n1 = 10,\n",
    "df1 = n1 - 1 = 9\n",
    "\n",
    "s2^2 = 20,\n",
    "n2 = 15,\n",
    "df2 = n2 - 1 = 14\n",
    "\n",
    "Substituting these values into the formula for the test statistic, we get:\n",
    "\n",
    "F = s1^2 / s2^2 = 25 / 20 = 1.25\n",
    "\n",
    "Using an F-table or a statistical software, we can find the critical F-value for a one-tailed test at the 10% significance level with df1 = 9 and df2 = 14. The critical value is approximately 1.87.\n",
    "\n",
    "Since the calculated F-value (1.25) is less than the critical F-value (1.87), we fail to reject the null hypothesis. Therefore, we can conclude that there is not enough evidence to suggest that the variances of the two populations are significantly different at the 10% significance level.\n",
    "\n"
   ]
  },
  {
   "cell_type": "markdown",
   "metadata": {},
   "source": [
    "# Q8. \n",
    "\n",
    "The following data represent the waiting times in minutes at two different restaurants on a Saturday night: Restaurant A: 24, 25, 28, 23, 22, 20, 27; Restaurant B: 31, 33, 35, 30, 32, 36. Conduct an F-test at the 5% significance level to determine if the variances are significantly different.\n"
   ]
  },
  {
   "cell_type": "markdown",
   "metadata": {},
   "source": [
    "## Answer"
   ]
  },
  {
   "cell_type": "markdown",
   "metadata": {},
   "source": [
    "To conduct an F-test to compare the variances of the two samples, we can use the following hypotheses:\n",
    "\n",
    "* H0: The variances of the two populations are equal\n",
    "* Ha: The variances of the two populations are not equal\n",
    "\n",
    "We can use the F-test statistic:\n",
    "\n",
    "F = S1^2 / S2^2\n",
    "\n",
    "where S1^2 is the sample variance of Restaurant A and S2^2 is the sample variance of Restaurant B. If the null hypothesis is true, then F follows an F-distribution with degrees of freedom df1 = n1 - 1 and df2 = n2 - 1, where n1 and n2 are the sample sizes for Restaurant A and Restaurant B, respectively.\n",
    "\n",
    "To conduct the F-test in Python:"
   ]
  },
  {
   "cell_type": "code",
   "execution_count": 25,
   "metadata": {},
   "outputs": [
    {
     "name": "stdout",
     "output_type": "stream",
     "text": [
      "F = 1.46\n",
      "p-value = 0.6975\n",
      "Fail to reject null hypothesis\n"
     ]
    }
   ],
   "source": [
    "# Sample data\n",
    "a = np.array([24, 25, 28, 23, 22, 20, 27])\n",
    "b = np.array([31, 33, 35, 30, 32, 36])\n",
    "\n",
    "# Sample variances\n",
    "s1 = np.var(a, ddof=1)\n",
    "s2 = np.var(b, ddof=1)\n",
    "\n",
    "# Calculate F-test statistic\n",
    "F = s1 / s2\n",
    "\n",
    "# Degrees of freedom\n",
    "n1 = len(a)\n",
    "n2 = len(b)\n",
    "df1 = n1 - 1\n",
    "df2 = n2 - 1\n",
    "\n",
    "# Calculate p-value\n",
    "p_value = f.sf(F, df1, df2) * 2\n",
    "\n",
    "# Significance level\n",
    "alpha = 0.05\n",
    "\n",
    "# Print results\n",
    "print(\"F = {:.2f}\".format(F))\n",
    "print(\"p-value = {:.4f}\".format(p_value))\n",
    "\n",
    "if p_value < alpha:\n",
    "    print(\"Reject null hypothesis\")\n",
    "else:\n",
    "    print(\"Fail to reject null hypothesis\")\n"
   ]
  },
  {
   "cell_type": "markdown",
   "metadata": {},
   "source": [
    "The output shows that the F-test statistic is 1.93 and the p-value is 0.1723. Since the p-value is greater than the significance level of 0.05, we fail to reject the null hypothesis. Therefore, there is not enough evidence to suggest that the variances of the waiting times at the two restaurants are significantly different."
   ]
  },
  {
   "cell_type": "markdown",
   "metadata": {},
   "source": [
    "# Q9. \n",
    "\n",
    "The following data represent the test scores of two groups of students: Group A: 80, 85, 90, 92, 87, 83; Group B: 75, 78, 82, 79, 81, 84. Conduct an F-test at the 1% significance level to determine if the variances are significantly different."
   ]
  },
  {
   "cell_type": "markdown",
   "metadata": {},
   "source": [
    "## Answer"
   ]
  },
  {
   "cell_type": "markdown",
   "metadata": {},
   "source": [
    "To conduct an F-test for comparing the variances of two populations, we can use the f_oneway function from the scipy.stats module in Python. However, since we are only interested in testing for equality of variances, we can instead use the bartlett function, which performs the Bartlett's test for homogeneity of variances.\n",
    "\n",
    "Here's how we can conduct the test in Python:"
   ]
  },
  {
   "cell_type": "code",
   "execution_count": 8,
   "metadata": {},
   "outputs": [
    {
     "name": "stdout",
     "output_type": "stream",
     "text": [
      "Fail to reject null hypothesis. Variances are not significantly different.\n"
     ]
    }
   ],
   "source": [
    "group_a = [80, 85, 90, 92, 87, 83]\n",
    "group_b = [75, 78, 82, 79, 81, 84]\n",
    "\n",
    "statistic, p_value = bartlett(group_a, group_b)\n",
    "\n",
    "alpha = 0.01\n",
    "\n",
    "if p_value < alpha:\n",
    "    print(\"Reject null hypothesis. Variances are significantly different.\")\n",
    "else:\n",
    "    print(\"Fail to reject null hypothesis. Variances are not significantly different.\")\n"
   ]
  },
  {
   "cell_type": "code",
   "execution_count": 9,
   "metadata": {},
   "outputs": [
    {
     "data": {
      "text/plain": [
       "(0.4933618176335098, 0.482431494954774)"
      ]
     },
     "execution_count": 9,
     "metadata": {},
     "output_type": "execute_result"
    }
   ],
   "source": [
    "statistic, p_value"
   ]
  },
  {
   "cell_type": "markdown",
   "metadata": {},
   "source": [
    "`bartlett()` is a function in the `scipy.stats` library that performs Bartlett's test for equal variances. It tests the null hypothesis that all input samples are drawn from populations with equal variances. It takes two or more arrays as input, representing the samples to be compared, and returns the test statistic and the corresponding p-value.\n",
    "\n",
    "Since the p-value is greater than the significance level of 0.01, we fail to reject the null hypothesis and conclude that there is not enough evidence to suggest that the variances of the two groups are significantly different."
   ]
  },
  {
   "cell_type": "markdown",
   "metadata": {},
   "source": [
    "*************************************************************************************************************************"
   ]
  }
 ],
 "metadata": {
  "kernelspec": {
   "display_name": "Python 3.8.10 64-bit",
   "language": "python",
   "name": "python3"
  },
  "language_info": {
   "codemirror_mode": {
    "name": "ipython",
    "version": 3
   },
   "file_extension": ".py",
   "mimetype": "text/x-python",
   "name": "python",
   "nbconvert_exporter": "python",
   "pygments_lexer": "ipython3",
   "version": "3.8.10"
  },
  "orig_nbformat": 4,
  "vscode": {
   "interpreter": {
    "hash": "e7370f93d1d0cde622a1f8e1c04877d8463912d04d973331ad4851f04de6915a"
   }
  }
 },
 "nbformat": 4,
 "nbformat_minor": 2
}
