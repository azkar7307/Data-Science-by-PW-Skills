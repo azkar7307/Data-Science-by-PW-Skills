{
 "cells": [
  {
   "cell_type": "markdown",
   "metadata": {},
   "source": [
    "# Q1. \n",
    "\n",
    "What is the difference between a t-test and a z-test? Provide an example scenario where you would use each type of test.\n"
   ]
  },
  {
   "cell_type": "markdown",
   "metadata": {},
   "source": [
    "## Answer"
   ]
  },
  {
   "cell_type": "markdown",
   "metadata": {},
   "source": [
    "The key difference between a t-test and a z-test is the knowledge of population variance. A z-test assumes that the population variance is known, whereas a t-test assumes that the population variance is unknown and estimates it from the sample.\n",
    "\n",
    "A z-test is typically used when the sample size is large (typically above 30) and the population standard deviation is known. For example, a researcher wants to know if the mean IQ of a particular population is different from 100. The researcher can use a z-test if the standard deviation of the population is known and a sample of sufficient size is taken.\n",
    "\n",
    "On the other hand, a t-test is used when the sample size is small (typically below 30) or when the population standard deviation is unknown. For example, a researcher wants to know if a new medication is effective in reducing cholesterol levels in patients. The researcher can use a t-test to compare the mean cholesterol levels of a treatment group and a control group, where the population standard deviation is unknown, and the sample size is relatively small.\n",
    "\n",
    "In summary, a z-test is appropriate when the sample size is large and the population standard deviation is known, while a t-test is more appropriate when the sample size is small, and the population standard deviation is unknown.\n",
    "\n"
   ]
  },
  {
   "cell_type": "markdown",
   "metadata": {},
   "source": [
    "# Q2. \n",
    "\n",
    "Differentiate between one-tailed and two-tailed tests.\n"
   ]
  },
  {
   "cell_type": "markdown",
   "metadata": {},
   "source": [
    "## Answer"
   ]
  },
  {
   "cell_type": "markdown",
   "metadata": {},
   "source": [
    "In hypothesis testing, a one-tailed test (also known as a directional test) is a statistical test in which the null hypothesis is rejected if the sample statistic falls in either the upper or lower tail of the sampling distribution, but not both. The alternative hypothesis is specified as either greater than or less than the null hypothesis value.\n",
    "\n",
    "For example, a one-tailed test could be used to determine whether a new drug increases blood pressure. The null hypothesis would be that the drug has no effect on blood pressure, and the alternative hypothesis would be that the drug increases blood pressure. The one-tailed test would reject the null hypothesis if the sample data showed a statistically significant increase in blood pressure.\n",
    "\n",
    "On the other hand, a two-tailed test (also known as a non-directional test) is a statistical test in which the null hypothesis is rejected if the sample statistic falls in either tail of the sampling distribution, regardless of the direction. The alternative hypothesis is specified as not equal to the null hypothesis value.\n",
    "\n",
    "For example, a two-tailed test could be used to determine whether the mean weight of a certain type of product is different from 5 pounds. The null hypothesis would be that the mean weight is equal to 5 pounds, and the alternative hypothesis would be that the mean weight is not equal to 5 pounds. The two-tailed test would reject the null hypothesis if the sample data showed a statistically significant difference in mean weight, regardless of whether it was greater or less than 5 pounds.\n",
    "\n",
    "\n",
    "\n"
   ]
  },
  {
   "cell_type": "markdown",
   "metadata": {},
   "source": [
    "# Q3.\n",
    "\n",
    "Explain the concept of Type 1 and Type 2 errors in hypothesis testing. Provide an example scenario for each type of error.\n"
   ]
  },
  {
   "cell_type": "markdown",
   "metadata": {},
   "source": [
    "## Answer"
   ]
  },
  {
   "cell_type": "markdown",
   "metadata": {},
   "source": [
    "In hypothesis testing, there are two types of errors that can occur: Type 1 and Type 2 errors.\n",
    "\n",
    "**`Type 1 Error`**: A Type 1 error is the rejection of a true null hypothesis. In other words, it occurs when a hypothesis test indicates that there is a significant difference between two groups or variables, but in reality, there is no difference. This error is also known as a false positive. The probability of making a Type 1 error is denoted by the Greek letter alpha (α), and it is usually set at 0.05 or 0.01.\n",
    "\n",
    "*`Example scenario`*: Suppose a medical researcher is conducting a clinical trial to test the effectiveness of a new drug. The null hypothesis is that the drug has no effect on the patients, while the alternative hypothesis is that the drug has a significant effect. A Type 1 error occurs if the researcher concludes that the drug is effective when it is actually not.\n",
    "\n",
    "**`Type 2 Error`**: A Type 2 error is the failure to reject a false null hypothesis. In other words, it occurs when a hypothesis test fails to detect a significant difference between two groups or variables, but in reality, there is a difference. This error is also known as a false negative. The probability of making a Type 2 error is denoted by the Greek letter beta (β).\n",
    "\n",
    "*`Example scenario`*: Suppose a manufacturing company produces a certain type of product with a specific weight. The null hypothesis is that the mean weight of the product is equal to a certain value, while the alternative hypothesis is that the mean weight is different. A Type 2 error occurs if the company fails to detect a significant difference in the mean weight of the product, even though the actual weight is different.\n",
    "\n",
    "In summary, a Type 1 error occurs when we reject a true null hypothesis, while a Type 2 error occurs when we fail to reject a false null hypothesis. It is important to consider both types of errors when conducting hypothesis testing, as they can have significant consequences depending on the context of the study."
   ]
  },
  {
   "cell_type": "markdown",
   "metadata": {},
   "source": [
    "# Q4. \n",
    "\n",
    "Explain Bayes's theorem with an example.\n"
   ]
  },
  {
   "cell_type": "markdown",
   "metadata": {},
   "source": [
    "## Answer"
   ]
  },
  {
   "cell_type": "markdown",
   "metadata": {},
   "source": [
    "Bayes's theorem is a statistical theorem that describes the probability of an event occurring based on prior knowledge of conditions that might be related to the event. It is named after the 18th-century English statistician Thomas Bayes.\n",
    "\n",
    "The theorem can be written as follows:\n",
    "\n",
    "$ P(A|B) = \\large \\frac {P(B|A) * P(A)} {P(B)} $\n",
    "\n",
    "where P(A|B) is the probability of A given B, P(B|A) is the probability of B given A, P(A) is the prior probability of A, and P(B) is the prior probability of B.\n",
    "\n",
    "Bayes's theorem is useful in many fields, including medicine, genetics, and engineering. For example, suppose there is a disease that affects 1% of the population. A medical test is developed to detect the disease, but it is not perfect: it correctly identifies the disease in 95% of cases and produces a false positive result in 2% of cases (i.e., it indicates the presence of the disease when it is not actually present).\n",
    "\n",
    "Now, suppose a patient takes the test and it comes back positive. What is the probability that the patient actually has the disease?\n",
    "\n",
    "Using Bayes's theorem, we can calculate:\n",
    "\n",
    "$ P(Disease|Positive) = \\large \\frac {P(Positive|Disease) * P(Disease)} {P(Positive)} $\n",
    "\n",
    "where P(Disease|Positive) is the probability of the patient having the disease given a positive test result, P(Positive|Disease) is the probability of a positive test result given the patient has the disease (which is 0.95), P(Disease) is the prior probability of the patient having the disease (which is 0.01), and P(Positive) is the probability of a positive test result (which is calculated as the sum of the probability of a true positive and a false positive, or 0.950.01 + 0.02(1-0.01) = 0.0295).\n",
    "\n",
    "Plugging in the values, we get:\n",
    "\n",
    "P(Disease|Positive) = 0.95 * 0.01 / 0.0295 = 0.322\n",
    "\n",
    "So the probability that the patient actually has the disease, given a positive test result, is about 32.2%. This shows that even with a relatively accurate test, a positive result does not necessarily mean that the patient has the disease.\n",
    "\n",
    "\n"
   ]
  },
  {
   "cell_type": "markdown",
   "metadata": {},
   "source": [
    "# Q5. \n",
    "\n",
    "What is a confidence interval? How to calculate the confidence interval, explain with an example.\n"
   ]
  },
  {
   "cell_type": "markdown",
   "metadata": {},
   "source": [
    "## Answer"
   ]
  },
  {
   "cell_type": "markdown",
   "metadata": {},
   "source": [
    "A confidence interval is a range of values that is likely to contain the true population parameter with a certain degree of confidence. In other words, it is a statistical range that estimates the unknown population parameter.\n",
    "\n",
    "To calculate a confidence interval, we use a sample statistic and the standard error. The confidence interval is centered around the sample statistic, and its width depends on the sample size, the level of confidence, and the variability of the population.\n",
    "\n",
    "For example, suppose we want to estimate the average height of students in a school. We take a random sample of 50 students and find the sample mean height to be 170 cm with a standard deviation of 5 cm. We want to calculate a 95% confidence interval for the population mean height.\n",
    "\n",
    "The formula for the confidence interval is:\n",
    "\n",
    "```\n",
    "Confidence interval = sample mean ± (z-value * standard error)\n",
    "```\n",
    "\n",
    "where z-value is the critical value from the standard normal distribution table for the desired level of confidence (95% in this case), and the standard error is calculated as:\n",
    "\n",
    "```\n",
    "Standard error = sample standard deviation / √(sample size)\n",
    "```\n",
    "\n",
    "Plugging in the values, we get:\n",
    "\n",
    "```\n",
    "Standard error = 5 / √50 = 0.7071\n",
    "z-value for 95% confidence = 1.96 (from standard normal distribution table)\n",
    "Confidence interval = 170 ± (1.96 * 0.7071) = (168.63, 171.37)\n",
    "```\n",
    "Therefore, we can say with 95% confidence that the true population mean height is between 168.63 cm and 171.37 cm."
   ]
  },
  {
   "cell_type": "markdown",
   "metadata": {},
   "source": [
    "# Q6. \n",
    "\n",
    "Use Bayes' Theorem to calculate the probability of an event occurring given prior knowledge of the event's probability and new evidence. Provide a sample problem and solution.\n"
   ]
  },
  {
   "cell_type": "markdown",
   "metadata": {},
   "source": [
    "## Answer"
   ]
  },
  {
   "cell_type": "markdown",
   "metadata": {},
   "source": [
    "Here is an example problem:\n",
    "\n",
    "Suppose a factory produces two types of products, A and B, and the probability that a product is defective is 0.05 for A and 0.10 for B. If a randomly chosen product is found to be defective, what is the probability that it is type A?\n",
    "\n",
    "Solution:\n",
    "\n",
    "Let's define the following events:\n",
    "\n",
    "A = the product is type A\n",
    "\n",
    "B = the product is type B\n",
    "\n",
    "D = the product is defective\n",
    "\n",
    "We are given the following probabilities:\n",
    "\n",
    "P(D|A) = 0.05\n",
    "\n",
    "P(D|B) = 0.10\n",
    "\n",
    "We want to find P(A|D), the probability that the product is type A given that it is defective.\n",
    "\n",
    "Using Bayes' theorem, we have:\n",
    "\n",
    "$ P(A|D) = \\large \\frac {P(D|A) * P(A)} {P(D)} $\n",
    "\n",
    "We can find P(D) using the law of total probability:\n",
    "\n",
    "$ P(D) = P(D|A) * P(A) + P(D|B) * P(B) $\n",
    "\n",
    "We are not given the prior probabilities P(A) and P(B), so we will assume they are equal, i.e. P(A) = P(B) = 0.5.\n",
    "\n",
    "Substituting the given probabilities and our assumption into the equation for P(D), we get:\n",
    "\n",
    "$ P(D) = 0.05 * 0.5 + 0.10 * 0.5 = 0.075 $\n",
    "\n",
    "Now we can substitute P(D) and the given probability values into the equation for P(A|D):\n",
    "\n",
    "$ P(A|D) = \\large \\frac {0.05 * 0.5} {0.075} = 0.333... $\n",
    "\n",
    "Therefore, the probability that the defective product is type A is approximately 0.333 or 33.3%.\n",
    "\n",
    "\n",
    "\n"
   ]
  },
  {
   "cell_type": "markdown",
   "metadata": {},
   "source": [
    "# Q7. \n",
    "\n",
    "Calculate the 95% confidence interval for a sample of data with a mean of 50 and a standard deviation of 5. Interpret the results.\n"
   ]
  },
  {
   "cell_type": "markdown",
   "metadata": {},
   "source": [
    "## Answer"
   ]
  },
  {
   "cell_type": "markdown",
   "metadata": {},
   "source": [
    "To calculate the 95% confidence interval for a sample of data with a mean of 50 and a standard deviation of 5, we need to use the following formula:\n",
    "\n",
    "$ \\LARGE CI = \\bar x \\pm z_{α/2} * \\frac {\\sigma} {\\sqrt n} $\n",
    "\n",
    "where CI is the confidence interval, $ \\bar x $ is the sample mean, $ \\sigma $ is the population standard deviation (or the sample standard deviation if the population standard deviation is unknown), $ n $ is the sample size, and $ z_{\\alpha/2} $ is the critical value of the standard normal distribution at $ \\alpha/2 $ level of significance.\n",
    "\n",
    "For a 95% confidence interval, $ \\alpha = 0.05 $ and $ \\alpha/2 = 0.025 $ , and the critical value of z is 1.96.\n",
    "\n",
    "Substituting the values in the formula, we get:\n",
    "\n",
    "$ \\LARGE CI = 50 \\pm 1.96 * \\frac {5} {\\sqrt n} $\n",
    "\n",
    "Assuming a sample size of n = 100, we get:\n",
    "\n",
    "$ \\LARGE CI = 50 \\pm 1.96 * \\frac {5} {\\sqrt 100} = 50 ± 0.98 $\n",
    "\n",
    "Therefore, the 95% confidence interval for the sample data is (49.02, 50.98).\n",
    "\n",
    "Interpretation: We are 95% confident that the true population mean lies between 49.02 and 50.98. This means that if we were to repeat the sampling process many times and construct a confidence interval for each sample, 95% of the intervals would contain the true population mean.\n",
    "\n",
    "\n",
    "\n"
   ]
  },
  {
   "cell_type": "markdown",
   "metadata": {},
   "source": [
    "# Q8. \n",
    "\n",
    "What is the margin of error in a confidence interval? How does sample size affect the margin of error? Provide an example of a scenario where a larger sample size would result in a smaller margin of error.\n"
   ]
  },
  {
   "cell_type": "markdown",
   "metadata": {},
   "source": [
    "## Answer"
   ]
  },
  {
   "cell_type": "markdown",
   "metadata": {},
   "source": [
    "The margin of error in a confidence interval is the range of values above and below the sample statistic that is likely to contain the true population parameter with a certain degree of confidence. It represents the amount of random sampling error present in the estimate of the population parameter.\n",
    "\n",
    "Sample size directly affects the margin of error in a confidence interval. As the sample size increases, the margin of error decreases. This is because larger sample sizes provide more information about the population and decrease the effect of random sampling error.\n",
    "\n",
    "For example, suppose a polling company wants to estimate the percentage of people who support a certain political candidate in a state. If they survey a random sample of 1000 people and find that 60% support the candidate, they can calculate a 95% confidence interval with a margin of error of +/- 3%. If they increase the sample size to 2000, the margin of error decreases to +/- 2.2%, providing a more precise estimate of the true percentage of supporters in the population."
   ]
  },
  {
   "cell_type": "markdown",
   "metadata": {},
   "source": [
    "# Q9. \n",
    "\n",
    "Calculate the z-score for a data point with a value of 75, a population mean of 70, and a population standard deviation of 5. Interpret the results.\n"
   ]
  },
  {
   "cell_type": "markdown",
   "metadata": {},
   "source": [
    "## Answer"
   ]
  },
  {
   "cell_type": "markdown",
   "metadata": {},
   "source": [
    "$ \\large z = \\frac {x - μ} {\\sigma} $\n",
    "\n",
    "Where, \n",
    "\n",
    "x = value of the data point, \n",
    "\n",
    "μ = population mean, \n",
    "\n",
    "and σ = population standard deviation\n",
    "\n",
    "$ \\large z = \\frac {75 - 70} {5} = 1 $\n",
    "\n",
    "The z-score of the data point is 1.\n",
    "\n",
    "Interpretation: The data point is one standard deviation above the population mean."
   ]
  },
  {
   "cell_type": "markdown",
   "metadata": {},
   "source": [
    "# Q10. \n",
    "\n",
    "In a study of the effectiveness of a new weight loss drug, a sample of 50 participants lost an average of 6 pounds with a standard deviation of 2.5 pounds. Conduct a hypothesis test to determine if the drug is significantly effective at a 95% confidence level using a t-test.\n"
   ]
  },
  {
   "cell_type": "markdown",
   "metadata": {},
   "source": [
    "## Answer"
   ]
  },
  {
   "cell_type": "markdown",
   "metadata": {},
   "source": [
    "To conduct the hypothesis test, we need to set up the null and alternative hypotheses:\n",
    "\n",
    "H0: µ ≤ 0.\n",
    "\n",
    "HA: µ > 0.\n",
    "\n",
    "We will use a one-tailed t-test, with a significance level (alpha) of 0.05 and 49 degrees of freedom (n-1), since the sample size is 50.\n",
    "\n",
    "First, we need to calculate the t-statistic:\n",
    "\n",
    "t = (sample mean - hypothesized population mean) / (sample standard error)\n",
    "\n",
    "t = (6 - 0) / (2.5 / sqrt(50))\n",
    "\n",
    "t = 12.0\n",
    "\n",
    "Next, we need to calculate the critical t-value using a t-table or a t-distribution calculator with 49 degrees of freedom and a 95% confidence level. The critical t-value is 1.676.\n",
    "\n",
    "Since our calculated t-statistic (12.0) is greater than the critical t-value (1.676), we reject the null hypothesis and conclude that the new weight loss drug is significantly effective at a 95% confidence level.\n",
    "\n",
    "In other words, we can say that there is sufficient evidence to suggest that the new weight loss drug is effective in helping participants lose weight, with a mean weight loss of at least 0 pounds.\n",
    "\n",
    "\n"
   ]
  },
  {
   "cell_type": "markdown",
   "metadata": {},
   "source": [
    "# Q11. \n",
    "\n",
    "In a survey of 500 people, 65% reported being satisfied with their current job. Calculate the 95%\n",
    "confidence interval for the true proportion of people who are satisfied with their job.\n",
    "\n"
   ]
  },
  {
   "cell_type": "markdown",
   "metadata": {},
   "source": [
    "## Answer"
   ]
  },
  {
   "cell_type": "markdown",
   "metadata": {},
   "source": [
    "To calculate the 95% confidence interval for the true proportion of people who are satisfied with their job, we can use the formula:\n",
    "\n",
    "CI = p ± z * sqrt(p(1-p)/n)\n",
    "\n",
    "Where:\n",
    "\n",
    "p = sample proportion (0.65)\n",
    "\n",
    "z = z-score corresponding to the confidence level (95% corresponds to z=1.96)\n",
    "\n",
    "n = sample size (500)\n",
    "\n",
    "Plugging in the values, we get:\n",
    "\n",
    "CI = 0.65 ± 1.96 * sqrt(0.65(1-0.65)/500)\n",
    "\n",
    "Simplifying:\n",
    "\n",
    "CI = 0.65 ± 0.045\n",
    "\n",
    "Therefore, the 95% confidence interval for the true proportion of people who are satisfied with their job is (0.605, 0.695). We can interpret this as saying that if we were to repeat this survey many times and calculate the confidence interval each time, we would expect the true proportion of people who are satisfied with their job to be within this interval in approximately 95% of the surveys.\n",
    "\n",
    "\n"
   ]
  },
  {
   "cell_type": "markdown",
   "metadata": {},
   "source": [
    "# Q12. \n",
    "\n",
    "A researcher is testing the effectiveness of two different teaching methods on student performance.\n",
    "Sample A has a mean score of 85 with a standard deviation of 6, while sample B has a mean score of 82\n",
    "with a standard deviation of 5. Conduct a hypothesis test to determine if the two teaching methods have a\n",
    "significant difference in student performance using a t-test with a significance level of 0.01.\n"
   ]
  },
  {
   "cell_type": "markdown",
   "metadata": {},
   "source": [
    "## Answer"
   ]
  },
  {
   "cell_type": "markdown",
   "metadata": {},
   "source": [
    "To test the hypothesis, we can use a two-sample t-test for independent samples with equal variances. The null hypothesis is that the means of the two groups are equal, and the alternative hypothesis is that they are not equal.\n",
    "\n",
    "Let's calculate the t-statistic and the p-value using the following formula:\n",
    "\n",
    "t = (x̄1 - x̄2) / (s_p * sqrt(1/n1 + 1/n2))\n",
    "\n",
    "where:\n",
    "\n",
    "x̄1 = sample mean for sample A\n",
    "\n",
    "x̄2 = sample mean for sample B\n",
    "\n",
    "s_p = pooled standard deviation = sqrt(((n1 - 1)*s1^2 + (n2 - 1)*s2^2) / (n1 + n2 - 2))\n",
    "\n",
    "s1 = standard deviation of sample A\n",
    "\n",
    "s2 = standard deviation of sample B\n",
    "\n",
    "n1 = sample size of sample A\n",
    "\n",
    "n2 = sample size of sample B\n",
    "\n",
    "Using the given values, we get:\n",
    "\n",
    "x̄1 = 85\n",
    "\n",
    "s1 = 6\n",
    "\n",
    "n1 = ?\n",
    "\n",
    "x̄2 = 82\n",
    "\n",
    "s2 = 5\n",
    "\n",
    "n2 = ?\n",
    "\n",
    "α = 0.01\n",
    "\n",
    "Since the sample sizes are not given, let's assume they are equal and use the pooled standard deviation formula.\n",
    "\n",
    "s_p = sqrt(((n1 - 1)*s1^2 + (n2 - 1)*s2^2) / (n1 + n2 - 2))\n",
    "\n",
    "s_p = sqrt(((n - 1)*s1^2 + (n - 1)*s2^2) / (2n - 2))\n",
    "\n",
    "s_p = sqrt(((n - 1)*6^2 + (n - 1)*5^2) / (2n - 2))\n",
    "\n",
    "s_p = sqrt((61n - 61) / (2n - 2))\n",
    "\n",
    "Now, we need to solve for n:\n",
    "\n",
    "t_critical = abs(t.ppf(α/2, df = n1 + n2 - 2))\n",
    "\n",
    "Using the t-table or a calculator, we find the critical t-value for a two-tailed test with 48 degrees of freedom and a significance level of 0.01 to be 2.685.\n",
    "\n",
    "t = (x̄1 - x̄2) / (s_p * sqrt(1/n1 + 1/n2))\n",
    "\n",
    "2.685 = (85 - 82) / (s_p * sqrt(2/n))\n",
    "\n",
    "s_p = 5.102\n",
    "\n",
    "s_p = sqrt((61n - 61) / (2n - 2))\n",
    "\n",
    "(61n - 61) / (2n - 2) = 5.102^2\n",
    "\n",
    "n ≈ 63.7\n",
    "\n",
    "Since the sample size must be a whole number, we can round up to n = 64.\n",
    "\n",
    "Now, we can calculate the t-statistic and the p-value:\n",
    "\n",
    "t = (x̄1 - x̄2) / (s_p * sqrt(1/n1 + 1/n2))\n",
    "\n",
    "t = (85 - 82) / (5.102 * sqrt(1/64 + 1/64))\n",
    "\n",
    "t = 3 / 1.437\n",
    "\n",
    "t = 2.088\n",
    "\n",
    "The degrees of freedom for this test are df = n1 + n2 - 2 = 126.\n",
    "\n",
    "Using a t-table or a calculator, we find the p-value to be approximately 0.0039, which is less than the significance level of 0.01. Therefore, we reject the null hypothesis and conclude that there is a significant difference between the two teaching methods in terms of student performance.\n",
    "\n",
    "\n",
    "\n"
   ]
  },
  {
   "cell_type": "markdown",
   "metadata": {},
   "source": [
    "# Q13. \n",
    "\n",
    "A population has a mean of 60 and a standard deviation of 8. A sample of 50 observations has a mean\n",
    "of 65. Calculate the 90% confidence interval for the true population mean.\n"
   ]
  },
  {
   "cell_type": "markdown",
   "metadata": {},
   "source": [
    "## Answer"
   ]
  },
  {
   "cell_type": "markdown",
   "metadata": {},
   "source": [
    "To calculate the 90% confidence interval for the true population mean, we can use the formula:\n",
    "\n",
    "CI = X̄ ± Zα/2 * (σ/√n)\n",
    "\n",
    "Where:\n",
    "\n",
    "CI = confidence interval\n",
    "\n",
    "X̄ = sample mean\n",
    "\n",
    "Zα/2 = the critical value for the confidence level (α/2)\n",
    "\n",
    "σ = population standard deviation\n",
    "\n",
    "n = sample size\n",
    "\n",
    "We are given X̄ = 65, σ = 8, and n = 50. The critical value for a 90% confidence level and a two-tailed test is 1.645 (we can find this using a Z-table or a calculator).\n",
    "\n",
    "Substituting the values into the formula, we get:\n",
    "\n",
    "CI = 65 ± 1.645 * (8/√50)\n",
    "\n",
    "CI = 65 ± 2.325\n",
    "\n",
    "CI = (62.675, 67.325)\n",
    "\n",
    "Therefore, we can say with 90% confidence that the true population mean falls between 62.675 and 67.325."
   ]
  },
  {
   "cell_type": "markdown",
   "metadata": {},
   "source": []
  },
  {
   "cell_type": "markdown",
   "metadata": {},
   "source": [
    "# Q14. \n",
    "\n",
    "In a study of the effects of caffeine on reaction time, a sample of 30 participants had an average reaction time of 0.25 seconds with a standard deviation of 0.05 seconds. Conduct a hypothesis test to determine if the caffeine has a significant effect on reaction time at a 90% confidence level using a t-test."
   ]
  },
  {
   "cell_type": "markdown",
   "metadata": {},
   "source": [
    "## Answer"
   ]
  },
  {
   "cell_type": "markdown",
   "metadata": {},
   "source": [
    "To conduct a hypothesis test to determine if caffeine has a significant effect on reaction time at a 90% confidence level, we can use a one-sample t-test.\n",
    "\n",
    "Let:\n",
    "\n",
    "* μ be the true population mean reaction time of all individuals without caffeine.\n",
    "* x̄ be the sample mean reaction time of the 30 participants with caffeine.\n",
    "* s be the sample standard deviation of the reaction time of the 30 participants with caffeine.\n",
    "* n be the sample size, which is 30 in this case.\n",
    "\n",
    "The null hypothesis is that there is no significant difference between the population mean reaction time without caffeine and the sample mean reaction time with caffeine:\n",
    "\n",
    "* H0: μ = x̄\n",
    "\n",
    "The alternative hypothesis is that there is a significant difference between the population mean reaction time without caffeine and the sample mean reaction time with caffeine:\n",
    "\n",
    "* Ha: μ ≠ x̄\n",
    "\n",
    "\n",
    "We will use a t-test with a 90% confidence level, which means that α = 0.10 and the level of significance is 1 - α = 0.90. We will reject the null hypothesis if the p-value is less than α/2 or greater than 1 - α/2.\n",
    "\n",
    "We can calculate the t-statistic as:\n",
    "\n",
    "t = (x̄ - μ) / (s / sqrt(n))\n",
    "\n",
    "where sqrt(n) is the square root of the sample size.\n",
    "\n",
    "We can find the critical t-value from the t-distribution table or using the t.ppf() function from the scipy.stats library. For a two-tailed test with 29 degrees of freedom (df = n - 1), the critical t-value is ±1.699.\n",
    "\n",
    "We can calculate the p-value using the t.sf() function from the scipy.stats library, which gives the probability of observing a t-value as extreme as the calculated t-value, assuming the null hypothesis is true.\n",
    "\n",
    "Here's the Python code to perform the hypothesis test:\n",
    "\n"
   ]
  },
  {
   "cell_type": "code",
   "execution_count": 4,
   "metadata": {},
   "outputs": [
    {
     "name": "stdout",
     "output_type": "stream",
     "text": [
      "Reject the null hypothesis.\n",
      "t statistics: 27.386127875258307\n",
      "t critical: 1.6991270265334977\n",
      "p value 0.0000\n"
     ]
    }
   ],
   "source": [
    "import numpy as np\n",
    "from scipy.stats import t\n",
    "\n",
    "# Define the sample data\n",
    "x_bar = 0.25  # sample mean\n",
    "s = 0.05  # sample standard deviation\n",
    "n = 30  # sample size\n",
    "\n",
    "# Set the level of significance and degrees of freedom\n",
    "alpha = 0.10\n",
    "df = n - 1\n",
    "\n",
    "# Calculate the critical t-value\n",
    "t_crit = abs(t.ppf(alpha/2, df))\n",
    "\n",
    "# Calculate the t-statistic and p-value\n",
    "t_stat = (x_bar - 0) / (s / np.sqrt(n))\n",
    "p_val = 2 * t.sf(abs(t_stat), df)\n",
    "\n",
    "# Determine if the null hypothesis should be rejected\n",
    "if abs(t_stat) > t_crit or p_val < alpha:\n",
    "    print(\"Reject the null hypothesis.\")\n",
    "else:\n",
    "    print(\"Fail to reject the null hypothesis.\")\n",
    "\n",
    "print('t statistics:', t_stat)\n",
    "print('t critical:', t_crit)\n",
    "print(f'p value{p_val: .4f}')"
   ]
  },
  {
   "cell_type": "markdown",
   "metadata": {},
   "source": [
    "Since the calculated t-statistic is greater than the critical t-value and the p-value is less than the level of significance, we reject the null hypothesis and conclude that there is a significant difference between the population mean reaction time without caffeine and the sample mean reaction time with caffeine at a 90% confidence level."
   ]
  },
  {
   "cell_type": "markdown",
   "metadata": {},
   "source": [
    "**********************************************************************************************************************"
   ]
  }
 ],
 "metadata": {
  "kernelspec": {
   "display_name": "Python 3.8.10 64-bit",
   "language": "python",
   "name": "python3"
  },
  "language_info": {
   "codemirror_mode": {
    "name": "ipython",
    "version": 3
   },
   "file_extension": ".py",
   "mimetype": "text/x-python",
   "name": "python",
   "nbconvert_exporter": "python",
   "pygments_lexer": "ipython3",
   "version": "3.8.10"
  },
  "orig_nbformat": 4,
  "vscode": {
   "interpreter": {
    "hash": "e7370f93d1d0cde622a1f8e1c04877d8463912d04d973331ad4851f04de6915a"
   }
  }
 },
 "nbformat": 4,
 "nbformat_minor": 2
}
