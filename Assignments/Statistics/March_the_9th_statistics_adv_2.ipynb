{
 "cells": [
  {
   "cell_type": "markdown",
   "metadata": {},
   "source": [
    "# Q1.\n",
    "\n",
    "What are the Probability Mass Function (PMF) and Probability Density Function (PDF)? Explain with an example.\n"
   ]
  },
  {
   "cell_type": "markdown",
   "metadata": {},
   "source": [
    "## Answer"
   ]
  },
  {
   "cell_type": "markdown",
   "metadata": {},
   "source": [
    "Probability Mass Function (PMF) and Probability Density Function (PDF) are mathematical tools used to describe the probability distribution of a random variable.\n",
    "\n",
    "Probability Mass Function (PMF) is used for discrete random variables, while Probability Density Function (PDF) is used for continuous random variables.\n",
    "\n",
    "The PMF gives the probability that a discrete random variable takes on a specific value. For example, if we toss a fair coin twice, we can define a random variable X that counts the number of heads that appear. X can take on the values 0, 1, or 2. The PMF of X gives the probability of each possible value of X. In this case, the PMF is:\n",
    "\n",
    "P(X=0) = 1/4\n",
    "\n",
    "P(X=1) = 2/4 = 1/2\n",
    "\n",
    "P(X=2) = 1/4\n",
    "\n",
    "since the sample space of above experiment is {HH, HT, TH, TT}\n",
    "\n",
    "The PMF of a discrete random variable satisfies the following properties:\n",
    "\n",
    "1. For any value x, $ 0 ≤ P(X = x) ≤ 1 $\n",
    "2. The sum of the probabilities over all possible values of X equals 1: $ ΣP(X=x) = 1 $ \n",
    "\n",
    "On the other hand, the PDF gives the probability density of a continuous random variable at each possible value. For example, the height of a person is a continuous random variable. The PDF of the height variable gives the probability density at each height value. The PDF of a continuous random variable satisfies the following properties:\n",
    "\n",
    "1. For any value x, the PDF gives a non-negative value: $ f(x) ≥ 0 $\n",
    "2. The area under the PDF curve over a given range gives the probability of the variable falling within that range: $ P(a ≤ X ≤ b) = ∫a^b f(x) dx $\n",
    "3. The total area under the PDF curve is equal to 1: $ ∫-∞^∞ f(x) dx = 1 $\n",
    "\n",
    "For example, the PDF of the standard normal distribution is given by:\n",
    "\n",
    "$ f(x) = (1/√(2π)) * e^(-(x^2)/2) $ \n",
    "\n",
    "or,\n",
    "\n",
    "$ \\LARGE f(x) = \\frac {1}{\\sqrt {2 \\pi}} * e^{\\frac{-x^2}{2}} $\n",
    "\n",
    "This means that the probability density of a standard normal variable at any point x is given by this formula.\n",
    "\n",
    "In summary, PMF and PDF are mathematical tools used to describe the probability distribution of random variables. The PMF is used for discrete random variables, while the PDF is used for continuous random variables. They both satisfy different properties, but they are both useful in calculating probabilities for different types of random variables.\n",
    "\n",
    "\n",
    "\n"
   ]
  },
  {
   "cell_type": "markdown",
   "metadata": {},
   "source": [
    "# Q2. \n",
    "\n",
    "What is Cumulative Density Function (CDF)? Explain with an example. Why CDF is used?\n"
   ]
  },
  {
   "cell_type": "markdown",
   "metadata": {},
   "source": [
    "## Answer"
   ]
  },
  {
   "cell_type": "markdown",
   "metadata": {},
   "source": [
    "The Cumulative Density Function (CDF) is a probability distribution function that gives the probability of a random variable X being less than or equal to a certain value x. In other words, it is the cumulative sum of probabilities up to a given value.\n",
    "\n",
    "Mathematically, CDF can be defined as:\n",
    "\n",
    "$F(x) = P(X \\leq x)$\n",
    "\n",
    "where X is the random variable and x is a given value.\n",
    "\n",
    "For example, consider a fair six-sided die. The PMF of the die is given as:\n",
    "\n",
    "$p(x) = 1/6$ for x = 1, 2, 3, 4, 5, 6\n",
    "\n",
    "The CDF of the die can be calculated as follows:\n",
    "\n",
    "$F(x) = P(X \\leq x) = \\sum_{i=1}^{x} p(i)$\n",
    "\n",
    "where x is the value for which we want to calculate the CDF.\n",
    "\n",
    "For instance, to calculate the CDF of the die for x = 3, we have:\n",
    "\n",
    "$F(3) = P(X \\leq 3) = p(1) + p(2) + p(3) = 1/6 + 1/6 + 1/6 = 1/2$\n",
    "\n",
    "The CDF is an important tool in statistical analysis as it provides a complete description of the distribution of a random variable. It is used to calculate probabilities for continuous random variables and to derive other statistical measures such as the median, quartiles, and percentiles. It also provides a way to compare different distributions and to test statistical hypotheses."
   ]
  },
  {
   "cell_type": "markdown",
   "metadata": {},
   "source": [
    "# Q3. \n",
    "\n",
    "What are some examples of situations where the normal distribution might be used as a model? Explain how the parameters of the normal distribution relate to the shape of the distribution.\n"
   ]
  },
  {
   "cell_type": "markdown",
   "metadata": {},
   "source": [
    "## Answer"
   ]
  },
  {
   "cell_type": "markdown",
   "metadata": {},
   "source": [
    "The normal distribution, also known as the Gaussian distribution, is widely used as a model in various fields due to its properties of symmetry and smoothness. Some examples of situations where the normal distribution might be used as a model are:\n",
    "\n",
    "* **Heights of people**: The distribution of heights in a population is often modeled by a normal distribution. The mean of the distribution represents the average height of the population, and the standard deviation represents how much the heights vary around the mean.\n",
    "\n",
    "* **Test scores**: The distribution of scores on a test, such as the SAT or GRE, is often assumed to be normal. The mean represents the average score, and the standard deviation represents how much the scores vary around the mean.\n",
    "\n",
    "* **Physical measurements**: Physical measurements such as weight, blood pressure, and body temperature can be modeled by a normal distribution. The mean represents the average value of the measurement, and the standard deviation represents how much the measurements vary around the mean.\n",
    "\n",
    "The shape of the normal distribution is determined by two parameters: the mean and the standard deviation. The mean is the center of the distribution, and the standard deviation is a measure of the spread of the distribution. If the mean is shifted to the right or left, the distribution will be shifted in the same direction. If the standard deviation is increased, the distribution will become more spread out, and if it is decreased, the distribution will become more concentrated around the mean.\n",
    "\n",
    "\n",
    "\n"
   ]
  },
  {
   "cell_type": "markdown",
   "metadata": {},
   "source": [
    "# Q4.\n",
    "\n",
    "Explain the importance of Normal Distribution. Give a few real-life examples of Normal Distribution.\n"
   ]
  },
  {
   "cell_type": "markdown",
   "metadata": {},
   "source": [
    "# Answer"
   ]
  },
  {
   "cell_type": "markdown",
   "metadata": {},
   "source": [
    "Normal distribution, also known as Gaussian distribution, is one of the most important probability distributions in statistics. It has many important properties and is widely used in various fields of study, from social sciences to engineering and finance.\n",
    "\n",
    "One of the key reasons why normal distribution is so important is due to the Central Limit Theorem, which states that the sum or average of a large number of independent and identically distributed random variables will tend towards a normal distribution, regardless of the underlying distribution of the original variables. This makes normal distribution a useful tool for modeling many real-world phenomena where multiple factors contribute to the final outcome.\n",
    "\n",
    "Some examples of real-life situations where normal distribution may be used as a model include:\n",
    "\n",
    "* Height and weight: Human height and weight tend to follow normal distributions, with the mean and standard deviation varying by age, gender, and other factors.\n",
    "\n",
    "* Test scores: Standardized tests such as the SAT and ACT are designed to have normal distributions, with a mean of 500 and a standard deviation of 100.\n",
    "\n",
    "* Stock prices: Stock prices can be modeled using normal distribution, as changes in stock prices are often affected by multiple factors and tend to fluctuate around a central value.\n",
    "\n",
    "* IQ scores: IQ scores are designed to follow a normal distribution, with a mean of 100 and a standard deviation of 15.\n",
    "\n",
    "* Blood pressure: Blood pressure readings of a large population tend to follow a normal distribution, with the mean and standard deviation varying by age, gender, and other factors.\n",
    "\n",
    "In these examples, the mean and standard deviation of the normal distribution can be used to describe the central tendency and variability of the data. The mean determines the location of the peak of the curve, while the standard deviation determines the spread or width of the curve.\n",
    "\n",
    "\n",
    "\n"
   ]
  },
  {
   "cell_type": "markdown",
   "metadata": {},
   "source": [
    "# Q5.\n",
    "\n",
    "What is Bernaulli Distribution? Give an Example. What is the difference between Bernoulli Distribution and Binomial Distribution?\n"
   ]
  },
  {
   "cell_type": "markdown",
   "metadata": {},
   "source": [
    "## Answer"
   ]
  },
  {
   "cell_type": "markdown",
   "metadata": {},
   "source": [
    "Bernoulli distribution is a discrete probability distribution that describes the outcome of a single binary experiment, where the outcome can be either success (with probability p) or failure (with probability 1-p). It is named after Swiss mathematician Jacob Bernoulli.\n",
    "\n",
    "The probability mass function (PMF) of a Bernoulli distribution is given by:\n",
    "\n",
    "P(X = 1) = p\n",
    "\n",
    "P(X = 0) = 1 - p\n",
    "\n",
    "where X is a random variable with values 1 (success) or 0 (failure).\n",
    "\n",
    "An example of Bernoulli distribution is tossing a coin, where the outcome can be either head (success) or tail (failure) with a probability of 0.5 for each.\n",
    "\n",
    "The main difference between Bernoulli distribution and Binomial distribution is that Bernoulli distribution is used to model the outcome of a single experiment, while Binomial distribution is used to model the number of successes in a fixed number of independent Bernoulli trials.\n",
    "\n",
    "Binomial distribution describes the probability of k successes in n independent Bernoulli trials, each with probability of success p. The probability mass function (PMF) of a Binomial distribution is given by:\n",
    "\n",
    "$ \\large P(X = k) = \\binom {n} {k} * p^{k} * (1-p)^{n-k} $\n",
    "\n",
    "where X is the random variable representing the number of successes, n is the number of trials, p is the probability of success in each trial, and (n choose k) represents the binomial coefficient, which is the number of ways to choose k successes out of n trials.\n",
    "\n",
    "\n",
    "\n"
   ]
  },
  {
   "cell_type": "markdown",
   "metadata": {},
   "source": [
    "# Q6. \n",
    "\n",
    "Consider a dataset with a mean of 50 and a standard deviation of 10. If we assume that the dataset is normally distributed, what is the probability that a randomly selected observation will be greater than 60? Use the appropriate formula and show your calculations.\n"
   ]
  },
  {
   "cell_type": "markdown",
   "metadata": {},
   "source": [
    "## Answer"
   ]
  },
  {
   "cell_type": "markdown",
   "metadata": {},
   "source": [
    "We can use the standard normal distribution to solve this problem.\n",
    "\n",
    "First, we standardize the observation value of 60 using the formula:\n",
    "\n",
    "z = (x - μ) / σ\n",
    "\n",
    "where z is the standard score, x is the observation value, μ is the mean, and σ is the standard deviation.\n",
    "\n",
    "Plugging in the values, we get:\n",
    "\n",
    "z = (60 - 50) / 10 = 1\n",
    "\n",
    "Next, we need to find the area under the standard normal curve to the right of z = 1. We can use a standard normal distribution table or a calculator to find this area.\n",
    "\n",
    "Using a standard normal distribution table, we find that the area to the right of z = 1 is 1 - 0.8413 = 0.1587.\n",
    "\n",
    "Therefore, the probability that a randomly selected observation from the dataset will be greater than 60 is 0.1587.\n",
    "\n",
    "\n",
    "\n"
   ]
  },
  {
   "cell_type": "markdown",
   "metadata": {},
   "source": [
    "# Q7. \n",
    "\n",
    "Explain uniform Distribution with an example.\n"
   ]
  },
  {
   "cell_type": "markdown",
   "metadata": {},
   "source": [
    "## Answer"
   ]
  },
  {
   "cell_type": "markdown",
   "metadata": {},
   "source": [
    "Uniform distribution is a probability distribution where all values within a given interval are equally likely to occur. In other words, each value within the interval has the same probability of being selected.\n",
    "\n",
    "An example of uniform distribution can be the roll of a fair six-sided die. Each number (1, 2, 3, 4, 5, or 6) has an equal chance of being rolled. The probability of rolling any specific number is 1/6 or approximately 0.167.\n",
    "\n",
    "Another example of uniform distribution can be the distribution of random numbers generated by a computer. If the computer generates random numbers between 0 and 1, each value between 0 and 1 has an equal chance of being selected."
   ]
  },
  {
   "cell_type": "markdown",
   "metadata": {},
   "source": [
    "# Q8. \n",
    "\n",
    "What is the z score? State the importance of the z score.\n"
   ]
  },
  {
   "cell_type": "markdown",
   "metadata": {},
   "source": [
    "## Answer"
   ]
  },
  {
   "cell_type": "markdown",
   "metadata": {},
   "source": [
    "In statistics, the z-score, also known as the standard score, is a measure that indicates the number of standard deviations an observation or data point is from the mean of the dataset. It is calculated by subtracting the mean from the data point and then dividing the result by the standard deviation. The formula for calculating the z-score is:\n",
    "\n",
    "z = (x - μ) / σ\n",
    "\n",
    "where z is the z-score, x is the data point, μ is the mean of the dataset, and σ is the standard deviation.\n",
    "\n",
    "The z-score is important because it allows us to standardize and compare observations from different datasets that may have different means and standard deviations. By converting the raw data into z-scores, we can compare data points on a standard scale and calculate probabilities and percentiles. For example, if we know the mean and standard deviation of a dataset, we can use the z-score to determine the probability of a data point falling within a certain range of values. Additionally, the z-score is often used in hypothesis testing and determining confidence intervals.\n",
    "\n",
    "\n"
   ]
  },
  {
   "cell_type": "markdown",
   "metadata": {},
   "source": [
    "# Q9. \n",
    "\n",
    "What is Central Limit Theorem? State the significance of the Central Limit Theorem.\n"
   ]
  },
  {
   "cell_type": "markdown",
   "metadata": {},
   "source": [
    "## Answer"
   ]
  },
  {
   "cell_type": "markdown",
   "metadata": {},
   "source": [
    "The Central Limit Theorem (CLT) is a fundamental theorem in statistics that describes the behavior of the mean of a sample of random variables, regardless of the underlying distribution, as the sample size increases.\n",
    "\n",
    "The theorem states that if we have a large enough sample size (n) from any population with a finite mean (μ) and finite variance (σ^2), then the distribution of the sample means will be approximately normal with a mean of μ and a standard deviation of σ/√n, regardless of the underlying population distribution.\n",
    "\n",
    "The significance of the Central Limit Theorem is that it allows us to make inferences about a population using a sample, even if we don't know the population distribution. For example, if we want to estimate the mean weight of all adult males in a country, we can take a random sample of adult males and use the CLT to make inferences about the population mean weight.\n",
    "\n",
    "The CLT is also used extensively in hypothesis testing, confidence interval estimation, and other statistical analyses. It forms the basis of many statistical techniques and is considered one of the most important theorems in statistics.\n",
    "\n",
    "\n"
   ]
  },
  {
   "cell_type": "markdown",
   "metadata": {},
   "source": [
    "# Q10. \n",
    "\n",
    "State the assumptions of the Central Limit Theorem."
   ]
  },
  {
   "cell_type": "markdown",
   "metadata": {},
   "source": [
    "## Answer"
   ]
  },
  {
   "cell_type": "markdown",
   "metadata": {},
   "source": [
    "The Central Limit Theorem has the following assumptions:\n",
    "\n",
    "1. The sample is a random sample from the population.\n",
    "2. The sample size is sufficiently large, typically n >= 30.\n",
    "3. The population distribution has a finite mean and a finite variance, or the population distribution is normal.\n",
    "4. The samples are drawn independently from the population.\n",
    "\n",
    "If these assumptions hold, the sampling distribution of the sample mean will be approximately normal, regardless of the shape of the population distribution."
   ]
  },
  {
   "cell_type": "markdown",
   "metadata": {},
   "source": [
    "***************************************************************************************************************************************************************************************************************************************************************************************************************************************************************************"
   ]
  }
 ],
 "metadata": {
  "language_info": {
   "name": "python"
  },
  "orig_nbformat": 4
 },
 "nbformat": 4,
 "nbformat_minor": 2
}
