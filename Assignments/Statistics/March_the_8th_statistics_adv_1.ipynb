{
 "cells": [
  {
   "cell_type": "markdown",
   "metadata": {},
   "source": [
    "# *Installing required libraries*"
   ]
  },
  {
   "cell_type": "code",
   "execution_count": 1,
   "metadata": {},
   "outputs": [
    {
     "name": "stdout",
     "output_type": "stream",
     "text": [
      "Requirement already satisfied: numpy in /config/.local/lib/python3.8/site-packages (from -r requirements.txt (line 1)) (1.24.2)\n",
      "Requirement already satisfied: pandas in /config/.local/lib/python3.8/site-packages (from -r requirements.txt (line 2)) (1.5.3)\n",
      "Requirement already satisfied: matplotlib in /config/.local/lib/python3.8/site-packages (from -r requirements.txt (line 3)) (3.7.1)\n",
      "Requirement already satisfied: python-dateutil>=2.8.1 in /config/.local/lib/python3.8/site-packages (from pandas->-r requirements.txt (line 2)) (2.8.2)\n",
      "Requirement already satisfied: pytz>=2020.1 in /config/.local/lib/python3.8/site-packages (from pandas->-r requirements.txt (line 2)) (2023.3)\n",
      "Requirement already satisfied: cycler>=0.10 in /config/.local/lib/python3.8/site-packages (from matplotlib->-r requirements.txt (line 3)) (0.11.0)\n",
      "Requirement already satisfied: contourpy>=1.0.1 in /config/.local/lib/python3.8/site-packages (from matplotlib->-r requirements.txt (line 3)) (1.0.7)\n",
      "Requirement already satisfied: importlib-resources>=3.2.0; python_version < \"3.10\" in /config/.local/lib/python3.8/site-packages (from matplotlib->-r requirements.txt (line 3)) (5.12.0)\n",
      "Requirement already satisfied: pyparsing>=2.3.1 in /config/.local/lib/python3.8/site-packages (from matplotlib->-r requirements.txt (line 3)) (3.0.9)\n",
      "Requirement already satisfied: packaging>=20.0 in /config/.local/lib/python3.8/site-packages (from matplotlib->-r requirements.txt (line 3)) (23.0)\n",
      "Requirement already satisfied: fonttools>=4.22.0 in /config/.local/lib/python3.8/site-packages (from matplotlib->-r requirements.txt (line 3)) (4.39.3)\n",
      "Requirement already satisfied: pillow>=6.2.0 in /config/.local/lib/python3.8/site-packages (from matplotlib->-r requirements.txt (line 3)) (9.4.0)\n",
      "Requirement already satisfied: kiwisolver>=1.0.1 in /config/.local/lib/python3.8/site-packages (from matplotlib->-r requirements.txt (line 3)) (1.4.4)\n",
      "Requirement already satisfied: six>=1.5 in /config/.local/lib/python3.8/site-packages (from python-dateutil>=2.8.1->pandas->-r requirements.txt (line 2)) (1.16.0)\n",
      "Requirement already satisfied: zipp>=3.1.0; python_version < \"3.10\" in /config/.local/lib/python3.8/site-packages (from importlib-resources>=3.2.0; python_version < \"3.10\"->matplotlib->-r requirements.txt (line 3)) (3.15.0)\n"
     ]
    }
   ],
   "source": [
    "import os\n",
    "os.chdir(os.getcwd()) # Set the new working directory of current working directory\n",
    "! pip install -r requirements.txt"
   ]
  },
  {
   "cell_type": "code",
   "execution_count": 2,
   "metadata": {},
   "outputs": [
    {
     "data": {
      "text/plain": [
       "'/config/workspace/Assignments/Statistics'"
      ]
     },
     "execution_count": 2,
     "metadata": {},
     "output_type": "execute_result"
    }
   ],
   "source": [
    "os.getcwd()"
   ]
  },
  {
   "cell_type": "markdown",
   "metadata": {},
   "source": [
    "# *Importing necessary libraries*"
   ]
  },
  {
   "cell_type": "code",
   "execution_count": 3,
   "metadata": {},
   "outputs": [],
   "source": [
    "import numpy as np\n",
    "import pandas as pd\n",
    "import matplotlib.pyplot as plt"
   ]
  },
  {
   "cell_type": "markdown",
   "metadata": {},
   "source": [
    "# Q1. \n",
    "\n",
    "What is the Probability density function?\n"
   ]
  },
  {
   "cell_type": "markdown",
   "metadata": {},
   "source": [
    "## Answer"
   ]
  },
  {
   "cell_type": "markdown",
   "metadata": {},
   "source": [
    "The probability density function (PDF) is a function that describes the probability distribution of a continuous random variable. It is a mathematical function that defines the probability density of different outcomes in a continuous random variable.\n",
    "\n",
    "The PDF is defined as the derivative of the cumulative distribution function (CDF) of the random variable. The CDF gives the probability that the random variable takes a value less than or equal to a certain value. The PDF gives the probability density at each point in the distribution.\n",
    "\n",
    "The PDF is often used in statistics to model continuous random variables, such as height or weight. It is also used in physics and engineering to model physical phenomena, such as the distribution of particle energies.\n",
    "\n",
    "The PDF has the following properties:\n",
    "\n",
    "1. The area under the PDF curve is equal to 1, representing the total probability of all possible outcomes.\n",
    "2. The PDF is non-negative, meaning that the probability density at any given point is always greater than or equal to zero.\n",
    "3. The PDF can be used to calculate the probability of a random variable falling within a specific range of values.\n",
    "\n",
    "\n",
    "The PDF is a fundamental concept in probability theory and is widely used in statistical inference and machine learning.\n",
    "\n",
    "\n"
   ]
  },
  {
   "cell_type": "markdown",
   "metadata": {},
   "source": [
    "# Q2. \n",
    "\n",
    "What are the types of Probability distribution?\n"
   ]
  },
  {
   "cell_type": "markdown",
   "metadata": {},
   "source": [
    "## Answer"
   ]
  },
  {
   "cell_type": "markdown",
   "metadata": {},
   "source": [
    "There are many types of probability distributions, but the most commonly used ones are:\n",
    "\n",
    "1. `Normal distribution`: This is a continuous probability distribution that is often used to model real-world phenomena, such as heights or weights. It is also known as the Gaussian distribution or bell curve.\n",
    "\n",
    "2. `Binomial distribution`: This is a discrete probability distribution that is used to model the number of successes in a fixed number of trials. It is often used in experimental research or in situations where there are only two possible outcomes.\n",
    "\n",
    "3. `Poisson distribution`: This is a discrete probability distribution that is used to model the number of occurrences of a rare event in a fixed interval of time or space. It is often used in fields such as insurance, telecommunications, and epidemiology.\n",
    "\n",
    "4. `Exponential distribution`: This is a continuous probability distribution that is used to model the time between events in a Poisson process. It is often used in reliability engineering and queueing theory.\n",
    "\n",
    "5. `Uniform distribution`: This is a continuous probability distribution that is used to model situations where all outcomes are equally likely. It is often used in simulations and in random number generation.\n",
    "\n",
    "There are many other types of probability distributions, including the gamma distribution, beta distribution, and chi-squared distribution, among others. Each distribution has its own set of properties and applications, and the choice of distribution depends on the specific problem being studied.\n",
    "\n",
    "\n"
   ]
  },
  {
   "cell_type": "markdown",
   "metadata": {},
   "source": [
    "# Q3. \n",
    "\n",
    "Write a Python function to calculate the probability density function of a normal distribution with given mean and standard deviation at a given point.\n"
   ]
  },
  {
   "cell_type": "markdown",
   "metadata": {},
   "source": [
    "## Answer"
   ]
  },
  {
   "cell_type": "markdown",
   "metadata": {},
   "source": [
    "Here's a Python function that calculates the probability density function (PDF) of a normal distribution with a given mean and standard deviation at a given point x:"
   ]
  },
  {
   "cell_type": "code",
   "execution_count": 3,
   "metadata": {},
   "outputs": [],
   "source": [
    "import math\n",
    "\n",
    "def normal_pdf(x, mean, std_dev):\n",
    "    \"\"\"\n",
    "    Calculates the probability density function (PDF) of a normal distribution\n",
    "    with a given mean and standard deviation at a given point x.\n",
    "    \n",
    "    Args:\n",
    "    x (float): The point at which to calculate the PDF.\n",
    "    mean (float): The mean of the normal distribution.\n",
    "    std_dev (float): The standard deviation of the normal distribution.\n",
    "    \n",
    "    Returns:\n",
    "    float: The PDF value at the given point x.\n",
    "    \"\"\"\n",
    "    coefficient = 1 / (std_dev * math.sqrt(2 * math.pi))\n",
    "    exponent = -0.5 * ((x - mean) / std_dev)**2\n",
    "    pdf = coefficient * math.exp(exponent)\n",
    "    return pdf\n"
   ]
  },
  {
   "cell_type": "markdown",
   "metadata": {},
   "source": [
    "You can use this function to calculate the PDF at any point in a normal distribution with a given mean and standard deviation. For example, to calculate the PDF at x = 3 in a normal distribution with mean = 0 and standard deviation = 1, you would call the function like this:"
   ]
  },
  {
   "cell_type": "code",
   "execution_count": 4,
   "metadata": {},
   "outputs": [
    {
     "name": "stdout",
     "output_type": "stream",
     "text": [
      "0.0044318484119380075\n"
     ]
    }
   ],
   "source": [
    "pdf = normal_pdf(3, 0, 1)\n",
    "print(pdf)"
   ]
  },
  {
   "cell_type": "markdown",
   "metadata": {},
   "source": [
    "This would output the value of the PDF at x = 3 in the normal distribution, which is approximately 0.00443."
   ]
  },
  {
   "cell_type": "markdown",
   "metadata": {},
   "source": [
    "# Q4. \n",
    "\n",
    "What are the properties of Binomial distribution? Give two examples of events where binomial distribution can be applied.\n"
   ]
  },
  {
   "cell_type": "markdown",
   "metadata": {},
   "source": [
    "## Answer"
   ]
  },
  {
   "cell_type": "markdown",
   "metadata": {},
   "source": [
    "Binomial distribution is a discrete probability distribution that describes the number of successes in a fixed number of independent trials, where each trial has the same probability of success. The properties of the binomial distribution are:\n",
    "\n",
    "1. The trials are independent of each other.\n",
    "2. There are a fixed number of trials, denoted by n.\n",
    "3. Each trial has only two possible outcomes: success or failure.\n",
    "4. The probability of success is constant across all trials and is denoted by p.\n",
    "5. The random variable of interest is the number of successes, denoted by X.\n",
    "6. The distribution is skewed if p is close to 0 or 1, but is symmetrical when p is close to 0.5.\n",
    "7. The mean of the distribution is np, and the variance is np(1-p).\n",
    "\n",
    "Two examples of events where binomial distribution can be applied are:\n",
    "\n",
    "1. `Flipping a coin`: A coin has two possible outcomes when flipped - heads or tails. If we flip a coin 10 times, the number of times it lands on heads follows a binomial distribution with n=10 and p=0.5.\n",
    "\n",
    "2. `Quality control`: In a manufacturing plant, a machine is used to produce a certain part. The machine has a certain probability of producing a defective part. If we inspect 100 parts produced by the machine and count the number of defective parts, the number of defective parts follows a binomial distribution with n=100 and some value of p depending on the machine's defect rate.\n",
    "\n",
    "\n",
    "\n",
    "\n"
   ]
  },
  {
   "cell_type": "markdown",
   "metadata": {},
   "source": [
    "# Q5. \n",
    "\n",
    "Generate a random sample of size 1000 from a binomial distribution with probability of success 0.4 and plot a histogram of the results using matplotlib.\n"
   ]
  },
  {
   "cell_type": "markdown",
   "metadata": {},
   "source": [
    "## Answer"
   ]
  },
  {
   "cell_type": "markdown",
   "metadata": {},
   "source": [
    "Here's a Python code to generate a random sample of size 1000 from a binomial distribution with probability of success 0.4 and plot a histogram of the results using matplotlib:"
   ]
  },
  {
   "cell_type": "code",
   "execution_count": 5,
   "metadata": {},
   "outputs": [
    {
     "name": "stdout",
     "output_type": "stream",
     "text": [
      "[382 381 392 372 398 379 405 412 390 394 374 386 388 408 423 392 395 413\n",
      " 404 413 404 388 369 377 404 375 379 419 408 389 406 386 394 416 389 407\n",
      " 389 413 393 401 396 397 423 421 397 369 388 432 368 375 380 403 381 425\n",
      " 394 387 441 395 402 398 377 388 410 423 376 381 430 398 398 432 386 409\n",
      " 406 387 385 403 404 399 407 413 405 395 397 401 367 421 436 398 400 389\n",
      " 412 403 382 385 379 396 412 419 385 395 426 410 414 398 402 419 392 412\n",
      " 416 381 418 375 391 410 406 389 405 428 394 410 419 399 410 402 414 413\n",
      " 407 410 409 396 392 405 368 409 431 375 402 402 425 393 403 431 404 399\n",
      " 393 391 408 389 404 398 405 388 387 388 397 427 428 390 406 384 394 413\n",
      " 371 380 407 417 396 410 415 377 386 409 430 412 383 386 416 375 390 425\n",
      " 385 397 416 377 419 424 391 403 411 407 425 391 410 407 407 389 389 400\n",
      " 407 385 376 411 413 424 391 403 417 398 389 422 413 401 387 414 406 421\n",
      " 394 386 374 410 389 397 414 422 422 403 417 406 390 419 367 393 423 437\n",
      " 411 404 398 413 366 393 415 386 373 382 410 394 385 389 389 399 432 390\n",
      " 430 363 412 373 393 410 386 412 396 391 412 400 379 398 413 384 400 430\n",
      " 398 402 401 383 395 368 387 389 407 420 395 393 405 395 407 392 397 410\n",
      " 401 375 416 407 421 412 389 424 404 393 419 375 409 431 396 385 395 398\n",
      " 402 390 416 407 409 390 387 376 404 423 395 402 408 391 401 401 390 398\n",
      " 407 403 390 398 407 401 415 405 384 407 399 391 405 396 399 405 405 392\n",
      " 387 406 377 415 392 400 434 394 423 402 379 396 413 399 405 402 401 388\n",
      " 407 407 396 389 416 414 397 381 394 398 389 407 404 403 386 432 398 411\n",
      " 381 417 396 383 370 391 423 410 411 440 376 385 404 402 392 381 406 391\n",
      " 384 381 385 401 386 436 405 370 420 414 426 381 367 407 450 380 382 432\n",
      " 408 388 414 389 407 410 371 404 394 385 397 383 403 411 411 368 413 402\n",
      " 380 391 423 378 413 420 414 413 424 366 387 386 417 401 402 404 398 401\n",
      " 395 383 401 407 394 417 377 419 398 403 418 393 429 393 389 428 409 402\n",
      " 401 422 383 400 401 399 397 419 386 416 387 378 386 416 416 398 379 418\n",
      " 397 422 408 409 401 410 401 397 406 388 411 409 391 409 373 394 406 390\n",
      " 388 415 423 417 410 408 384 391 398 403 402 395 387 418 366 389 426 408\n",
      " 412 401 357 385 409 400 388 397 380 388 406 411 382 369 396 400 381 405\n",
      " 420 387 414 412 395 401 411 400 398 417 421 386 385 420 391 389 400 395\n",
      " 420 399 391 398 402 392 402 392 401 406 391 399 410 414 405 404 379 380\n",
      " 397 395 425 399 383 384 409 390 404 396 409 420 389 404 384 383 392 409\n",
      " 418 414 398 407 402 371 410 417 424 376 409 371 373 405 404 392 418 392\n",
      " 409 426 388 395 408 398 390 426 428 424 412 417 403 413 401 416 398 386\n",
      " 401 426 375 394 399 407 417 407 387 395 415 398 392 390 425 407 397 397\n",
      " 403 414 406 410 385 388 432 382 390 416 411 396 384 383 389 399 398 401\n",
      " 439 408 400 399 409 409 386 430 426 436 411 418 398 423 393 396 404 383\n",
      " 388 409 408 392 392 397 399 416 413 386 398 407 404 380 417 411 426 432\n",
      " 387 391 430 402 362 382 400 392 374 430 412 388 415 416 385 401 396 425\n",
      " 399 395 362 405 416 423 389 427 410 396 389 377 392 416 402 370 408 403\n",
      " 401 398 412 390 372 428 405 394 404 403 420 418 390 389 393 404 396 373\n",
      " 408 413 374 421 409 432 408 381 372 409 424 398 415 399 406 411 404 391\n",
      " 365 402 393 398 373 411 411 406 396 385 425 416 407 403 390 392 382 418\n",
      " 429 384 411 384 391 374 398 388 403 393 405 371 406 432 389 399 367 382\n",
      " 415 395 392 425 453 409 410 400 376 400 383 402 403 433 406 391 399 403\n",
      " 431 408 411 413 392 377 409 368 385 425 419 379 414 395 385 411 395 408\n",
      " 413 393 386 416 396 420 378 400 404 395 404 406 394 400 389 400 395 429\n",
      " 387 377 397 398 407 375 397 378 377 401 427 407 380 414 425 416 385 447\n",
      " 396 396 402 392 372 399 417 414 393 379 400 388 403 420 386 375 411 392\n",
      " 377 396 381 407 386 419 427 397 392 429 401 413 399 398 391 404 392 406\n",
      " 416 386 384 398 382 412 397 411 402 403 404 409 398 368 396 415 384 377\n",
      " 412 401 387 381 411 406 405 391 426 413 395 406 411 380 404 390 424 386\n",
      " 399 428 432 391 393 427 423 393 419 425 391 390 379 399 412 394 396 403\n",
      " 386 397 358 389 388 427 391 394 390 405 405 395 434 384 407 408 423 402\n",
      " 411 399 399 385 405 405 428 388 412 404]\n"
     ]
    }
   ],
   "source": [
    "# Set the parameters\n",
    "n = 1000  # Sample size\n",
    "p = 0.4  # Probability of success\n",
    "\n",
    "# Generate the random sample\n",
    "sample = np.random.binomial(n, p, size=1000)\n",
    "print(sample)"
   ]
  },
  {
   "cell_type": "code",
   "execution_count": 6,
   "metadata": {},
   "outputs": [
    {
     "data": {
      "image/png": "[encoded data removed]",
      "text/plain": [
       "<Figure size 640x480 with 1 Axes>"
      ]
     },
     "metadata": {},
     "output_type": "display_data"
    }
   ],
   "source": [
    "# Plot the histogram\n",
    "plt.hist(sample, bins=20, density=True, alpha=0.5)\n",
    "plt.xlabel('Number of successes')\n",
    "plt.ylabel('Frequency')\n",
    "plt.title('Histogram of Binomial Distribution (n=1000, p=0.4)')\n",
    "plt.show()\n"
   ]
  },
  {
   "cell_type": "markdown",
   "metadata": {},
   "source": [
    "# Q6. \n",
    "\n",
    "Write a Python function to calculate the cumulative distribution function of a Poisson distribution with given mean at a given point.\n"
   ]
  },
  {
   "cell_type": "markdown",
   "metadata": {},
   "source": [
    "## Answer"
   ]
  },
  {
   "cell_type": "markdown",
   "metadata": {},
   "source": [
    "Here's a Python function to calculate the cumulative distribution function (CDF) of a Poisson distribution with a given mean at a given point:"
   ]
  },
  {
   "cell_type": "code",
   "execution_count": 7,
   "metadata": {},
   "outputs": [],
   "source": [
    "import math\n",
    "\n",
    "def poisson_cdf(mean, k):\n",
    "    \"\"\"\n",
    "    Calculate the cumulative distribution function (CDF) of a Poisson distribution\n",
    "    with the given mean at the given point k.\n",
    "    \"\"\"\n",
    "    cdf = 0\n",
    "    for i in range(k+1):\n",
    "        cdf += (math.exp(-mean) * mean**i) / math.factorial(i)\n",
    "    return cdf\n"
   ]
  },
  {
   "cell_type": "markdown",
   "metadata": {},
   "source": [
    "The function takes two arguments: mean, which is the `mean` of the Poisson distribution, and `k`, which is the point at which we want to calculate the CDF.\n",
    "\n",
    "The function uses a loop to calculate the CDF by summing up the probabilities of all the values from 0 to `k`. The probability of a particular value `i` is calculated using the Poisson probability mass function:\n",
    "\n",
    "```\n",
    "P(X = i) = (e^-mean * mean^i) / i!\n",
    "```\n",
    "\n",
    "$\\LARGE P(X = i) = \\frac{(e^{-\\mu} * \\mu^{i})}{i!} $\n",
    "\n",
    "where `X` is a random variable that follows a Poisson distribution with mean `mean`.\n",
    "\n",
    "The `math.exp` function is used to calculate `e^-mean`, and the `math.factorial` function is used to calculate `i!`.\n",
    "\n",
    "Finally, the function returns the cumulative probability up to the given point `k`.\n",
    "\n",
    "Here's an example usage of the function:"
   ]
  },
  {
   "cell_type": "code",
   "execution_count": 8,
   "metadata": {},
   "outputs": [
    {
     "name": "stdout",
     "output_type": "stream",
     "text": [
      "The cumulative probability of a Poisson distribution with mean 3.5 at point 4 is 0.7254\n"
     ]
    }
   ],
   "source": [
    "mean = 3.5\n",
    "k = 4\n",
    "cdf = poisson_cdf(mean, k)\n",
    "print(f\"The cumulative probability of a Poisson distribution with mean {mean} at point {k} is {cdf:.4f}\")"
   ]
  },
  {
   "cell_type": "markdown",
   "metadata": {},
   "source": [
    "# Q7. \n",
    "\n",
    "How Binomial distribution different from Poisson distribution?\n"
   ]
  },
  {
   "cell_type": "markdown",
   "metadata": {},
   "source": [
    "## Answer"
   ]
  },
  {
   "cell_type": "markdown",
   "metadata": {},
   "source": [
    "Binomial and Poisson distributions are both discrete probability distributions, but they have different characteristics and are used to model different types of events.\n",
    "\n",
    "The Binomial distribution models the number of successes in a fixed number of independent trials, where each trial has a fixed probability of success. The distribution has two parameters: `n`, the number of trials, and `p`, the probability of success on each trial. The probability mass function of the Binomial distribution is given by:\n",
    "\n",
    "$ \\LARGE P(X = k) = \\binom {n}{k} * p^k * (1-p)^{n-k} $ \n",
    "\n",
    "where `X` is the random variable representing the number of successes, `k` is the number of successes, `(n choose k)` is the binomial coefficient (the number of ways to choose `k` items from `n` items), `p` is the probability of success, and `(1-p)` is the probability of failure.\n",
    "\n",
    "The Poisson distribution, on the other hand, models the number of occurrences of a rare event in a fixed interval of time or space. The distribution has one parameter, `lambda`, which represents the expected number of occurrences in the interval. The probability mass function of the Poisson distribution is given by:\n",
    "\n",
    "$\\LARGE P(X = k) = \\frac{(e^{-\\lambda} * \\lambda^k)} {k!} $\n",
    "\n",
    "where `X` is the random variable representing the number of occurrences, `k` is the number of occurrences, `e` is the mathematical constant approximately equal to 2.71828, and `k!` is the factorial of `k`.\n",
    "\n",
    "The main difference between the two distributions is that the Binomial distribution is used for a fixed number of trials with a fixed probability of success, while the Poisson distribution is used for a fixed interval of time or space with a rare event that occurs randomly. Additionally, the Binomial distribution is discrete and finite, while the Poisson distribution is discrete and infinite. As the number of trials in a Binomial distribution approaches infinity and the probability of success approaches zero in such a way that the product `n * p` remains constant, the Binomial distribution approaches the Poisson distribution.\n",
    "\n",
    "In summary, the Binomial distribution is used to model the number of successes in a fixed number of trials with a fixed probability of success, while the Poisson distribution is used to model the number of occurrences of a rare event in a fixed interval of time or space."
   ]
  },
  {
   "cell_type": "markdown",
   "metadata": {},
   "source": [
    "# Q8. \n",
    "\n",
    "Generate a random sample of size 1000 from a Poisson distribution with mean 5 and calculate the sample mean and variance.\n"
   ]
  },
  {
   "cell_type": "markdown",
   "metadata": {},
   "source": [
    "## Answer"
   ]
  },
  {
   "cell_type": "markdown",
   "metadata": {},
   "source": [
    "Here's an example Python code to generate a random sample of size 1000 from a Poisson distribution with mean 5, and calculate the sample mean and variance:"
   ]
  },
  {
   "cell_type": "code",
   "execution_count": 9,
   "metadata": {},
   "outputs": [
    {
     "name": "stdout",
     "output_type": "stream",
     "text": [
      "[ 7  5  4  8  4  8  7  5  9  4  3  4  7  8  5  6  4  3  7  8  4  6  6  7\n",
      "  6  5  2  3  3  7  4  6  5  6  6  3  4  4  6  6  4  4  2  4  4  3  2 11\n",
      "  3  1  3  6  6  3  3  9  6  7  2  4  5  7  9  3  4  4  5  3  4  4  9  2\n",
      "  4  6  5  5  4  6  6  3  4  4  4  8  9  7  4  3  5  7  5  4  4  5  5 13\n",
      "  6  4  5  4  4  4  9  6  7  6  4  7  6  7  4  5  8  3  5  6  2  6  5  5\n",
      " 11  5  9  5  7  2  6  4  5  3  6  3  4  6  7  9  1  6  8  5  3  7  9  2\n",
      "  3  5 12  2  3  3  3  3  1  9  3  6  6  6  2  4  4  3  5  0  3  3  4  4\n",
      "  1  8  4  4  5  5  1  4  2  5  4  1  7  3  4  4  2  4  3  5  5  3  6  5\n",
      " 10  4  2  8  2  0  2  1  2  4  2  2  5  6  8  3  6  6  9  6  1  5  2  4\n",
      "  7  5  9  4  4  6  7  4  7  2  2  2  6  6 11  3  3  4  5  5  5  7  7  4\n",
      "  7  5  6  2  5  6  5  9  1  3  5  5  4  6  4  4  5  5  9  6  4  8  3  2\n",
      "  4  6  7  6  4  5  7  4  9  1  6  6  6  7  6  9  4  9  2  2  4  4  4  8\n",
      "  3  6  5  1  7  3 11  5  7  2  2  5  5  5  1  6  6  7  2  4  3  8 10  7\n",
      "  4  8  8  3  3  4  8  2  2  7  5  1  9 12  5  5  6  4  5  5  2  3  5  9\n",
      "  2  7  6  7  5  2  7  3  7  5  6  5  5  1  3  3  3  3  3  5  5  7  5  5\n",
      "  7  4  4  8  5  1  8  8  3  8  3  4  6  4  5  2  4  3  5  6  6  1  5  3\n",
      "  3  5  2 10  5  2  5  4  6  6  3  4  7  0  7  5  3  5  2  6  6  3  3  1\n",
      "  5  1  3  2  1  2  5  4  6  6  2  6  8  2  7  2  4  5  7  5  6  2  5  7\n",
      " 10  6  4  4  6  4  5  3  2  3  1  5  4  4  4  8  7  8  5  4  5  6  5  6\n",
      "  7  6  7  4  3  3  5  9  5  6  4  3 11  8  4  8  6  7  5  6  6  6  7  3\n",
      "  4  7  5  3  5  4  2  5  5  6  2  4  4  2  7  7  6  4  5  5  8  4  6  6\n",
      "  5  6  3  4  5  8  4  6  6  4  5  4  3  4  6  2  7  5  6  7 11  3  5  3\n",
      "  2  4  1  2  5  5  6 10  4  8  5  3  3  4  9  4  2  7  3  1  0  4  7  3\n",
      "  6  5 11  3  6  5  3  7  6  5  8  8  6  6  3  6  7  6  4  4  4  8  7  5\n",
      "  1  6  3  4  7  3  7  4  2  3 12  2  8  7  2  2  8  6  8  2  5  5  6  2\n",
      "  3  6  5  3  4  4  7  4  3  3  5  5  7  5  6  2  7  4  4  2  7  8  0  5\n",
      "  5  6  3  2  4 10  5  5  2  4  1  3  9  0  5  4  5  5  4  4  7  1  4  6\n",
      "  2  7  7  6  7  4 11  7  4  4  8  2  3  5  4  3  6  5  2  5  5  4  2  4\n",
      "  5  6  3  4  4  5  7  5  6  5  3  2  4  5  8  3  1  1  5  8  7  6  2  5\n",
      "  4  6  3  3  4  6  5 10  8 12  2  4  9  3  6  4  8  4  5  3  5  3  7  9\n",
      "  8  6  1  4  8  7  6  4  3  8  2  3  7  8  4  7  3  4  1  4  4  5  5  3\n",
      "  5  7  1  4  8  5  6  2  6  5  5  4  4  7  2  4  4  3  2  5  9  3  1  4\n",
      "  6  4  3  3  9  6  7  4  3  5  7  7  5  4  5  4  7  4  4  6  6  3  2  9\n",
      "  6  3  8  7  2  5  6  9 10  5  4  5  3  5  5  3  9  4  5  4  4  6  3  4\n",
      "  6  7  4  3  4  2  5  6  3  2 10  5  8  5  4  3  6  7  2  8  6  5  5  3\n",
      "  6  1 10  3  3  7  6  5  4  6  9  9  8  1  6  2  5  6  2  5  6  4  4  2\n",
      "  3  2  6  1  8  2  6  4 11  3  6 10  7  3  3  8  4  5  5  9  6  4  7  9\n",
      "  5  5  3  7  6  4  3  4  4  8  6  0  4  1  5  7  3  5  2  5  5 10  6  3\n",
      " 11  9  0  4  8  4  3  7  9  6  2  7  1  4  4  4  4  4  5  5  3  7  5  7\n",
      "  4  9  7  8  8  5  2  3  4  4  9  8  4  4  6  4  6  4  5  6  2  5  7  9\n",
      "  6  3  6  6  4  8  2  1 11  4  2  2  5  5  5  3  6  4  2  3  3  7  6 11\n",
      "  5  3  9  4  1  6  7  3 10  4  7  5  3  5  4  3]\n"
     ]
    }
   ],
   "source": [
    "# set random seed for reproducibility\n",
    "np.random.seed(123)\n",
    "\n",
    "# generate random sample of size 1000 from Poisson distribution with mean 5\n",
    "sample = np.random.poisson(lam=5, size=1000)\n",
    "print(sample)"
   ]
  },
  {
   "cell_type": "code",
   "execution_count": 10,
   "metadata": {},
   "outputs": [
    {
     "name": "stdout",
     "output_type": "stream",
     "text": [
      "Sample mean: 4.919\n",
      "Sample variance: 5.035474474474475\n"
     ]
    }
   ],
   "source": [
    "\n",
    "# calculate sample mean and variance\n",
    "sample_mean = np.mean(sample)\n",
    "sample_var = np.var(sample, ddof=1)  # ddof=1 for unbiased estimate of variance\n",
    "\n",
    "print(\"Sample mean:\", sample_mean)\n",
    "print(\"Sample variance:\", sample_var)\n"
   ]
  },
  {
   "cell_type": "markdown",
   "metadata": {},
   "source": [
    "Note that the sample mean is close to the population mean (5) and the sample variance is slightly higher than the population variance (5). This is expected as the sample variance is an unbiased estimate of the population variance and tends to be slightly higher than the true value for small sample sizes. Also note that, variance of Poisson distribution is equal to its mean:\n",
    "\n",
    "$Var(X) = \\lambda$"
   ]
  },
  {
   "cell_type": "markdown",
   "metadata": {},
   "source": [
    "### Miscellaneous"
   ]
  },
  {
   "cell_type": "code",
   "execution_count": 11,
   "metadata": {},
   "outputs": [
    {
     "data": {
      "image/png": "[encoded data removed]",
      "text/plain": [
       "<Figure size 640x480 with 1 Axes>"
      ]
     },
     "metadata": {},
     "output_type": "display_data"
    }
   ],
   "source": [
    "# Plot the histogram\n",
    "plt.hist(sample, alpha=0.5)\n",
    "plt.ylabel('No. of Occurance')\n",
    "plt.title('Histogram of Poisson Distribution (lam=5, size=1000)')\n",
    "plt.show()"
   ]
  },
  {
   "cell_type": "markdown",
   "metadata": {},
   "source": [
    "# Q9. \n",
    "\n",
    "How mean and variance are related in Binomial distribution and Poisson distribution?\n"
   ]
  },
  {
   "cell_type": "markdown",
   "metadata": {},
   "source": [
    "## Answer"
   ]
  },
  {
   "cell_type": "markdown",
   "metadata": {},
   "source": [
    "In a binomial distribution, the mean is given by $np$, where $n$ is the number of trials and $p$ is the probability of success in each trial. The variance is given by $np(1-p)$.\n",
    "\n",
    "In a Poisson distribution, the mean is given by $\\lambda$, which also represents the variance. That is, the variance of a Poisson distribution is equal to its mean, $\\text{Var}(X) = \\lambda$.\n",
    "\n",
    "Both of these relationships show how the mean and variance are related in their respective distributions. In the binomial distribution, the variance is dependent on both the number of trials and the probability of success, while in the Poisson distribution, the variance is determined solely by the mean."
   ]
  },
  {
   "cell_type": "markdown",
   "metadata": {},
   "source": [
    "# Q10. \n",
    "\n",
    "In normal distribution with respect to mean position, where does the least frequent data appear?"
   ]
  },
  {
   "cell_type": "markdown",
   "metadata": {},
   "source": [
    "## Answer"
   ]
  },
  {
   "cell_type": "markdown",
   "metadata": {},
   "source": [
    "In a normal distribution, the least frequent data appear in the tails, which are the regions farthest away from the mean. Specifically, the data that falls more than two standard deviations away from the mean are considered as the least frequent."
   ]
  },
  {
   "cell_type": "markdown",
   "metadata": {},
   "source": [
    "***************************************************************************************************************************************************************************************************************************************************************************************************************************************************************************"
   ]
  }
 ],
 "metadata": {
  "kernelspec": {
   "display_name": "Python 3.8.10 64-bit",
   "language": "python",
   "name": "python3"
  },
  "language_info": {
   "codemirror_mode": {
    "name": "ipython",
    "version": 3
   },
   "file_extension": ".py",
   "mimetype": "text/x-python",
   "name": "python",
   "nbconvert_exporter": "python",
   "pygments_lexer": "ipython3",
   "version": "3.8.10"
  },
  "orig_nbformat": 4,
  "vscode": {
   "interpreter": {
    "hash": "e7370f93d1d0cde622a1f8e1c04877d8463912d04d973331ad4851f04de6915a"
   }
  }
 },
 "nbformat": 4,
 "nbformat_minor": 2
}
