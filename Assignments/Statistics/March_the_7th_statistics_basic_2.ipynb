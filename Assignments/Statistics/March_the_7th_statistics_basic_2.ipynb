{
 "cells": [
  {
   "cell_type": "markdown",
   "metadata": {},
   "source": [
    "# Q1. \n",
    "\n",
    "What are the three measures of central tendency?\n"
   ]
  },
  {
   "cell_type": "markdown",
   "metadata": {},
   "source": [
    "## Answer"
   ]
  },
  {
   "cell_type": "markdown",
   "metadata": {},
   "source": [
    "1. `Mean`: The mean is the most common measure of central tendency, and it is the arithmetic average of a set of values. It is calculated by summing up all the values in a dataset and then dividing the total by the number of values in the dataset.\n",
    "\n",
    "2. `Median`: The median is the middle value in a dataset when the values are arranged in order. To find the median, you need to sort the values from smallest to largest (or largest to smallest), and then identify the value that is exactly in the middle.\n",
    "\n",
    "3. `Mode`: The mode is the value that occurs most frequently in a dataset. If there are multiple values that occur with the same frequency, then the dataset is said to have multiple modes."
   ]
  },
  {
   "cell_type": "markdown",
   "metadata": {},
   "source": [
    "# Q2. \n",
    "\n",
    "What is the difference between the mean, median, and mode? How are they used to measure the central tendency of a dataset?\n"
   ]
  },
  {
   "cell_type": "markdown",
   "metadata": {},
   "source": [
    "## Answer"
   ]
  },
  {
   "cell_type": "markdown",
   "metadata": {},
   "source": [
    "The mean, median, and mode are all measures of central tendency, which describe the central or typical value of a dataset.\n",
    "\n",
    "The mean is the average of all the values in the dataset. It is calculated by summing up all the values in the dataset and then dividing by the number of values. The mean is sensitive to extreme values, or outliers, because it takes into account every value in the dataset.\n",
    "\n",
    "The median is the middle value in a dataset. It is calculated by sorting the values in ascending or descending order and then identifying the value that is exactly in the middle. The median is less sensitive to extreme values than the mean, because it only takes into account the values in the middle of the dataset.\n",
    "\n",
    "The mode is the value that occurs most frequently in the dataset. It is useful for datasets with many repeated values, or values that cluster around a particular value. The mode is not affected by extreme values, and it can be used for both numerical and categorical data.\n",
    "\n",
    "Each of these measures can be used to provide insight into the central tendency of a dataset, depending on the nature of the data and the research question being investigated. The choice of measure depends on the type of data, distribution, and research question. For example, if there are extreme values or outliers in the dataset, the median may be a better measure of central tendency than the mean. Conversely, if the data is normally distributed, the mean is often the best measure of central tendency.\n",
    "\n"
   ]
  },
  {
   "cell_type": "markdown",
   "metadata": {},
   "source": [
    "# Q3. \n",
    "\n",
    "Measure the three measures of central tendency for the given height data:\n",
    "\n",
    "```\n",
    "[178,177,176,177,178.2,178,175,179,180,175,178.9,176.2,177,172.5,178,176.5]\n",
    "```"
   ]
  },
  {
   "cell_type": "markdown",
   "metadata": {},
   "source": [
    "## Answer"
   ]
  },
  {
   "cell_type": "markdown",
   "metadata": {},
   "source": [
    "To find the three measures of central tendency (mean, median, and mode) for the given height data, we can use the following steps:\n",
    "\n",
    "1. `Mean`: To calculate the mean, we add up all the values and divide by the total number of values in the dataset.\n",
    "\n",
    "```\n",
    "Mean = (178 + 177 + 176 + 177 + 178.2 + 178 + 175 + 179 + 180 + 175 + 178.9 + 176.2 + 177 + 172.5 + 178 + 176.5) / 16\n",
    "     = 177.6625\n",
    "```\n",
    "\n",
    "Therefore, the mean height in the given dataset is 177.6625.\n",
    "\n",
    "2. `Median`: To find the median, we need to sort the values in ascending or descending order and identify the middle value.\n",
    "\n",
    "```\n",
    "Sorted data: [172.5, 175, 175, 176, 176.2, 176.5, 177, 177, 178, 178, 178, 178.2, 178.9, 179, 180]\n",
    "\n",
    "Median = (176 + 176.2) / 2\n",
    "       = 176.1\n",
    "```\n",
    "\n",
    "Therefore, the median height in the given dataset is 176.1.\n",
    "\n",
    "3. `Mode`: To find the mode, we need to identify the value that occurs most frequently in the dataset.\n",
    "\n",
    "```\n",
    "Mode = 178\n",
    "```\n",
    "\n",
    "Therefore, the mode height in the given dataset is 178.\n",
    "\n",
    "In summary, the measures of central tendency for the given height data are:\n",
    "\n",
    "* Mean: 177.6625\n",
    "* Median: 176.1\n",
    "* Mode: 178"
   ]
  },
  {
   "cell_type": "markdown",
   "metadata": {},
   "source": [
    "# Q4. \n",
    "\n",
    "Find the standard deviation for the given data:\n",
    "\n",
    "```\n",
    "[178,177,176,177,178.2,178,175,179,180,175,178.9,176.2,177,172.5,178,176.5]\n",
    "```"
   ]
  },
  {
   "cell_type": "markdown",
   "metadata": {},
   "source": [
    "## Answer"
   ]
  },
  {
   "cell_type": "markdown",
   "metadata": {},
   "source": [
    "To find the standard deviation for the given data, we can use the following steps:\n",
    "\n",
    "1. Calculate the mean of the data:\n",
    "\n",
    "```\n",
    "Mean = (178 + 177 + 176 + 177 + 178.2 + 178 + 175 + 179 + 180 + 175 + 178.9 + 176.2 + 177 + 172.5 + 178 + 176.5) / 16\n",
    "     = 177.6625\n",
    "```\n",
    "\n",
    "2. Calculate the deviation of each data point from the mean:\n",
    "\n",
    "```\n",
    "Deviation = [178-177.6625, 177-177.6625, 176-177.6625, 177-177.6625, 178.2-177.6625, 178-177.6625, 175-177.6625,              \n",
    "               179-177.6625, 180-177.6625, 175-177.6625, 178.9-177.6625, 176.2-177.6625, 177-177.6625, 172.5-177.6625, \n",
    "               178-177.6625, 176.5-177.6625]\n",
    "          \n",
    "          = [0.3375, -0.6625, -1.6625, -0.6625, 0.5375, 0.3375, -2.6625, 1.3375, 2.3375, -2.6625, 1.2375, -1.4625,             \n",
    "               -0.6625, -5.1625, 0.3375, -1.1625]\n",
    "```\n",
    "\n",
    "3. Square each deviation:\n",
    "\n",
    "```\n",
    "Squared Deviation = [0.11390625, 0.43890625, 2.75890625, 0.43890625, 0.28930625, 0.11390625, 7.08430625, 1.78890625,\n",
    "                         5.45640625, 7.08430625, 1.53290625, 2.13930625, 0.43890625, 26.64203125, 0.11390625, 1.35015625]\n",
    "```\n",
    "\n",
    "4. Calculate the sum of squared deviations:\n",
    "\n",
    "```\n",
    "Sum of Squared Deviations = 56.3625\n",
    "```\n",
    "\n",
    "5. Calculate the variance:\n",
    "\n",
    "```\n",
    "Variance = Sum of Squared Deviations / (N - 1)\n",
    "         = 56.3625 / 15\n",
    "         = 3.7575\n",
    "```\n",
    "\n",
    "6. Calculate the standard deviation:\n",
    "```\n",
    "Standard Deviation = sqrt(Variance)\n",
    "                   = sqrt(3.7575)\n",
    "                   = 1.93964 (rounded to 5 decimal places)\n",
    "```\n",
    "\n",
    "Therefore, the standard deviation for the given data is approximately 1.93964."
   ]
  },
  {
   "cell_type": "markdown",
   "metadata": {},
   "source": [
    "# Q5. \n",
    "\n",
    "How are measures of dispersion such as range, variance, and standard deviation used to describe the spread of a dataset? Provide an example.\n"
   ]
  },
  {
   "cell_type": "markdown",
   "metadata": {},
   "source": [
    "## Answer"
   ]
  },
  {
   "cell_type": "markdown",
   "metadata": {},
   "source": [
    "Measures of dispersion such as range, variance, and standard deviation are used to describe the spread of a dataset by providing information about how spread out the data is from its central tendency. They help to identify the variability or the degree of deviation of each data point from the mean of the data.\n",
    "\n",
    "The range is the simplest measure of dispersion and it describes the spread of a dataset by giving the difference between the largest and smallest values in the dataset. It is easy to calculate but it may not be the most reliable measure of dispersion, as it only considers two extreme values and does not take into account the variability of the data between them.\n",
    "\n",
    "The variance and standard deviation are more sophisticated measures of dispersion and they describe how far each data point is from the mean of the dataset. The variance is calculated by taking the sum of the squared differences between each data point and the mean, and dividing by the total number of data points minus 1. The standard deviation is then calculated as the square root of the variance. These measures are more reliable than the range because they take into account all the values in the dataset and provide a more accurate representation of the spread of the data.\n",
    "\n",
    "For example, let's consider two datasets:\n",
    "\n",
    "```\n",
    "Dataset 1: [10, 20, 30, 40, 50]\n",
    "\n",
    "Dataset 2: [30, 30, 30, 30, 30]\n",
    "```\n",
    "\n",
    "Both datasets have the same mean of 30. However, Dataset 1 has a range of 50 - 10 = 40, a variance of 250, and a standard deviation of 15.81. In contrast, Dataset 2 has a range of 0, a variance of 0, and a standard deviation of 0.\n",
    "\n",
    "The measures of dispersion in Dataset 1 indicate that the data is quite spread out, with some values deviating quite a bit from the mean. This suggests that there is a lot of variability in the data. In contrast, the measures of dispersion in Dataset 2 show that the data is tightly clustered around the mean, with no deviation from the mean at all. This suggests that there is no variability in the data.\n",
    "\n",
    "In this way, measures of dispersion help us to understand the spread of the data around the central tendency and identify whether the data points are closely clustered or widely spread out. This information is useful in making inferences about the population from which the data is drawn and can guide decisions in various fields like finance, healthcare, and marketing.\n",
    "\n",
    "\n",
    "\n"
   ]
  },
  {
   "cell_type": "markdown",
   "metadata": {},
   "source": [
    "# Q6. \n",
    "\n",
    "What is a Venn diagram?\n"
   ]
  },
  {
   "cell_type": "markdown",
   "metadata": {},
   "source": [
    "## Answer"
   ]
  },
  {
   "cell_type": "markdown",
   "metadata": {},
   "source": [
    "A Venn diagram is a graphical representation of the relationships between different sets of data. It consists of overlapping circles or other shapes, with each circle representing a different set or category of data. The overlapping regions represent the elements that are common to both sets.\n",
    "\n",
    "Venn diagrams are commonly used to visually represent set intersections and unions, as well as to illustrate logical relationships between different categories of data. They are often used in mathematics, statistics, and logic to analyze and compare different sets of data.\n",
    "\n",
    "Venn diagrams can be used to illustrate simple or complex relationships between sets of data, depending on the number of sets involved and the degree of overlap between them. They can also be customized and labeled with text to provide additional information about the data being represented.\n",
    "\n",
    "Overall, Venn diagrams provide a simple and intuitive way to visualize complex relationships between sets of data, making them a popular tool for data analysis, problem-solving, and decision-making.\n",
    "\n",
    "\n"
   ]
  },
  {
   "cell_type": "markdown",
   "metadata": {},
   "source": [
    "# Q7. \n",
    "\n",
    "For the two given sets \n",
    "\n",
    "$ A = \\{ 2,3,4,5,6,7 \\} $ and\n",
    "\n",
    "$ B = \\{ 0,2,6,8,10 \\} $. Find:\n",
    "\n",
    "(i) $ A \\cup B $\n",
    "\n",
    "(ii) $ A \\cap B $\n"
   ]
  },
  {
   "cell_type": "markdown",
   "metadata": {},
   "source": [
    "## Answer"
   ]
  },
  {
   "cell_type": "markdown",
   "metadata": {},
   "source": [
    "(i) $ A \\cup B  = \\{ 2,3,4,5,6,7,0,8,10 \\} = \\{ 0, 2,3,4,5,6,7,8,10 \\} $\n",
    "\n",
    "(ii) $ A \\cap B = \\{ 2, 6 \\} $\n"
   ]
  },
  {
   "cell_type": "markdown",
   "metadata": {},
   "source": [
    "# Q8. \n",
    "\n",
    "What do you understand about skewness in data?\n"
   ]
  },
  {
   "cell_type": "markdown",
   "metadata": {},
   "source": [
    "## Answer"
   ]
  },
  {
   "cell_type": "markdown",
   "metadata": {},
   "source": [
    "Skewness is a measure of the asymmetry of a probability distribution. In other words, it measures the degree to which the data deviate from a normal distribution in terms of symmetry. A dataset with a symmetric distribution has equal numbers of data points on either side of the mean, while a dataset with a skewed distribution has a greater number of data points on one side of the mean compared to the other side.\n",
    "\n",
    "There are two types of skewness:\n",
    "\n",
    "1. `Positive Skewness`: A dataset with a positive skew has a tail that extends to the right of the mean. This means that there are more extreme values on the right side of the distribution, and the distribution is said to be \"skewed right\".\n",
    "\n",
    "2. `Negative Skewness`: A dataset with a negative skew has a tail that extends to the left of the mean. This means that there are more extreme values on the left side of the distribution, and the distribution is said to be \"skewed left\".\n",
    "\n",
    "Skewness is important to consider because it can affect the interpretation of statistical measures such as the mean, variance, and correlation coefficients. In skewed distributions, the mean can be influenced by extreme values, and it may not accurately reflect the central tendency of the dataset. In such cases, the median may be a better measure of central tendency.\n",
    "\n",
    "Overall, skewness is an important characteristic of data that can help us to understand the shape of the distribution and the nature of the data points. It is a useful tool for exploring and analyzing data, especially in fields like finance, economics, and social sciences.\n",
    "\n",
    "\n"
   ]
  },
  {
   "cell_type": "markdown",
   "metadata": {},
   "source": [
    "# Q9. \n",
    "\n",
    "If a data is right skewed then what will be the position of median with respect to mean?\n"
   ]
  },
  {
   "cell_type": "markdown",
   "metadata": {},
   "source": [
    "## Answer"
   ]
  },
  {
   "cell_type": "markdown",
   "metadata": {},
   "source": [
    "If a dataset is right-skewed, meaning it has a tail that extends to the right (positive skew), then the median will be less than the mean. In other words, the mean will be greater than the median.\n",
    "\n",
    "This occurs because the presence of extreme values on the right side of the distribution pulls the mean to the right, while the median is less affected by extreme values and remains closer to the center of the distribution.\n",
    "\n",
    "For example, consider a dataset of income levels in a city. If the distribution is right-skewed, it means that there are a few individuals with very high income levels, which can greatly affect the mean income for the city. However, the median income will be less affected by these extreme values, and will be a more representative measure of the typical income level for the city."
   ]
  },
  {
   "cell_type": "markdown",
   "metadata": {},
   "source": [
    "# Q10. \n",
    "\n",
    "Explain the difference between covariance and correlation. How are these measures used in statistical analysis?\n"
   ]
  },
  {
   "cell_type": "markdown",
   "metadata": {},
   "source": [
    "## Answer"
   ]
  },
  {
   "cell_type": "markdown",
   "metadata": {},
   "source": [
    "Covariance and correlation are both measures of the relationship between two variables in a dataset. However, they have some important differences in how they are calculated and interpreted.\n",
    "\n",
    "Covariance is a measure of how much two variables change together. It is calculated by taking the average of the product of the differences between each variable and its mean. The formula for covariance is:\n",
    "\n",
    "$ cov(X,Y) = \\frac{\\sum_{i=1}^n (X_i - \\mu_X)(Y_i - \\mu_Y)}{n-1}$\n",
    "\n",
    "where X and Y are the variables being measured, $\\mu_X$ and $\\mu_Y$ are the means of the variables, and n is the sample size.\n",
    "\n",
    "Covariance can take on any value, positive, negative, or zero. A positive covariance indicates that the two variables tend to increase or decrease together, while a negative covariance indicates that one variable tends to increase as the other decreases. A covariance of zero indicates that there is no linear relationship between the two variables.\n",
    "\n",
    "Correlation, on the other hand, is a standardized measure of the relationship between two variables. It is calculated by dividing the covariance of the two variables by the product of their standard deviations. The formula for correlation is:\n",
    "\n",
    "$corr(X,Y) = \\frac{cov(X,Y)}{\\sigma_X \\sigma_Y}$\n",
    "\n",
    "where $\\sigma_X$ and $\\sigma_Y$ are the standard deviations of the variables.\n",
    "\n",
    "Correlation takes on values between -1 and 1. A correlation of 1 indicates a perfect positive linear relationship, a correlation of -1 indicates a perfect negative linear relationship, and a correlation of 0 indicates no linear relationship between the variables. Correlation is often used to identify patterns and trends in data, as well as to make predictions about future behavior.\n",
    "\n",
    "In statistical analysis, covariance and correlation are both used to measure the relationship between two variables. Covariance is a useful tool for understanding the direction of the relationship and the magnitude of the differences between the variables, but it does not provide a standardized measure of the relationship. Correlation, on the other hand, is a standardized measure that can be used to compare the relationship between two variables across different datasets and sample sizes. Both measures are important tools for analyzing data and making predictions in a wide range of fields, including finance, economics, and social sciences."
   ]
  },
  {
   "cell_type": "markdown",
   "metadata": {},
   "source": [
    "# Q11. \n",
    "\n",
    "What is the formula for calculating the sample mean? Provide an example calculation for a dataset.\n"
   ]
  },
  {
   "cell_type": "markdown",
   "metadata": {},
   "source": [
    "## Answer"
   ]
  },
  {
   "cell_type": "markdown",
   "metadata": {},
   "source": [
    "The formula for calculating the sample mean, denoted by $\\bar{x}$, is:\n",
    "\n",
    "$\\bar{x} = \\frac{\\sum_{i=1}^n x_i}{n}$\n",
    "\n",
    "where $x_i$ represents the i-th observation in the sample, and n is the sample size.\n",
    "\n",
    "Here is an example calculation for a dataset of five numbers: 2, 4, 5, 7, and 9.\n",
    "\n",
    "Step 1: Add up the numbers in the dataset:\n",
    "\n",
    "$2 + 4 + 5 + 7 + 9 = 27$\n",
    "\n",
    "Step 2: Divide the sum by the sample size to get the sample mean:\n",
    "\n",
    "$\\bar{x} = \\frac{27}{5} = 5.4$\n",
    "\n",
    "Therefore, the sample mean for this dataset is 5.4. This means that, on average, the values in the dataset are close to 5.4.\n",
    "\n",
    "\n",
    "\n"
   ]
  },
  {
   "cell_type": "markdown",
   "metadata": {},
   "source": [
    "# Q12. \n",
    "\n",
    "For a normal distribution data what is the relationship between its measure of central tendency?\n"
   ]
  },
  {
   "cell_type": "markdown",
   "metadata": {},
   "source": [
    "## Answer"
   ]
  },
  {
   "cell_type": "markdown",
   "metadata": {},
   "source": [
    "For a normal distribution data, the mean, median, and mode are all equal. This is because a normal distribution is symmetric around its mean. The mean is the arithmetic average of the data, while the median is the middle value when the data is arranged in order, and the mode is the value that occurs most frequently in the data.\n",
    "\n",
    "In a normal distribution, the mean, median, and mode are all located at the center of the distribution, which is the highest point of the curve. The mean is the most commonly used measure of central tendency for normal data because it takes into account all the data points and gives more weight to values that are farther from the center. However, the median and mode can also be useful in situations where the data is skewed or contains outliers.\n",
    "\n",
    "Overall, for a normal distribution data, the measures of central tendency are all located at the same point and have the same value.\n",
    "\n",
    "\n",
    "\n",
    "\n"
   ]
  },
  {
   "cell_type": "markdown",
   "metadata": {},
   "source": [
    "# Q13. \n",
    "\n",
    "How is covariance different from correlation?\n"
   ]
  },
  {
   "cell_type": "markdown",
   "metadata": {},
   "source": [
    "## Answer"
   ]
  },
  {
   "cell_type": "markdown",
   "metadata": {},
   "source": [
    "Covariance and correlation are both measures of the relationship between two variables, but they differ in important ways.\n",
    "\n",
    "Covariance measures the extent to which two variables vary together. It is a measure of the linear association between two variables and is sensitive to changes in scale. The formula for covariance is:\n",
    "\n",
    "$Cov(X,Y) = \\frac{\\sum_{i=1}^{n} (x_i - \\bar{x})(y_i - \\bar{y})}{n-1}$\n",
    "\n",
    "where $X$ and $Y$ are the two variables, $x_i$ and $y_i$ are the individual observations for each variable, $\\bar{x}$ and $\\bar{y}$ are the means of the two variables, and $n$ is the sample size.\n",
    "\n",
    "Covariance can be positive, negative, or zero. A positive covariance indicates that the two variables tend to increase or decrease together, while a negative covariance indicates that they tend to vary in opposite directions. A covariance of zero indicates that there is no linear relationship between the two variables.\n",
    "\n",
    "Correlation, on the other hand, measures the strength and direction of the linear relationship between two variables, but it is not sensitive to changes in scale. The formula for correlation is:\n",
    "\n",
    "$Corr(X,Y) = \\frac{Cov(X,Y)}{SD(X)SD(Y)}$\n",
    "\n",
    "where $Cov(X,Y)$ is the covariance between $X$ and $Y$, $SD(X)$ and $SD(Y)$ are the standard deviations of $X$ and $Y$, respectively.\n",
    "\n",
    "Correlation ranges between -1 and +1. A correlation of +1 indicates a perfect positive relationship between the two variables, while a correlation of -1 indicates a perfect negative relationship. A correlation of zero indicates no linear relationship between the two variables.\n",
    "\n",
    "In summary, covariance measures the strength and direction of the linear relationship between two variables, while correlation measures the strength and direction of the relationship while accounting for differences in scale between the two variables.\n",
    "\n",
    "\n"
   ]
  },
  {
   "cell_type": "markdown",
   "metadata": {},
   "source": [
    "# Q14. \n",
    "\n",
    "How do outliers affect measures of central tendency and dispersion? Provide an example.\n"
   ]
  },
  {
   "cell_type": "markdown",
   "metadata": {},
   "source": [
    "## Answer"
   ]
  },
  {
   "cell_type": "markdown",
   "metadata": {},
   "source": [
    "Outliers are data points that are significantly different from the other data points in a dataset. Outliers can have a significant effect on measures of central tendency and dispersion.\n",
    "\n",
    "In terms of measures of central tendency, outliers can pull the mean away from the center of the distribution. For example, consider the following dataset:\n",
    "\n",
    "```\n",
    "5, 10, 15, 20, 25, 30, 35, 40, 100\n",
    "```\n",
    "\n",
    "The mean of this dataset is 27.2. However, if we remove the outlier (100), the mean drops to 20. In this case, the presence of the outlier significantly affects the mean.\n",
    "\n",
    "On the other hand, outliers do not affect the median as much as they do the mean. The median is the middle value of a dataset, and it is not influenced by the extreme values. For example, the median of the above dataset is 25, regardless of the presence of the outlier.\n",
    "\n",
    "In terms of measures of dispersion, outliers can have a significant effect on the range, variance, and standard deviation. The range is the difference between the maximum and minimum values in a dataset, so outliers that are far from the other data points can increase the range significantly. In the above example, the range of the dataset is 95, which is largely due to the presence of the outlier.\n",
    "\n",
    "Outliers can also increase the variance and standard deviation of a dataset. The variance measures how spread out the data is from the mean, and the standard deviation is the square root of the variance. Outliers that are far from the mean can increase the variance and standard deviation, indicating that the data is more spread out. In the above example, the variance is 842.22, and the standard deviation is 29.01, which are both affected by the presence of the outlier.\n",
    "\n",
    "In summary, outliers can have a significant effect on measures of central tendency and dispersion. They can pull the mean away from the center of the distribution, increase the range, variance, and standard deviation, and affect the overall shape of the distribution. Therefore, it is important to identify and handle outliers appropriately when analyzing data.\n",
    "\n",
    "\n",
    "\n"
   ]
  },
  {
   "cell_type": "markdown",
   "metadata": {},
   "source": [
    "*********************************************************************************************************************************************************************************************************************************************************************************************************************************************************************************************************************************"
   ]
  }
 ],
 "metadata": {
  "kernelspec": {
   "display_name": "Python 3.8.10 64-bit",
   "language": "python",
   "name": "python3"
  },
  "language_info": {
   "codemirror_mode": {
    "name": "ipython",
    "version": 3
   },
   "file_extension": ".py",
   "mimetype": "text/x-python",
   "name": "python",
   "nbconvert_exporter": "python",
   "pygments_lexer": "ipython3",
   "version": "3.8.10"
  },
  "orig_nbformat": 4,
  "vscode": {
   "interpreter": {
    "hash": "e7370f93d1d0cde622a1f8e1c04877d8463912d04d973331ad4851f04de6915a"
   }
  }
 },
 "nbformat": 4,
 "nbformat_minor": 2
}
