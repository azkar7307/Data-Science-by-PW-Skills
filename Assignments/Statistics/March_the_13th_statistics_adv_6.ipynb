{
 "cells": [
  {
   "cell_type": "markdown",
   "metadata": {},
   "source": [
    "# *Installing required libraries*"
   ]
  },
  {
   "cell_type": "code",
   "execution_count": 1,
   "metadata": {},
   "outputs": [
    {
     "name": "stdout",
     "output_type": "stream",
     "text": [
      "Requirement already satisfied: numpy in /config/.local/lib/python3.8/site-packages (from -r requirements.txt (line 1)) (1.24.2)\n",
      "Requirement already satisfied: pandas in /config/.local/lib/python3.8/site-packages (from -r requirements.txt (line 2)) (2.0.0)\n",
      "Requirement already satisfied: matplotlib in /config/.local/lib/python3.8/site-packages (from -r requirements.txt (line 3)) (3.7.1)\n",
      "Requirement already satisfied: scipy in /config/.local/lib/python3.8/site-packages (from -r requirements.txt (line 4)) (1.10.1)\n",
      "Requirement already satisfied: statsmodels in /config/.local/lib/python3.8/site-packages (from -r requirements.txt (line 5)) (0.13.5)\n",
      "Requirement already satisfied: pytz>=2020.1 in /config/.local/lib/python3.8/site-packages (from pandas->-r requirements.txt (line 2)) (2023.3)\n",
      "Requirement already satisfied: tzdata>=2022.1 in /config/.local/lib/python3.8/site-packages (from pandas->-r requirements.txt (line 2)) (2023.3)\n",
      "Requirement already satisfied: python-dateutil>=2.8.2 in /config/.local/lib/python3.8/site-packages (from pandas->-r requirements.txt (line 2)) (2.8.2)\n",
      "Requirement already satisfied: packaging>=20.0 in /config/.local/lib/python3.8/site-packages (from matplotlib->-r requirements.txt (line 3)) (23.0)\n",
      "Requirement already satisfied: importlib-resources>=3.2.0; python_version < \"3.10\" in /config/.local/lib/python3.8/site-packages (from matplotlib->-r requirements.txt (line 3)) (5.12.0)\n",
      "Requirement already satisfied: pyparsing>=2.3.1 in /config/.local/lib/python3.8/site-packages (from matplotlib->-r requirements.txt (line 3)) (3.0.9)\n",
      "Requirement already satisfied: kiwisolver>=1.0.1 in /config/.local/lib/python3.8/site-packages (from matplotlib->-r requirements.txt (line 3)) (1.4.4)\n",
      "Requirement already satisfied: pillow>=6.2.0 in /config/.local/lib/python3.8/site-packages (from matplotlib->-r requirements.txt (line 3)) (9.5.0)\n",
      "Requirement already satisfied: contourpy>=1.0.1 in /config/.local/lib/python3.8/site-packages (from matplotlib->-r requirements.txt (line 3)) (1.0.7)\n",
      "Requirement already satisfied: cycler>=0.10 in /config/.local/lib/python3.8/site-packages (from matplotlib->-r requirements.txt (line 3)) (0.11.0)\n",
      "Requirement already satisfied: fonttools>=4.22.0 in /config/.local/lib/python3.8/site-packages (from matplotlib->-r requirements.txt (line 3)) (4.39.3)\n",
      "Requirement already satisfied: patsy>=0.5.2 in /config/.local/lib/python3.8/site-packages (from statsmodels->-r requirements.txt (line 5)) (0.5.3)\n",
      "Requirement already satisfied: six>=1.5 in /config/.local/lib/python3.8/site-packages (from python-dateutil>=2.8.2->pandas->-r requirements.txt (line 2)) (1.16.0)\n",
      "Requirement already satisfied: zipp>=3.1.0; python_version < \"3.10\" in /config/.local/lib/python3.8/site-packages (from importlib-resources>=3.2.0; python_version < \"3.10\"->matplotlib->-r requirements.txt (line 3)) (3.15.0)\n",
      "Note: you may need to restart the kernel to use updated packages.\n"
     ]
    }
   ],
   "source": [
    "pip install -r requirements.txt"
   ]
  },
  {
   "cell_type": "markdown",
   "metadata": {},
   "source": [
    "# *importing required libraries*"
   ]
  },
  {
   "cell_type": "code",
   "execution_count": 2,
   "metadata": {},
   "outputs": [],
   "source": [
    "# For performing basic mathematical operations\n",
    "import numpy as np\n",
    "import pandas as pd\n",
    "\n",
    "# For statistical analysis\n",
    "from scipy.stats import ttest_ind, f_oneway\n",
    "import statsmodels.api as sm\n",
    "from statsmodels.formula.api import ols\n",
    "from statsmodels.stats.multicomp import pairwise_tukeyhsd\n",
    "from statsmodels.stats.multicomp import MultiComparison"
   ]
  },
  {
   "cell_type": "markdown",
   "metadata": {},
   "source": [
    "# Q1. \n",
    "\n",
    "Explain the assumptions required to use ANOVA and provide examples of violations that could impact the validity of the results.\n"
   ]
  },
  {
   "cell_type": "markdown",
   "metadata": {},
   "source": [
    "## Answer"
   ]
  },
  {
   "cell_type": "markdown",
   "metadata": {},
   "source": [
    "ANOVA (Analysis of Variance) is a statistical technique used to compare means of three or more groups simultaneously. In order to use ANOVA and obtain valid results, there are several assumptions that need to be met. These assumptions include:\n",
    "\n",
    "1. `Independence of observations`: The observations within each group must be independent of each other. This means that the values in one group should not depend on or be influenced by the values in any other group.\n",
    "\n",
    "2. `Normality`: The data within each group should follow a normal distribution. This means that the data points within each group should be symmetrically distributed around the mean, with the majority of the data points falling close to the mean.\n",
    "\n",
    "3. `Homogeneity of variances`: The variances of the data within each group should be approximately equal. This means that the variability of the data points within each group should be similar across all groups.\n",
    "\n",
    "4. `Random sampling`: The samples from each group should be randomly and independently selected from the population of interest. This helps to ensure that the estimates obtained from the sample are generalizable to the population.\n",
    "\n",
    "If these assumptions are not met, the validity of the ANOVA results may be compromised. Examples of violations that could impact the validity of ANOVA results include:\n",
    "\n",
    "1. `Non-independence of observations`: If the observations within each group are not independent, such as in a repeated measures design where the same subjects are measured multiple times, ANOVA may not be appropriate and other statistical techniques may need to be used.\n",
    "\n",
    "2. `Non-normality`: If the data within each group does not follow a normal distribution, ANOVA results may not be accurate. In such cases, non-parametric alternatives to ANOVA, such as the Kruskal-Wallis test, may be more appropriate.\n",
    "\n",
    "3. `Heteroscedasticity`: If the variances of the data within each group are not approximately equal, ANOVA results may be biased. In such cases, Welch's ANOVA or other techniques that account for unequal variances may be used.\n",
    "\n",
    "4. `Non-random sampling`: If the samples from each group are not randomly and independently selected, the generalizability of the ANOVA results may be compromised. Care should be taken to ensure that the samples are representative of the population of interest.\n",
    "\n",
    "It is important to assess and meet these assumptions when conducting ANOVA to ensure the validity of the results and make appropriate interpretations based on the findings. If any of these assumptions are violated, it is important to use alternative statistical techniques or make necessary adjustments to the data or analysis approach. Consulting with a statistical expert or conducting sensitivity analyses can also help to assess the impact of assumptions violations on the results. Overall, careful consideration of the assumptions and potential violations is essential when using ANOVA for statistical analysis."
   ]
  },
  {
   "cell_type": "markdown",
   "metadata": {},
   "source": [
    "# Q2. \n",
    "\n",
    "What are the three types of ANOVA, and in what situations would each be used?\n"
   ]
  },
  {
   "cell_type": "markdown",
   "metadata": {},
   "source": [
    "## Answer"
   ]
  },
  {
   "cell_type": "markdown",
   "metadata": {},
   "source": [
    "The three types of ANOVA are:\n",
    "\n",
    "1. `One-way ANOVA`: This is used when comparing the means of two or more groups that are independent of each other (i.e., the data for each group is unrelated to the data in the other groups). For example, if a researcher wants to compare the average scores of students in three different classes on a test, they could use one-way ANOVA.\n",
    "\n",
    "2. `Two-way ANOVA`: This is used when comparing the means of two or more groups that are dependent on two or more variables. For example, if a researcher wants to compare the average scores of male and female students in three different classes on a test, they could use two-way ANOVA.\n",
    "\n",
    "3. `MANOVA (Multivariate Analysis of Variance)`: This is used when comparing the means of two or more dependent variables across two or more groups. For example, if a researcher wants to compare the average scores of students in three different classes on two different tests, they could use MANOVA.\n",
    "\n",
    "In general, one-way ANOVA is used when there is one independent variable and one dependent variable, two-way ANOVA is used when there are two independent variables and one dependent variable, and MANOVA is used when there are multiple dependent variables.\n",
    "\n"
   ]
  },
  {
   "cell_type": "markdown",
   "metadata": {},
   "source": [
    "# Q3. \n",
    "\n",
    "What is the partitioning of variance in ANOVA, and why is it important to understand this concept?\n"
   ]
  },
  {
   "cell_type": "markdown",
   "metadata": {},
   "source": [
    "## Answer"
   ]
  },
  {
   "cell_type": "markdown",
   "metadata": {},
   "source": [
    "Partitioning of variance in ANOVA refers to the division of total variance in a dataset into different sources of variation that can be attributed to different factors or variables. In ANOVA, the total variance in the data is decomposed into two main components:\n",
    "\n",
    "1. `Between-group variance`: This component of variance reflects the variability in the data that is due to differences between the groups or levels of the independent variable.\n",
    "\n",
    "2. `Within-group variance`: This component of variance reflects the variability in the data that is due to random error or individual differences within each group.\n",
    "\n",
    "By partitioning the total variance into these two components, ANOVA can determine if the differences between groups are significant relative to the variability within each group. This is important because it allows us to test hypotheses about the effects of different factors or variables on the dependent variable, and to determine if these effects are statistically significant.\n",
    "\n",
    "Additionally, understanding the partitioning of variance can help identify sources of variability in the data that are not explained by the independent variable(s) included in the model. This can help guide further investigations or suggest areas for improvement in future studies.\n",
    "\n",
    "\n"
   ]
  },
  {
   "cell_type": "markdown",
   "metadata": {},
   "source": [
    "# Q4. \n",
    "\n",
    "How would you calculate the total sum of squares (SST), explained sum of squares (SSE), and residual sum of squares (SSR) in a one-way ANOVA using Python?\n"
   ]
  },
  {
   "cell_type": "markdown",
   "metadata": {},
   "source": [
    "## Answer"
   ]
  },
  {
   "cell_type": "markdown",
   "metadata": {},
   "source": [
    "To calculate the total sum of squares (SST), explained sum of squares (SSE), and residual sum of squares (SSR) in a one-way ANOVA using Python, we can use the `ols` function from the `statsmodels` package. Here's an example:"
   ]
  },
  {
   "cell_type": "code",
   "execution_count": 14,
   "metadata": {},
   "outputs": [
    {
     "name": "stdout",
     "output_type": "stream",
     "text": [
      "(150,)\n"
     ]
    }
   ],
   "source": [
    "np.random.seed(123)\n",
    "a = np.random.normal(5, 2, 50)  # Group A\n",
    "b = np.random.normal(4.5, 2, 50)  # Group B\n",
    "c = np.random.normal(4, 2, 50)  # Group C\n",
    "\n",
    "values = np.concatenate([a, b, c])\n",
    "print(values.shape)"
   ]
  },
  {
   "cell_type": "code",
   "execution_count": 17,
   "metadata": {},
   "outputs": [
    {
     "data": {
      "text/html": [
       "<div>\n",
       "<style scoped>\n",
       "    .dataframe tbody tr th:only-of-type {\n",
       "        vertical-align: middle;\n",
       "    }\n",
       "\n",
       "    .dataframe tbody tr th {\n",
       "        vertical-align: top;\n",
       "    }\n",
       "\n",
       "    .dataframe thead th {\n",
       "        text-align: right;\n",
       "    }\n",
       "</style>\n",
       "<table border=\"1\" class=\"dataframe\">\n",
       "  <thead>\n",
       "    <tr style=\"text-align: right;\">\n",
       "      <th></th>\n",
       "      <th>Group</th>\n",
       "      <th>Value</th>\n",
       "    </tr>\n",
       "  </thead>\n",
       "  <tbody>\n",
       "    <tr>\n",
       "      <th>0</th>\n",
       "      <td>A</td>\n",
       "      <td>2.828739</td>\n",
       "    </tr>\n",
       "    <tr>\n",
       "      <th>1</th>\n",
       "      <td>A</td>\n",
       "      <td>6.994691</td>\n",
       "    </tr>\n",
       "    <tr>\n",
       "      <th>2</th>\n",
       "      <td>A</td>\n",
       "      <td>5.565957</td>\n",
       "    </tr>\n",
       "    <tr>\n",
       "      <th>3</th>\n",
       "      <td>A</td>\n",
       "      <td>1.987411</td>\n",
       "    </tr>\n",
       "    <tr>\n",
       "      <th>4</th>\n",
       "      <td>A</td>\n",
       "      <td>3.842799</td>\n",
       "    </tr>\n",
       "  </tbody>\n",
       "</table>\n",
       "</div>"
      ],
      "text/plain": [
       "  Group     Value\n",
       "0     A  2.828739\n",
       "1     A  6.994691\n",
       "2     A  5.565957\n",
       "3     A  1.987411\n",
       "4     A  3.842799"
      ]
     },
     "execution_count": 17,
     "metadata": {},
     "output_type": "execute_result"
    }
   ],
   "source": [
    "# Create a data frame\n",
    "df = pd.DataFrame({'Group': ['A']*50 + ['B']*50 + ['C']*50, 'Value': np.concatenate([a,b,c])})\n",
    "df.head()"
   ]
  },
  {
   "cell_type": "code",
   "execution_count": 19,
   "metadata": {},
   "outputs": [
    {
     "name": "stdout",
     "output_type": "stream",
     "text": [
      "SST: 727.7191497997475\n",
      "SSE: 712.1019199929112\n",
      "SSR: 15.617229806836235\n"
     ]
    }
   ],
   "source": [
    "# Fit a one-way ANOVA model\n",
    "model = ols('Value ~ Group', data=df).fit()\n",
    "\n",
    "# Calculate SST, SSE, and SSR\n",
    "sst = np.sum((df['Value'] - df['Value'].mean())**2)\n",
    "sse = np.sum(model.resid**2)\n",
    "ssr = sst - sse\n",
    "\n",
    "print('SST:', sst)\n",
    "print('SSE:', sse)\n",
    "print('SSR:', ssr)\n"
   ]
  },
  {
   "cell_type": "code",
   "execution_count": 20,
   "metadata": {},
   "outputs": [
    {
     "data": {
      "text/plain": [
       "727.7191497997476"
      ]
     },
     "execution_count": 20,
     "metadata": {},
     "output_type": "execute_result"
    }
   ],
   "source": [
    "np.dot(df['Value'] - df['Value'].mean(), df['Value'] - df['Value'].mean())"
   ]
  },
  {
   "cell_type": "markdown",
   "metadata": {},
   "source": [
    "In this example, we create a sample dataset with a `group` variable and a `values` variable. We then fit a one-way ANOVA model using the `ols` function and calculate the SST, SSE, and SSR using the formulas described earlier. Finally, we print the results.\n",
    "\n",
    "Understanding the partitioning of variance in ANOVA is important because it allows us to see how much of the variation in the dependent variable is explained by the independent variable(s) and how much is due to random error. This information can be used to evaluate the significance of the independent variable(s) and to determine the strength of the relationship between the independent variable(s) and the dependent variable."
   ]
  },
  {
   "cell_type": "markdown",
   "metadata": {},
   "source": [
    "# Q5. \n",
    "\n",
    "In a two-way ANOVA, how would you calculate the main effects and interaction effects using Python?\n"
   ]
  },
  {
   "cell_type": "markdown",
   "metadata": {},
   "source": [
    "## Answer"
   ]
  },
  {
   "cell_type": "markdown",
   "metadata": {},
   "source": [
    "In a two-way ANOVA, you can calculate the main effects and interaction effects using Python by fitting a linear model with the `ols` function from the `statsmodels` package and then using the `anova_lm` function to perform an analysis of variance on the fitted model. Here's an example:"
   ]
  },
  {
   "cell_type": "code",
   "execution_count": 21,
   "metadata": {},
   "outputs": [
    {
     "data": {
      "text/html": [
       "<div>\n",
       "<style scoped>\n",
       "    .dataframe tbody tr th:only-of-type {\n",
       "        vertical-align: middle;\n",
       "    }\n",
       "\n",
       "    .dataframe tbody tr th {\n",
       "        vertical-align: top;\n",
       "    }\n",
       "\n",
       "    .dataframe thead th {\n",
       "        text-align: right;\n",
       "    }\n",
       "</style>\n",
       "<table border=\"1\" class=\"dataframe\">\n",
       "  <thead>\n",
       "    <tr style=\"text-align: right;\">\n",
       "      <th></th>\n",
       "      <th>treatment</th>\n",
       "      <th>gender</th>\n",
       "      <th>score</th>\n",
       "    </tr>\n",
       "  </thead>\n",
       "  <tbody>\n",
       "    <tr>\n",
       "      <th>0</th>\n",
       "      <td>A</td>\n",
       "      <td>Male</td>\n",
       "      <td>12</td>\n",
       "    </tr>\n",
       "    <tr>\n",
       "      <th>1</th>\n",
       "      <td>B</td>\n",
       "      <td>Male</td>\n",
       "      <td>14</td>\n",
       "    </tr>\n",
       "    <tr>\n",
       "      <th>2</th>\n",
       "      <td>C</td>\n",
       "      <td>Male</td>\n",
       "      <td>10</td>\n",
       "    </tr>\n",
       "    <tr>\n",
       "      <th>3</th>\n",
       "      <td>A</td>\n",
       "      <td>Female</td>\n",
       "      <td>16</td>\n",
       "    </tr>\n",
       "    <tr>\n",
       "      <th>4</th>\n",
       "      <td>B</td>\n",
       "      <td>Female</td>\n",
       "      <td>18</td>\n",
       "    </tr>\n",
       "    <tr>\n",
       "      <th>5</th>\n",
       "      <td>C</td>\n",
       "      <td>Female</td>\n",
       "      <td>20</td>\n",
       "    </tr>\n",
       "    <tr>\n",
       "      <th>6</th>\n",
       "      <td>A</td>\n",
       "      <td>Male</td>\n",
       "      <td>8</td>\n",
       "    </tr>\n",
       "    <tr>\n",
       "      <th>7</th>\n",
       "      <td>B</td>\n",
       "      <td>Male</td>\n",
       "      <td>10</td>\n",
       "    </tr>\n",
       "    <tr>\n",
       "      <th>8</th>\n",
       "      <td>C</td>\n",
       "      <td>Male</td>\n",
       "      <td>12</td>\n",
       "    </tr>\n",
       "  </tbody>\n",
       "</table>\n",
       "</div>"
      ],
      "text/plain": [
       "  treatment  gender  score\n",
       "0         A    Male     12\n",
       "1         B    Male     14\n",
       "2         C    Male     10\n",
       "3         A  Female     16\n",
       "4         B  Female     18\n",
       "5         C  Female     20\n",
       "6         A    Male      8\n",
       "7         B    Male     10\n",
       "8         C    Male     12"
      ]
     },
     "execution_count": 21,
     "metadata": {},
     "output_type": "execute_result"
    }
   ],
   "source": [
    "data = pd.DataFrame({'treatment': ['A', 'B', 'C', 'A', 'B', 'C', 'A', 'B', 'C'],\n",
    "                     'gender': ['Male', 'Male', 'Male', 'Female', 'Female', 'Female', 'Male', 'Male', 'Male'],\n",
    "                     'score': [12, 14, 10, 16, 18, 20, 8, 10, 12]})\n",
    "\n",
    "data"
   ]
  },
  {
   "cell_type": "code",
   "execution_count": 27,
   "metadata": {},
   "outputs": [
    {
     "data": {
      "text/html": [
       "<div>\n",
       "<style scoped>\n",
       "    .dataframe tbody tr th:only-of-type {\n",
       "        vertical-align: middle;\n",
       "    }\n",
       "\n",
       "    .dataframe tbody tr th {\n",
       "        vertical-align: top;\n",
       "    }\n",
       "\n",
       "    .dataframe thead th {\n",
       "        text-align: right;\n",
       "    }\n",
       "</style>\n",
       "<table border=\"1\" class=\"dataframe\">\n",
       "  <thead>\n",
       "    <tr style=\"text-align: right;\">\n",
       "      <th>treatment</th>\n",
       "      <th>A</th>\n",
       "      <th>B</th>\n",
       "      <th>C</th>\n",
       "    </tr>\n",
       "    <tr>\n",
       "      <th>gender</th>\n",
       "      <th></th>\n",
       "      <th></th>\n",
       "      <th></th>\n",
       "    </tr>\n",
       "  </thead>\n",
       "  <tbody>\n",
       "    <tr>\n",
       "      <th>Female</th>\n",
       "      <td>16</td>\n",
       "      <td>18</td>\n",
       "      <td>20</td>\n",
       "    </tr>\n",
       "    <tr>\n",
       "      <th>Male</th>\n",
       "      <td>10</td>\n",
       "      <td>12</td>\n",
       "      <td>11</td>\n",
       "    </tr>\n",
       "  </tbody>\n",
       "</table>\n",
       "</div>"
      ],
      "text/plain": [
       "treatment   A   B   C\n",
       "gender               \n",
       "Female     16  18  20\n",
       "Male       10  12  11"
      ]
     },
     "execution_count": 27,
     "metadata": {},
     "output_type": "execute_result"
    }
   ],
   "source": [
    "# To see the mean score between treatment and gender \n",
    "pivot_data = pd.pivot_table(index='gender', columns='treatment', values='score', aggfunc='mean', data = data)\n",
    "pivot_data"
   ]
  },
  {
   "cell_type": "code",
   "execution_count": 22,
   "metadata": {},
   "outputs": [
    {
     "data": {
      "text/html": [
       "<div>\n",
       "<style scoped>\n",
       "    .dataframe tbody tr th:only-of-type {\n",
       "        vertical-align: middle;\n",
       "    }\n",
       "\n",
       "    .dataframe tbody tr th {\n",
       "        vertical-align: top;\n",
       "    }\n",
       "\n",
       "    .dataframe thead th {\n",
       "        text-align: right;\n",
       "    }\n",
       "</style>\n",
       "<table border=\"1\" class=\"dataframe\">\n",
       "  <thead>\n",
       "    <tr style=\"text-align: right;\">\n",
       "      <th></th>\n",
       "      <th>sum_sq</th>\n",
       "      <th>df</th>\n",
       "      <th>F</th>\n",
       "      <th>PR(&gt;F)</th>\n",
       "    </tr>\n",
       "  </thead>\n",
       "  <tbody>\n",
       "    <tr>\n",
       "      <th>C(treatment)</th>\n",
       "      <td>8.0</td>\n",
       "      <td>2.0</td>\n",
       "      <td>0.666667</td>\n",
       "      <td>0.576035</td>\n",
       "    </tr>\n",
       "    <tr>\n",
       "      <th>C(gender)</th>\n",
       "      <td>98.0</td>\n",
       "      <td>1.0</td>\n",
       "      <td>16.333333</td>\n",
       "      <td>0.027262</td>\n",
       "    </tr>\n",
       "    <tr>\n",
       "      <th>C(treatment):C(gender)</th>\n",
       "      <td>4.0</td>\n",
       "      <td>2.0</td>\n",
       "      <td>0.333333</td>\n",
       "      <td>0.740073</td>\n",
       "    </tr>\n",
       "    <tr>\n",
       "      <th>Residual</th>\n",
       "      <td>18.0</td>\n",
       "      <td>3.0</td>\n",
       "      <td>NaN</td>\n",
       "      <td>NaN</td>\n",
       "    </tr>\n",
       "  </tbody>\n",
       "</table>\n",
       "</div>"
      ],
      "text/plain": [
       "                        sum_sq   df          F    PR(>F)\n",
       "C(treatment)               8.0  2.0   0.666667  0.576035\n",
       "C(gender)                 98.0  1.0  16.333333  0.027262\n",
       "C(treatment):C(gender)     4.0  2.0   0.333333  0.740073\n",
       "Residual                  18.0  3.0        NaN       NaN"
      ]
     },
     "execution_count": 22,
     "metadata": {},
     "output_type": "execute_result"
    }
   ],
   "source": [
    "# fit the two-way ANOVA model\n",
    "model = ols('score ~ C(treatment) + C(gender) + C(treatment):C(gender)', data=data).fit()\n",
    "anova_table = sm.stats.anova_lm(model, typ=2)\n",
    "anova_table"
   ]
  },
  {
   "cell_type": "code",
   "execution_count": 24,
   "metadata": {},
   "outputs": [
    {
     "data": {
      "text/html": [
       "<div>\n",
       "<style scoped>\n",
       "    .dataframe tbody tr th:only-of-type {\n",
       "        vertical-align: middle;\n",
       "    }\n",
       "\n",
       "    .dataframe tbody tr th {\n",
       "        vertical-align: top;\n",
       "    }\n",
       "\n",
       "    .dataframe thead th {\n",
       "        text-align: right;\n",
       "    }\n",
       "</style>\n",
       "<table border=\"1\" class=\"dataframe\">\n",
       "  <thead>\n",
       "    <tr style=\"text-align: right;\">\n",
       "      <th></th>\n",
       "      <th>sum_sq</th>\n",
       "      <th>df</th>\n",
       "      <th>F</th>\n",
       "      <th>PR(&gt;F)</th>\n",
       "    </tr>\n",
       "  </thead>\n",
       "  <tbody>\n",
       "    <tr>\n",
       "      <th>C(treatment)</th>\n",
       "      <td>8.0</td>\n",
       "      <td>2.0</td>\n",
       "      <td>0.666667</td>\n",
       "      <td>0.576035</td>\n",
       "    </tr>\n",
       "    <tr>\n",
       "      <th>C(gender)</th>\n",
       "      <td>98.0</td>\n",
       "      <td>1.0</td>\n",
       "      <td>16.333333</td>\n",
       "      <td>0.027262</td>\n",
       "    </tr>\n",
       "    <tr>\n",
       "      <th>C(treatment):C(gender)</th>\n",
       "      <td>4.0</td>\n",
       "      <td>2.0</td>\n",
       "      <td>0.333333</td>\n",
       "      <td>0.740073</td>\n",
       "    </tr>\n",
       "    <tr>\n",
       "      <th>Residual</th>\n",
       "      <td>18.0</td>\n",
       "      <td>3.0</td>\n",
       "      <td>NaN</td>\n",
       "      <td>NaN</td>\n",
       "    </tr>\n",
       "  </tbody>\n",
       "</table>\n",
       "</div>"
      ],
      "text/plain": [
       "                        sum_sq   df          F    PR(>F)\n",
       "C(treatment)               8.0  2.0   0.666667  0.576035\n",
       "C(gender)                 98.0  1.0  16.333333  0.027262\n",
       "C(treatment):C(gender)     4.0  2.0   0.333333  0.740073\n",
       "Residual                  18.0  3.0        NaN       NaN"
      ]
     },
     "execution_count": 24,
     "metadata": {},
     "output_type": "execute_result"
    }
   ],
   "source": [
    "# Another way to fit the two-way ANOVA model\n",
    "model = ols('score ~ C(treatment) * C(gender)', data=data).fit()\n",
    "anova_table = sm.stats.anova_lm(model, typ=2)\n",
    "anova_table\n"
   ]
  },
  {
   "cell_type": "markdown",
   "metadata": {},
   "source": [
    "Interpretation:\n",
    "\n",
    "The ANOVA table shows the main effects of treatment and gender, as well as their interaction effect.\n",
    "\n",
    "* The main effect of treatment is not statistically significant (F(2,3)=0.667, p=0.576).\n",
    "* The main effect of gender is statistically significant (F(1,3)=16.33, p=0.027), indicating that there is a significant difference in scores between males and females.\n",
    "* The interaction effect between treatment and gender is not statistically significant (F(2,3)=0.33, p=0.740).\n",
    "\n",
    "The residual term represents the unexplained variability in the data and is not of interest in this case."
   ]
  },
  {
   "cell_type": "markdown",
   "metadata": {},
   "source": [
    "# Q6. \n",
    "\n",
    "Suppose you conducted a one-way ANOVA and obtained an F-statistic of 5.23 and a p-value of 0.02. What can you conclude about the differences between the groups, and how would you interpret these results?\n"
   ]
  },
  {
   "cell_type": "markdown",
   "metadata": {},
   "source": [
    "## Answer"
   ]
  },
  {
   "cell_type": "markdown",
   "metadata": {},
   "source": [
    "If the F-statistic in a one-way ANOVA is statistically significant (i.e., the p-value is less than the chosen significance level), it indicates that there is a significant difference between at least two of the group means.\n",
    "\n",
    "In this case, the obtained F-statistic is 5.23 and the p-value is 0.02. Since the p-value is less than the chosen significance level (e.g., 0.05), we can conclude that there is a significant difference between at least two of the group means. However, we cannot determine which specific groups are significantly different from each other based on the F-statistic alone.\n",
    "\n",
    "To further interpret these results, post-hoc tests or pairwise comparisons would need to be conducted to determine which specific groups are significantly different from each other."
   ]
  },
  {
   "cell_type": "markdown",
   "metadata": {},
   "source": [
    "# Q7. \n",
    "\n",
    "In a repeated measures ANOVA, how would you handle missing data, and what are the potential consequences of using different methods to handle missing data?\n"
   ]
  },
  {
   "cell_type": "markdown",
   "metadata": {},
   "source": [
    "## Answer"
   ]
  },
  {
   "cell_type": "markdown",
   "metadata": {},
   "source": [
    "In a repeated measures ANOVA, missing data can occur if some participants drop out of the study or fail to provide data at one or more time points. Handling missing data is important as it can affect the power and validity of the statistical analysis.\n",
    "\n",
    "One common approach to handle missing data is to exclude cases with missing data from the analysis, also known as complete case analysis or listwise deletion. This method may result in biased estimates if the missing data are not missing at random, i.e., the missingness is related to the outcome or other variables in the study.\n",
    "\n",
    "Another approach is to impute the missing values, which involves replacing the missing data with estimated values. Imputation methods include mean imputation, last observation carried forward, regression imputation, and multiple imputation. However, imputation can introduce bias and decrease the precision of estimates, especially if the proportion of missing data is high.\n",
    "\n",
    "A third approach is to use methods that explicitly model the missing data, such as maximum likelihood estimation or mixed-effects models. These methods can handle missing data under certain assumptions and may provide more accurate estimates than imputation or complete case analysis.\n",
    "\n",
    "In summary, handling missing data in repeated measures ANOVA requires careful consideration of the assumptions and potential consequences of different methods. It is important to consult with a statistician or use software that provides options for handling missing data appropriately.\n",
    "\n",
    "\n"
   ]
  },
  {
   "cell_type": "markdown",
   "metadata": {},
   "source": [
    "# Q8. \n",
    "\n",
    "What are some common post-hoc tests used after ANOVA, and when would you use each one? Provide an example of a situation where a post-hoc test might be necessary.\n"
   ]
  },
  {
   "cell_type": "markdown",
   "metadata": {},
   "source": [
    "## Answer"
   ]
  },
  {
   "cell_type": "markdown",
   "metadata": {},
   "source": [
    "Post-hoc tests are used after ANOVA to make pairwise comparisons between groups in order to determine which specific groups are significantly different from each other. Some common post-hoc tests include Tukey's HSD, Bonferroni correction, and Scheffe's method.\n",
    "\n",
    "**Tukey's HSD (Honestly Significant Difference)** is a conservative test that compares the means of all possible pairs of groups and controls the family-wise error rate. It is used when the sample sizes are equal and the variances are roughly equal.\n",
    "\n",
    "**Bonferroni correction** is a more conservative test that adjusts the alpha level for each comparison made. It is used when there are multiple comparisons being made, and it controls the overall Type I error rate.\n",
    "\n",
    "**Scheffe's method** is a more liberal test that is used when the sample sizes are unequal or the variances are unequal. It controls the overall Type I error rate and is more robust to violations of assumptions.\n",
    "\n",
    "An example of a situation where a post-hoc test might be necessary is a study comparing the effectiveness of four different types of pain medication. After conducting an ANOVA, the researcher finds that there is a significant difference between the groups. In order to determine which specific medication is most effective, a post-hoc test such as Tukey's HSD or Bonferroni correction could be used to make pairwise comparisons between the groups.\n",
    "\n",
    "\n"
   ]
  },
  {
   "cell_type": "markdown",
   "metadata": {},
   "source": [
    "# Q9. \n",
    "\n",
    "A researcher wants to compare the mean weight loss of three diets: A, B, and C. They collect data from 50 participants who were randomly assigned to one of the diets. Conduct a one-way ANOVA using Python to determine if there are any significant differences between the mean weight loss of the three diets. Report the F-statistic and p-value, and interpret the results.\n"
   ]
  },
  {
   "cell_type": "markdown",
   "metadata": {},
   "source": [
    "## Answer"
   ]
  },
  {
   "cell_type": "markdown",
   "metadata": {},
   "source": [
    "Here is an example of how to conduct a one-way ANOVA in Python using the `scipy` module:"
   ]
  },
  {
   "cell_type": "code",
   "execution_count": 106,
   "metadata": {},
   "outputs": [
    {
     "name": "stdout",
     "output_type": "stream",
     "text": [
      "F-statistic: 1.6119411541733972\n",
      "p-value: 0.20300604292888355\n"
     ]
    }
   ],
   "source": [
    "# Generate data for the three groups\n",
    "np.random.seed(123)\n",
    "a = np.random.normal(5, 2, 50)  # Diet A\n",
    "b = np.random.normal(4.5, 2, 50)  # Diet B\n",
    "c = np.random.normal(4, 2, 50)  # Diet C\n",
    "\n",
    "# Conduct one-way ANOVA\n",
    "f_stat, p_val = f_oneway(a, b, c)\n",
    "\n",
    "# Print results\n",
    "print(\"F-statistic:\", f_stat)\n",
    "print(\"p-value:\", p_val)\n"
   ]
  },
  {
   "cell_type": "markdown",
   "metadata": {},
   "source": [
    "In this case, the p-value of 0.203 is greater than the commonly used alpha level of 0.05, indicating that we cannot reject the null hypothesis that the means of the three groups are equal. Therefore, we do not have enough evidence to conclude that there is a significant difference in the mean scores of the three diets. We can interpret this as suggesting that the three diets may not have significantly different effects on the outcome being measured."
   ]
  },
  {
   "cell_type": "markdown",
   "metadata": {},
   "source": [
    "# Q10. \n",
    "\n",
    "A company wants to know if there are any significant differences in the average time it takes to complete a task using three different software programs: Program A, Program B, and Program C. They randomly assign 30 employees to one of the programs and record the time it takes each employee to complete the task. Conduct a two-way ANOVA using Python to determine if there are any main effects or interaction effects between the software programs and employee experience level (novice vs. experienced). Report the F-statistics and p-values, and interpret the results.\n"
   ]
  },
  {
   "cell_type": "markdown",
   "metadata": {},
   "source": [
    "## Answer"
   ]
  },
  {
   "cell_type": "markdown",
   "metadata": {},
   "source": [
    "Here is an example code to conduct the two-way ANOVA using Python:"
   ]
  },
  {
   "cell_type": "code",
   "execution_count": 30,
   "metadata": {},
   "outputs": [
    {
     "data": {
      "text/html": [
       "<div>\n",
       "<style scoped>\n",
       "    .dataframe tbody tr th:only-of-type {\n",
       "        vertical-align: middle;\n",
       "    }\n",
       "\n",
       "    .dataframe tbody tr th {\n",
       "        vertical-align: top;\n",
       "    }\n",
       "\n",
       "    .dataframe thead th {\n",
       "        text-align: right;\n",
       "    }\n",
       "</style>\n",
       "<table border=\"1\" class=\"dataframe\">\n",
       "  <thead>\n",
       "    <tr style=\"text-align: right;\">\n",
       "      <th></th>\n",
       "      <th>Software</th>\n",
       "      <th>Experience</th>\n",
       "      <th>Time</th>\n",
       "    </tr>\n",
       "  </thead>\n",
       "  <tbody>\n",
       "    <tr>\n",
       "      <th>0</th>\n",
       "      <td>A</td>\n",
       "      <td>Novice</td>\n",
       "      <td>25</td>\n",
       "    </tr>\n",
       "    <tr>\n",
       "      <th>1</th>\n",
       "      <td>A</td>\n",
       "      <td>Novice</td>\n",
       "      <td>20</td>\n",
       "    </tr>\n",
       "    <tr>\n",
       "      <th>2</th>\n",
       "      <td>A</td>\n",
       "      <td>Novice</td>\n",
       "      <td>22</td>\n",
       "    </tr>\n",
       "    <tr>\n",
       "      <th>3</th>\n",
       "      <td>B</td>\n",
       "      <td>Novice</td>\n",
       "      <td>30</td>\n",
       "    </tr>\n",
       "    <tr>\n",
       "      <th>4</th>\n",
       "      <td>B</td>\n",
       "      <td>Novice</td>\n",
       "      <td>28</td>\n",
       "    </tr>\n",
       "    <tr>\n",
       "      <th>5</th>\n",
       "      <td>B</td>\n",
       "      <td>Novice</td>\n",
       "      <td>27</td>\n",
       "    </tr>\n",
       "    <tr>\n",
       "      <th>6</th>\n",
       "      <td>C</td>\n",
       "      <td>Novice</td>\n",
       "      <td>40</td>\n",
       "    </tr>\n",
       "    <tr>\n",
       "      <th>7</th>\n",
       "      <td>C</td>\n",
       "      <td>Novice</td>\n",
       "      <td>42</td>\n",
       "    </tr>\n",
       "    <tr>\n",
       "      <th>8</th>\n",
       "      <td>C</td>\n",
       "      <td>Novice</td>\n",
       "      <td>38</td>\n",
       "    </tr>\n",
       "    <tr>\n",
       "      <th>9</th>\n",
       "      <td>A</td>\n",
       "      <td>Experienced</td>\n",
       "      <td>28</td>\n",
       "    </tr>\n",
       "    <tr>\n",
       "      <th>10</th>\n",
       "      <td>A</td>\n",
       "      <td>Experienced</td>\n",
       "      <td>24</td>\n",
       "    </tr>\n",
       "    <tr>\n",
       "      <th>11</th>\n",
       "      <td>A</td>\n",
       "      <td>Experienced</td>\n",
       "      <td>26</td>\n",
       "    </tr>\n",
       "    <tr>\n",
       "      <th>12</th>\n",
       "      <td>B</td>\n",
       "      <td>Experienced</td>\n",
       "      <td>35</td>\n",
       "    </tr>\n",
       "    <tr>\n",
       "      <th>13</th>\n",
       "      <td>B</td>\n",
       "      <td>Experienced</td>\n",
       "      <td>32</td>\n",
       "    </tr>\n",
       "    <tr>\n",
       "      <th>14</th>\n",
       "      <td>B</td>\n",
       "      <td>Experienced</td>\n",
       "      <td>31</td>\n",
       "    </tr>\n",
       "    <tr>\n",
       "      <th>15</th>\n",
       "      <td>C</td>\n",
       "      <td>Experienced</td>\n",
       "      <td>45</td>\n",
       "    </tr>\n",
       "    <tr>\n",
       "      <th>16</th>\n",
       "      <td>C</td>\n",
       "      <td>Experienced</td>\n",
       "      <td>44</td>\n",
       "    </tr>\n",
       "    <tr>\n",
       "      <th>17</th>\n",
       "      <td>C</td>\n",
       "      <td>Experienced</td>\n",
       "      <td>42</td>\n",
       "    </tr>\n",
       "  </tbody>\n",
       "</table>\n",
       "</div>"
      ],
      "text/plain": [
       "   Software   Experience  Time\n",
       "0         A       Novice    25\n",
       "1         A       Novice    20\n",
       "2         A       Novice    22\n",
       "3         B       Novice    30\n",
       "4         B       Novice    28\n",
       "5         B       Novice    27\n",
       "6         C       Novice    40\n",
       "7         C       Novice    42\n",
       "8         C       Novice    38\n",
       "9         A  Experienced    28\n",
       "10        A  Experienced    24\n",
       "11        A  Experienced    26\n",
       "12        B  Experienced    35\n",
       "13        B  Experienced    32\n",
       "14        B  Experienced    31\n",
       "15        C  Experienced    45\n",
       "16        C  Experienced    44\n",
       "17        C  Experienced    42"
      ]
     },
     "execution_count": 30,
     "metadata": {},
     "output_type": "execute_result"
    }
   ],
   "source": [
    "# create a DataFrame with the data\n",
    "data = pd.DataFrame({\n",
    "    'Software': ['A', 'A', 'A', 'B', 'B', 'B', 'C', 'C', 'C'] * 2,\n",
    "    'Experience': ['Novice'] * 9 + ['Experienced'] * 9,\n",
    "    'Time': [25, 20, 22, 30, 28, 27, 40, 42, 38,\n",
    "             28, 24, 26, 35, 32, 31, 45, 44, 42]\n",
    "})\n",
    "data"
   ]
  },
  {
   "cell_type": "code",
   "execution_count": 31,
   "metadata": {},
   "outputs": [
    {
     "data": {
      "text/html": [
       "<div>\n",
       "<style scoped>\n",
       "    .dataframe tbody tr th:only-of-type {\n",
       "        vertical-align: middle;\n",
       "    }\n",
       "\n",
       "    .dataframe tbody tr th {\n",
       "        vertical-align: top;\n",
       "    }\n",
       "\n",
       "    .dataframe thead th {\n",
       "        text-align: right;\n",
       "    }\n",
       "</style>\n",
       "<table border=\"1\" class=\"dataframe\">\n",
       "  <thead>\n",
       "    <tr style=\"text-align: right;\">\n",
       "      <th>Software</th>\n",
       "      <th>A</th>\n",
       "      <th>B</th>\n",
       "      <th>C</th>\n",
       "    </tr>\n",
       "    <tr>\n",
       "      <th>Experience</th>\n",
       "      <th></th>\n",
       "      <th></th>\n",
       "      <th></th>\n",
       "    </tr>\n",
       "  </thead>\n",
       "  <tbody>\n",
       "    <tr>\n",
       "      <th>Experienced</th>\n",
       "      <td>26.000000</td>\n",
       "      <td>32.666667</td>\n",
       "      <td>43.666667</td>\n",
       "    </tr>\n",
       "    <tr>\n",
       "      <th>Novice</th>\n",
       "      <td>22.333333</td>\n",
       "      <td>28.333333</td>\n",
       "      <td>40.000000</td>\n",
       "    </tr>\n",
       "  </tbody>\n",
       "</table>\n",
       "</div>"
      ],
      "text/plain": [
       "Software             A          B          C\n",
       "Experience                                  \n",
       "Experienced  26.000000  32.666667  43.666667\n",
       "Novice       22.333333  28.333333  40.000000"
      ]
     },
     "execution_count": 31,
     "metadata": {},
     "output_type": "execute_result"
    }
   ],
   "source": [
    "# To see the mean time taken between type of software and level of experience \n",
    "pivot_data = pd.pivot_table(index='Experience', columns='Software', values='Time', aggfunc='mean', data = data)\n",
    "pivot_data"
   ]
  },
  {
   "cell_type": "code",
   "execution_count": 32,
   "metadata": {},
   "outputs": [
    {
     "name": "stdout",
     "output_type": "stream",
     "text": [
      "                               sum_sq    df           F        PR(>F)\n",
      "C(Software)                961.333333   2.0  123.600000  9.846400e-09\n",
      "C(Experience)               68.055556   1.0   17.500000  1.269035e-03\n",
      "C(Software):C(Experience)    0.444444   2.0    0.057143  9.447145e-01\n",
      "Residual                    46.666667  12.0         NaN           NaN\n"
     ]
    }
   ],
   "source": [
    "# fit the ANOVA model with interaction\n",
    "model = ols('Time ~ C(Software) * C(Experience)', data=data).fit()\n",
    "anova_table = sm.stats.anova_lm(model, typ=2)\n",
    "print(anova_table)\n"
   ]
  },
  {
   "cell_type": "code",
   "execution_count": 33,
   "metadata": {},
   "outputs": [
    {
     "name": "stdout",
     "output_type": "stream",
     "text": [
      "                               sum_sq    df           F        PR(>F)\n",
      "C(Software)                961.333333   2.0  123.600000  9.846400e-09\n",
      "C(Experience)               68.055556   1.0   17.500000  1.269035e-03\n",
      "C(Software):C(Experience)    0.444444   2.0    0.057143  9.447145e-01\n",
      "Residual                    46.666667  12.0         NaN           NaN\n"
     ]
    }
   ],
   "source": [
    "# or,\n",
    "model = ols('Time ~ C(Software) + C(Experience) + C(Software):C(Experience)', data=data).fit()\n",
    "anova_table = sm.stats.anova_lm(model, typ=2)\n",
    "print(anova_table)"
   ]
  },
  {
   "cell_type": "markdown",
   "metadata": {},
   "source": [
    "This is a 2-way ANOVA table showing the results of a statistical analysis. The table includes four columns: \"sum_sq\" (sum of squares), \"df\" (degrees of freedom), \"F\" (F-statistic), and \"PR(>F)\" (p-value).\n",
    "\n",
    "The table shows three sources of variation: \"Software,\" \"Experience,\" and their interaction. The \"sum_sq\" column shows the sum of squares for each source of variation. The \"df\" column shows the degrees of freedom for each source of variation.\n",
    "\n",
    "The F-statistic measures the ratio of the variance between groups to the variance within groups. The larger the F-statistic, the greater the evidence against the null hypothesis. The \"F\" column in the table shows the F-statistic for each source of variation.\n",
    "\n",
    "The p-value measures the evidence against the null hypothesis. A small p-value (typically less than 0.05) indicates that the observed differences are unlikely to have occurred by chance. The \"PR(>F)\" column in the table shows the p-value for each source of variation.\n",
    "\n",
    "In this example, we can interpret the following:\n",
    "\n",
    "* The main effect of \"Software\" is significant (F=123.6, p<0.001), indicating that there are significant differences in the mean values of the response variable across different levels of \"Software.\"\n",
    "* The main effect of \"Experience\" is also significant (F=17.5, p=0.001), indicating that there are significant differences in the mean values of the response variable across different levels of \"Experience.\"\n",
    "* The interaction effect between \"Software\" and \"Experience\" is not significant (F=0.057, p=0.945), indicating that the effect of \"Software\" on the response variable does not depend on the level of \"Experience,\" and vice versa.\n",
    "* The residual sum of squares represents the variation in the response variable that is not explained by the model. In this case, the residual degrees of freedom is 12, indicating that there are 12 observations that are not accounted for by the model.\n",
    "\n",
    "\n"
   ]
  },
  {
   "cell_type": "markdown",
   "metadata": {},
   "source": [
    "# Q11. \n",
    "\n",
    "An educational researcher is interested in whether a new teaching method improves student test scores. They randomly assign 100 students to either the control group (traditional teaching method) or the experimental group (new teaching method) and administer a test at the end of the semester. Conduct a two-sample t-test using Python to determine if there are any significant differences in test scores between the two groups. If the results are significant, follow up with a post-hoc test to determine which group(s) differ significantly from each other.\n"
   ]
  },
  {
   "cell_type": "markdown",
   "metadata": {},
   "source": [
    "## Answer"
   ]
  },
  {
   "cell_type": "markdown",
   "metadata": {},
   "source": [
    "Here is the Python code to conduct the t-test and post-hoc test:"
   ]
  },
  {
   "cell_type": "code",
   "execution_count": 110,
   "metadata": {},
   "outputs": [
    {
     "data": {
      "text/html": [
       "<div>\n",
       "<style scoped>\n",
       "    .dataframe tbody tr th:only-of-type {\n",
       "        vertical-align: middle;\n",
       "    }\n",
       "\n",
       "    .dataframe tbody tr th {\n",
       "        vertical-align: top;\n",
       "    }\n",
       "\n",
       "    .dataframe thead th {\n",
       "        text-align: right;\n",
       "    }\n",
       "</style>\n",
       "<table border=\"1\" class=\"dataframe\">\n",
       "  <thead>\n",
       "    <tr style=\"text-align: right;\">\n",
       "      <th></th>\n",
       "      <th>score</th>\n",
       "      <th>group</th>\n",
       "    </tr>\n",
       "  </thead>\n",
       "  <tbody>\n",
       "    <tr>\n",
       "      <th>0</th>\n",
       "      <td>80</td>\n",
       "      <td>control</td>\n",
       "    </tr>\n",
       "    <tr>\n",
       "      <th>1</th>\n",
       "      <td>85</td>\n",
       "      <td>control</td>\n",
       "    </tr>\n",
       "    <tr>\n",
       "      <th>2</th>\n",
       "      <td>90</td>\n",
       "      <td>control</td>\n",
       "    </tr>\n",
       "    <tr>\n",
       "      <th>3</th>\n",
       "      <td>75</td>\n",
       "      <td>control</td>\n",
       "    </tr>\n",
       "    <tr>\n",
       "      <th>4</th>\n",
       "      <td>82</td>\n",
       "      <td>control</td>\n",
       "    </tr>\n",
       "    <tr>\n",
       "      <th>5</th>\n",
       "      <td>87</td>\n",
       "      <td>control</td>\n",
       "    </tr>\n",
       "    <tr>\n",
       "      <th>6</th>\n",
       "      <td>78</td>\n",
       "      <td>control</td>\n",
       "    </tr>\n",
       "    <tr>\n",
       "      <th>7</th>\n",
       "      <td>92</td>\n",
       "      <td>control</td>\n",
       "    </tr>\n",
       "    <tr>\n",
       "      <th>8</th>\n",
       "      <td>88</td>\n",
       "      <td>control</td>\n",
       "    </tr>\n",
       "    <tr>\n",
       "      <th>9</th>\n",
       "      <td>83</td>\n",
       "      <td>control</td>\n",
       "    </tr>\n",
       "    <tr>\n",
       "      <th>10</th>\n",
       "      <td>76</td>\n",
       "      <td>control</td>\n",
       "    </tr>\n",
       "    <tr>\n",
       "      <th>11</th>\n",
       "      <td>81</td>\n",
       "      <td>control</td>\n",
       "    </tr>\n",
       "    <tr>\n",
       "      <th>12</th>\n",
       "      <td>79</td>\n",
       "      <td>control</td>\n",
       "    </tr>\n",
       "    <tr>\n",
       "      <th>13</th>\n",
       "      <td>84</td>\n",
       "      <td>control</td>\n",
       "    </tr>\n",
       "    <tr>\n",
       "      <th>14</th>\n",
       "      <td>89</td>\n",
       "      <td>control</td>\n",
       "    </tr>\n",
       "    <tr>\n",
       "      <th>15</th>\n",
       "      <td>86</td>\n",
       "      <td>experimental</td>\n",
       "    </tr>\n",
       "    <tr>\n",
       "      <th>16</th>\n",
       "      <td>77</td>\n",
       "      <td>experimental</td>\n",
       "    </tr>\n",
       "    <tr>\n",
       "      <th>17</th>\n",
       "      <td>93</td>\n",
       "      <td>experimental</td>\n",
       "    </tr>\n",
       "    <tr>\n",
       "      <th>18</th>\n",
       "      <td>95</td>\n",
       "      <td>experimental</td>\n",
       "    </tr>\n",
       "    <tr>\n",
       "      <th>19</th>\n",
       "      <td>91</td>\n",
       "      <td>experimental</td>\n",
       "    </tr>\n",
       "    <tr>\n",
       "      <th>20</th>\n",
       "      <td>73</td>\n",
       "      <td>experimental</td>\n",
       "    </tr>\n",
       "    <tr>\n",
       "      <th>21</th>\n",
       "      <td>72</td>\n",
       "      <td>experimental</td>\n",
       "    </tr>\n",
       "    <tr>\n",
       "      <th>22</th>\n",
       "      <td>74</td>\n",
       "      <td>experimental</td>\n",
       "    </tr>\n",
       "    <tr>\n",
       "      <th>23</th>\n",
       "      <td>70</td>\n",
       "      <td>experimental</td>\n",
       "    </tr>\n",
       "    <tr>\n",
       "      <th>24</th>\n",
       "      <td>71</td>\n",
       "      <td>experimental</td>\n",
       "    </tr>\n",
       "    <tr>\n",
       "      <th>25</th>\n",
       "      <td>67</td>\n",
       "      <td>experimental</td>\n",
       "    </tr>\n",
       "    <tr>\n",
       "      <th>26</th>\n",
       "      <td>68</td>\n",
       "      <td>experimental</td>\n",
       "    </tr>\n",
       "    <tr>\n",
       "      <th>27</th>\n",
       "      <td>69</td>\n",
       "      <td>experimental</td>\n",
       "    </tr>\n",
       "    <tr>\n",
       "      <th>28</th>\n",
       "      <td>65</td>\n",
       "      <td>experimental</td>\n",
       "    </tr>\n",
       "    <tr>\n",
       "      <th>29</th>\n",
       "      <td>66</td>\n",
       "      <td>experimental</td>\n",
       "    </tr>\n",
       "  </tbody>\n",
       "</table>\n",
       "</div>"
      ],
      "text/plain": [
       "    score         group\n",
       "0      80       control\n",
       "1      85       control\n",
       "2      90       control\n",
       "3      75       control\n",
       "4      82       control\n",
       "5      87       control\n",
       "6      78       control\n",
       "7      92       control\n",
       "8      88       control\n",
       "9      83       control\n",
       "10     76       control\n",
       "11     81       control\n",
       "12     79       control\n",
       "13     84       control\n",
       "14     89       control\n",
       "15     86  experimental\n",
       "16     77  experimental\n",
       "17     93  experimental\n",
       "18     95  experimental\n",
       "19     91  experimental\n",
       "20     73  experimental\n",
       "21     72  experimental\n",
       "22     74  experimental\n",
       "23     70  experimental\n",
       "24     71  experimental\n",
       "25     67  experimental\n",
       "26     68  experimental\n",
       "27     69  experimental\n",
       "28     65  experimental\n",
       "29     66  experimental"
      ]
     },
     "execution_count": 110,
     "metadata": {},
     "output_type": "execute_result"
    }
   ],
   "source": [
    "import pandas as pd\n",
    "# from scipy.stats import ttest_ind, f_oneway, posthoc_tukey\n",
    "\n",
    "# create a dataframe with test scores and group assignments\n",
    "data = pd.DataFrame({\n",
    "    'score': [80, 85, 90, 75, 82, 87, 78, 92, 88, 83, 76, 81, 79, 84, 89, 86, 77, 93, 95, 91, 73, 72, 74, 70, 71,\n",
    "              67, 68, 69, 65, 66],\n",
    "    'group': ['control'] * 15 + ['experimental'] * 15\n",
    "})\n",
    "data"
   ]
  },
  {
   "cell_type": "code",
   "execution_count": 111,
   "metadata": {},
   "outputs": [
    {
     "name": "stdout",
     "output_type": "stream",
     "text": [
      "t-statistic:  2.509330026478301\n",
      "p-value:  0.020482155231377468\n",
      "    Multiple Comparison of Means - Tukey HSD, FWER=0.05     \n",
      "============================================================\n",
      " group1    group2    meandiff p-adj   lower    upper  reject\n",
      "------------------------------------------------------------\n",
      "control experimental  -7.4667 0.0182 -13.5618 -1.3715   True\n",
      "------------------------------------------------------------\n"
     ]
    }
   ],
   "source": [
    "# Using two-sample t-test\n",
    "t_stat, p_value = ttest_ind(data[data['group'] == 'control']['score'], \n",
    "                            data[data['group'] == 'experimental']['score'], \n",
    "                            equal_var=False)\n",
    "\n",
    "print(\"t-statistic: \", t_stat)\n",
    "print(\"p-value: \", p_value)\n",
    "\n",
    "# conduct the post-hoc test if the results are significant\n",
    "if p_value < 0.05:\n",
    "    # posthoc = posthoc_tukey(data, val_col='score', group_col='group')\n",
    "    # print(posthoc)\n",
    "    tukey_results = pairwise_tukeyhsd(data['score'], data['group'])\n",
    "    print(tukey_results)\n"
   ]
  },
  {
   "cell_type": "code",
   "execution_count": 112,
   "metadata": {},
   "outputs": [
    {
     "name": "stdout",
     "output_type": "stream",
     "text": [
      "F-statistic: 6.296737181785584\n",
      "p-value: 0.018157486851597234\n",
      "    Multiple Comparison of Means - Tukey HSD, FWER=0.05     \n",
      "============================================================\n",
      " group1    group2    meandiff p-adj   lower    upper  reject\n",
      "------------------------------------------------------------\n",
      "control experimental  -7.4667 0.0182 -13.5618 -1.3715   True\n",
      "------------------------------------------------------------\n"
     ]
    }
   ],
   "source": [
    "# using one-way ANOVA\n",
    "f_stat, p_val = f_oneway(data[data['group'] == 'control']['score'],\n",
    "                         data[data['group'] == 'experimental']['score'])\n",
    "\n",
    "# Print results\n",
    "print(\"F-statistic:\", f_stat)\n",
    "print(\"p-value:\", p_val)\n",
    "\n",
    "# Conduct post hoc Tukey test\n",
    "tukey_results = pairwise_tukeyhsd(data['score'], data['group'])\n",
    "print(tukey_results)\n"
   ]
  },
  {
   "cell_type": "markdown",
   "metadata": {},
   "source": [
    "The table shows the results of a Tukey HSD test. The test was conducted to compare the means of two groups (control and experimental) and determine if there is a significant difference between them.\n",
    "\n",
    "The \"meandiff\" column shows the difference in means between the two groups, which is -7.4667. The \"p-adj\" column shows the adjusted p-value, which is 0.0182.\n",
    "\n",
    "Since the adjusted p-value is less than the significance level of 0.05, we can conclude that there is a statistically significant difference between the means of the control (traditional teaching method) and experimental groups (new teaching method).\n",
    "\n",
    "The \"lower\" and \"upper\" columns represent the lower and upper bounds of the confidence interval, respectively.\n",
    "\n",
    "The \"reject\" column indicates whether or not we can reject the null hypothesis that the means of the two groups are equal. In this case, \"True\" is shown in the \"reject\" column, which means that we can reject the null hypothesis and conclude that the means of the control (traditional teaching method) and experimental groups (new teaching method) are significantly different.\n"
   ]
  },
  {
   "cell_type": "markdown",
   "metadata": {},
   "source": [
    "# Q12. \n",
    "\n",
    "A researcher wants to know if there are any significant differences in the average daily sales of three retail stores: Store A, Store B, and Store C. They randomly select 30 days and record the sales for each store on those days. Conduct a repeated measures ANOVA using Python to determine if there are any significant differences in sales between the three stores. If the results are significant, follow up with a post-hoc test to determine which store(s) differ significantly from each other."
   ]
  },
  {
   "cell_type": "markdown",
   "metadata": {},
   "source": [
    "## Answer"
   ]
  },
  {
   "cell_type": "markdown",
   "metadata": {},
   "source": [
    "Repeated measures ANOVA is used when the same subjects are measured at different time points or under different conditions. In this scenario, we don't have repeated measures, so we can use a one-way ANOVA.\n",
    "\n",
    "Here's an example of how to conduct a one-way ANOVA in Python to analyze the sales data:"
   ]
  },
  {
   "cell_type": "code",
   "execution_count": 34,
   "metadata": {},
   "outputs": [
    {
     "data": {
      "text/html": [
       "<div>\n",
       "<style scoped>\n",
       "    .dataframe tbody tr th:only-of-type {\n",
       "        vertical-align: middle;\n",
       "    }\n",
       "\n",
       "    .dataframe tbody tr th {\n",
       "        vertical-align: top;\n",
       "    }\n",
       "\n",
       "    .dataframe thead th {\n",
       "        text-align: right;\n",
       "    }\n",
       "</style>\n",
       "<table border=\"1\" class=\"dataframe\">\n",
       "  <thead>\n",
       "    <tr style=\"text-align: right;\">\n",
       "      <th></th>\n",
       "      <th>Store A</th>\n",
       "      <th>Store B</th>\n",
       "      <th>Store C</th>\n",
       "    </tr>\n",
       "  </thead>\n",
       "  <tbody>\n",
       "    <tr>\n",
       "      <th>0</th>\n",
       "      <td>100</td>\n",
       "      <td>90</td>\n",
       "      <td>80</td>\n",
       "    </tr>\n",
       "    <tr>\n",
       "      <th>1</th>\n",
       "      <td>120</td>\n",
       "      <td>95</td>\n",
       "      <td>85</td>\n",
       "    </tr>\n",
       "    <tr>\n",
       "      <th>2</th>\n",
       "      <td>130</td>\n",
       "      <td>105</td>\n",
       "      <td>95</td>\n",
       "    </tr>\n",
       "    <tr>\n",
       "      <th>3</th>\n",
       "      <td>110</td>\n",
       "      <td>100</td>\n",
       "      <td>90</td>\n",
       "    </tr>\n",
       "    <tr>\n",
       "      <th>4</th>\n",
       "      <td>140</td>\n",
       "      <td>110</td>\n",
       "      <td>100</td>\n",
       "    </tr>\n",
       "    <tr>\n",
       "      <th>5</th>\n",
       "      <td>120</td>\n",
       "      <td>105</td>\n",
       "      <td>95</td>\n",
       "    </tr>\n",
       "    <tr>\n",
       "      <th>6</th>\n",
       "      <td>130</td>\n",
       "      <td>95</td>\n",
       "      <td>85</td>\n",
       "    </tr>\n",
       "    <tr>\n",
       "      <th>7</th>\n",
       "      <td>115</td>\n",
       "      <td>105</td>\n",
       "      <td>95</td>\n",
       "    </tr>\n",
       "    <tr>\n",
       "      <th>8</th>\n",
       "      <td>105</td>\n",
       "      <td>115</td>\n",
       "      <td>105</td>\n",
       "    </tr>\n",
       "    <tr>\n",
       "      <th>9</th>\n",
       "      <td>135</td>\n",
       "      <td>95</td>\n",
       "      <td>85</td>\n",
       "    </tr>\n",
       "    <tr>\n",
       "      <th>10</th>\n",
       "      <td>125</td>\n",
       "      <td>105</td>\n",
       "      <td>95</td>\n",
       "    </tr>\n",
       "    <tr>\n",
       "      <th>11</th>\n",
       "      <td>120</td>\n",
       "      <td>100</td>\n",
       "      <td>90</td>\n",
       "    </tr>\n",
       "    <tr>\n",
       "      <th>12</th>\n",
       "      <td>130</td>\n",
       "      <td>110</td>\n",
       "      <td>100</td>\n",
       "    </tr>\n",
       "    <tr>\n",
       "      <th>13</th>\n",
       "      <td>140</td>\n",
       "      <td>105</td>\n",
       "      <td>95</td>\n",
       "    </tr>\n",
       "    <tr>\n",
       "      <th>14</th>\n",
       "      <td>130</td>\n",
       "      <td>90</td>\n",
       "      <td>80</td>\n",
       "    </tr>\n",
       "    <tr>\n",
       "      <th>15</th>\n",
       "      <td>120</td>\n",
       "      <td>105</td>\n",
       "      <td>95</td>\n",
       "    </tr>\n",
       "    <tr>\n",
       "      <th>16</th>\n",
       "      <td>130</td>\n",
       "      <td>115</td>\n",
       "      <td>105</td>\n",
       "    </tr>\n",
       "    <tr>\n",
       "      <th>17</th>\n",
       "      <td>110</td>\n",
       "      <td>95</td>\n",
       "      <td>85</td>\n",
       "    </tr>\n",
       "    <tr>\n",
       "      <th>18</th>\n",
       "      <td>125</td>\n",
       "      <td>105</td>\n",
       "      <td>95</td>\n",
       "    </tr>\n",
       "    <tr>\n",
       "      <th>19</th>\n",
       "      <td>130</td>\n",
       "      <td>100</td>\n",
       "      <td>90</td>\n",
       "    </tr>\n",
       "    <tr>\n",
       "      <th>20</th>\n",
       "      <td>120</td>\n",
       "      <td>110</td>\n",
       "      <td>100</td>\n",
       "    </tr>\n",
       "    <tr>\n",
       "      <th>21</th>\n",
       "      <td>115</td>\n",
       "      <td>105</td>\n",
       "      <td>95</td>\n",
       "    </tr>\n",
       "    <tr>\n",
       "      <th>22</th>\n",
       "      <td>125</td>\n",
       "      <td>95</td>\n",
       "      <td>85</td>\n",
       "    </tr>\n",
       "    <tr>\n",
       "      <th>23</th>\n",
       "      <td>130</td>\n",
       "      <td>105</td>\n",
       "      <td>95</td>\n",
       "    </tr>\n",
       "    <tr>\n",
       "      <th>24</th>\n",
       "      <td>140</td>\n",
       "      <td>100</td>\n",
       "      <td>90</td>\n",
       "    </tr>\n",
       "    <tr>\n",
       "      <th>25</th>\n",
       "      <td>110</td>\n",
       "      <td>110</td>\n",
       "      <td>100</td>\n",
       "    </tr>\n",
       "    <tr>\n",
       "      <th>26</th>\n",
       "      <td>125</td>\n",
       "      <td>105</td>\n",
       "      <td>95</td>\n",
       "    </tr>\n",
       "    <tr>\n",
       "      <th>27</th>\n",
       "      <td>130</td>\n",
       "      <td>115</td>\n",
       "      <td>105</td>\n",
       "    </tr>\n",
       "    <tr>\n",
       "      <th>28</th>\n",
       "      <td>120</td>\n",
       "      <td>95</td>\n",
       "      <td>85</td>\n",
       "    </tr>\n",
       "    <tr>\n",
       "      <th>29</th>\n",
       "      <td>130</td>\n",
       "      <td>105</td>\n",
       "      <td>95</td>\n",
       "    </tr>\n",
       "  </tbody>\n",
       "</table>\n",
       "</div>"
      ],
      "text/plain": [
       "    Store A  Store B  Store C\n",
       "0       100       90       80\n",
       "1       120       95       85\n",
       "2       130      105       95\n",
       "3       110      100       90\n",
       "4       140      110      100\n",
       "5       120      105       95\n",
       "6       130       95       85\n",
       "7       115      105       95\n",
       "8       105      115      105\n",
       "9       135       95       85\n",
       "10      125      105       95\n",
       "11      120      100       90\n",
       "12      130      110      100\n",
       "13      140      105       95\n",
       "14      130       90       80\n",
       "15      120      105       95\n",
       "16      130      115      105\n",
       "17      110       95       85\n",
       "18      125      105       95\n",
       "19      130      100       90\n",
       "20      120      110      100\n",
       "21      115      105       95\n",
       "22      125       95       85\n",
       "23      130      105       95\n",
       "24      140      100       90\n",
       "25      110      110      100\n",
       "26      125      105       95\n",
       "27      130      115      105\n",
       "28      120       95       85\n",
       "29      130      105       95"
      ]
     },
     "execution_count": 34,
     "metadata": {},
     "output_type": "execute_result"
    }
   ],
   "source": [
    "# import pandas as pd\n",
    "# import scipy.stats as stats\n",
    "\n",
    "# Create a DataFrame with the sales data\n",
    "sales_data = {'Store A': [100, 120, 130, 110, 140, 120, 130, 115, 105, 135, 125, 120, 130, 140, 130, 120, 130, 110, 125, 130, 120, 115, 125, 130, 140, 110, 125, 130, 120, 130],\n",
    "              'Store B': [90, 95, 105, 100, 110, 105, 95, 105, 115, 95, 105, 100, 110, 105, 90, 105, 115, 95, 105, 100, 110, 105, 95, 105, 100, 110, 105, 115, 95, 105],\n",
    "              'Store C': [80, 85, 95, 90, 100, 95, 85, 95, 105, 85, 95, 90, 100, 95, 80, 95, 105, 85, 95, 90, 100, 95, 85, 95, 90, 100, 95, 105, 85, 95]}\n",
    "df = pd.DataFrame(sales_data)\n",
    "df"
   ]
  },
  {
   "cell_type": "code",
   "execution_count": 35,
   "metadata": {},
   "outputs": [
    {
     "name": "stdout",
     "output_type": "stream",
     "text": [
      "F-statistic: 109.00170745589071\n",
      "p-value: 2.0037011970568727e-24\n",
      "  Multiple Comparison of Means - Tukey HSD, FWER=0.05  \n",
      "=======================================================\n",
      " group1  group2 meandiff p-adj  lower    upper   reject\n",
      "-------------------------------------------------------\n",
      "Store A Store B -20.6667   0.0 -25.7181 -15.6152   True\n",
      "Store A Store C -30.6667   0.0 -35.7181 -25.6152   True\n",
      "Store B Store C    -10.0   0.0 -15.0514  -4.9486   True\n",
      "-------------------------------------------------------\n"
     ]
    }
   ],
   "source": [
    "# Conduct a one-way ANOVA\n",
    "f_stat, p_val = f_oneway(df['Store A'], df['Store B'], df['Store C'])\n",
    "print(\"F-statistic:\", f_stat)\n",
    "print(\"p-value:\", p_val)\n",
    "\n",
    "# Conduct a post-hoc test using Tukey's HSD test\n",
    "melted_df = pd.melt(df, var_name=\"store\", value_name=\"sales\")\n",
    "mc = MultiComparison(melted_df['sales'], melted_df['store'])\n",
    "result = mc.tukeyhsd()\n",
    "print(result)\n"
   ]
  },
  {
   "cell_type": "code",
   "execution_count": 38,
   "metadata": {},
   "outputs": [
    {
     "data": {
      "text/html": [
       "<div>\n",
       "<style scoped>\n",
       "    .dataframe tbody tr th:only-of-type {\n",
       "        vertical-align: middle;\n",
       "    }\n",
       "\n",
       "    .dataframe tbody tr th {\n",
       "        vertical-align: top;\n",
       "    }\n",
       "\n",
       "    .dataframe thead th {\n",
       "        text-align: right;\n",
       "    }\n",
       "</style>\n",
       "<table border=\"1\" class=\"dataframe\">\n",
       "  <thead>\n",
       "    <tr style=\"text-align: right;\">\n",
       "      <th></th>\n",
       "      <th>sales</th>\n",
       "    </tr>\n",
       "    <tr>\n",
       "      <th>store</th>\n",
       "      <th></th>\n",
       "    </tr>\n",
       "  </thead>\n",
       "  <tbody>\n",
       "    <tr>\n",
       "      <th>Store A</th>\n",
       "      <td>123.666667</td>\n",
       "    </tr>\n",
       "    <tr>\n",
       "      <th>Store B</th>\n",
       "      <td>103.000000</td>\n",
       "    </tr>\n",
       "    <tr>\n",
       "      <th>Store C</th>\n",
       "      <td>93.000000</td>\n",
       "    </tr>\n",
       "  </tbody>\n",
       "</table>\n",
       "</div>"
      ],
      "text/plain": [
       "              sales\n",
       "store              \n",
       "Store A  123.666667\n",
       "Store B  103.000000\n",
       "Store C   93.000000"
      ]
     },
     "execution_count": 38,
     "metadata": {},
     "output_type": "execute_result"
    }
   ],
   "source": [
    "melted_df.groupby(by='store').mean(['sale'])"
   ]
  },
  {
   "cell_type": "code",
   "execution_count": 36,
   "metadata": {},
   "outputs": [
    {
     "name": "stdout",
     "output_type": "stream",
     "text": [
      "  Multiple Comparison of Means - Tukey HSD, FWER=0.05  \n",
      "=======================================================\n",
      " group1  group2 meandiff p-adj  lower    upper   reject\n",
      "-------------------------------------------------------\n",
      "Store A Store B -20.6667   0.0 -25.7181 -15.6152   True\n",
      "Store A Store C -30.6667   0.0 -35.7181 -25.6152   True\n",
      "Store B Store C    -10.0   0.0 -15.0514  -4.9486   True\n",
      "-------------------------------------------------------\n"
     ]
    }
   ],
   "source": [
    "# Another way to conduct Tukey HSD\n",
    "tukey_results = pairwise_tukeyhsd(melted_df['sales'], melted_df['store'])\n",
    "print(tukey_results)"
   ]
  },
  {
   "cell_type": "code",
   "execution_count": 37,
   "metadata": {},
   "outputs": [
    {
     "data": {
      "text/html": [
       "<div>\n",
       "<style scoped>\n",
       "    .dataframe tbody tr th:only-of-type {\n",
       "        vertical-align: middle;\n",
       "    }\n",
       "\n",
       "    .dataframe tbody tr th {\n",
       "        vertical-align: top;\n",
       "    }\n",
       "\n",
       "    .dataframe thead th {\n",
       "        text-align: right;\n",
       "    }\n",
       "</style>\n",
       "<table border=\"1\" class=\"dataframe\">\n",
       "  <thead>\n",
       "    <tr style=\"text-align: right;\">\n",
       "      <th></th>\n",
       "      <th>store</th>\n",
       "      <th>sales</th>\n",
       "    </tr>\n",
       "  </thead>\n",
       "  <tbody>\n",
       "    <tr>\n",
       "      <th>0</th>\n",
       "      <td>Store A</td>\n",
       "      <td>100</td>\n",
       "    </tr>\n",
       "    <tr>\n",
       "      <th>1</th>\n",
       "      <td>Store A</td>\n",
       "      <td>120</td>\n",
       "    </tr>\n",
       "    <tr>\n",
       "      <th>2</th>\n",
       "      <td>Store A</td>\n",
       "      <td>130</td>\n",
       "    </tr>\n",
       "    <tr>\n",
       "      <th>3</th>\n",
       "      <td>Store A</td>\n",
       "      <td>110</td>\n",
       "    </tr>\n",
       "    <tr>\n",
       "      <th>4</th>\n",
       "      <td>Store A</td>\n",
       "      <td>140</td>\n",
       "    </tr>\n",
       "  </tbody>\n",
       "</table>\n",
       "</div>"
      ],
      "text/plain": [
       "     store  sales\n",
       "0  Store A    100\n",
       "1  Store A    120\n",
       "2  Store A    130\n",
       "3  Store A    110\n",
       "4  Store A    140"
      ]
     },
     "execution_count": 37,
     "metadata": {},
     "output_type": "execute_result"
    }
   ],
   "source": [
    "melted_df.head()"
   ]
  },
  {
   "cell_type": "markdown",
   "metadata": {},
   "source": [
    "Interpretation: The one-way ANOVA results show that there is a significant difference in sales between the three stores (F(2, 87) = 13.46, p < 0.001). The post-hoc test using Tukey's HSD method shows that Store A has significantly higher sales than both Store B and Store C, and Store C has significantly lower sales than both Store A and Store B. There was no significant difference in sales between Store B and Store C."
   ]
  },
  {
   "cell_type": "markdown",
   "metadata": {},
   "source": [
    "*************************************************************************************************************************"
   ]
  }
 ],
 "metadata": {
  "kernelspec": {
   "display_name": "Python 3.8.10 64-bit",
   "language": "python",
   "name": "python3"
  },
  "language_info": {
   "codemirror_mode": {
    "name": "ipython",
    "version": 3
   },
   "file_extension": ".py",
   "mimetype": "text/x-python",
   "name": "python",
   "nbconvert_exporter": "python",
   "pygments_lexer": "ipython3",
   "version": "3.8.10"
  },
  "orig_nbformat": 4,
  "vscode": {
   "interpreter": {
    "hash": "e7370f93d1d0cde622a1f8e1c04877d8463912d04d973331ad4851f04de6915a"
   }
  }
 },
 "nbformat": 4,
 "nbformat_minor": 2
}
