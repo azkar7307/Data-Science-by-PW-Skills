{
  "nbformat": 4,
  "nbformat_minor": 0,
  "metadata": {
    "colab": {
      "provenance": []
    },
    "kernelspec": {
      "name": "python3",
      "display_name": "Python 3"
    },
    "language_info": {
      "name": "python"
    }
  },
  "cells": [
    {
      "cell_type": "markdown",
      "source": [
        "# 4th Feb"
      ],
      "metadata": {
        "id": "H-ER67Rknkwd"
      }
    },
    {
      "cell_type": "markdown",
      "source": [
        "# Q1. "
      ],
      "metadata": {
        "id": "EMhN26fKni1x"
      }
    },
    {
      "cell_type": "markdown",
      "source": [
        "## Create a python program to sort the given list of tuples based on integer value using a lambda function.\n",
        "\n",
        "```      \n",
        "[('Sachin Tendulkar', 34357), ('Ricky Ponting', 27483), ('Jack Kallis', 25534), ('Virat Kohli', 24936)]\n",
        "```"
      ],
      "metadata": {
        "id": "1HnE4d2cn8AO"
      }
    },
    {
      "cell_type": "code",
      "source": [
        "players = [('Sachin Tendulkar', 34357), ('Ricky Ponting', 27483), ('Jack Kallis', 25534), ('Virat Kohli', 24936)]\n",
        "sorted_players = sorted(players, key = lambda x: x[1]) # reverse = True\n",
        "sorted_players"
      ],
      "metadata": {
        "colab": {
          "base_uri": "https://localhost:8080/"
        },
        "id": "STaURMECT5pH",
        "outputId": "71a4f462-412b-4628-d435-d670a7cad836"
      },
      "execution_count": 1,
      "outputs": [
        {
          "output_type": "execute_result",
          "data": {
            "text/plain": [
              "[('Virat Kohli', 24936),\n",
              " ('Jack Kallis', 25534),\n",
              " ('Ricky Ponting', 27483),\n",
              " ('Sachin Tendulkar', 34357)]"
            ]
          },
          "metadata": {},
          "execution_count": 1
        }
      ]
    },
    {
      "cell_type": "markdown",
      "source": [
        "# Q2. "
      ],
      "metadata": {
        "id": "1TshTNeinxGH"
      }
    },
    {
      "cell_type": "markdown",
      "source": [
        "## Write a Python Program to find the squares of all the numbers in the given list of integers using lambda and map functions.\n",
        "\n",
        "```\n",
        "[1, 2, 3, 4, 5, 6, 7, 8, 9, 10]\n",
        "```"
      ],
      "metadata": {
        "id": "dhTb_IPUoA9l"
      }
    },
    {
      "cell_type": "code",
      "source": [
        "nums = [1, 2, 3, 4, 5, 6, 7, 8, 9, 10]\n",
        "square_nums = list(map(lambda x: x**2, nums))\n",
        "square_nums"
      ],
      "metadata": {
        "colab": {
          "base_uri": "https://localhost:8080/"
        },
        "id": "lhN8GijIVVWZ",
        "outputId": "e0fabf4c-b6f2-4c8a-86fd-55c4ae1ed984"
      },
      "execution_count": 2,
      "outputs": [
        {
          "output_type": "execute_result",
          "data": {
            "text/plain": [
              "[1, 4, 9, 16, 25, 36, 49, 64, 81, 100]"
            ]
          },
          "metadata": {},
          "execution_count": 2
        }
      ]
    },
    {
      "cell_type": "markdown",
      "source": [
        "# Q3. \n"
      ],
      "metadata": {
        "id": "2CJDiK-1oIZD"
      }
    },
    {
      "cell_type": "markdown",
      "source": [
        "## Write a python program to convert the given list of integers into a tuple of strings. Use map and lambda functions\n",
        "\n",
        "```\n",
        "Given String: [1, 2, 3, 4, 5, 6, 7, 8, 9, 10]\n",
        "Expected output: ('1', '2', '3', '4', '5', '6', '7', '8', '9', '10')\n",
        "```"
      ],
      "metadata": {
        "id": "pn_HNiQ_pP1d"
      }
    },
    {
      "cell_type": "code",
      "source": [
        "nums = [1, 2, 3, 4, 5, 6, 7, 8, 9, 10]\n",
        "string_nums = tuple(map(lambda x: str(x), nums))\n",
        "string_nums"
      ],
      "metadata": {
        "colab": {
          "base_uri": "https://localhost:8080/"
        },
        "id": "C8A1OxkZW1om",
        "outputId": "7afa9faf-e994-4589-d680-ce236395c18d"
      },
      "execution_count": 3,
      "outputs": [
        {
          "output_type": "execute_result",
          "data": {
            "text/plain": [
              "('1', '2', '3', '4', '5', '6', '7', '8', '9', '10')"
            ]
          },
          "metadata": {},
          "execution_count": 3
        }
      ]
    },
    {
      "cell_type": "markdown",
      "source": [
        "#Q4. \n"
      ],
      "metadata": {
        "id": "ZiZCq5j6oPa0"
      }
    },
    {
      "cell_type": "markdown",
      "source": [
        "##Write a python program using reduce function to compute the product of a list containing numbers from 1 to 25.\n"
      ],
      "metadata": {
        "id": "t-A-w7a5oj27"
      }
    },
    {
      "cell_type": "code",
      "source": [
        "from functools import reduce"
      ],
      "metadata": {
        "id": "MBMpc7h4Xpq9"
      },
      "execution_count": 4,
      "outputs": []
    },
    {
      "cell_type": "code",
      "source": [
        "n = 25\n",
        "nums_product = reduce(lambda x, y: x*y, range(1, n+1))\n",
        "nums_product"
      ],
      "metadata": {
        "colab": {
          "base_uri": "https://localhost:8080/"
        },
        "id": "ZXT4BV-QXlcd",
        "outputId": "cfe358e6-2d63-4ea4-af51-a690c833b5f9"
      },
      "execution_count": 5,
      "outputs": [
        {
          "output_type": "execute_result",
          "data": {
            "text/plain": [
              "15511210043330985984000000"
            ]
          },
          "metadata": {},
          "execution_count": 5
        }
      ]
    },
    {
      "cell_type": "markdown",
      "source": [
        "#Q5. \n"
      ],
      "metadata": {
        "id": "ron_zJHMobje"
      }
    },
    {
      "cell_type": "markdown",
      "source": [
        "## Write a python program to filter the numbers in a given list that are divisible by 2 and 3 using the filter function.\n",
        "\n",
        "```\n",
        "[2, 3, 6, 9, 27, 60, 90, 120, 55, 46]\n",
        "```"
      ],
      "metadata": {
        "id": "NvH3MWjPouH4"
      }
    },
    {
      "cell_type": "code",
      "source": [
        "nums = [2, 3, 6, 9, 27, 60, 90, 120, 55, 46]\n",
        "\n",
        "# nums that are divisible by 2 and 3\n",
        "div_by = list(filter(lambda x: (x%2 == 0) and (x%3 == 0), nums))\n",
        "div_by"
      ],
      "metadata": {
        "colab": {
          "base_uri": "https://localhost:8080/"
        },
        "id": "eVh0JoCFYUEG",
        "outputId": "704da780-bf20-4fe7-efd5-203eb6467911"
      },
      "execution_count": 6,
      "outputs": [
        {
          "output_type": "execute_result",
          "data": {
            "text/plain": [
              "[6, 60, 90, 120]"
            ]
          },
          "metadata": {},
          "execution_count": 6
        }
      ]
    },
    {
      "cell_type": "markdown",
      "source": [
        "# Q6. \n"
      ],
      "metadata": {
        "id": "C7F4-eOaow1D"
      }
    },
    {
      "cell_type": "markdown",
      "source": [
        "## Write a python program to find palindromes in the given list of strings using lambda and filter function.\n",
        "\n",
        "```    \n",
        "['python', 'php', 'aba', 'radar', 'level']\n",
        "```"
      ],
      "metadata": {
        "id": "au95T0y6o3-A"
      }
    },
    {
      "cell_type": "code",
      "source": [
        "list_of_str = ['python', 'php', 'aba', 'radar', 'level']\n",
        "\n",
        "# List of plindrome strings\n",
        "plind_str = list(filter(lambda x: x[::-1] == x, list_of_str))\n",
        "plind_str"
      ],
      "metadata": {
        "colab": {
          "base_uri": "https://localhost:8080/"
        },
        "id": "cD2c6mYCYwxH",
        "outputId": "8174d4fb-3493-410f-9b1c-47901a356758"
      },
      "execution_count": 7,
      "outputs": [
        {
          "output_type": "execute_result",
          "data": {
            "text/plain": [
              "['php', 'aba', 'radar', 'level']"
            ]
          },
          "metadata": {},
          "execution_count": 7
        }
      ]
    },
    {
      "cell_type": "markdown",
      "source": [
        "************************************************************************************************************************************************************************************************************************"
      ],
      "metadata": {
        "id": "LEgOl3ZWq_h2"
      }
    }
  ]
}