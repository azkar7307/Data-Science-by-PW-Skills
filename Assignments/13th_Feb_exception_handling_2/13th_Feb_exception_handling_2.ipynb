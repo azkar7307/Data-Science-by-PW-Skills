{
 "cells": [
  {
   "cell_type": "markdown",
   "id": "863f45e9-7965-44ae-8bbe-1eba66b3ed70",
   "metadata": {},
   "source": [
    "# Q1. "
   ]
  },
  {
   "cell_type": "markdown",
   "id": "0c0ae8fd-b042-4e45-9ccd-2fad3b5c9618",
   "metadata": {},
   "source": [
    "## Explain why we have to use the Exception class while creating a Custom Exception.\n",
    "**Note**: Here Exception class refers to the base class for all the exceptions."
   ]
  },
  {
   "cell_type": "markdown",
   "id": "33d821c5-1012-480c-a533-0a7d8b62ac41",
   "metadata": {},
   "source": [
    "### Answer"
   ]
  },
  {
   "cell_type": "markdown",
   "id": "d1979113-ca35-482e-a871-b841594395a3",
   "metadata": {},
   "source": [
    "When creating a custom exception in Python, it is important to inherit from the Exception class, which is the base class for all built-in exceptions in Python. This is because the Exception class provides a standard interface and behavior for all exceptions in Python.\n",
    "\n",
    "Inheriting from the Exception class ensures that your custom exception will have access to all the methods and attributes defined in the Exception class, such as the ability to set a custom error message and traceback information.\n",
    "\n",
    "Additionally, by inheriting from the Exception class, you can take advantage of the existing exception handling mechanisms in Python, such as try-except blocks, which are designed to work with any exception that inherits from the Exception class.\n",
    "\n",
    "Using the Exception class as the base class for your custom exception also helps to make your code more organized and maintainable, since it follows the standard conventions and patterns established in the Python language.\n",
    "\n",
    "Overall, using the Exception class as the base class for your custom exception helps to ensure that your code is robust, reliable, and easy to understand and maintain."
   ]
  },
  {
   "cell_type": "markdown",
   "id": "f22f763d-48b3-4731-afd2-3cd7aae4b361",
   "metadata": {},
   "source": [
    "# Q2."
   ]
  },
  {
   "cell_type": "markdown",
   "id": "69745aa8-4221-4763-a6ae-37e0228c2b63",
   "metadata": {},
   "source": [
    "## Write a python program to print Python Exception Hierarchy."
   ]
  },
  {
   "cell_type": "markdown",
   "id": "4c4c9568-84f7-4a3a-854f-2f114f62330a",
   "metadata": {},
   "source": [
    "### Answer"
   ]
  },
  {
   "cell_type": "markdown",
   "id": "0d62a0ab-9930-4a9e-81a3-00dd0ff9b91f",
   "metadata": {},
   "source": [
    "Here's a Python program that prints the hierarchy of built-in exception classes in Python:"
   ]
  },
  {
   "cell_type": "code",
   "execution_count": 2,
   "id": "d408b0cd-33db-457a-b953-01ad34cfc5f3",
   "metadata": {},
   "outputs": [
    {
     "name": "stdout",
     "output_type": "stream",
     "text": [
      "BaseException\n",
      "  Exception\n",
      "    TypeError\n",
      "      FloatOperation\n",
      "      MultipartConversionError\n",
      "    StopAsyncIteration\n",
      "    StopIteration\n",
      "    ImportError\n",
      "      ModuleNotFoundError\n",
      "      ZipImportError\n",
      "    OSError\n",
      "      ConnectionError\n",
      "        BrokenPipeError\n",
      "        ConnectionAbortedError\n",
      "        ConnectionRefusedError\n",
      "        ConnectionResetError\n",
      "          RemoteDisconnected\n",
      "      BlockingIOError\n",
      "      ChildProcessError\n",
      "      FileExistsError\n",
      "      FileNotFoundError\n",
      "      IsADirectoryError\n",
      "      NotADirectoryError\n",
      "      InterruptedError\n",
      "        InterruptedSystemCall\n",
      "      PermissionError\n",
      "      ProcessLookupError\n",
      "      TimeoutError\n",
      "      UnsupportedOperation\n",
      "      herror\n",
      "      gaierror\n",
      "      timeout\n",
      "      SSLError\n",
      "        SSLCertVerificationError\n",
      "        SSLZeroReturnError\n",
      "        SSLWantReadError\n",
      "        SSLWantWriteError\n",
      "        SSLSyscallError\n",
      "        SSLEOFError\n",
      "      Error\n",
      "        SameFileError\n",
      "      SpecialFileError\n",
      "      ExecError\n",
      "      ReadError\n",
      "      URLError\n",
      "        HTTPError\n",
      "        ContentTooShortError\n",
      "      BadGzipFile\n",
      "    EOFError\n",
      "      IncompleteReadError\n",
      "    RuntimeError\n",
      "      RecursionError\n",
      "      NotImplementedError\n",
      "        ZMQVersionError\n",
      "        StdinNotImplementedError\n",
      "      _DeadlockError\n",
      "      BrokenBarrierError\n",
      "      BrokenExecutor\n",
      "        BrokenThreadPool\n",
      "      SendfileNotAvailableError\n",
      "      ExtractionError\n",
      "      VariableError\n",
      "    NameError\n",
      "      UnboundLocalError\n",
      "    AttributeError\n",
      "      FrozenInstanceError\n",
      "    SyntaxError\n",
      "      IndentationError\n",
      "        TabError\n",
      "    LookupError\n",
      "      IndexError\n",
      "      KeyError\n",
      "        NoSuchKernel\n",
      "        UnknownBackend\n",
      "      CodecRegistryError\n",
      "    ValueError\n",
      "      UnicodeError\n",
      "        UnicodeEncodeError\n",
      "        UnicodeDecodeError\n",
      "        UnicodeTranslateError\n",
      "      UnsupportedOperation\n",
      "      JSONDecodeError\n",
      "      SSLCertVerificationError\n",
      "      Error\n",
      "      IllegalMonthError\n",
      "      IllegalWeekdayError\n",
      "      ParserError\n",
      "      ClassNotFound\n",
      "      ClipboardEmpty\n",
      "      MessageDefect\n",
      "        NoBoundaryInMultipartDefect\n",
      "        StartBoundaryNotFoundDefect\n",
      "        CloseBoundaryNotFoundDefect\n",
      "        FirstHeaderLineIsContinuationDefect\n",
      "        MisplacedEnvelopeHeaderDefect\n",
      "        MissingHeaderBodySeparatorDefect\n",
      "        MultipartInvariantViolationDefect\n",
      "        InvalidMultipartContentTransferEncodingDefect\n",
      "        UndecodableBytesDefect\n",
      "        InvalidBase64PaddingDefect\n",
      "        InvalidBase64CharactersDefect\n",
      "        InvalidBase64LengthDefect\n",
      "        HeaderDefect\n",
      "          InvalidHeaderDefect\n",
      "          HeaderMissingRequiredValue\n",
      "          NonPrintableDefect\n",
      "          ObsoleteHeaderDefect\n",
      "          NonASCIILocalPartDefect\n",
      "      MacroToEdit\n",
      "      InvalidFileException\n",
      "      UnequalIterablesError\n",
      "      InvalidVersion\n",
      "      _InvalidELFFileHeader\n",
      "      InvalidWheelFilename\n",
      "      InvalidSdistFilename\n",
      "      InvalidSpecifier\n",
      "      InvalidMarker\n",
      "      UndefinedComparison\n",
      "      UndefinedEnvironmentName\n",
      "      InvalidRequirement\n",
      "        RequirementParseError\n",
      "      InvalidVersion\n",
      "    AssertionError\n",
      "    ArithmeticError\n",
      "      FloatingPointError\n",
      "      OverflowError\n",
      "      ZeroDivisionError\n",
      "        DivisionByZero\n",
      "        DivisionUndefined\n",
      "      DecimalException\n",
      "        Clamped\n",
      "        Rounded\n",
      "          Underflow\n",
      "          Overflow\n",
      "        Inexact\n",
      "          Underflow\n",
      "          Overflow\n",
      "        Subnormal\n",
      "          Underflow\n",
      "        DivisionByZero\n",
      "        FloatOperation\n",
      "        InvalidOperation\n",
      "          ConversionSyntax\n",
      "          DivisionImpossible\n",
      "          DivisionUndefined\n",
      "          InvalidContext\n",
      "    SystemError\n",
      "      CodecRegistryError\n",
      "    ReferenceError\n",
      "    MemoryError\n",
      "    BufferError\n",
      "    Warning\n",
      "      UserWarning\n",
      "        GetPassWarning\n",
      "        FormatterWarning\n",
      "      DeprecationWarning\n",
      "        ProvisionalWarning\n",
      "      PendingDeprecationWarning\n",
      "      SyntaxWarning\n",
      "      RuntimeWarning\n",
      "        ProactorSelectorThreadWarning\n",
      "        UnknownTimezoneWarning\n",
      "        PEP440Warning\n",
      "      FutureWarning\n",
      "        ProvisionalCompleterWarning\n",
      "      ImportWarning\n",
      "      UnicodeWarning\n",
      "      BytesWarning\n",
      "      ResourceWarning\n",
      "      DeprecatedTzFormatWarning\n",
      "      PkgResourcesDeprecationWarning\n",
      "    Error\n",
      "    _OptionError\n",
      "    error\n",
      "    Verbose\n",
      "    _Error\n",
      "    SubprocessError\n",
      "      CalledProcessError\n",
      "      TimeoutExpired\n",
      "    TokenError\n",
      "    StopTokenizing\n",
      "    ClassFoundException\n",
      "    EndOfBlock\n",
      "    TraitError\n",
      "    Error\n",
      "    Error\n",
      "      CancelledError\n",
      "      TimeoutError\n",
      "      InvalidStateError\n",
      "    _GiveupOnSendfile\n",
      "    error\n",
      "    Incomplete\n",
      "    TimeoutError\n",
      "    InvalidStateError\n",
      "    LimitOverrunError\n",
      "    QueueEmpty\n",
      "    QueueFull\n",
      "    error\n",
      "    LZMAError\n",
      "    RegistryError\n",
      "    _GiveupOnFastCopy\n",
      "    Empty\n",
      "    Full\n",
      "    ZMQBaseError\n",
      "      ZMQError\n",
      "        ContextTerminated\n",
      "        Again\n",
      "        InterruptedSystemCall\n",
      "      ZMQBindError\n",
      "      NotDone\n",
      "    PickleError\n",
      "      PicklingError\n",
      "      UnpicklingError\n",
      "    _Stop\n",
      "    ArgumentError\n",
      "    ArgumentTypeError\n",
      "    ConfigError\n",
      "      ConfigLoaderError\n",
      "        ArgumentError\n",
      "      ConfigFileNotFound\n",
      "    ConfigurableError\n",
      "      MultipleInstanceError\n",
      "    ApplicationError\n",
      "    TimeoutError\n",
      "    COMError\n",
      "    ArgumentError\n",
      "    ReturnValueIgnoredError\n",
      "    KeyReuseError\n",
      "    UnknownKeyError\n",
      "    LeakedCallbackError\n",
      "    BadYieldError\n",
      "    ReturnValueIgnoredError\n",
      "    Return\n",
      "    InvalidPortNumber\n",
      "    NoIPAddresses\n",
      "    BadZipFile\n",
      "    LargeZipFile\n",
      "    Error\n",
      "      NoSectionError\n",
      "      DuplicateSectionError\n",
      "      DuplicateOptionError\n",
      "      NoOptionError\n",
      "      InterpolationError\n",
      "        InterpolationMissingOptionError\n",
      "        InterpolationSyntaxError\n",
      "        InterpolationDepthError\n",
      "      ParsingError\n",
      "        MissingSectionHeaderError\n",
      "    BadEntryPoint\n",
      "    NoSuchEntryPoint\n",
      "    DuplicateKernelError\n",
      "    ErrorDuringImport\n",
      "    BdbQuit\n",
      "    Restart\n",
      "    FindCmdError\n",
      "    HomeDirError\n",
      "    ProfileDirError\n",
      "    IPythonCoreError\n",
      "      TryNext\n",
      "      UsageError\n",
      "      StdinNotImplementedError\n",
      "    InputRejected\n",
      "    GetoptError\n",
      "    OptionError\n",
      "    ErrorToken\n",
      "    PrefilterError\n",
      "    AliasError\n",
      "      InvalidAliasError\n",
      "    Error\n",
      "      InterfaceError\n",
      "      DatabaseError\n",
      "        InternalError\n",
      "        OperationalError\n",
      "        ProgrammingError\n",
      "        IntegrityError\n",
      "        DataError\n",
      "        NotSupportedError\n",
      "    Warning\n",
      "    SpaceInInput\n",
      "    DOMException\n",
      "      IndexSizeErr\n",
      "      DomstringSizeErr\n",
      "      HierarchyRequestErr\n",
      "      WrongDocumentErr\n",
      "      InvalidCharacterErr\n",
      "      NoDataAllowedErr\n",
      "      NoModificationAllowedErr\n",
      "      NotFoundErr\n",
      "      NotSupportedErr\n",
      "      InuseAttributeErr\n",
      "      InvalidStateErr\n",
      "      SyntaxErr\n",
      "      InvalidModificationErr\n",
      "      NamespaceErr\n",
      "      InvalidAccessErr\n",
      "      ValidationErr\n",
      "    ValidationError\n",
      "    EditReadOnlyBuffer\n",
      "    _Retry\n",
      "    InvalidLayoutError\n",
      "    HeightIsUnknownError\n",
      "    ParserSyntaxError\n",
      "    InternalParseError\n",
      "    _PositionUpdatingFinished\n",
      "    SimpleGetItemNotFound\n",
      "    UncaughtAttributeError\n",
      "    HasNoContext\n",
      "    ParamIssue\n",
      "    _JediError\n",
      "      InternalError\n",
      "      WrongVersion\n",
      "      RefactoringError\n",
      "    OnErrorLeaf\n",
      "    InvalidPythonEnvironment\n",
      "    MessageError\n",
      "      MessageParseError\n",
      "        HeaderParseError\n",
      "        BoundaryError\n",
      "      MultipartConversionError\n",
      "      CharsetError\n",
      "    Error\n",
      "    HTTPException\n",
      "      NotConnected\n",
      "      InvalidURL\n",
      "      UnknownProtocol\n",
      "      UnknownTransferEncoding\n",
      "      UnimplementedFileMode\n",
      "      IncompleteRead\n",
      "      ImproperConnectionState\n",
      "        CannotSendRequest\n",
      "        CannotSendHeader\n",
      "        ResponseNotReady\n",
      "      BadStatusLine\n",
      "        RemoteDisconnected\n",
      "      LineTooLong\n",
      "    InteractivelyDefined\n",
      "    KillEmbedded\n",
      "    Error\n",
      "      NoSuchProcess\n",
      "        ZombieProcess\n",
      "      AccessDenied\n",
      "      TimeoutExpired\n",
      "    Error\n",
      "    TimeoutExpired\n",
      "    TimeoutAbandoned\n",
      "    QueueEmpty\n",
      "    QueueFull\n",
      "    ExpatError\n",
      "    Error\n",
      "      ProtocolError\n",
      "      ResponseError\n",
      "      Fault\n",
      "    error\n",
      "    com_error\n",
      "    internal_error\n",
      "    ParseBaseException\n",
      "      ParseException\n",
      "      ParseFatalException\n",
      "        ParseSyntaxException\n",
      "    RecursiveGrammarException\n",
      "    ResolutionError\n",
      "      VersionConflict\n",
      "        ContextualVersionConflict\n",
      "      DistributionNotFound\n",
      "      UnknownExtra\n",
      "    UnableToResolveVariableException\n",
      "    InvalidTypeInArgsException\n",
      "  GeneratorExit\n",
      "  SystemExit\n",
      "  KeyboardInterrupt\n",
      "  CancelledError\n",
      "  DebuggerInitializationError\n",
      "  AbortThread\n"
     ]
    }
   ],
   "source": [
    "# Print Python Exception Hierarchy\n",
    "def print_exception_hierarchy(exception_class, depth=0):\n",
    "    indent = ' ' * depth\n",
    "    print(indent + exception_class.__name__)\n",
    "    for subclass in exception_class.__subclasses__():\n",
    "        print_exception_hierarchy(subclass, depth + 2)\n",
    "\n",
    "print_exception_hierarchy(BaseException)"
   ]
  },
  {
   "cell_type": "markdown",
   "id": "1d2a6d80-d6fa-46eb-b858-e5ea90b22d4a",
   "metadata": {},
   "source": []
  },
  {
   "cell_type": "markdown",
   "id": "6ae4744f-d95d-4295-9741-984ce42de320",
   "metadata": {},
   "source": [
    "This program defines a recursive function `print_exception_hierarchy` that takes an exception class as its argument and prints its name along with the names of its subclasses, indented according to their depth in the hierarchy.\n",
    "\n",
    "The program starts with the `BaseException` class, which is the root of the exception hierarchy, and recursively calls the `print_exception_hierarchy` function on each of its subclasses. The `depth` argument keeps track of the depth of the recursion and is used to indent the output.\n",
    "\n",
    "This output shows the entire hierarchy of `built-in exception classes` in Python, with each class indented to indicate its depth in the hierarchy."
   ]
  },
  {
   "cell_type": "markdown",
   "id": "cb337a14-69bc-4793-bdda-7c68774522af",
   "metadata": {},
   "source": [
    "# Q3."
   ]
  },
  {
   "cell_type": "markdown",
   "id": "fd8717b8-8be7-4fe4-a7f8-788b18a75416",
   "metadata": {},
   "source": [
    "## What errors are defined in the ArithmeticError class? Explain any two with an example."
   ]
  },
  {
   "cell_type": "markdown",
   "id": "808a59a6-970c-4d7d-b571-9150bb3456ab",
   "metadata": {},
   "source": [
    "### Answer"
   ]
  },
  {
   "cell_type": "markdown",
   "id": "f95ef542-9298-45fb-ab5a-589e199642a7",
   "metadata": {},
   "source": [
    "The `ArithmeticError` class is a built-in exception class in Python that serves as the base class for all errors that occur during arithmetic operations. It is a subclass of the `Exception` class and a superclass of several more specific exception classes.\n",
    "\n",
    "Some examples of exceptions that are defined in the `ArithmeticError` class include `ZeroDivisionError`, `FloatingPointError`, and `OverflowError`.\n",
    "\n",
    "Here are explanations and examples of two of these exceptions:\n",
    "\n",
    "a. **`ZeroDivisionError`**: This exception is raised when an attempt is made to divide a number by zero. For example:"
   ]
  },
  {
   "cell_type": "code",
   "execution_count": 3,
   "id": "22d05177-e387-4452-bf28-1efdf624c7f8",
   "metadata": {},
   "outputs": [
    {
     "ename": "ZeroDivisionError",
     "evalue": "division by zero",
     "output_type": "error",
     "traceback": [
      "\u001b[1;31m---------------------------------------------------------------------------\u001b[0m",
      "\u001b[1;31mZeroDivisionError\u001b[0m                         Traceback (most recent call last)",
      "\u001b[1;32m~\\AppData\\Local\\Temp\\ipykernel_14492\\420251890.py\u001b[0m in \u001b[0;36m<module>\u001b[1;34m\u001b[0m\n\u001b[0;32m      1\u001b[0m \u001b[0mx\u001b[0m \u001b[1;33m=\u001b[0m \u001b[1;36m10\u001b[0m\u001b[1;33m\u001b[0m\u001b[1;33m\u001b[0m\u001b[0m\n\u001b[0;32m      2\u001b[0m \u001b[0my\u001b[0m \u001b[1;33m=\u001b[0m \u001b[1;36m0\u001b[0m\u001b[1;33m\u001b[0m\u001b[1;33m\u001b[0m\u001b[0m\n\u001b[1;32m----> 3\u001b[1;33m \u001b[0mz\u001b[0m \u001b[1;33m=\u001b[0m \u001b[0mx\u001b[0m \u001b[1;33m/\u001b[0m \u001b[0my\u001b[0m  \u001b[1;31m# Raises ZeroDivisionError\u001b[0m\u001b[1;33m\u001b[0m\u001b[1;33m\u001b[0m\u001b[0m\n\u001b[0m",
      "\u001b[1;31mZeroDivisionError\u001b[0m: division by zero"
     ]
    }
   ],
   "source": [
    "x = 10\n",
    "y = 0\n",
    "z = x / y  # Raises ZeroDivisionError"
   ]
  },
  {
   "cell_type": "markdown",
   "id": "c55ffaf5-55ed-4d97-9b7f-89afc5537efe",
   "metadata": {},
   "source": [
    "In this example, dividing `x` by `y` raises a `ZeroDivisionError` because `y` is zero.\n",
    "\n",
    "b. **`FloatingPointError`**: This exception is raised when a floating-point calculation fails to produce a valid result, such as when an operation results in an infinity or a NaN (not a number) value. For example:"
   ]
  },
  {
   "cell_type": "code",
   "execution_count": 15,
   "id": "3ac914e3-6aa3-4d22-bd16-e27108201273",
   "metadata": {},
   "outputs": [
    {
     "ename": "ValueError",
     "evalue": "math domain error",
     "output_type": "error",
     "traceback": [
      "\u001b[1;31m---------------------------------------------------------------------------\u001b[0m",
      "\u001b[1;31mValueError\u001b[0m                                Traceback (most recent call last)",
      "\u001b[1;32m~\\AppData\\Local\\Temp\\ipykernel_14492\\3124974149.py\u001b[0m in \u001b[0;36m<module>\u001b[1;34m\u001b[0m\n\u001b[0;32m      1\u001b[0m \u001b[1;32mimport\u001b[0m \u001b[0mmath\u001b[0m\u001b[1;33m\u001b[0m\u001b[1;33m\u001b[0m\u001b[0m\n\u001b[0;32m      2\u001b[0m \u001b[1;33m\u001b[0m\u001b[0m\n\u001b[1;32m----> 3\u001b[1;33m \u001b[0mx\u001b[0m \u001b[1;33m=\u001b[0m \u001b[0mmath\u001b[0m\u001b[1;33m.\u001b[0m\u001b[0msqrt\u001b[0m\u001b[1;33m(\u001b[0m\u001b[1;33m-\u001b[0m\u001b[1;36m1\u001b[0m\u001b[1;33m)\u001b[0m  \u001b[1;31m# Raises ValueError\u001b[0m\u001b[1;33m\u001b[0m\u001b[1;33m\u001b[0m\u001b[0m\n\u001b[0m\u001b[0;32m      4\u001b[0m \u001b[0my\u001b[0m \u001b[1;33m=\u001b[0m \u001b[1;36m1\u001b[0m \u001b[1;33m/\u001b[0m \u001b[0mx\u001b[0m          \u001b[1;31m# Raises FloatingPointError\u001b[0m\u001b[1;33m\u001b[0m\u001b[1;33m\u001b[0m\u001b[0m\n",
      "\u001b[1;31mValueError\u001b[0m: math domain error"
     ]
    }
   ],
   "source": [
    "import math\n",
    "\n",
    "x = math.sqrt(-1)  # Raises ValueError\n",
    "y = 1 / x          # Raises FloatingPointError\n"
   ]
  },
  {
   "cell_type": "markdown",
   "id": "2f5914db-60d8-4307-92ba-320327bf4ab2",
   "metadata": {},
   "source": [
    "In this example, the `sqrt` function from the `math` module raises a `ValueError` because it is passed a negative argument. The subsequent division by zero in the second line raises a `FloatingPointError` because `x` is a NaN value.\n",
    "\n",
    "Here is the another Example code of `FloatingPointError`:"
   ]
  },
  {
   "cell_type": "code",
   "execution_count": 14,
   "id": "6141b680-c2f9-40de-822c-720719bb9c13",
   "metadata": {},
   "outputs": [
    {
     "ename": "ZeroDivisionError",
     "evalue": "float division by zero",
     "output_type": "error",
     "traceback": [
      "\u001b[1;31m---------------------------------------------------------------------------\u001b[0m",
      "\u001b[1;31mZeroDivisionError\u001b[0m                         Traceback (most recent call last)",
      "\u001b[1;32m~\\AppData\\Local\\Temp\\ipykernel_14492\\1490288895.py\u001b[0m in \u001b[0;36m<module>\u001b[1;34m\u001b[0m\n\u001b[0;32m      1\u001b[0m \u001b[0ma\u001b[0m \u001b[1;33m=\u001b[0m \u001b[1;36m1.0\u001b[0m\u001b[1;33m\u001b[0m\u001b[1;33m\u001b[0m\u001b[0m\n\u001b[0;32m      2\u001b[0m \u001b[0mb\u001b[0m \u001b[1;33m=\u001b[0m \u001b[1;36m0.0\u001b[0m\u001b[1;33m\u001b[0m\u001b[1;33m\u001b[0m\u001b[0m\n\u001b[1;32m----> 3\u001b[1;33m \u001b[0mc\u001b[0m \u001b[1;33m=\u001b[0m \u001b[0ma\u001b[0m \u001b[1;33m/\u001b[0m \u001b[0mb\u001b[0m  \u001b[1;31m# Raises FloatingPointError\u001b[0m\u001b[1;33m\u001b[0m\u001b[1;33m\u001b[0m\u001b[0m\n\u001b[0m",
      "\u001b[1;31mZeroDivisionError\u001b[0m: float division by zero"
     ]
    }
   ],
   "source": [
    "a = 1.0\n",
    "b = 0.0\n",
    "c = a / b  # Raises FloatingPointError\n"
   ]
  },
  {
   "cell_type": "markdown",
   "id": "f0998e7c-132c-4e0f-84d4-e8b9bd0e9297",
   "metadata": {},
   "source": [
    "In general, catching and handling exceptions defined in the `ArithmeticError` class can help to make your code more robust and reliable when working with numeric data and calculations."
   ]
  },
  {
   "cell_type": "markdown",
   "id": "744821f4-5110-42da-b821-aef9cc49710c",
   "metadata": {},
   "source": [
    "# Q4. "
   ]
  },
  {
   "cell_type": "markdown",
   "id": "f6682c25-76b5-40ec-a05e-2f9bf3944551",
   "metadata": {},
   "source": [
    "## Why LookupError class is used? Explain with an example KeyError and IndexError."
   ]
  },
  {
   "cell_type": "markdown",
   "id": "a795533b-707a-4980-b0f7-934d921157c1",
   "metadata": {},
   "source": [
    "### Answer:"
   ]
  },
  {
   "cell_type": "markdown",
   "id": "2ca3a9d5-77ca-4e92-8d2a-3cd00f570874",
   "metadata": {},
   "source": [
    "The `LookupError` class is a built-in exception class in Python that serves as the base class for all exceptions related to looking up or indexing into sequences or mappings. It is a subclass of the `Exception` class and a superclass of several more specific exception classes.\n",
    "\n",
    "Some examples of exceptions that are defined in the `LookupError` class include `KeyError`, `IndexError`, and `AttributeError`.\n",
    "\n",
    "Here are explanations and examples of two of these exceptions:\n",
    "\n",
    "**`KeyError`**: This exception is raised when a key is not found in a dictionary or other mapping object. For example:"
   ]
  },
  {
   "cell_type": "code",
   "execution_count": 16,
   "id": "7ba25e37-5757-4555-9b5b-12fa3996e246",
   "metadata": {},
   "outputs": [
    {
     "ename": "KeyError",
     "evalue": "'baz'",
     "output_type": "error",
     "traceback": [
      "\u001b[1;31m---------------------------------------------------------------------------\u001b[0m",
      "\u001b[1;31mKeyError\u001b[0m                                  Traceback (most recent call last)",
      "\u001b[1;32m~\\AppData\\Local\\Temp\\ipykernel_14492\\1664217466.py\u001b[0m in \u001b[0;36m<module>\u001b[1;34m\u001b[0m\n\u001b[0;32m      1\u001b[0m \u001b[0md\u001b[0m \u001b[1;33m=\u001b[0m \u001b[1;33m{\u001b[0m\u001b[1;34m'foo'\u001b[0m\u001b[1;33m:\u001b[0m \u001b[1;36m42\u001b[0m\u001b[1;33m,\u001b[0m \u001b[1;34m'bar'\u001b[0m\u001b[1;33m:\u001b[0m \u001b[1;36m69\u001b[0m\u001b[1;33m}\u001b[0m\u001b[1;33m\u001b[0m\u001b[1;33m\u001b[0m\u001b[0m\n\u001b[1;32m----> 2\u001b[1;33m \u001b[0mvalue\u001b[0m \u001b[1;33m=\u001b[0m \u001b[0md\u001b[0m\u001b[1;33m[\u001b[0m\u001b[1;34m'baz'\u001b[0m\u001b[1;33m]\u001b[0m  \u001b[1;31m# Raises KeyError\u001b[0m\u001b[1;33m\u001b[0m\u001b[1;33m\u001b[0m\u001b[0m\n\u001b[0m",
      "\u001b[1;31mKeyError\u001b[0m: 'baz'"
     ]
    }
   ],
   "source": [
    "d = {'foo': 42, 'bar': 69}\n",
    "value = d['baz']  # Raises KeyError"
   ]
  },
  {
   "cell_type": "markdown",
   "id": "e0197ae2-dbae-419c-8068-4a17cb82e9ae",
   "metadata": {},
   "source": [
    "In this example, we try to access the value associated with the key `'baz'` in the dictionary `d`. However, since the key is not present in the dictionary, a `KeyError` exception is raised.\n",
    "\n",
    "**`IndexError`**: This exception is raised when an index is out of range for a sequence, such as a list or tuple. For example:"
   ]
  },
  {
   "cell_type": "code",
   "execution_count": 17,
   "id": "785c0f6e-470b-4d39-bd95-abdaaa4e169f",
   "metadata": {},
   "outputs": [
    {
     "ename": "IndexError",
     "evalue": "list index out of range",
     "output_type": "error",
     "traceback": [
      "\u001b[1;31m---------------------------------------------------------------------------\u001b[0m",
      "\u001b[1;31mIndexError\u001b[0m                                Traceback (most recent call last)",
      "\u001b[1;32m~\\AppData\\Local\\Temp\\ipykernel_14492\\2567667524.py\u001b[0m in \u001b[0;36m<module>\u001b[1;34m\u001b[0m\n\u001b[0;32m      1\u001b[0m \u001b[0mmy_list\u001b[0m \u001b[1;33m=\u001b[0m \u001b[1;33m[\u001b[0m\u001b[1;36m1\u001b[0m\u001b[1;33m,\u001b[0m \u001b[1;36m2\u001b[0m\u001b[1;33m,\u001b[0m \u001b[1;36m3\u001b[0m\u001b[1;33m]\u001b[0m\u001b[1;33m\u001b[0m\u001b[1;33m\u001b[0m\u001b[0m\n\u001b[1;32m----> 2\u001b[1;33m \u001b[0mvalue\u001b[0m \u001b[1;33m=\u001b[0m \u001b[0mmy_list\u001b[0m\u001b[1;33m[\u001b[0m\u001b[1;36m4\u001b[0m\u001b[1;33m]\u001b[0m  \u001b[1;31m# Raises IndexError\u001b[0m\u001b[1;33m\u001b[0m\u001b[1;33m\u001b[0m\u001b[0m\n\u001b[0m",
      "\u001b[1;31mIndexError\u001b[0m: list index out of range"
     ]
    }
   ],
   "source": [
    "my_list = [1, 2, 3]\n",
    "value = my_list[4]  # Raises IndexError"
   ]
  },
  {
   "cell_type": "markdown",
   "id": "6c28c0dd-690a-4276-a955-2aa7e7564c00",
   "metadata": {},
   "source": [
    "In this example, we try to access the value at index 4 in the list `my_list`. However, since the list only has three elements (at indices `0`, `1`, and `2`), a `IndexError` exception is raised.\n",
    "\n",
    "In general, catching and handling exceptions defined in the LookupError class can help to make your code more robust and reliable when working with sequences and mappings."
   ]
  },
  {
   "cell_type": "markdown",
   "id": "306144bb-f2a4-4dc1-b6c7-c37fb6b72af3",
   "metadata": {},
   "source": [
    "# Q5."
   ]
  },
  {
   "cell_type": "markdown",
   "id": "2e37e9ed-0875-40fb-9c1b-d7bf18a3af62",
   "metadata": {},
   "source": [
    "## Explain ImportError. What is ModuleNotFoundError?"
   ]
  },
  {
   "cell_type": "markdown",
   "id": "55f3aa32-286c-4038-9938-a24d91ecacf2",
   "metadata": {},
   "source": [
    "### Answer"
   ]
  },
  {
   "cell_type": "markdown",
   "id": "a064027f-6f7e-4f7c-aab9-9555a02aabde",
   "metadata": {},
   "source": [
    "`ImportError` is a built-in exception class in Python that is raised when an import statement fails to import a module or a name from a module. This can occur for a variety of reasons, such as a missing or misspelled module name, a missing or inaccessible module file, or an invalid syntax error in the module.\n",
    "\n",
    "For example, consider the following code:"
   ]
  },
  {
   "cell_type": "code",
   "execution_count": 18,
   "id": "bd19fd3c-3c3d-44d3-a076-a5a8ef1d117c",
   "metadata": {},
   "outputs": [
    {
     "ename": "ModuleNotFoundError",
     "evalue": "No module named 'foobar'",
     "output_type": "error",
     "traceback": [
      "\u001b[1;31m---------------------------------------------------------------------------\u001b[0m",
      "\u001b[1;31mModuleNotFoundError\u001b[0m                       Traceback (most recent call last)",
      "\u001b[1;32m~\\AppData\\Local\\Temp\\ipykernel_14492\\2849336893.py\u001b[0m in \u001b[0;36m<module>\u001b[1;34m\u001b[0m\n\u001b[1;32m----> 1\u001b[1;33m \u001b[1;32mimport\u001b[0m \u001b[0mfoobar\u001b[0m  \u001b[1;31m# Raises ImportError\u001b[0m\u001b[1;33m\u001b[0m\u001b[1;33m\u001b[0m\u001b[0m\n\u001b[0m",
      "\u001b[1;31mModuleNotFoundError\u001b[0m: No module named 'foobar'"
     ]
    }
   ],
   "source": [
    "import foobar  # Raises ImportError"
   ]
  },
  {
   "cell_type": "markdown",
   "id": "2a46f766-c4a2-478c-b8f7-1c51b38e7c54",
   "metadata": {},
   "source": [
    "In this example, we try to import a module called `foobar`. However, if `foobar` is not installed or cannot be found on the Python path, an `ImportError` exception will be raised.\n",
    "\n",
    "`ModuleNotFoundError` is a subclass of `ImportError` that was introduced in Python 3.6. It is raised when a module cannot be found during an import statement. This is a more specific type of `ImportError` that indicates that the module name was not found, rather than that the module was found but could not be imported for some other reason.\n",
    "\n",
    "For example, consider the following code:"
   ]
  },
  {
   "cell_type": "code",
   "execution_count": 19,
   "id": "67d99fbf-ccb9-40e1-9cba-de2f1b2325b7",
   "metadata": {},
   "outputs": [
    {
     "ename": "ModuleNotFoundError",
     "evalue": "No module named 'bazqux'",
     "output_type": "error",
     "traceback": [
      "\u001b[1;31m---------------------------------------------------------------------------\u001b[0m",
      "\u001b[1;31mModuleNotFoundError\u001b[0m                       Traceback (most recent call last)",
      "\u001b[1;32m~\\AppData\\Local\\Temp\\ipykernel_14492\\1030681672.py\u001b[0m in \u001b[0;36m<module>\u001b[1;34m\u001b[0m\n\u001b[1;32m----> 1\u001b[1;33m \u001b[1;32mimport\u001b[0m \u001b[0mbazqux\u001b[0m  \u001b[1;31m# Raises ModuleNotFoundError\u001b[0m\u001b[1;33m\u001b[0m\u001b[1;33m\u001b[0m\u001b[0m\n\u001b[0m",
      "\u001b[1;31mModuleNotFoundError\u001b[0m: No module named 'bazqux'"
     ]
    }
   ],
   "source": [
    "import bazqux  # Raises ModuleNotFoundError"
   ]
  },
  {
   "cell_type": "markdown",
   "id": "6cb5d9a7-0e7f-4371-9731-8a87791c5d5a",
   "metadata": {},
   "source": [
    "In this example, we try to import a module called `bazqux`. If the module does not exist or cannot be found on the Python path, a `ModuleNotFoundError` exception will be raised instead of a generic `ImportError`.\n",
    "\n",
    "In general, it's good practice to catch and handle `ImportError` and `ModuleNotFoundError` exceptions in your code, since they can help to diagnose and fix problems related to module imports and dependencies.\n"
   ]
  },
  {
   "cell_type": "code",
   "execution_count": null,
   "id": "61267779-e604-497a-bf5b-1312c813408f",
   "metadata": {},
   "outputs": [],
   "source": []
  },
  {
   "cell_type": "markdown",
   "id": "9917fab1-6854-4b75-b39f-4c4a324611b1",
   "metadata": {},
   "source": [
    "# Q6. "
   ]
  },
  {
   "cell_type": "markdown",
   "id": "72d3f6ad-d6f3-4722-abd4-9309015942b1",
   "metadata": {},
   "source": [
    "## List down some best practices for exception handling in python."
   ]
  },
  {
   "cell_type": "markdown",
   "id": "b3f0841a-3d86-4fc9-bd38-4021e8414d0b",
   "metadata": {},
   "source": [
    "### Answer"
   ]
  },
  {
   "cell_type": "markdown",
   "id": "821b890f-f36e-47cf-8451-f3536ed9f888",
   "metadata": {},
   "source": [
    "Exception handling is a critical aspect of programming in Python, as it helps to detect and handle errors in code effectively. Here are some best practices for exception handling in Python:\n",
    "\n",
    "**Use specific exception handling**: Always use specific exception handling rather than catching all exceptions with a generic except statement. This allows you to catch and handle specific exceptions and leave other exceptions unhandled for debugging purposes.\n",
    "\n",
    "**Use try-except blocks**: Use try-except blocks to handle exceptions gracefully. Place the code that could raise an exception inside a try block, and handle the exception in an except block.\n",
    "\n",
    "**Handle exceptions gracefully**: Handle exceptions gracefully by providing appropriate error messages and logging the error details. Don't let the program crash without giving a meaningful error message to the user.\n",
    "\n",
    "**Avoid catching Exception**: Avoid catching the base Exception class as it catches all exceptions, including system exceptions, which could cause problems in your program.\n",
    "\n",
    "**Avoid overusing finally**: Only use finally when it's necessary, as it can make the code harder to read and can be less efficient.\n",
    "\n",
    "**Use else to handle no exception case**: Use the else block in try-except to handle the no-exception case of the code.\n",
    "\n",
    "**Raise exceptions instead of returning error codes**: Raise exceptions instead of returning error codes. This makes it easier to handle errors consistently across the program.\n",
    "\n",
    "**Use context managers**: Use context managers to handle resource allocation and deallocation automatically. This ensures that resources are always released, even if an exception is raised.\n",
    "\n",
    "**Avoid ignoring exceptions**: Don't ignore exceptions by using pass or not handling them. This can lead to hard-to-debug problems later on.\n",
    "\n",
    "Use built-in exceptions: Use built-in exceptions when possible, as they are well-known and understood by other programmers. If you need to create a custom exception, inherit from the built-in Exception class."
   ]
  },
  {
   "cell_type": "markdown",
   "id": "60def84e-d75d-4adc-a8cb-40304ce719b3",
   "metadata": {},
   "source": [
    "******************************************************************************************************************************************************************************************************************************************************************************"
   ]
  }
 ],
 "metadata": {
  "kernelspec": {
   "display_name": "Python 3 (ipykernel)",
   "language": "python",
   "name": "python3"
  },
  "language_info": {
   "codemirror_mode": {
    "name": "ipython",
    "version": 3
   },
   "file_extension": ".py",
   "mimetype": "text/x-python",
   "name": "python",
   "nbconvert_exporter": "python",
   "pygments_lexer": "ipython3",
   "version": "3.9.13"
  }
 },
 "nbformat": 4,
 "nbformat_minor": 5
}
