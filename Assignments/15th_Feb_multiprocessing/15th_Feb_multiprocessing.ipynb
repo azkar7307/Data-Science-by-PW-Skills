{
 "cells": [
  {
   "cell_type": "markdown",
   "metadata": {},
   "source": [
    "# Q1. "
   ]
  },
  {
   "cell_type": "markdown",
   "metadata": {},
   "source": [
    "## What is multiprocessing in python? Why is it useful?"
   ]
  },
  {
   "cell_type": "markdown",
   "metadata": {},
   "source": [
    "### Answer"
   ]
  },
  {
   "cell_type": "markdown",
   "metadata": {},
   "source": [
    "Multiprocessing in Python refers to the ability of the language to execute multiple processes simultaneously. It is a way to use the multiple cores of a CPU to speed up the execution of a program.\n",
    "\n",
    "Python's multiprocessing module provides a way to create and manage separate processes. It allows you to run multiple functions in parallel and to share data between these functions. The multiprocessing module provides many features, including process management, communication, and synchronization.\n",
    "\n",
    "Multiprocessing is useful in Python because it allows you to take advantage of modern CPUs that have multiple cores. By running multiple processes simultaneously, you can execute your code faster and more efficient. This is especially useful for computationally intensive tasks, such as machine learning and data analysis, that require a lot of processing power.\n",
    "\n",
    "Moreover, multiprocessing makes it easier to write code that is parallelizable. It provides a simple API for launching processes, and the processes themselves can be written as separate functions or classes. This makes it easier to distribute work across multiple processes and to manage communication between them.\n",
    "\n",
    "Overall, multiprocessing in Python is a powerful tool for speeding up the execution of programs that require a lot of processing power. It can help you take full advantage of modern hardware and write more efficient, scalable code."
   ]
  },
  {
   "cell_type": "markdown",
   "metadata": {},
   "source": [
    "# Q2."
   ]
  },
  {
   "cell_type": "markdown",
   "metadata": {},
   "source": [
    "## What are the differences between multiprocessing and multithreading?"
   ]
  },
  {
   "cell_type": "markdown",
   "metadata": {},
   "source": [
    "### Answer"
   ]
  },
  {
   "cell_type": "markdown",
   "metadata": {},
   "source": [
    "Multiprocessing and multithreading are both techniques used for achieving parallelism in programming, but there are some fundamental differences between them. Here are the key differences:\n",
    "\n",
    "`Execution model`: Multiprocessing involves running multiple processes in parallel, where each process has its own memory space and can run on different CPUs. On the other hand, multithreading involves running multiple threads within a single process, where all threads share the same memory space.\n",
    "\n",
    "`Resource allocation`: Multiprocessing requires allocating separate memory and other resources for each process, while multithreading shares the same resources among threads, which can sometimes lead to contention and synchronization issues.\n",
    "\n",
    "`Communication and synchronization`: In multiprocessing, communication and synchronization between processes can be achieved using inter-process communication mechanisms like pipes, queues, and shared memory. In multithreading, synchronization and communication between threads are achieved using locks, semaphores, and other mechanisms.\n",
    "\n",
    "`Performance`: Multiprocessing can provide better performance on multi-core processors, as each process can be run on a separate core. Multithreading can provide good performance on a single-core processor, but may not scale well on multi-core processors due to contention and synchronization issues.\n",
    "\n",
    "In general, multiprocessing is a good choice when you need to perform tasks that can be parallelized across multiple processors or when you need to isolate processes for safety reasons. Multithreading is a good choice when you need to improve the performance of a single process that can be divided into smaller tasks that can be executed simultaneously."
   ]
  },
  {
   "cell_type": "markdown",
   "metadata": {},
   "source": [
    "# Q3."
   ]
  },
  {
   "cell_type": "markdown",
   "metadata": {},
   "source": [
    "## Write a python code to create a process using the multiprocessing module."
   ]
  },
  {
   "cell_type": "markdown",
   "metadata": {},
   "source": [
    "### Answer"
   ]
  },
  {
   "cell_type": "markdown",
   "metadata": {},
   "source": [
    "Here is an example Python code that creates a process using the multiprocessing module:"
   ]
  },
  {
   "cell_type": "code",
   "execution_count": 1,
   "metadata": {},
   "outputs": [
    {
     "name": "stdout",
     "output_type": "stream",
     "text": [
      "Hello!\n"
     ]
    }
   ],
   "source": [
    "import multiprocessing\n",
    "\n",
    "def greeting():\n",
    "    \"\"\"A simple function that prints a message.\"\"\"\n",
    "    print(\"Hello!\")\n",
    "\n",
    "if __name__ == '__main__':\n",
    "    # Create a new process\n",
    "    p = multiprocessing.Process(target=greeting)\n",
    "    # Start the process\n",
    "    p.start()\n",
    "    # Wait for the process to finish\n",
    "    p.join()\n"
   ]
  },
  {
   "cell_type": "markdown",
   "metadata": {},
   "source": [
    "In this code, we first define a function called `greeting` that simply prints a message. Then, we create a new process using the `multiprocessing.Process` class and passing the `greeting` function as the target. We then start the process using the `start` method and wait for it to finish using the `join` method.\n",
    "\n",
    "Note that we have wrapped the code that creates the process in a if __name__ == '__main__': block. This is because the multiprocessing module works by creating new Python interpreter processes, and we want to make sure that the code inside the block is only executed in the main process, and not in the child processes that are created."
   ]
  },
  {
   "cell_type": "markdown",
   "metadata": {},
   "source": [
    "# Q4."
   ]
  },
  {
   "cell_type": "markdown",
   "metadata": {},
   "source": [
    "## What is a multiprocessing pool in python? Why is it used?"
   ]
  },
  {
   "cell_type": "markdown",
   "metadata": {},
   "source": [
    "### Answer"
   ]
  },
  {
   "cell_type": "markdown",
   "metadata": {},
   "source": [
    "A multiprocessing pool in Python is a way to create a group of worker processes that can execute tasks in parallel. It provides a simple way to distribute work across multiple processes and to manage communication between them.\n",
    "\n",
    "In a multiprocessing pool, you can specify the number of worker processes to create, and you can submit tasks to be executed by these processes. The pool will automatically allocate tasks to the available worker processes and manage communication and synchronization between them.\n",
    "\n",
    "Here is an example Python code that demonstrates how to use a multiprocessing pool:"
   ]
  },
  {
   "cell_type": "code",
   "execution_count": 5,
   "metadata": {},
   "outputs": [
    {
     "name": "stdout",
     "output_type": "stream",
     "text": [
      "1 squared is 1. 0 squared is 0. 3 squared is 9. 2 squared is 4. \n",
      "\n",
      "\n",
      "\n",
      "5 squared is 25. 4 squared is 16. 6 squared is 36. 7 squared is 49. \n",
      "\n",
      "\n",
      "\n",
      "8 squared is 64. 9 squared is 81. \n",
      "\n",
      "[0, 1, 4, 9, 16, 25, 36, 49, 64, 81]\n"
     ]
    }
   ],
   "source": [
    "import multiprocessing\n",
    "\n",
    "def worker(num):\n",
    "    \"\"\"A simple function that prints the square of a number.\"\"\"\n",
    "    result = num * num\n",
    "    print(f\"{num} squared is {result}. \")\n",
    "    return result\n",
    "\n",
    "if __name__ == '__main__':\n",
    "    # Create a new multiprocessing pool with 4 worker processes\n",
    "    with multiprocessing.Pool(processes=4) as pool:\n",
    "        # Submit 10 tasks to the pool\n",
    "        results = [pool.apply_async(worker, args=(i,)) for i in range(10)]\n",
    "        # Wait for the tasks to complete and get the results\n",
    "        output = [r.get() for r in results]\n",
    "        print(output)\n"
   ]
  },
  {
   "cell_type": "markdown",
   "metadata": {},
   "source": [
    "In this code, we first define a function called `worker` that calculates the square of a number and prints the result. Then, we create a new multiprocessing pool using the `multiprocessing.Pool` class and specifying the number of worker processes to create (in this case, 4).\n",
    "\n",
    "Next, we submit 10 tasks to the pool using the `apply_async` method, which asynchronously executes the `worker` function with each number in the range 0 to 9 as an argument.\n",
    "\n",
    "Finally, we wait for the tasks to complete using the `get` method of each result object returned by `apply_async`, and we print the output.\n",
    "\n",
    "Overall, a multiprocessing pool is useful when you have a large number of tasks that can be executed in parallel and you want to distribute the work across multiple processes to speed up the execution. It can help you take full advantage of modern hardware and write more efficient, scalable code.\n",
    "\n",
    "\n",
    "\n"
   ]
  },
  {
   "cell_type": "markdown",
   "metadata": {},
   "source": [
    "# Q5. "
   ]
  },
  {
   "cell_type": "markdown",
   "metadata": {},
   "source": [
    "## How can we create a pool of worker processes in python using the multiprocessing module?"
   ]
  },
  {
   "cell_type": "markdown",
   "metadata": {},
   "source": [
    "### Answer"
   ]
  },
  {
   "cell_type": "markdown",
   "metadata": {},
   "source": [
    "To create a pool of worker processes in Python using the `multiprocessing` module, you can use the `Pool` class which provides a simple way to distribute work among a fixed number of worker processes.\n",
    "\n",
    "Here's an example code snippet that demonstrates how to create a pool of worker processes and execute some tasks in parallel:"
   ]
  },
  {
   "cell_type": "code",
   "execution_count": 7,
   "metadata": {},
   "outputs": [
    {
     "name": "stdout",
     "output_type": "stream",
     "text": [
      "Processing task 1...Processing task 3...Processing task 4...Processing task 2...\n",
      "\n",
      "\n",
      "\n",
      "Processing task 6...Processing task 5...Processing task 7...Processing task 8...\n",
      "\n",
      "\n",
      "\n",
      "Processing task 9...Processing task 10...\n",
      "\n"
     ]
    }
   ],
   "source": [
    "import multiprocessing\n",
    "\n",
    "# Define a function that will be executed by the worker processes\n",
    "def process_task(task):\n",
    "    print(f\"Processing task {task}...\")\n",
    "\n",
    "# Create a pool of worker processes with 4 processes\n",
    "pool = multiprocessing.Pool(processes=4)\n",
    "\n",
    "# Define a list of tasks to be executed in parallel\n",
    "tasks = [1, 2, 3, 4, 5, 6, 7, 8, 9, 10]\n",
    "\n",
    "# Use the pool to execute the tasks in parallel\n",
    "pool.map(process_task, tasks)\n",
    "\n",
    "# Close the pool and wait for all the worker processes to finish\n",
    "pool.close()\n",
    "pool.join()"
   ]
  },
  {
   "cell_type": "markdown",
   "metadata": {},
   "source": [
    "In the example above, we define a function `process_task` that takes a single argument `task` and prints a message indicating that it is processing that task. We then create a `Pool` object with 4 worker processes, define a list of tasks to be executed in parallel, and use the `map` method of the `Pool` object to distribute the tasks among the worker processes.\n",
    "\n",
    "The `map` method takes two arguments: the first is the function to be executed by the worker processes (in this case, `process_task`), and the second is an iterable containing the tasks to be executed (in this case, the `tasks` list).\n",
    "\n",
    "After all the tasks have been executed, we close the pool and wait for all the worker processes to finish using the `close` and `join` methods of the `Pool` object, respectively."
   ]
  },
  {
   "cell_type": "markdown",
   "metadata": {},
   "source": [
    "# Q6."
   ]
  },
  {
   "cell_type": "markdown",
   "metadata": {},
   "source": [
    "## Write a python program to create 4 processes, each process should print a different number using the multiprocessing module in python."
   ]
  },
  {
   "cell_type": "markdown",
   "metadata": {},
   "source": [
    "### Answer"
   ]
  },
  {
   "cell_type": "markdown",
   "metadata": {},
   "source": [
    "Here is an example Python program that creates 4 processes, each of which prints a different number using the `multiprocessing` module:"
   ]
  },
  {
   "cell_type": "code",
   "execution_count": 4,
   "metadata": {},
   "outputs": [
    {
     "name": "stdout",
     "output_type": "stream",
     "text": [
      "Process Process-10: 1\n",
      "Process Process-11: 2\n",
      "Process Process-12: 3\n",
      "Process Process-13: 4\n"
     ]
    }
   ],
   "source": [
    "import multiprocessing\n",
    "\n",
    "def print_number(num):\n",
    "    print(f\"Process {multiprocessing.current_process().name}: {num}\")\n",
    "\n",
    "if __name__ == '__main__':\n",
    "    processes = []\n",
    "    for i in range(1, 5):\n",
    "        p = multiprocessing.Process(target=print_number, args=(i,))\n",
    "        processes.append(p)\n",
    "        p.start()\n",
    "\n",
    "    for p in processes:\n",
    "        p.join()\n"
   ]
  },
  {
   "cell_type": "markdown",
   "metadata": {},
   "source": [
    "In this program, we define a function `print_number` that takes a single argument `num` and prints the process name and the number.\n",
    "\n",
    "We then create a list `processes` to hold the `Process` objects and use a loop to create 4 processes, each of which calls the `print_number` function with a different number.\n",
    "\n",
    "Finally, we use another loop to wait for all the processes to complete using the `join` method. The if __name__ == '__main__' block is used to ensure that the child processes do not attempt to create additional child processes, which can cause issues in some operating systems."
   ]
  },
  {
   "cell_type": "markdown",
   "metadata": {},
   "source": [
    "***************************************************************************************************************************************************************************************************************************************************************************************************************************************************************************"
   ]
  }
 ],
 "metadata": {
  "kernelspec": {
   "display_name": "Python 3.8.10 64-bit",
   "language": "python",
   "name": "python3"
  },
  "language_info": {
   "codemirror_mode": {
    "name": "ipython",
    "version": 3
   },
   "file_extension": ".py",
   "mimetype": "text/x-python",
   "name": "python",
   "nbconvert_exporter": "python",
   "pygments_lexer": "ipython3",
   "version": "3.8.10"
  },
  "orig_nbformat": 4,
  "vscode": {
   "interpreter": {
    "hash": "e7370f93d1d0cde622a1f8e1c04877d8463912d04d973331ad4851f04de6915a"
   }
  }
 },
 "nbformat": 4,
 "nbformat_minor": 2
}
