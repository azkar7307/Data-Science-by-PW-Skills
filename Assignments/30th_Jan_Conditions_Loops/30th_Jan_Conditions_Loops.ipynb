{
  "nbformat": 4,
  "nbformat_minor": 0,
  "metadata": {
    "colab": {
      "provenance": []
    },
    "kernelspec": {
      "name": "python3",
      "display_name": "Python 3"
    },
    "language_info": {
      "name": "python"
    }
  },
  "cells": [
    {
      "cell_type": "markdown",
      "source": [
        "# 30th Jan"
      ],
      "metadata": {
        "id": "yfSen3Xore-3"
      }
    },
    {
      "cell_type": "markdown",
      "source": [
        "# Q1."
      ],
      "metadata": {
        "id": "Je24480yxQJP"
      }
    },
    {
      "cell_type": "markdown",
      "source": [
        "## Write a program to accept percentage from the user and display the grade according to the following criteria:"
      ],
      "metadata": {
        "id": "BHVFnTA0xZuu"
      }
    },
    {
      "cell_type": "markdown",
      "source": [
        "| Marks | Grade |\n",
        "| - | - |\n",
        "| >90 | A |\n",
        "| >80 and <= 90 | B |\n",
        "| >=60 and <= 80 | C |\n",
        "| Below 60 | D |"
      ],
      "metadata": {
        "id": "OnBPaw04reuK"
      }
    },
    {
      "cell_type": "code",
      "source": [
        "marks_perc = float(input(\"Enter the marks in percentage: \"))\n",
        "\n",
        "if marks_perc > 90:\n",
        "    print(\"Grade: A\")\n",
        "elif marks_perc > 80:\n",
        "    print(\"Grade: B\")\n",
        "elif marks_perc >= 60:\n",
        "    print(\"Grade: C\")\n",
        "else:\n",
        "    print(\"Grade: D\")"
      ],
      "metadata": {
        "colab": {
          "base_uri": "https://localhost:8080/"
        },
        "id": "xbfbgM5etsm-",
        "outputId": "7ab3071d-1c91-4a57-d299-0847039a9cd4"
      },
      "execution_count": 4,
      "outputs": [
        {
          "output_type": "stream",
          "name": "stdout",
          "text": [
            "Enter the marks in percentage: 88\n",
            "Grade: B\n"
          ]
        }
      ]
    },
    {
      "cell_type": "markdown",
      "source": [
        "# Q2."
      ],
      "metadata": {
        "id": "TiBWopbyxcsl"
      }
    },
    {
      "cell_type": "markdown",
      "source": [
        "## Write a program to accept the cost price of a bike and display the road tax to be paid accoriding to the following criteria:"
      ],
      "metadata": {
        "id": "inNkZSKV5PY6"
      }
    },
    {
      "cell_type": "markdown",
      "source": [
        "| Tax | Cost Price(in Rs) |\n",
        "| - | - |\n",
        "| 15% | 1,00,000 |\n",
        "| 10% | >50,000 and <= 1,00,000 |\n",
        "| 5% | <=50,000 |"
      ],
      "metadata": {
        "id": "NdttTal3uwWn"
      }
    },
    {
      "cell_type": "code",
      "source": [
        "cost = float(input(\"Enter the cost price of the bike: \"))\n",
        "\n",
        "if cost <= 50000:\n",
        "  road_tax = cost * 0.05\n",
        "elif cost <= 100000:\n",
        "  road_tax = cost * 0.1\n",
        "else:\n",
        "  road_tax = cost * 0.15\n",
        "\n",
        "print(f\"Tax amount: {road_tax}\")"
      ],
      "metadata": {
        "colab": {
          "base_uri": "https://localhost:8080/"
        },
        "id": "avVpWxw2vnTi",
        "outputId": "e8eafe57-92c6-48f3-9b77-bd4af519f3b7"
      },
      "execution_count": 5,
      "outputs": [
        {
          "output_type": "stream",
          "name": "stdout",
          "text": [
            "Enter the cost price of the bike: 135000\n",
            "Tax amount: 20250.0\n"
          ]
        }
      ]
    },
    {
      "cell_type": "markdown",
      "source": [
        "# Q3."
      ],
      "metadata": {
        "id": "8_Sf0wq1xkmG"
      }
    },
    {
      "cell_type": "markdown",
      "source": [
        "## Acept any city from the user and display monuments of that city."
      ],
      "metadata": {
        "id": "ST06aG6L5zu5"
      }
    },
    {
      "cell_type": "markdown",
      "source": [
        "| City | Monument |\n",
        "| - | - |\n",
        "| Delhi | Red Fort |\n",
        "| Agra | Taj Mahal |\n",
        "| Jaipur | Jal Mahal |"
      ],
      "metadata": {
        "id": "d8oIz39RwZ9h"
      }
    },
    {
      "cell_type": "code",
      "source": [
        "city = input(\"Enter the city to know the monument: \")\n",
        "city = city.lower().strip()\n",
        "\n",
        "if city == \"delhi\":\n",
        "  print(\"Red Fort\")\n",
        "elif city == \"agra\":\n",
        "  print(\"Taj Mahal\")\n",
        "elif city == \"jaipur\":\n",
        "  print(\"Jal Mahal\")\n",
        "else:\n",
        "  print(\"Oops! you had better search on the internet.\")"
      ],
      "metadata": {
        "colab": {
          "base_uri": "https://localhost:8080/"
        },
        "id": "pmIsj1ZVzHQi",
        "outputId": "876a1440-c5c3-40f0-eb89-39a2c4f2d570"
      },
      "execution_count": 6,
      "outputs": [
        {
          "output_type": "stream",
          "name": "stdout",
          "text": [
            "Enter the city to know the monument: jaipur\n",
            "Jal Mahal\n"
          ]
        }
      ]
    },
    {
      "cell_type": "code",
      "source": [
        "185*0.75"
      ],
      "metadata": {
        "colab": {
          "base_uri": "https://localhost:8080/"
        },
        "id": "uWx6VrLqbm8Y",
        "outputId": "04f346fd-8876-4734-ad1e-8ae2861588b4"
      },
      "execution_count": 7,
      "outputs": [
        {
          "output_type": "execute_result",
          "data": {
            "text/plain": [
              "138.75"
            ]
          },
          "metadata": {},
          "execution_count": 7
        }
      ]
    },
    {
      "cell_type": "markdown",
      "source": [
        "# Q4."
      ],
      "metadata": {
        "id": "OwHM3X0v6Dzo"
      }
    },
    {
      "cell_type": "markdown",
      "source": [
        "## Check how many times a given number can be divided by 3 before it is less than or equal ot 10."
      ],
      "metadata": {
        "id": "8IIdMyi66Ina"
      }
    },
    {
      "cell_type": "code",
      "source": [
        "num = float(input(\"Enter any number: \"))\n",
        "\n",
        "copy_num = num\n",
        "count = 0\n",
        "while copy_num > 10:\n",
        "  count += 1\n",
        "  copy_num = copy_num / 3\n",
        "  \n",
        "print(f\"{count} times the numer {num} can be divided by 3 before it is less than or equal to 10\")"
      ],
      "metadata": {
        "colab": {
          "base_uri": "https://localhost:8080/"
        },
        "id": "Qh8Mnf_XfoID",
        "outputId": "fe2428e5-4e40-4a9c-d05b-54b38cf8a6a4"
      },
      "execution_count": 8,
      "outputs": [
        {
          "output_type": "stream",
          "name": "stdout",
          "text": [
            "Enter any number: 100\n",
            "3 times the numer 100.0 can be divided by 3 before it is less than or equal to 10\n"
          ]
        }
      ]
    },
    {
      "cell_type": "markdown",
      "source": [
        "# Q5."
      ],
      "metadata": {
        "id": "tp6pE4UU6c0j"
      }
    },
    {
      "cell_type": "markdown",
      "source": [
        "## Why and when to use while loop in python give a detailed description with example"
      ],
      "metadata": {
        "id": "neQgeovH6iU0"
      }
    },
    {
      "cell_type": "markdown",
      "source": [
        "## Answer:\n",
        "\n",
        "In Python, a while loop is used to repeatedly execute a block of code as long as a certain condition is met. The loop continues to run until the condition becomes false.\n",
        "\n",
        "Here's an example to illustrate the use of while loop in Python:"
      ],
      "metadata": {
        "id": "vmsC-0zklBuC"
      }
    },
    {
      "cell_type": "code",
      "source": [
        "# A program to print the numbers from 1 to 10\n",
        "\n",
        "count = 1\n",
        "\n",
        "# while loop starts\n",
        "while count <= 10:\n",
        "    print(count)\n",
        "    count = count + 1\n",
        "\n",
        "# while loop ends\n",
        "print(\"End of while loop\")"
      ],
      "metadata": {
        "id": "wuqTZJ3lk_RI",
        "colab": {
          "base_uri": "https://localhost:8080/"
        },
        "outputId": "08114959-0288-4e7a-b396-c0a519df8f06"
      },
      "execution_count": 9,
      "outputs": [
        {
          "output_type": "stream",
          "name": "stdout",
          "text": [
            "1\n",
            "2\n",
            "3\n",
            "4\n",
            "5\n",
            "6\n",
            "7\n",
            "8\n",
            "9\n",
            "10\n",
            "End of while loop\n"
          ]
        }
      ]
    },
    {
      "cell_type": "markdown",
      "source": [
        "In this example, the condition `count <= 10` is checked at the start of each iteration. As long as this condition is true, the code inside the loop will be executed. In each iteration, the value of `count` is incremented by 1, and the condition is evaluated again. When the condition becomes false (when `count` is greater than 10), the loop will stop executing and the program will continue with the next statement after the loop.\n",
        "\n",
        "The while loop is useful when you do not know beforehand how many times you need to repeat a certain block of code. For instance, if you want to repeatedly prompt the user to enter a number until they enter a valid number, you can use a while loop. The condition in this case would be to check whether the input is a valid number, and the loop would continue until a valid number is entered.\n",
        "\n",
        "Here's an example to illustrate this:"
      ],
      "metadata": {
        "id": "XNAXQF35la7k"
      }
    },
    {
      "cell_type": "code",
      "source": [
        "# A program to repeatedly prompt the user to enter a number until a valid number is entered\n",
        "\n",
        "while True:\n",
        "    user_input = input(\"Enter a number: \")\n",
        "    if user_input.isdigit():\n",
        "        print(\"Valid number entered:\", user_input)\n",
        "        break\n",
        "    else:\n",
        "        print(\"Invalid input. Please enter a valid number.\")\n"
      ],
      "metadata": {
        "colab": {
          "base_uri": "https://localhost:8080/"
        },
        "id": "GXIJ7Mkemdum",
        "outputId": "3d46684a-2e26-4d73-c3f9-a376ecd27993"
      },
      "execution_count": 10,
      "outputs": [
        {
          "output_type": "stream",
          "name": "stdout",
          "text": [
            "Enter a number: 85\n",
            "Valid number entered: 85\n"
          ]
        }
      ]
    },
    {
      "cell_type": "markdown",
      "source": [
        "In this example, the loop will run indefinitely as long as the condition `True` is met. The `break` statement is used to exit the loop when a valid number is entered."
      ],
      "metadata": {
        "id": "m9I5jxX4msA5"
      }
    },
    {
      "cell_type": "markdown",
      "source": [
        "# Q6."
      ],
      "metadata": {
        "id": "SDDl6Mus61PK"
      }
    },
    {
      "cell_type": "markdown",
      "source": [
        "## Use nested while loop to display numbers from 10 to 1."
      ],
      "metadata": {
        "id": "I-AfNIT568cv"
      }
    },
    {
      "cell_type": "code",
      "source": [
        "# A program to display the numbers from 10 to 1 using nested while loops\n",
        "\n",
        "outer_count = 10\n",
        "\n",
        "# outer while loop\n",
        "while outer_count >= 1:\n",
        "    inner_count = outer_count\n",
        "    \n",
        "    # inner while loop\n",
        "    while inner_count >= 1:\n",
        "        print(inner_count, end=' ')\n",
        "        inner_count = inner_count - 1\n",
        "    # inner while loop ends\n",
        "    \n",
        "    print()\n",
        "    outer_count = outer_count - 1\n",
        "# outer while loop ends\n",
        "\n",
        "print(\"End of nested while loop\")"
      ],
      "metadata": {
        "colab": {
          "base_uri": "https://localhost:8080/"
        },
        "id": "dipvLvUoneZD",
        "outputId": "11b87d93-ab7b-497a-967b-50aeb4093d93"
      },
      "execution_count": 11,
      "outputs": [
        {
          "output_type": "stream",
          "name": "stdout",
          "text": [
            "10 9 8 7 6 5 4 3 2 1 \n",
            "9 8 7 6 5 4 3 2 1 \n",
            "8 7 6 5 4 3 2 1 \n",
            "7 6 5 4 3 2 1 \n",
            "6 5 4 3 2 1 \n",
            "5 4 3 2 1 \n",
            "4 3 2 1 \n",
            "3 2 1 \n",
            "2 1 \n",
            "1 \n",
            "End of nested while loop\n"
          ]
        }
      ]
    },
    {
      "cell_type": "markdown",
      "source": [
        "# Q7."
      ],
      "metadata": {
        "id": "AICRjeA07KKi"
      }
    },
    {
      "cell_type": "markdown",
      "source": [
        "## Reverse a while loop to display numbers from 10 to 1"
      ],
      "metadata": {
        "id": "sNNWfRG07QS9"
      }
    },
    {
      "cell_type": "code",
      "source": [
        "num = 10\n",
        "\n",
        "while num >= 1:\n",
        "  print(num)\n",
        "  num -= 1\n"
      ],
      "metadata": {
        "colab": {
          "base_uri": "https://localhost:8080/"
        },
        "id": "rAZRNbExqkVY",
        "outputId": "2344d001-dbe2-4681-f995-44441d55acaa"
      },
      "execution_count": 12,
      "outputs": [
        {
          "output_type": "stream",
          "name": "stdout",
          "text": [
            "10\n",
            "9\n",
            "8\n",
            "7\n",
            "6\n",
            "5\n",
            "4\n",
            "3\n",
            "2\n",
            "1\n"
          ]
        }
      ]
    },
    {
      "cell_type": "code",
      "source": [
        "# Using for loop with range()\n",
        "\n",
        "num = 10\n",
        "for i in range(num, 0, -1):\n",
        "  print(i)"
      ],
      "metadata": {
        "colab": {
          "base_uri": "https://localhost:8080/"
        },
        "id": "MFgqxBd4rFi2",
        "outputId": "ec22a18f-8ffe-468d-8a8d-34365eac0e07"
      },
      "execution_count": 13,
      "outputs": [
        {
          "output_type": "stream",
          "name": "stdout",
          "text": [
            "10\n",
            "9\n",
            "8\n",
            "7\n",
            "6\n",
            "5\n",
            "4\n",
            "3\n",
            "2\n",
            "1\n"
          ]
        }
      ]
    },
    {
      "cell_type": "markdown",
      "source": [
        "************************************************************************************************************************************************************************************************************************"
      ],
      "metadata": {
        "id": "6J3FshEvv3ar"
      }
    }
  ]
}