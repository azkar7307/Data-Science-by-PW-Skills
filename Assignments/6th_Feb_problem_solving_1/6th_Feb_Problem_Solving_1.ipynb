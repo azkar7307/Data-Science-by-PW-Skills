{
  "nbformat": 4,
  "nbformat_minor": 0,
  "metadata": {
    "colab": {
      "provenance": []
    },
    "kernelspec": {
      "name": "python3",
      "display_name": "Python 3"
    },
    "language_info": {
      "name": "python"
    }
  },
  "cells": [
    {
      "cell_type": "markdown",
      "source": [
        "# **6th Feb**"
      ],
      "metadata": {
        "id": "O3Xtwt54HVJH"
      }
    },
    {
      "cell_type": "markdown",
      "source": [
        "# Q1. \n",
        "## Create a function which will take a list as an argument and return the product of all the numbers after creating a flat list.\n",
        "## Use the below-given list as an argument for your function.\n",
        "## list1 = [1,2,3,4, [44,55,66, True], False, (34,56,78,89,34), {1,2,3,3,2,1}, {1:34, \"key2\": [55, 67, 78, 89], 4: (45, 22, 61, 34)}, [56, 'data science'], 'Machine Learning']\n",
        "**Note**: *you must extract numeric keys and values of the dictionary also*.\n"
      ],
      "metadata": {
        "id": "lDDUAPbwmfTv"
      }
    },
    {
      "cell_type": "code",
      "source": [
        "def flatten_and_get_product(lst):\n",
        "  flat_list = []\n",
        "  def flatten(iter):\n",
        "    if type(iter) == dict:\n",
        "      for key, value in iter.items():\n",
        "        if type(key) in [int, float]:\n",
        "          flat_list.append(key)\n",
        "        elif type(key) in [tuple]: # because tuple can be a key in dictionary\n",
        "          flatten(key)\n",
        "        if type(value) in [int, float]:\n",
        "          flat_list.append(value)\n",
        "        elif type(value) in [list, tuple, set, dict]:\n",
        "          flatten(value)\n",
        "    else:\n",
        "      if type(iter) in [int, float]:\n",
        "        flat_list.append(iter)\n",
        "      elif type(iter) in [list, tuple, set]:\n",
        "        for item in iter:\n",
        "          if type(item) in [int, float]:\n",
        "            flat_list.append(item)\n",
        "          elif type(item) in [list, tuple, set, dict]: # list can contain anything even dict \n",
        "            flatten(item)\n",
        "\n",
        "  flatten(lst)\n",
        "  product = 1\n",
        "  for num in flat_list:\n",
        "      product *= num\n",
        "  return product\n",
        "\n",
        "list1 = [1,2,3,4, [44,55,66, True], False, (34,56,78,89,34), {1,2,3,3,2,1}, {1:34, \"key2\": [55, 67, 78, 89], 4: (45, 22, 61, 34)}, [56, 'data science'], 'Machine Learning']\n",
        "result = flatten_and_get_product(list1)\n",
        "print(result)\n"
      ],
      "metadata": {
        "colab": {
          "base_uri": "https://localhost:8080/"
        },
        "id": "14Y1Y3ti68zB",
        "outputId": "3b7c7c9c-5054-4027-f807-7ae21cd2ae3b"
      },
      "execution_count": null,
      "outputs": [
        {
          "output_type": "stream",
          "name": "stdout",
          "text": [
            "4134711838987085478833841242112000\n"
          ]
        }
      ]
    },
    {
      "cell_type": "code",
      "source": [
        "list1 = [1,2,3,4, [44,55,66, True], False, (34,56,78,89,34, 0), {1,2,3,3,2,1}, {1:34, \"key2\": [55, 67, 78, 89], 4: (45, 22, 61, 34)}, [56, 'data science'], 'Machine Learning']\n",
        "result = flatten_and_get_product(list1)\n",
        "print(result)\n"
      ],
      "metadata": {
        "colab": {
          "base_uri": "https://localhost:8080/"
        },
        "id": "FMocvhx0Uqii",
        "outputId": "9247b73a-18a6-446b-cea8-792c916d4ba7"
      },
      "execution_count": null,
      "outputs": [
        {
          "output_type": "stream",
          "name": "stdout",
          "text": [
            "0\n"
          ]
        }
      ]
    },
    {
      "cell_type": "markdown",
      "source": [
        "# Q2. \n"
      ],
      "metadata": {
        "id": "JLlzJfQhnuQe"
      }
    },
    {
      "cell_type": "markdown",
      "source": [
        "## Write a python program for encrypting a message sent to you by your friend. The logic of encryption should be such that, for a the output should be z. For b, the output should be y. For c, the output should be x respectively. Also, the whitespace should be replaced with a dollar sign. Keep the punctuation marks unchanged.\n",
        "**Input Sentence**: I want to become a Data Scientist.\n",
        "\n",
        "Encrypt the above input sentence using the program you just created.\n",
        "\n",
        "**Note**: *Convert the given input sentence into lowercase before encrypting. The final output should be\n",
        "lowercase.*"
      ],
      "metadata": {
        "id": "m_us2uovoUIM"
      }
    },
    {
      "cell_type": "code",
      "source": [
        "def encryption(string):\n",
        "  \n",
        "  string = string.lower()\n",
        "  results = ''\n",
        "  chars = [chr(char) for char in range(ord('a'), ord('z')+1)]\n",
        "  \n",
        "  for char in string:\n",
        "    if char in chars:\n",
        "      rev = -(chars.index(char)+1)\n",
        "      results += chars[rev]\n",
        "    elif char == ' ':\n",
        "      results += '$'\n",
        "    else:\n",
        "      results += char\n",
        "    \n",
        "  return results"
      ],
      "metadata": {
        "id": "p--ZUf2kebhl"
      },
      "execution_count": null,
      "outputs": []
    },
    {
      "cell_type": "code",
      "source": [
        "encrypted = encryption('I want to become a Data Scientis.')\n",
        "print(encrypted)"
      ],
      "metadata": {
        "colab": {
          "base_uri": "https://localhost:8080/"
        },
        "id": "JXw_awfOnsCG",
        "outputId": "372128ea-ee62-47dc-8ab0-6105821c7781"
      },
      "execution_count": null,
      "outputs": [
        {
          "output_type": "stream",
          "name": "stdout",
          "text": [
            "r$dzmg$gl$yvxlnv$z$wzgz$hxrvmgrh.\n"
          ]
        }
      ]
    },
    {
      "cell_type": "code",
      "source": [
        "encrypted = encryption(\"aBe tsR\")\n",
        "print(encrypted)"
      ],
      "metadata": {
        "colab": {
          "base_uri": "https://localhost:8080/"
        },
        "id": "3Ft2fXa4njyj",
        "outputId": "a5d3c4a5-8d7a-413c-8d12-def7ae6f6d09"
      },
      "execution_count": null,
      "outputs": [
        {
          "output_type": "stream",
          "name": "stdout",
          "text": [
            "zyv$ghi\n"
          ]
        }
      ]
    },
    {
      "cell_type": "code",
      "source": [
        "#['a', 'b', 'c', 'd', 'e', 'f', 'g', 'h', 'i', 'j', 'k', 'l', 'm', 'n', 'o', 'p', 'q', 'r', 's', 't', 'u', 'v', 'w', 'x', 'y', 'z']\n",
        "#[ 0,   1,   2,   3,   4,   5,   6,   7,   8,   9,   10,  11,  12,  13,  14,  15,  16,  17,  18,  19,  20,  21,  22,  23,  24,  25]\n",
        "#[-26, -25, -24, -23, -22, -21, -20, -19, -18, -17, -16, -15, -14, -13, -12, -11, -10,  -9,  -8,  -7,  -6,  -5,  -4,  -3,  -2,  -1]"
      ],
      "metadata": {
        "id": "m_8TGpXDgdTe"
      },
      "execution_count": null,
      "outputs": []
    },
    {
      "cell_type": "markdown",
      "source": [
        "************************************************************************************************************************************************************************************************************************"
      ],
      "metadata": {
        "id": "QvtM9eDsr140"
      }
    }
  ]
}