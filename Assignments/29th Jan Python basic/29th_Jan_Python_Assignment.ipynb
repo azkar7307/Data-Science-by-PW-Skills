{
  "nbformat": 4,
  "nbformat_minor": 0,
  "metadata": {
    "colab": {
      "provenance": []
    },
    "kernelspec": {
      "name": "python3",
      "display_name": "Python 3"
    },
    "language_info": {
      "name": "python"
    }
  },
  "cells": [
    {
      "cell_type": "markdown",
      "source": [
        "# Q. 1. \n"
      ],
      "metadata": {
        "id": "6aQ8NLUFmy-r"
      }
    },
    {
      "cell_type": "markdown",
      "source": [
        "## Who developed Python Programming Language?"
      ],
      "metadata": {
        "id": "U4gcDkbZrANT"
      }
    },
    {
      "cell_type": "markdown",
      "source": [
        "## Answer:\n",
        "The Python programming language was developed by Guido van Rossum and released in 1991."
      ],
      "metadata": {
        "id": "f03DNnrsmzLE"
      }
    },
    {
      "cell_type": "markdown",
      "source": [
        "# Q. 2. \n"
      ],
      "metadata": {
        "id": "bRXIOmVAmzTq"
      }
    },
    {
      "cell_type": "markdown",
      "source": [
        "## Which type of Programming does Python support?"
      ],
      "metadata": {
        "id": "85RmfQZarDOu"
      }
    },
    {
      "cell_type": "markdown",
      "source": [
        "## Answer:\n",
        "There are multiple programming paradigms supported by Python, including:\n",
        "Object-Oriented Programming (OOP)\n",
        "* Imperative programming\n",
        "* Functional programming\n",
        "* Procedural programming\n",
        "\n",
        "Because of its versatility, it is popular for a wide range of applications, including web development, scientific computing, data analysis, and machine learning etc. \n"
      ],
      "metadata": {
        "id": "y65g04PrmzZn"
      }
    },
    {
      "cell_type": "markdown",
      "source": [
        "# Q. 3. \n"
      ],
      "metadata": {
        "id": "yulBllCBmzd6"
      }
    },
    {
      "cell_type": "markdown",
      "source": [
        "## Is Python case sensitive when dealing with identifiers? "
      ],
      "metadata": {
        "id": "pgyT0kvnq8UR"
      }
    },
    {
      "cell_type": "markdown",
      "source": [
        "## Answer:\n",
        "Yes, python is case sensitive when dealing with identifiers. For example, Var and var are considered two different identifiers names in python. To make the code easier to read and maintain, the identifiers should be named with lowercase letters and underscores (i.e. \"_\").\n"
      ],
      "metadata": {
        "id": "nMkyWdJ7mzgx"
      }
    },
    {
      "cell_type": "markdown",
      "source": [
        "# Q. 4. \n"
      ],
      "metadata": {
        "id": "8EU1YDY5mzjw"
      }
    },
    {
      "cell_type": "markdown",
      "source": [
        "## What is the correct extension of the Python file? "
      ],
      "metadata": {
        "id": "yeOtZ1_TrGga"
      }
    },
    {
      "cell_type": "markdown",
      "source": [
        "The correct extension of the Python file is \".py\". For example \"hello.py\"."
      ],
      "metadata": {
        "id": "DzLoeKbJnhnb"
      }
    },
    {
      "cell_type": "markdown",
      "source": [
        "# Q. 5. \n"
      ],
      "metadata": {
        "id": "htrYMTRsniJ0"
      }
    },
    {
      "cell_type": "markdown",
      "source": [
        "## Is Python code compiled or interpreted? "
      ],
      "metadata": {
        "id": "vE6MefvfrK_E"
      }
    },
    {
      "cell_type": "markdown",
      "source": [
        "Python code is interpreted. It is not compiled like other programming language."
      ],
      "metadata": {
        "id": "tYZ-Y45lniSS"
      }
    },
    {
      "cell_type": "markdown",
      "source": [
        "# Q. 6. \n"
      ],
      "metadata": {
        "id": "WZSOs3g4nidy"
      }
    },
    {
      "cell_type": "markdown",
      "source": [
        "## Name a few blocks of code used to define in Python language? "
      ],
      "metadata": {
        "id": "uQIZ3_yTrPWb"
      }
    },
    {
      "cell_type": "markdown",
      "source": [
        "## Answer: \n",
        "The blocks of code in Python Language are - "
      ],
      "metadata": {
        "id": "gNDVzNmAnisk"
      }
    },
    {
      "cell_type": "code",
      "source": [
        "# 1.\n",
        "lang = 'Python'\n",
        "if lang == 'Python':\n",
        "  print(\"This is a Python programming language\")\n",
        "else:\n",
        "  print(\"Other\")\n",
        "\n",
        "# 2.\n",
        "for i in range(5):\n",
        "  print(i)\n"
      ],
      "metadata": {
        "colab": {
          "base_uri": "https://localhost:8080/"
        },
        "id": "VP2Pell_OkrH",
        "outputId": "ebaf98d7-3e8a-444d-9970-76ae0c391b9e"
      },
      "execution_count": 1,
      "outputs": [
        {
          "output_type": "stream",
          "name": "stdout",
          "text": [
            "This is a Python programming language\n",
            "0\n",
            "1\n",
            "2\n",
            "3\n",
            "4\n"
          ]
        }
      ]
    },
    {
      "cell_type": "markdown",
      "source": [
        "# Q. 7. \n"
      ],
      "metadata": {
        "id": "T0Q5wWSuni5a"
      }
    },
    {
      "cell_type": "markdown",
      "source": [
        "## State a character used to give single-line comments in Python? "
      ],
      "metadata": {
        "id": "PrDBrzxkroYL"
      }
    },
    {
      "cell_type": "markdown",
      "source": [
        "## Answer: \n",
        "The hash symbol ('#') is used to give single line comment in python programming language. While running the python program, the interpreter ignores all the comments."
      ],
      "metadata": {
        "id": "egBVYT9SnheE"
      }
    },
    {
      "cell_type": "markdown",
      "source": [
        "# Q. 8. \n"
      ],
      "metadata": {
        "id": "wcmNyeSinhH9"
      }
    },
    {
      "cell_type": "markdown",
      "source": [
        "## Mention functions which can help us to find the version of python that we are currently working on? "
      ],
      "metadata": {
        "id": "4gT-vsR8rx_w"
      }
    },
    {
      "cell_type": "markdown",
      "source": [
        "## Answer:\n",
        "`python_version()` from `platform` module is used to find the version of the python programming language. e.g:-"
      ],
      "metadata": {
        "id": "Fphv0QL5oPKh"
      }
    },
    {
      "cell_type": "code",
      "source": [
        "import platform\n",
        "print(platform.python_version())"
      ],
      "metadata": {
        "colab": {
          "base_uri": "https://localhost:8080/"
        },
        "id": "ykRhOaIgywml",
        "outputId": "a96cf6b0-e776-4e7d-ac23-8af135d8292f"
      },
      "execution_count": 6,
      "outputs": [
        {
          "output_type": "stream",
          "name": "stdout",
          "text": [
            "3.8.10\n"
          ]
        }
      ]
    },
    {
      "cell_type": "markdown",
      "source": [
        "Other way to find the version of python is to call `version` attribute from `sys` module"
      ],
      "metadata": {
        "id": "8KhnDqn0ztzT"
      }
    },
    {
      "cell_type": "code",
      "source": [
        "import sys\n",
        "print(sys.version)"
      ],
      "metadata": {
        "colab": {
          "base_uri": "https://localhost:8080/"
        },
        "id": "Hd23MaRmzsCV",
        "outputId": "1635c95a-aeba-4cb8-ac23-6cfd907739f7"
      },
      "execution_count": 5,
      "outputs": [
        {
          "output_type": "stream",
          "name": "stdout",
          "text": [
            "3.8.10 (default, Nov 14 2022, 12:59:47) \n",
            "[GCC 9.4.0]\n"
          ]
        }
      ]
    },
    {
      "cell_type": "markdown",
      "source": [
        "# Q. 9. \n"
      ],
      "metadata": {
        "id": "7aLO8_3boPTu"
      }
    },
    {
      "cell_type": "markdown",
      "source": [
        "## Python supports the creation of anonymous functions at runtime, using a construct called "
      ],
      "metadata": {
        "id": "3Udpattvr5Pm"
      }
    },
    {
      "cell_type": "markdown",
      "source": [
        "## Answer:\n",
        "lambda function"
      ],
      "metadata": {
        "id": "VyZ3E6AooPXE"
      }
    },
    {
      "cell_type": "markdown",
      "source": [
        "# Q. 10. \n"
      ],
      "metadata": {
        "id": "9M04p06FoPaR"
      }
    },
    {
      "cell_type": "markdown",
      "source": [
        "##What does pip stand for python? "
      ],
      "metadata": {
        "id": "vSsJeCBPsCkI"
      }
    },
    {
      "cell_type": "markdown",
      "source": [
        "## Answer:\n",
        "`pip` stands for “Preferred Installer Program” or \"PIP Installs Packages\". It is used to install new packages in python environment."
      ],
      "metadata": {
        "id": "M5h7G378oPcj"
      }
    },
    {
      "cell_type": "markdown",
      "source": [
        "#Q. 11. \n"
      ],
      "metadata": {
        "id": "Nmep4n1foPhu"
      }
    },
    {
      "cell_type": "markdown",
      "source": [
        "## Mention a few built-in functions in python?"
      ],
      "metadata": {
        "id": "g-KvsM0ZvD3l"
      }
    },
    {
      "cell_type": "markdown",
      "source": [
        "## Answer:\n",
        "* print()\n",
        "* len()\n",
        "* range()\n",
        "* list()\n",
        "* tuple()\n",
        "* int()\n",
        "* float()\n",
        "* sum()"
      ],
      "metadata": {
        "id": "nikThiC4oPk-"
      }
    },
    {
      "cell_type": "markdown",
      "source": [
        "# Q. 12. \n"
      ],
      "metadata": {
        "id": "1_B1DsIZoPoN"
      }
    },
    {
      "cell_type": "markdown",
      "source": [
        "## What is the maximum possible length of an identifier in Python? "
      ],
      "metadata": {
        "id": "rkUbbm8AvLe0"
      }
    },
    {
      "cell_type": "markdown",
      "source": [
        "## Answer:\n",
        "Identifiers (variables, functions, classes, etc.) have no specific length limit in Python. In general, identifier names should be short and descriptive, and the length of an identifier is limited by the amount of memory available on your system. In practice, it is rare for an identifier name to reach the limits of available memory."
      ],
      "metadata": {
        "id": "iY6SdMeGoPqO"
      }
    },
    {
      "cell_type": "markdown",
      "source": [
        "# Q. 13. \n"
      ],
      "metadata": {
        "id": "gca0AHreoPtS"
      }
    },
    {
      "cell_type": "markdown",
      "source": [
        "## What are the benefits of using Python?"
      ],
      "metadata": {
        "id": "CnmltCoxvRbA"
      }
    },
    {
      "cell_type": "markdown",
      "source": [
        "## Answer:\n",
        "**Easy to learn and use**: Python has a simple and intuitive syntax, making it easy for beginners to pick up and understand.\n",
        "\n",
        "**Versatile**: Python can be used for a wide range of applications, including web development, scientific computing, data analysis, artificial intelligence, and more.\n",
        "\n",
        "**Large community and support**: Python has a large and active community of developers who provide support and share knowledge through various channels, such as forums and social media.\n",
        "\n",
        "**Rich library ecosystem**: Python has a vast collection of libraries and modules that can be easily imported and used in your projects, saving time and effort.\n",
        "\n",
        "**Cross-platform compatibility**: Python code runs on various platforms such as Windows, Mac, Linux, and can be easily integrated with other platforms and systems.\n",
        "\n",
        "**Good for prototyping and development**: Python's fast development cycle and ease of use make it a popular choice for quickly testing and prototyping ideas."
      ],
      "metadata": {
        "id": "HerNTW5goPxs"
      }
    },
    {
      "cell_type": "markdown",
      "source": [
        "# Q. 14. \n"
      ],
      "metadata": {
        "id": "xrfpE_iPoP1c"
      }
    },
    {
      "cell_type": "markdown",
      "source": [
        "## How is memory managed in Python? "
      ],
      "metadata": {
        "id": "IG-b6YRuvWGd"
      }
    },
    {
      "cell_type": "markdown",
      "source": [
        "## Answer:\n",
        "In Python, memory management is handled automatically by the Python memory manager, which is a component of the Python interpreter. The Python memory manager is responsible for allocating and deallocating memory as required by the Python program.\n",
        "\n",
        "Python uses a memory management technique called reference counting to keep track of objects in memory and determine when they are no longer needed. When the reference count of an object drops to zero, the memory manager automatically frees the memory occupied by the object.\n",
        "\n",
        "In addition to reference counting, Python also uses a garbage collector to detect and reclaim objects that are no longer reachable by the program. The garbage collector periodically frees up memory occupied by unreferenced objects, ensuring that the program does not run out of memory.\n",
        "\n",
        "Overall, the Python memory manager provides an efficient and transparent way to manage memory, freeing the programmer from having to manually allocate and deallocate memory."
      ],
      "metadata": {
        "id": "iGLYY_vfoP4Y"
      }
    },
    {
      "cell_type": "markdown",
      "source": [
        "# Q. 15.\n"
      ],
      "metadata": {
        "id": "niZ5GmM8oP7V"
      }
    },
    {
      "cell_type": "markdown",
      "source": [
        "## How to install Python on Windows and set path variables?"
      ],
      "metadata": {
        "id": "L1WlhbNbvbaW"
      }
    },
    {
      "cell_type": "markdown",
      "source": [
        "## Answer:\n",
        "Here are the steps to install Python on Windows and set the path variables:\n",
        "\n",
        "* Download the latest Python version for Windows from the [official website](https://www.python.org/downloads/)\n",
        "\n",
        "* Run the installer and follow the instructions. Make sure to select the option to add Python to the system PATH.\n",
        "\n",
        "* Open the Command Prompt and type the following command to verify the installation:\n",
        "\n",
        "  * python --version\n",
        "\n",
        "* To set the path variables, open the Start menu, search for \"Environment Variables\", and click on \"Edit the system environment variables\".\n",
        "\n",
        "* In the System Properties window, click on the \"Environment Variables\" button.\n",
        "\n",
        "* Under \"System Variables\", scroll down and find the \"Path\" variable. Click on it, then click \"Edit\".\n",
        "\n",
        "* Click \"New\" and add the path to the Python installation, e.g., C:\\Python36\\, C:\\Python37\\, etc.\n",
        "\n",
        "* Close all open windows and restart the Command Prompt. Type the following command to verify that the path variable has been set correctly:\n",
        "\n",
        "  * python\n",
        "\n",
        "\n",
        "You should now be able to run Python from the Command Prompt.\n",
        "\n",
        "\n",
        "\n",
        "\n"
      ],
      "metadata": {
        "id": "YRlfwGZyoP-B"
      }
    },
    {
      "cell_type": "markdown",
      "source": [
        "# Q. 16. \n"
      ],
      "metadata": {
        "id": "ueV2b8R5oQBV"
      }
    },
    {
      "cell_type": "markdown",
      "source": [
        "## Is indentation required in python? "
      ],
      "metadata": {
        "id": "W_AwNtCuH1in"
      }
    },
    {
      "cell_type": "markdown",
      "source": [
        "## Answer:\n",
        "Yes, indentation is required in Python to define code blocks and control structures such as loops and conditional statements. Unlike other programming languages that use braces or keywords to define code blocks, Python uses indentation to indicate the scope and structure of the code.\n",
        "\n",
        "For example, the following code demonstrates how indentation is used to define a for loop in Python:\n"
      ],
      "metadata": {
        "id": "Yt83hvaZoQEg"
      }
    },
    {
      "cell_type": "code",
      "source": [
        "for i in range(10):\n",
        "  print(i)"
      ],
      "metadata": {
        "colab": {
          "base_uri": "https://localhost:8080/"
        },
        "id": "u-TnbmppM_4W",
        "outputId": "ea0220ba-5b98-45d5-f544-f627f4b0dda2"
      },
      "execution_count": 1,
      "outputs": [
        {
          "output_type": "stream",
          "name": "stdout",
          "text": [
            "0\n",
            "1\n",
            "2\n",
            "3\n",
            "4\n",
            "5\n",
            "6\n",
            "7\n",
            "8\n",
            "9\n"
          ]
        }
      ]
    },
    {
      "cell_type": "markdown",
      "source": [
        "It is important to maintain a consistent indentation style throughout your code, as improper indentation can result in syntax errors. By convention, most Python code uses 4 spaces for indentation, although some people prefer 2 spaces. It is recommended to use an integrated development environment (IDE) or text editor that supports automatic indentation to help ensure that your code is properly indented.\n",
        "\n",
        "\n",
        "\n"
      ],
      "metadata": {
        "id": "jZiCMlHaM6OV"
      }
    }
  ]
}