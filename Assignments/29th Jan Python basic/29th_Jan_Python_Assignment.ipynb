{
  "nbformat": 4,
  "nbformat_minor": 0,
  "metadata": {
    "colab": {
      "provenance": []
    },
    "kernelspec": {
      "name": "python3",
      "display_name": "Python 3"
    },
    "language_info": {
      "name": "python"
    }
  },
  "cells": [
    {
      "cell_type": "markdown",
      "source": [
        "# Q. 1. \n"
      ],
      "metadata": {
        "id": "6aQ8NLUFmy-r"
      }
    },
    {
      "cell_type": "markdown",
      "source": [
        "## Who developed Python Programming Language?"
      ],
      "metadata": {
        "id": "U4gcDkbZrANT"
      }
    },
    {
      "cell_type": "markdown",
      "source": [
        "## Answer:"
      ],
      "metadata": {
        "id": "f03DNnrsmzLE"
      }
    },
    {
      "cell_type": "markdown",
      "source": [
        "# Q. 2. \n"
      ],
      "metadata": {
        "id": "bRXIOmVAmzTq"
      }
    },
    {
      "cell_type": "markdown",
      "source": [
        "## Which type of Programming does Python support?"
      ],
      "metadata": {
        "id": "85RmfQZarDOu"
      }
    },
    {
      "cell_type": "markdown",
      "source": [],
      "metadata": {
        "id": "y65g04PrmzZn"
      }
    },
    {
      "cell_type": "markdown",
      "source": [
        "# Q. 3. \n"
      ],
      "metadata": {
        "id": "yulBllCBmzd6"
      }
    },
    {
      "cell_type": "markdown",
      "source": [
        "## Is Python case sensitive when dealing with identifiers? "
      ],
      "metadata": {
        "id": "pgyT0kvnq8UR"
      }
    },
    {
      "cell_type": "markdown",
      "source": [],
      "metadata": {
        "id": "nMkyWdJ7mzgx"
      }
    },
    {
      "cell_type": "markdown",
      "source": [
        "# Q. 4. \n"
      ],
      "metadata": {
        "id": "8EU1YDY5mzjw"
      }
    },
    {
      "cell_type": "markdown",
      "source": [
        "## What is the correct extension of the Python file? "
      ],
      "metadata": {
        "id": "yeOtZ1_TrGga"
      }
    },
    {
      "cell_type": "markdown",
      "source": [],
      "metadata": {
        "id": "DzLoeKbJnhnb"
      }
    },
    {
      "cell_type": "markdown",
      "source": [
        "# Q. 5. \n"
      ],
      "metadata": {
        "id": "htrYMTRsniJ0"
      }
    },
    {
      "cell_type": "markdown",
      "source": [
        "## Is Python code compiled or interpreted? "
      ],
      "metadata": {
        "id": "vE6MefvfrK_E"
      }
    },
    {
      "cell_type": "markdown",
      "source": [],
      "metadata": {
        "id": "tYZ-Y45lniSS"
      }
    },
    {
      "cell_type": "markdown",
      "source": [
        "# Q. 6. \n"
      ],
      "metadata": {
        "id": "WZSOs3g4nidy"
      }
    },
    {
      "cell_type": "markdown",
      "source": [
        "## Name a few blocks of code used to define in Python language? "
      ],
      "metadata": {
        "id": "uQIZ3_yTrPWb"
      }
    },
    {
      "cell_type": "markdown",
      "source": [],
      "metadata": {
        "id": "gNDVzNmAnisk"
      }
    },
    {
      "cell_type": "markdown",
      "source": [
        "# Q. 7. \n"
      ],
      "metadata": {
        "id": "T0Q5wWSuni5a"
      }
    },
    {
      "cell_type": "markdown",
      "source": [
        "## State a character used to give single-line comments in Python? "
      ],
      "metadata": {
        "id": "PrDBrzxkroYL"
      }
    },
    {
      "cell_type": "markdown",
      "source": [],
      "metadata": {
        "id": "egBVYT9SnheE"
      }
    },
    {
      "cell_type": "markdown",
      "source": [
        "# Q. 8. \n"
      ],
      "metadata": {
        "id": "wcmNyeSinhH9"
      }
    },
    {
      "cell_type": "markdown",
      "source": [
        "## Mention functions which can help us to find the version of python that we are currently working on? "
      ],
      "metadata": {
        "id": "4gT-vsR8rx_w"
      }
    },
    {
      "cell_type": "markdown",
      "source": [],
      "metadata": {
        "id": "Fphv0QL5oPKh"
      }
    },
    {
      "cell_type": "markdown",
      "source": [
        "# Q. 9. \n"
      ],
      "metadata": {
        "id": "7aLO8_3boPTu"
      }
    },
    {
      "cell_type": "markdown",
      "source": [
        "## Python supports the creation of anonymous functions at runtime, using a construct called "
      ],
      "metadata": {
        "id": "3Udpattvr5Pm"
      }
    },
    {
      "cell_type": "markdown",
      "source": [],
      "metadata": {
        "id": "VyZ3E6AooPXE"
      }
    },
    {
      "cell_type": "markdown",
      "source": [
        "# Q. 10. \n"
      ],
      "metadata": {
        "id": "9M04p06FoPaR"
      }
    },
    {
      "cell_type": "markdown",
      "source": [
        "##What does pip stand for python? "
      ],
      "metadata": {
        "id": "vSsJeCBPsCkI"
      }
    },
    {
      "cell_type": "markdown",
      "source": [],
      "metadata": {
        "id": "M5h7G378oPcj"
      }
    },
    {
      "cell_type": "markdown",
      "source": [
        "#Q. 11. \n"
      ],
      "metadata": {
        "id": "Nmep4n1foPhu"
      }
    },
    {
      "cell_type": "markdown",
      "source": [
        "## Mention a few built-in functions in python?"
      ],
      "metadata": {
        "id": "g-KvsM0ZvD3l"
      }
    },
    {
      "cell_type": "markdown",
      "source": [],
      "metadata": {
        "id": "nikThiC4oPk-"
      }
    },
    {
      "cell_type": "markdown",
      "source": [
        "# Q. 12. \n"
      ],
      "metadata": {
        "id": "1_B1DsIZoPoN"
      }
    },
    {
      "cell_type": "markdown",
      "source": [
        "## What is the maximum possible length of an identifier in Python? "
      ],
      "metadata": {
        "id": "rkUbbm8AvLe0"
      }
    },
    {
      "cell_type": "markdown",
      "source": [],
      "metadata": {
        "id": "iY6SdMeGoPqO"
      }
    },
    {
      "cell_type": "markdown",
      "source": [
        "# Q. 13. \n"
      ],
      "metadata": {
        "id": "gca0AHreoPtS"
      }
    },
    {
      "cell_type": "markdown",
      "source": [
        "## What are the benefits of using Python?"
      ],
      "metadata": {
        "id": "CnmltCoxvRbA"
      }
    },
    {
      "cell_type": "markdown",
      "source": [],
      "metadata": {
        "id": "HerNTW5goPxs"
      }
    },
    {
      "cell_type": "markdown",
      "source": [
        "# Q. 14. \n"
      ],
      "metadata": {
        "id": "xrfpE_iPoP1c"
      }
    },
    {
      "cell_type": "markdown",
      "source": [
        "## How is memory managed in Python? "
      ],
      "metadata": {
        "id": "IG-b6YRuvWGd"
      }
    },
    {
      "cell_type": "markdown",
      "source": [],
      "metadata": {
        "id": "iGLYY_vfoP4Y"
      }
    },
    {
      "cell_type": "markdown",
      "source": [
        "# Q. 15.\n"
      ],
      "metadata": {
        "id": "niZ5GmM8oP7V"
      }
    },
    {
      "cell_type": "markdown",
      "source": [
        "## How to install Python on Windows and set path variables? 16. Is indentation required in python? "
      ],
      "metadata": {
        "id": "L1WlhbNbvbaW"
      }
    },
    {
      "cell_type": "markdown",
      "source": [],
      "metadata": {
        "id": "YRlfwGZyoP-B"
      }
    },
    {
      "cell_type": "markdown",
      "source": [],
      "metadata": {
        "id": "ueV2b8R5oQBV"
      }
    },
    {
      "cell_type": "markdown",
      "source": [],
      "metadata": {
        "id": "Yt83hvaZoQEg"
      }
    }
  ]
}