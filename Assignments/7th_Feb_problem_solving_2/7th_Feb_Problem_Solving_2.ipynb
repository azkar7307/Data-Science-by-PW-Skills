{
  "nbformat": 4,
  "nbformat_minor": 0,
  "metadata": {
    "colab": {
      "provenance": []
    },
    "kernelspec": {
      "name": "python3",
      "display_name": "Python 3"
    },
    "language_info": {
      "name": "python"
    }
  },
  "cells": [
    {
      "cell_type": "markdown",
      "source": [
        "# **7th Feb**"
      ],
      "metadata": {
        "id": "SFBBcJ6FmvdI"
      }
    },
    {
      "cell_type": "markdown",
      "source": [
        "# Q1. \n"
      ],
      "metadata": {
        "id": "GAic0Cxomw2Q"
      }
    },
    {
      "cell_type": "markdown",
      "source": [
        "## You are writing code for a company. The requirement of the company is that you create a python function that will check whether the password entered by the user is correct or not. The function should take the password as input and return the string “Valid Password” if the entered password follows the below-given password guidelines else it should return “Invalid Password”. \n",
        "\n",
        "**Note**: \n",
        "1. The Password should contain at least two uppercase letters and at least two lowercase letters.\n",
        "2. The Password should contain at least a number and three special characters.\n",
        "3. The length of the password should be 10 characters long.\n"
      ],
      "metadata": {
        "id": "VxmGFOm2p6Nv"
      }
    },
    {
      "cell_type": "code",
      "source": [
        "def password(string: str):\n",
        "  if len(string) >= 10:\n",
        "\n",
        "    count_upper, count_lower, count_digit, count_special_char = (0, 0, 0, 0)\n",
        "    for char in string:\n",
        "      if char.isupper():\n",
        "        count_upper += 1\n",
        "      elif char.islower():\n",
        "        count_lower += 1\n",
        "      elif char.isdigit():\n",
        "        count_digit += 1\n",
        "      else:\n",
        "        count_special_char += 1\n",
        "  else:\n",
        "    return 'Invalid Password!!!'\n",
        "  \n",
        "  if (count_upper >= 2) and (count_lower >= 2) and (count_digit >= 1) and (count_special_char >= 3):\n",
        "    return 'Valid Password.'\n",
        "  else:\n",
        "    return 'Invalid Password!!!'"
      ],
      "metadata": {
        "id": "AL-7K2yhQ2BY"
      },
      "execution_count": null,
      "outputs": []
    },
    {
      "cell_type": "code",
      "source": [
        "result_1 = password('thePassWord 99#8@toValid')\n",
        "print(result_1)"
      ],
      "metadata": {
        "colab": {
          "base_uri": "https://localhost:8080/"
        },
        "id": "3dQLP-50aprI",
        "outputId": "0630d7f1-d162-4759-ae02-5d213d12945c"
      },
      "execution_count": null,
      "outputs": [
        {
          "output_type": "stream",
          "name": "stdout",
          "text": [
            "Valid Password.\n"
          ]
        }
      ]
    },
    {
      "cell_type": "code",
      "source": [
        "result_2 = password('thePassWord')\n",
        "print(result_2)"
      ],
      "metadata": {
        "colab": {
          "base_uri": "https://localhost:8080/"
        },
        "id": "6HfnJhhuave_",
        "outputId": "187ab74d-07d0-4d82-87c8-1d0c53af7dc8"
      },
      "execution_count": null,
      "outputs": [
        {
          "output_type": "stream",
          "name": "stdout",
          "text": [
            "Invalid Password!!!\n"
          ]
        }
      ]
    },
    {
      "cell_type": "markdown",
      "source": [],
      "metadata": {
        "id": "OMDrSsutr4Wt"
      }
    },
    {
      "cell_type": "markdown",
      "source": [
        "# Q2. \n"
      ],
      "metadata": {
        "id": "emCBP357p_l_"
      }
    },
    {
      "cell_type": "markdown",
      "source": [
        "## Solve the below-given questions using at least one of the following:\n",
        "\n",
        "## 1. Lambda function\n",
        "## 2. Filter function\n",
        "## 3. Map function\n",
        "## 4. List Comprehension\n",
        "\n",
        "* ***Check if the string starts with a particular letter***"
      ],
      "metadata": {
        "id": "AzyIWBU2qNae"
      }
    },
    {
      "cell_type": "code",
      "source": [
        "courses = ['PW Skills', 'Data science', 'pw mains', 'Machine Learning', 'Pw GATE']\n",
        "\n",
        "list(map(lambda x: 'Start with P' if x[0].lower() == 'p' else 'Not start with p', courses))"
      ],
      "metadata": {
        "colab": {
          "base_uri": "https://localhost:8080/"
        },
        "id": "izqe-pjFf0jU",
        "outputId": "e0bf5dd3-909f-49bb-9ed9-3d2662ad0f65"
      },
      "execution_count": null,
      "outputs": [
        {
          "output_type": "execute_result",
          "data": {
            "text/plain": [
              "['Start with P',\n",
              " 'Not start with p',\n",
              " 'Start with P',\n",
              " 'Not start with p',\n",
              " 'Start with P']"
            ]
          },
          "metadata": {},
          "execution_count": 14
        }
      ]
    },
    {
      "cell_type": "code",
      "source": [
        "['Start with P' if course[0].lower() == 'p' else 'Not start with p' for course in courses]"
      ],
      "metadata": {
        "colab": {
          "base_uri": "https://localhost:8080/"
        },
        "id": "XkKvZ69Elhs9",
        "outputId": "6ad0a450-65cb-438b-a6b0-f461b70966c9"
      },
      "execution_count": null,
      "outputs": [
        {
          "output_type": "execute_result",
          "data": {
            "text/plain": [
              "['Start with P',\n",
              " 'Not start with p',\n",
              " 'Start with P',\n",
              " 'Not start with p',\n",
              " 'Start with P']"
            ]
          },
          "metadata": {},
          "execution_count": 16
        }
      ]
    },
    {
      "cell_type": "markdown",
      "source": [
        "* ***Check if the string is numeric***"
      ],
      "metadata": {
        "id": "MpUkiruCfnLp"
      }
    },
    {
      "cell_type": "code",
      "source": [
        "strings = ['2', '8', 'None', '12', 'na', '2.8', '2.74',  'three']\n",
        "\n",
        "def is_float(string):\n",
        "    try:\n",
        "        float(string)\n",
        "        return True\n",
        "    except ValueError:\n",
        "        return False\n",
        "\n",
        "list(map(lambda x: f'{x} is a numeric' if is_float(x) else f'{x} is not a numeric', strings))"
      ],
      "metadata": {
        "colab": {
          "base_uri": "https://localhost:8080/"
        },
        "id": "L9s4dcxumRlK",
        "outputId": "7ed07025-cba2-4f5d-fbd5-fe924cd25764"
      },
      "execution_count": null,
      "outputs": [
        {
          "output_type": "execute_result",
          "data": {
            "text/plain": [
              "['2 is a numeric',\n",
              " '8 is a numeric',\n",
              " 'None is not a numeric',\n",
              " '12 is a numeric',\n",
              " 'na is not a numeric',\n",
              " '2.8 is a numeric',\n",
              " '2.74 is a numeric',\n",
              " 'three is not a numeric']"
            ]
          },
          "metadata": {},
          "execution_count": 29
        }
      ]
    },
    {
      "cell_type": "code",
      "source": [
        "[f'{string} is a numeric' if is_float(string) else f'{string} is not a numeric' for string in strings]"
      ],
      "metadata": {
        "colab": {
          "base_uri": "https://localhost:8080/"
        },
        "id": "7Ud4tev0szm6",
        "outputId": "023bcd67-4de8-4d3c-cab2-c0fabd7a8082"
      },
      "execution_count": null,
      "outputs": [
        {
          "output_type": "execute_result",
          "data": {
            "text/plain": [
              "['2 is a numeric',\n",
              " '8 is a numeric',\n",
              " 'None is not a numeric',\n",
              " '12 is a numeric',\n",
              " 'na is not a numeric',\n",
              " '2.8 is a numeric',\n",
              " '2.74 is a numeric',\n",
              " 'three is not a numeric']"
            ]
          },
          "metadata": {},
          "execution_count": 30
        }
      ]
    },
    {
      "cell_type": "markdown",
      "source": [
        "* ***Sort a list of tuples having fruit names and their quantity***. \n",
        "      [(\"mango\",99),(\"orange\",80), (\"grapes\", 1000)]"
      ],
      "metadata": {
        "id": "mJ8eyZLvmPyz"
      }
    },
    {
      "cell_type": "code",
      "source": [
        "count_fruits = [(\"mango\",99),(\"orange\",80), (\"grapes\", 1000)]\n",
        "\n",
        "# Sorting based on name\n",
        "sorted_list = sorted(count_fruits, key = lambda x:x[0])\n",
        "sorted_list"
      ],
      "metadata": {
        "colab": {
          "base_uri": "https://localhost:8080/"
        },
        "id": "zCWcWKWC_b7a",
        "outputId": "32519a6e-75a0-4e08-abb0-84cf28959605"
      },
      "execution_count": null,
      "outputs": [
        {
          "output_type": "execute_result",
          "data": {
            "text/plain": [
              "[('grapes', 1000), ('mango', 99), ('orange', 80)]"
            ]
          },
          "metadata": {},
          "execution_count": 39
        }
      ]
    },
    {
      "cell_type": "code",
      "source": [
        "count_fruits = [(\"mango\",99),(\"orange\",80), (\"grapes\", 1000)]\n",
        "\n",
        "# Sorting based on quantity in descending order\n",
        "sorted_list = sorted(count_fruits, key = lambda x:x[1], reverse=True)\n",
        "sorted_list"
      ],
      "metadata": {
        "colab": {
          "base_uri": "https://localhost:8080/"
        },
        "id": "bEGJEX82AqPc",
        "outputId": "a7f1703d-5b05-4cad-942a-a2231bc18755"
      },
      "execution_count": null,
      "outputs": [
        {
          "output_type": "execute_result",
          "data": {
            "text/plain": [
              "[('grapes', 1000), ('mango', 99), ('orange', 80)]"
            ]
          },
          "metadata": {},
          "execution_count": 40
        }
      ]
    },
    {
      "cell_type": "code",
      "source": [
        "count_fruits = [(\"mango\",99),(\"orange\",80), (\"grapes\", 1000)]\n",
        "\n",
        "# Sorting based on quantity and name\n",
        "sorted_list = sorted(count_fruits, key = lambda x:(x[1], x[0]), reverse=True)\n",
        "sorted_list"
      ],
      "metadata": {
        "colab": {
          "base_uri": "https://localhost:8080/"
        },
        "id": "zrKrikwGBIQH",
        "outputId": "013f8062-8452-40c1-8c9e-c70d60c90d01"
      },
      "execution_count": null,
      "outputs": [
        {
          "output_type": "execute_result",
          "data": {
            "text/plain": [
              "[('grapes', 1000), ('mango', 99), ('orange', 80)]"
            ]
          },
          "metadata": {},
          "execution_count": 41
        }
      ]
    },
    {
      "cell_type": "markdown",
      "source": [
        "* ***Find the squares of numbers from 1 to 10***\n"
      ],
      "metadata": {
        "id": "YlhyBTFP_akq"
      }
    },
    {
      "cell_type": "code",
      "source": [
        "# Using map and lambda together\n",
        "n = 10\n",
        "list(map(lambda x: x**2, range(1, n+1)))"
      ],
      "metadata": {
        "colab": {
          "base_uri": "https://localhost:8080/"
        },
        "id": "qHBvdD2fDHc0",
        "outputId": "bd5fa87b-fd97-45a0-e88e-7e0b38c29357"
      },
      "execution_count": null,
      "outputs": [
        {
          "output_type": "execute_result",
          "data": {
            "text/plain": [
              "[1, 4, 9, 16, 25, 36, 49, 64, 81, 100]"
            ]
          },
          "metadata": {},
          "execution_count": 42
        }
      ]
    },
    {
      "cell_type": "code",
      "source": [
        "# using List comprehension\n",
        "n = 10\n",
        "[x**2 for x in range(1, n+1)]"
      ],
      "metadata": {
        "colab": {
          "base_uri": "https://localhost:8080/"
        },
        "id": "_5AYNxwKDeA2",
        "outputId": "c613375a-84ef-4fbf-fdfa-3e3293461a06"
      },
      "execution_count": null,
      "outputs": [
        {
          "output_type": "execute_result",
          "data": {
            "text/plain": [
              "[1, 4, 9, 16, 25, 36, 49, 64, 81, 100]"
            ]
          },
          "metadata": {},
          "execution_count": 43
        }
      ]
    },
    {
      "cell_type": "markdown",
      "source": [
        "* ***Find the cube root of numbers from 1 to 10***"
      ],
      "metadata": {
        "id": "WGQzJh8YDF-o"
      }
    },
    {
      "cell_type": "code",
      "source": [
        "n = 10\n",
        "list(map(lambda x: x**(1/3), range(1, n+1)))"
      ],
      "metadata": {
        "colab": {
          "base_uri": "https://localhost:8080/"
        },
        "id": "7tbnZE6aDq8S",
        "outputId": "5992c6df-b7af-4d33-fd55-cc7593ea1403"
      },
      "execution_count": null,
      "outputs": [
        {
          "output_type": "execute_result",
          "data": {
            "text/plain": [
              "[1.0,\n",
              " 1.2599210498948732,\n",
              " 1.4422495703074083,\n",
              " 1.5874010519681994,\n",
              " 1.7099759466766968,\n",
              " 1.8171205928321397,\n",
              " 1.912931182772389,\n",
              " 2.0,\n",
              " 2.080083823051904,\n",
              " 2.154434690031884]"
            ]
          },
          "metadata": {},
          "execution_count": 44
        }
      ]
    },
    {
      "cell_type": "code",
      "source": [
        "n = 10\n",
        "[x**(1/3) for x in range(1, n+1)]"
      ],
      "metadata": {
        "colab": {
          "base_uri": "https://localhost:8080/"
        },
        "id": "RmbLa5EvD3Kh",
        "outputId": "0f17a656-4597-4dbe-b1a0-11d5a6e88cbd"
      },
      "execution_count": null,
      "outputs": [
        {
          "output_type": "execute_result",
          "data": {
            "text/plain": [
              "[1.0,\n",
              " 1.2599210498948732,\n",
              " 1.4422495703074083,\n",
              " 1.5874010519681994,\n",
              " 1.7099759466766968,\n",
              " 1.8171205928321397,\n",
              " 1.912931182772389,\n",
              " 2.0,\n",
              " 2.080083823051904,\n",
              " 2.154434690031884]"
            ]
          },
          "metadata": {},
          "execution_count": 47
        }
      ]
    },
    {
      "cell_type": "markdown",
      "source": [
        "* ***Check if a given number is even***"
      ],
      "metadata": {
        "id": "mH54uSVCDp41"
      }
    },
    {
      "cell_type": "code",
      "source": [
        "check_even = lambda x: f'{x} is Odd' if x%2 else f'{x} is Even'\n",
        "check_even(42)"
      ],
      "metadata": {
        "colab": {
          "base_uri": "https://localhost:8080/",
          "height": 35
        },
        "id": "kMKScfhDEbo3",
        "outputId": "bcd2f0ca-cc3b-40bc-fb88-ddc56d67b04d"
      },
      "execution_count": null,
      "outputs": [
        {
          "output_type": "execute_result",
          "data": {
            "text/plain": [
              "'42 is Even'"
            ],
            "application/vnd.google.colaboratory.intrinsic+json": {
              "type": "string"
            }
          },
          "metadata": {},
          "execution_count": 49
        }
      ]
    },
    {
      "cell_type": "code",
      "source": [
        "check_even(9)"
      ],
      "metadata": {
        "colab": {
          "base_uri": "https://localhost:8080/",
          "height": 35
        },
        "id": "MIleizrYFwDH",
        "outputId": "315e5060-6d31-4c3e-8cf5-e10582ecebfe"
      },
      "execution_count": null,
      "outputs": [
        {
          "output_type": "execute_result",
          "data": {
            "text/plain": [
              "'9 is Odd'"
            ],
            "application/vnd.google.colaboratory.intrinsic+json": {
              "type": "string"
            }
          },
          "metadata": {},
          "execution_count": 50
        }
      ]
    },
    {
      "cell_type": "markdown",
      "source": [
        "* ***Filter odd numbers from the given list***.\n",
        "      [1,2,3,4,5,6,7,8,9,10]"
      ],
      "metadata": {
        "id": "LSeJr6hpEafY"
      }
    },
    {
      "cell_type": "code",
      "source": [
        "# using filter and lambda together\n",
        "nums = [1,2,3,4,5,6,7,8,9,10]\n",
        "odd_nums = list(filter(lambda x: x%2 == 1, nums))\n",
        "odd_nums"
      ],
      "metadata": {
        "colab": {
          "base_uri": "https://localhost:8080/"
        },
        "id": "sPjkyRPRWE9v",
        "outputId": "757cae7a-2b94-46f8-eb88-2f5fecd93b10"
      },
      "execution_count": null,
      "outputs": [
        {
          "output_type": "execute_result",
          "data": {
            "text/plain": [
              "[1, 3, 5, 7, 9]"
            ]
          },
          "metadata": {},
          "execution_count": 52
        }
      ]
    },
    {
      "cell_type": "code",
      "source": [
        "# using List comprehension\n",
        "nums = [1,2,3,4,5,6,7,8,9,10]\n",
        "odd_nums =  [num for num in nums if num%2 == 1]\n",
        "odd_nums"
      ],
      "metadata": {
        "colab": {
          "base_uri": "https://localhost:8080/"
        },
        "id": "HTjHhIDJXa-Q",
        "outputId": "73dba1ce-327b-4702-cded-2532fb5eb55c"
      },
      "execution_count": null,
      "outputs": [
        {
          "output_type": "execute_result",
          "data": {
            "text/plain": [
              "[1, 3, 5, 7, 9]"
            ]
          },
          "metadata": {},
          "execution_count": 53
        }
      ]
    },
    {
      "cell_type": "markdown",
      "source": [
        "* ***Sort a list of integers into positive and negative integers lists***.\n",
        "      [1,2,3,4,5,6,-1,-2,-3,-4,-5,0]"
      ],
      "metadata": {
        "id": "6Cyk7XUSV29D"
      }
    },
    {
      "cell_type": "code",
      "source": [
        "nums = [1,2,3,4,5,6,-1,-2,-3,-4,-5,0]\n",
        "sorted_nums = sorted(nums)\n",
        "sorted_nums"
      ],
      "metadata": {
        "colab": {
          "base_uri": "https://localhost:8080/"
        },
        "id": "j7SsJU7DYfWw",
        "outputId": "fa229eec-69d0-42b7-f634-6a234051fdfa"
      },
      "execution_count": null,
      "outputs": [
        {
          "output_type": "execute_result",
          "data": {
            "text/plain": [
              "[-5, -4, -3, -2, -1, 0, 1, 2, 3, 4, 5, 6]"
            ]
          },
          "metadata": {},
          "execution_count": 54
        }
      ]
    },
    {
      "cell_type": "code",
      "source": [
        "nums_sort = nums.copy()\n",
        "print(nums_sort)\n",
        "nums_sort.sort() # It is like inplace = True in pandas\n",
        "print(nums_sort)"
      ],
      "metadata": {
        "colab": {
          "base_uri": "https://localhost:8080/"
        },
        "id": "GXw5dMEOYxik",
        "outputId": "97d6805e-a772-44ae-ef83-be392bcc8ef3"
      },
      "execution_count": null,
      "outputs": [
        {
          "output_type": "stream",
          "name": "stdout",
          "text": [
            "[1, 2, 3, 4, 5, 6, -1, -2, -3, -4, -5, 0]\n",
            "[-5, -4, -3, -2, -1, 0, 1, 2, 3, 4, 5, 6]\n"
          ]
        }
      ]
    },
    {
      "cell_type": "markdown",
      "source": [
        "************************************************************************************************************************************************************************************************************************"
      ],
      "metadata": {
        "id": "-Vnr_UGtr6r1"
      }
    }
  ]
}