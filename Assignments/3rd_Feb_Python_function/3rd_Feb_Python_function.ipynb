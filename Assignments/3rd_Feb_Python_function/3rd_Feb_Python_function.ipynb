{
  "nbformat": 4,
  "nbformat_minor": 0,
  "metadata": {
    "colab": {
      "provenance": []
    },
    "kernelspec": {
      "name": "python3",
      "display_name": "Python 3"
    },
    "language_info": {
      "name": "python"
    }
  },
  "cells": [
    {
      "cell_type": "markdown",
      "source": [
        "# 3rd Feb"
      ],
      "metadata": {
        "id": "8PDcFBKIrBWT"
      }
    },
    {
      "cell_type": "markdown",
      "source": [
        "# Q1. \n"
      ],
      "metadata": {
        "id": "GPS9b_MJrJzP"
      }
    },
    {
      "cell_type": "markdown",
      "source": [
        "## Which keyword is used to create a function? Create a function to return a list of odd numbers in the range of 1 to 25.\n"
      ],
      "metadata": {
        "id": "TmQNuOs9rdRX"
      }
    },
    {
      "cell_type": "markdown",
      "source": [
        "## Answer:\n",
        "In Python, a function is created using the \"*def*\" keyword, followed by the function name and a set of parentheses that may include parameters. The code inside the function is indented and starts with a colon. Here is an example of a simple function in Python:"
      ],
      "metadata": {
        "id": "vZcX71UC5D_N"
      }
    },
    {
      "cell_type": "code",
      "source": [
        "def greet(name):\n",
        "  \"\"\"This function greets the person passed in as a parameter\"\"\"\n",
        "  print(\"Hello, \" + name + \". How are you today?\")\n"
      ],
      "metadata": {
        "id": "Nj8CkEr03rDN"
      },
      "execution_count": 1,
      "outputs": []
    },
    {
      "cell_type": "markdown",
      "source": [
        "In this example, the function greet takes a parameter name and prints a greeting message. The first string after the function definition (\"\"\"This function greets the person passed in as a parameter\"\"\") is known as a docstring and provides a brief description of what the function does."
      ],
      "metadata": {
        "id": "THIpF26r64kF"
      }
    },
    {
      "cell_type": "markdown",
      "source": [
        "Once a function is defined, you can call it by using the function name followed by a set of parentheses and any required parameters. For example:"
      ],
      "metadata": {
        "id": "SaCkOXiG7GWE"
      }
    },
    {
      "cell_type": "code",
      "source": [
        "greet(\"Amit\")"
      ],
      "metadata": {
        "colab": {
          "base_uri": "https://localhost:8080/"
        },
        "id": "Kq9CNlmF7CQc",
        "outputId": "87dea0c4-bd49-4a98-e8e6-4a53fe0f8b86"
      },
      "execution_count": 2,
      "outputs": [
        {
          "output_type": "stream",
          "name": "stdout",
          "text": [
            "Hello, Amit. How are you today?\n"
          ]
        }
      ]
    },
    {
      "cell_type": "markdown",
      "source": [
        "This would call the greet function with the argument \"Amit\", which would then print the greeting message \"Hello, Amit. How are you today?\"."
      ],
      "metadata": {
        "id": "0zaM0AzS7dZX"
      }
    },
    {
      "cell_type": "markdown",
      "source": [
        "* *Function to return a list of odd numbers between 1 an 25*"
      ],
      "metadata": {
        "id": "e9s0Lp4v82sN"
      }
    },
    {
      "cell_type": "code",
      "source": [
        "def odd_numbers():\n",
        "  \"\"\" This function returns a list of odd numbers from 1 to 25 \"\"\"\n",
        "  odd_nums = [num for num in range(1, 26) if num%2 == 1]\n",
        "  \n",
        "  return odd_nums"
      ],
      "metadata": {
        "id": "H6BCk8a6813Q"
      },
      "execution_count": 3,
      "outputs": []
    },
    {
      "cell_type": "code",
      "source": [
        "odd_nums = odd_numbers()\n",
        "print(odd_nums)"
      ],
      "metadata": {
        "colab": {
          "base_uri": "https://localhost:8080/"
        },
        "id": "DHmsm0d2-VNc",
        "outputId": "3169fb4e-1a37-4169-de1c-a76961917677"
      },
      "execution_count": 4,
      "outputs": [
        {
          "output_type": "stream",
          "name": "stdout",
          "text": [
            "[1, 3, 5, 7, 9, 11, 13, 15, 17, 19, 21, 23, 25]\n"
          ]
        }
      ]
    },
    {
      "cell_type": "markdown",
      "source": [
        "# Q2. \n"
      ],
      "metadata": {
        "id": "JJSn7sZTrfil"
      }
    },
    {
      "cell_type": "markdown",
      "source": [
        "## Why *args and **kwargs is used in some functions? Create a function each for *args and **kwargs to demonstrate their use.\n"
      ],
      "metadata": {
        "id": "ZeOo3hZsrmyY"
      }
    },
    {
      "cell_type": "markdown",
      "source": [
        "## Answer:\n",
        "\"args\" and \"kwargs\" are just a naming conventions in Python, where \"args\" is short for \"arguments\" and \"kwargs\" is short for \"keyword arguments\". They are used to pass a variable number of arguments to a function.\n",
        "\n",
        "The \"args\" syntax allows you to pass a non-keyworded, variable-length argument list to a function. So, if you have a function that takes a variable number of non-keyword arguments, you can use the * syntax to pass the arguments as a list. For example:"
      ],
      "metadata": {
        "id": "eMxMYU2NW1tO"
      }
    },
    {
      "cell_type": "code",
      "source": [
        "def my_func(*args):\n",
        "    for arg in args:\n",
        "        print(arg)\n",
        "\n",
        "my_func(1, 2, 3, 4, 5)\n"
      ],
      "metadata": {
        "colab": {
          "base_uri": "https://localhost:8080/"
        },
        "id": "9SjlcnDrXeJY",
        "outputId": "f7366a9d-44f3-4fee-cf35-bab84c3ba7fe"
      },
      "execution_count": 5,
      "outputs": [
        {
          "output_type": "stream",
          "name": "stdout",
          "text": [
            "1\n",
            "2\n",
            "3\n",
            "4\n",
            "5\n"
          ]
        }
      ]
    },
    {
      "cell_type": "markdown",
      "source": [
        "The \"kwargs\" syntax allows you to pass keyworded, variable-length argument list to a function. So, if you have a function that takes a variable number of keyword arguments, you can use the ** syntax to pass the arguments as a dictionary. For example:"
      ],
      "metadata": {
        "id": "fdGjx7hVXa5l"
      }
    },
    {
      "cell_type": "code",
      "source": [
        "def my_func(**kwargs):\n",
        "    for key, value in kwargs.items():\n",
        "        print(f\"{key}: {value}\")\n",
        "\n",
        "my_func(a=1, b=2, c=3, d=4, e=5)"
      ],
      "metadata": {
        "colab": {
          "base_uri": "https://localhost:8080/"
        },
        "id": "F9InWXrVXqd-",
        "outputId": "b040d11b-aebd-47ee-e565-c73bc6751c06"
      },
      "execution_count": 6,
      "outputs": [
        {
          "output_type": "stream",
          "name": "stdout",
          "text": [
            "a: 1\n",
            "b: 2\n",
            "c: 3\n",
            "d: 4\n",
            "e: 5\n"
          ]
        }
      ]
    },
    {
      "cell_type": "markdown",
      "source": [
        "You can even combine the use of *args and **kwargs in a single function definition to allow it to accept a variable number of both non-keyword and keyword arguments.\n",
        "\n",
        "Here's an example:"
      ],
      "metadata": {
        "id": "4wwwqJgFX_AM"
      }
    },
    {
      "cell_type": "code",
      "source": [
        "def my_func(*args, **kwargs):\n",
        "    for arg in args:\n",
        "        print(arg)\n",
        "    for key, value in kwargs.items():\n",
        "        print(f\"{key}: {value}\")\n",
        "\n",
        "my_func(1, 2, 3, a=4, b=5, c=6)"
      ],
      "metadata": {
        "colab": {
          "base_uri": "https://localhost:8080/"
        },
        "id": "zK7vocxtYBGO",
        "outputId": "64e18187-302c-4047-8918-5f4add087d9d"
      },
      "execution_count": 7,
      "outputs": [
        {
          "output_type": "stream",
          "name": "stdout",
          "text": [
            "1\n",
            "2\n",
            "3\n",
            "a: 4\n",
            "b: 5\n",
            "c: 6\n"
          ]
        }
      ]
    },
    {
      "cell_type": "markdown",
      "source": [
        "# Q3. \n"
      ],
      "metadata": {
        "id": "NJ8fl4QnrqYU"
      }
    },
    {
      "cell_type": "markdown",
      "source": [
        "## What is an iterator in python? Name the method used to initialise the iterator object and the method used for iteration. Use these methods to print the first five elements of the given list - \n",
        "\n",
        "    [2, 4, 6, 8, 10, 12, 14, 16, 18, 20].\n"
      ],
      "metadata": {
        "id": "GLBumasxruj_"
      }
    },
    {
      "cell_type": "markdown",
      "source": [
        "## Answer:\n",
        "In Python, an iterator is an object that implements two methods: __iter__ and __next__. The __iter__ method returns the iterator object and the __next__ method returns the next item in the iteration. When there are no more items to return, the __next__ method should raise a StopIteration exception.\n",
        "\n",
        "Here is an example of how to define an iterator in Python:"
      ],
      "metadata": {
        "id": "GoHekWnUcnwp"
      }
    },
    {
      "cell_type": "code",
      "source": [
        "class IterateMe:\n",
        "    def __init__(self, start, stop, step=1):\n",
        "        self.start = start\n",
        "        self.stop = stop\n",
        "        self.step = step\n",
        "    def __iter__(self):\n",
        "        self.current = self.start\n",
        "        return self\n",
        "    def __next__(self):\n",
        "        if self.current < self.stop:\n",
        "            value = self.current\n",
        "            self.current += self.step\n",
        "            return value\n",
        "        else:\n",
        "            raise StopIteration\n",
        "\n",
        "for i in IterateMe(2, 20, 2):\n",
        "  print(i)"
      ],
      "metadata": {
        "colab": {
          "base_uri": "https://localhost:8080/"
        },
        "id": "VzShtvs_c4xI",
        "outputId": "fe985b3b-0c49-4e2a-9f2d-c8fa6ea989d7"
      },
      "execution_count": 8,
      "outputs": [
        {
          "output_type": "stream",
          "name": "stdout",
          "text": [
            "2\n",
            "4\n",
            "6\n",
            "8\n",
            "10\n",
            "12\n",
            "14\n",
            "16\n",
            "18\n"
          ]
        }
      ]
    },
    {
      "cell_type": "markdown",
      "source": [
        "You can use the iter function to get an iterator from an iterable object, such as a list. Here's how you can initialize and iterate over the list \n",
        "\n",
        "    [2, 4, 6, 8, 10, 12, 14, 16, 18, 20]:"
      ],
      "metadata": {
        "id": "Gk-PkNCqdBV2"
      }
    },
    {
      "cell_type": "code",
      "source": [
        "my_list = [2, 4, 6, 8, 10, 12, 14, 16, 18, 20]\n",
        "\n",
        "# initialize the iterator\n",
        "iter_obj = iter(my_list)\n",
        "\n",
        "# iterate over the first 5 elements\n",
        "for i in range(5):\n",
        "    print(next(iter_obj))\n"
      ],
      "metadata": {
        "colab": {
          "base_uri": "https://localhost:8080/"
        },
        "id": "vgBLeYCLdNSY",
        "outputId": "91d8cc3f-cb10-43f8-d565-c8e9ed668893"
      },
      "execution_count": 9,
      "outputs": [
        {
          "output_type": "stream",
          "name": "stdout",
          "text": [
            "2\n",
            "4\n",
            "6\n",
            "8\n",
            "10\n"
          ]
        }
      ]
    },
    {
      "cell_type": "markdown",
      "source": [
        "# Q4. \n",
        "## What is a generator function in python? Why yield keyword is used? Give an example of a generator function.\n"
      ],
      "metadata": {
        "id": "Qp1aT9q-ryFw"
      }
    },
    {
      "cell_type": "markdown",
      "source": [
        "# Answer:\n",
        "In Python, a generator function is a special type of function that returns a generator iterator, which is an object that can be iterated upon. Unlike a normal function, which runs to completion and returns a single value, a generator function returns a generator iterator that generates a sequence of values \"on the fly\" as they are requested.\n",
        "\n",
        "A generator function is defined like a normal function, but instead of using the return keyword to return a value, it uses the yield keyword. Each time the generator function encounters a yield statement, it \"pauses\" its execution and returns the value specified after the yield keyword. The next time the generator function is called, it resumes where it left off and continues executing until it encounters another yield statement or until it reaches the end of the function.\n",
        "\n",
        "Here is an example of a generator function in Python:"
      ],
      "metadata": {
        "id": "Zo8NKqBPkgBs"
      }
    },
    {
      "cell_type": "code",
      "source": [
        "def even_numbers(limit):\n",
        "  for i in range(limit):\n",
        "    if i % 2 == 0:\n",
        "      yield i\n",
        "\n",
        "evens = even_numbers(10)"
      ],
      "metadata": {
        "id": "5ELFI4CbmFJd"
      },
      "execution_count": 10,
      "outputs": []
    },
    {
      "cell_type": "markdown",
      "source": [
        "The generator function even_numbers generates the even numbers up to the limit specified as an argument. When you call the generator function, it returns a generator iterator, evens, that you can use in a for loop or with the next function.\n",
        "\n",
        "Here's an example of using the generator iterator in a for loop:"
      ],
      "metadata": {
        "id": "hqLXStN3mIiZ"
      }
    },
    {
      "cell_type": "code",
      "source": [
        "for even in evens:\n",
        "  print(even)\n"
      ],
      "metadata": {
        "colab": {
          "base_uri": "https://localhost:8080/"
        },
        "id": "IZvJzoFLmRFl",
        "outputId": "dce17cf4-e381-4e3a-f43f-f67c9713f968"
      },
      "execution_count": 11,
      "outputs": [
        {
          "output_type": "stream",
          "name": "stdout",
          "text": [
            "0\n",
            "2\n",
            "4\n",
            "6\n",
            "8\n"
          ]
        }
      ]
    },
    {
      "cell_type": "markdown",
      "source": [
        "In this example, the generator function even_numbers only generates the even numbers as they are needed, instead of generating a list of all the even numbers up to the limit and storing them in memory. This can be much more efficient for large data sets."
      ],
      "metadata": {
        "id": "383sE5G6mgmv"
      }
    },
    {
      "cell_type": "markdown",
      "source": [
        "# Q5. \n",
        "## Create a generator function for prime numbers less than 1000. Use the next() method to print the first 20 prime numbers."
      ],
      "metadata": {
        "id": "zZjxm-lNsOqT"
      }
    },
    {
      "cell_type": "code",
      "source": [
        "def prime_numbers(n:int = 1000):\n",
        "    \"\"\"Generate a sequence of prime numbers upto 1000 by default and returns a generator iterator\"\"\"\n",
        "  \n",
        "    is_prime = True\n",
        "    for i in range(2, n+1):\n",
        "        for j in range(2, i):\n",
        "            if i%j == 0:\n",
        "                is_prime = False\n",
        "                break\n",
        "        if is_prime:\n",
        "            yield i\n",
        "        else:\n",
        "            is_prime = True\n",
        "\n",
        "prime_nums = prime_numbers()"
      ],
      "metadata": {
        "id": "ufszjYcxtGkP"
      },
      "execution_count": 12,
      "outputs": []
    },
    {
      "cell_type": "code",
      "source": [
        "type(prime_nums)"
      ],
      "metadata": {
        "colab": {
          "base_uri": "https://localhost:8080/"
        },
        "id": "VsJAgjReUHT4",
        "outputId": "07e0b0ab-ca61-4052-a3ad-c3e014fbfe8d"
      },
      "execution_count": 13,
      "outputs": [
        {
          "output_type": "execute_result",
          "data": {
            "text/plain": [
              "generator"
            ]
          },
          "metadata": {},
          "execution_count": 13
        }
      ]
    },
    {
      "cell_type": "code",
      "source": [
        "# Using next() to print the first 20 prime numbers\n",
        "for i in range(20):\n",
        "    print(next(prime_nums))"
      ],
      "metadata": {
        "colab": {
          "base_uri": "https://localhost:8080/"
        },
        "id": "RcGHGEHcxG_i",
        "outputId": "c5ea7a3e-cbce-42d9-d3b1-583d1aba7503"
      },
      "execution_count": 14,
      "outputs": [
        {
          "output_type": "stream",
          "name": "stdout",
          "text": [
            "2\n",
            "3\n",
            "5\n",
            "7\n",
            "11\n",
            "13\n",
            "17\n",
            "19\n",
            "23\n",
            "29\n",
            "31\n",
            "37\n",
            "41\n",
            "43\n",
            "47\n",
            "53\n",
            "59\n",
            "61\n",
            "67\n",
            "71\n"
          ]
        }
      ]
    },
    {
      "cell_type": "markdown",
      "source": [
        "************************************************************************************************************************************************************************************************************************************************************************************************************************************************************************"
      ],
      "metadata": {
        "id": "51K-M0Jknpex"
      }
    }
  ]
}